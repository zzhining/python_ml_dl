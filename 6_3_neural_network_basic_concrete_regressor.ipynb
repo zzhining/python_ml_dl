{
  "nbformat": 4,
  "nbformat_minor": 0,
  "metadata": {
    "colab": {
      "provenance": [],
      "authorship_tag": "ABX9TyNBhcxz73GEKZM2ZusTjwYo",
      "include_colab_link": true
    },
    "kernelspec": {
      "name": "python3",
      "display_name": "Python 3"
    },
    "language_info": {
      "name": "python"
    },
    "accelerator": "GPU",
    "gpuClass": "standard"
  },
  "cells": [
    {
      "cell_type": "markdown",
      "metadata": {
        "id": "view-in-github",
        "colab_type": "text"
      },
      "source": [
        "<a href=\"https://colab.research.google.com/github/zzhining/python_ml_dl/blob/main/6_3_neural_network_basic_concrete_regressor.ipynb\" target=\"_parent\"><img src=\"https://colab.research.google.com/assets/colab-badge.svg\" alt=\"Open In Colab\"/></a>"
      ]
    },
    {
      "cell_type": "markdown",
      "source": [
        "# 인공신경망 학습"
      ],
      "metadata": {
        "id": "NYvkRCPMTlT_"
      }
    },
    {
      "cell_type": "markdown",
      "source": [
        "## 데이터 불러오기"
      ],
      "metadata": {
        "id": "StQlVImBTr-u"
      }
    },
    {
      "cell_type": "code",
      "execution_count": null,
      "metadata": {
        "id": "SL9ld0ypULUb",
        "colab": {
          "base_uri": "https://localhost:8080/"
        },
        "outputId": "633367ef-cbc0-454c-b774-dd927ffbeed3"
      },
      "outputs": [
        {
          "output_type": "execute_result",
          "data": {
            "text/plain": [
              "(1030, 9)"
            ]
          },
          "metadata": {},
          "execution_count": 1
        }
      ],
      "source": [
        "import numpy as np\n",
        "import pandas as pd\n",
        "import matplotlib.pyplot as plt\n",
        "import seaborn as sns\n",
        "\n",
        "# 데이터 불러오기\n",
        "df = pd.read_csv('concrete.csv')\n",
        "df.shape"
      ]
    },
    {
      "cell_type": "code",
      "source": [
        "df.columns"
      ],
      "metadata": {
        "id": "2jZSnvobU4-G",
        "colab": {
          "base_uri": "https://localhost:8080/"
        },
        "outputId": "4c0b53f3-9a2f-4065-f685-4d7d29f162f0"
      },
      "execution_count": null,
      "outputs": [
        {
          "output_type": "execute_result",
          "data": {
            "text/plain": [
              "Index(['Cement', 'BlastFurnaceSlag', 'FlyAsh', 'Water', 'Superplasticizer',\n",
              "       'CoarseAggregate', 'FineAggregate', 'Age', 'CompressiveStrength'],\n",
              "      dtype='object')"
            ]
          },
          "metadata": {},
          "execution_count": 2
        }
      ]
    },
    {
      "cell_type": "code",
      "source": [
        "df.info()"
      ],
      "metadata": {
        "id": "96ZsVmybU-cu",
        "colab": {
          "base_uri": "https://localhost:8080/"
        },
        "outputId": "c1fbd276-bec8-4f00-f756-a8f94388cedd"
      },
      "execution_count": null,
      "outputs": [
        {
          "output_type": "stream",
          "name": "stdout",
          "text": [
            "<class 'pandas.core.frame.DataFrame'>\n",
            "RangeIndex: 1030 entries, 0 to 1029\n",
            "Data columns (total 9 columns):\n",
            " #   Column               Non-Null Count  Dtype  \n",
            "---  ------               --------------  -----  \n",
            " 0   Cement               1030 non-null   float64\n",
            " 1   BlastFurnaceSlag     1030 non-null   float64\n",
            " 2   FlyAsh               1030 non-null   float64\n",
            " 3   Water                1030 non-null   float64\n",
            " 4   Superplasticizer     1030 non-null   float64\n",
            " 5   CoarseAggregate      1030 non-null   float64\n",
            " 6   FineAggregate        1030 non-null   float64\n",
            " 7   Age                  1030 non-null   int64  \n",
            " 8   CompressiveStrength  1030 non-null   float64\n",
            "dtypes: float64(8), int64(1)\n",
            "memory usage: 72.5 KB\n"
          ]
        }
      ]
    },
    {
      "cell_type": "markdown",
      "source": [
        "## 데이터 분할"
      ],
      "metadata": {
        "id": "5VkEwWj8T1Su"
      }
    },
    {
      "cell_type": "code",
      "source": [
        "from sklearn.model_selection import train_test_split\n",
        "\n",
        "# 데이터분할\n",
        "y = df['CompressiveStrength']\n",
        "X = df.drop(['CompressiveStrength'], axis=1)\n",
        "\n",
        "X_train, X_test, y_train, y_test = train_test_split(X, y, random_state=42)"
      ],
      "metadata": {
        "id": "Uhvy0vI_Uub_"
      },
      "execution_count": null,
      "outputs": []
    },
    {
      "cell_type": "code",
      "source": [
        "X_train.shape, X_test.shape"
      ],
      "metadata": {
        "id": "k2Bzz9hvVaM7",
        "colab": {
          "base_uri": "https://localhost:8080/"
        },
        "outputId": "a5d8a249-65d6-416f-8c1c-942c1e697dda"
      },
      "execution_count": null,
      "outputs": [
        {
          "output_type": "execute_result",
          "data": {
            "text/plain": [
              "((772, 8), (258, 8))"
            ]
          },
          "metadata": {},
          "execution_count": 5
        }
      ]
    },
    {
      "cell_type": "markdown",
      "source": [
        "## 모델 설계 및 학습"
      ],
      "metadata": {
        "id": "ohncO6_CTyR6"
      }
    },
    {
      "cell_type": "code",
      "source": [
        "import tensorflow as tf\n",
        "from tensorflow.keras.models import Sequential\n",
        "from tensorflow.keras.layers import Dense\n",
        "\n",
        "# 모델의 설정\n",
        "model = Sequential()\n",
        "model.add(Dense(16, input_dim= X_train.shape[1], activation='relu'))\n",
        "model.add(Dense(32, activation='relu'))\n",
        "model.add(Dense(1, activation='relu'))\n",
        "\n",
        "# 모델 컴파일\n",
        "model.compile(loss='mse',\n",
        "            optimizer='adam',\n",
        "            metrics=['mse'])\n",
        "\n",
        "# 모델 실행\n",
        "history = model.fit(X_train, y_train, \n",
        "                    validation_split=0.2, \n",
        "                    epochs=50, batch_size=64)"
      ],
      "metadata": {
        "id": "dDgpFlUJVQ5y",
        "colab": {
          "base_uri": "https://localhost:8080/"
        },
        "collapsed": true,
        "outputId": "34e5f6cc-fac5-4137-cdb2-f1f9cebb2610"
      },
      "execution_count": null,
      "outputs": [
        {
          "output_type": "stream",
          "name": "stdout",
          "text": [
            "Epoch 1/50\n",
            "10/10 [==============================] - 1s 18ms/step - loss: 935.8048 - mse: 935.8048 - val_loss: 308.5012 - val_mse: 308.5012\n",
            "Epoch 2/50\n",
            "10/10 [==============================] - 0s 6ms/step - loss: 343.4563 - mse: 343.4563 - val_loss: 279.8912 - val_mse: 279.8912\n",
            "Epoch 3/50\n",
            "10/10 [==============================] - 0s 6ms/step - loss: 269.9464 - mse: 269.9464 - val_loss: 199.4550 - val_mse: 199.4550\n",
            "Epoch 4/50\n",
            "10/10 [==============================] - 0s 8ms/step - loss: 207.3898 - mse: 207.3898 - val_loss: 178.8414 - val_mse: 178.8414\n",
            "Epoch 5/50\n",
            "10/10 [==============================] - 0s 6ms/step - loss: 182.6581 - mse: 182.6581 - val_loss: 169.6437 - val_mse: 169.6437\n",
            "Epoch 6/50\n",
            "10/10 [==============================] - 0s 6ms/step - loss: 167.4174 - mse: 167.4174 - val_loss: 163.3104 - val_mse: 163.3104\n",
            "Epoch 7/50\n",
            "10/10 [==============================] - 0s 6ms/step - loss: 156.4570 - mse: 156.4570 - val_loss: 158.7111 - val_mse: 158.7111\n",
            "Epoch 8/50\n",
            "10/10 [==============================] - 0s 6ms/step - loss: 149.5778 - mse: 149.5778 - val_loss: 153.7666 - val_mse: 153.7666\n",
            "Epoch 9/50\n",
            "10/10 [==============================] - 0s 6ms/step - loss: 143.4831 - mse: 143.4831 - val_loss: 145.8396 - val_mse: 145.8396\n",
            "Epoch 10/50\n",
            "10/10 [==============================] - 0s 6ms/step - loss: 142.8047 - mse: 142.8047 - val_loss: 145.5206 - val_mse: 145.5206\n",
            "Epoch 11/50\n",
            "10/10 [==============================] - 0s 7ms/step - loss: 140.9433 - mse: 140.9433 - val_loss: 140.7869 - val_mse: 140.7869\n",
            "Epoch 12/50\n",
            "10/10 [==============================] - 0s 7ms/step - loss: 133.5001 - mse: 133.5001 - val_loss: 137.7173 - val_mse: 137.7173\n",
            "Epoch 13/50\n",
            "10/10 [==============================] - 0s 6ms/step - loss: 128.9102 - mse: 128.9102 - val_loss: 137.9309 - val_mse: 137.9309\n",
            "Epoch 14/50\n",
            "10/10 [==============================] - 0s 6ms/step - loss: 126.3992 - mse: 126.3992 - val_loss: 131.3136 - val_mse: 131.3136\n",
            "Epoch 15/50\n",
            "10/10 [==============================] - 0s 6ms/step - loss: 123.0721 - mse: 123.0721 - val_loss: 139.6278 - val_mse: 139.6278\n",
            "Epoch 16/50\n",
            "10/10 [==============================] - 0s 8ms/step - loss: 121.4555 - mse: 121.4555 - val_loss: 126.6077 - val_mse: 126.6077\n",
            "Epoch 17/50\n",
            "10/10 [==============================] - 0s 7ms/step - loss: 113.3158 - mse: 113.3158 - val_loss: 123.6087 - val_mse: 123.6087\n",
            "Epoch 18/50\n",
            "10/10 [==============================] - 0s 6ms/step - loss: 110.4300 - mse: 110.4300 - val_loss: 118.6070 - val_mse: 118.6070\n",
            "Epoch 19/50\n",
            "10/10 [==============================] - 0s 8ms/step - loss: 109.5925 - mse: 109.5925 - val_loss: 140.7743 - val_mse: 140.7743\n",
            "Epoch 20/50\n",
            "10/10 [==============================] - 0s 7ms/step - loss: 119.1048 - mse: 119.1048 - val_loss: 113.4107 - val_mse: 113.4107\n",
            "Epoch 21/50\n",
            "10/10 [==============================] - 0s 6ms/step - loss: 107.4335 - mse: 107.4335 - val_loss: 114.0971 - val_mse: 114.0971\n",
            "Epoch 22/50\n",
            "10/10 [==============================] - 0s 6ms/step - loss: 102.1952 - mse: 102.1952 - val_loss: 109.3951 - val_mse: 109.3951\n",
            "Epoch 23/50\n",
            "10/10 [==============================] - 0s 8ms/step - loss: 101.1554 - mse: 101.1554 - val_loss: 114.6956 - val_mse: 114.6956\n",
            "Epoch 24/50\n",
            "10/10 [==============================] - 0s 6ms/step - loss: 99.2682 - mse: 99.2682 - val_loss: 104.1402 - val_mse: 104.1402\n",
            "Epoch 25/50\n",
            "10/10 [==============================] - 0s 6ms/step - loss: 93.0508 - mse: 93.0508 - val_loss: 103.5117 - val_mse: 103.5117\n",
            "Epoch 26/50\n",
            "10/10 [==============================] - 0s 7ms/step - loss: 93.1382 - mse: 93.1382 - val_loss: 97.6043 - val_mse: 97.6043\n",
            "Epoch 27/50\n",
            "10/10 [==============================] - 0s 7ms/step - loss: 90.4760 - mse: 90.4760 - val_loss: 118.8177 - val_mse: 118.8177\n",
            "Epoch 28/50\n",
            "10/10 [==============================] - 0s 6ms/step - loss: 90.7747 - mse: 90.7747 - val_loss: 95.1816 - val_mse: 95.1816\n",
            "Epoch 29/50\n",
            "10/10 [==============================] - 0s 8ms/step - loss: 84.1146 - mse: 84.1146 - val_loss: 95.3542 - val_mse: 95.3542\n",
            "Epoch 30/50\n",
            "10/10 [==============================] - 0s 6ms/step - loss: 82.8583 - mse: 82.8583 - val_loss: 91.7050 - val_mse: 91.7050\n",
            "Epoch 31/50\n",
            "10/10 [==============================] - 0s 8ms/step - loss: 80.4542 - mse: 80.4542 - val_loss: 88.2853 - val_mse: 88.2853\n",
            "Epoch 32/50\n",
            "10/10 [==============================] - 0s 7ms/step - loss: 83.2622 - mse: 83.2622 - val_loss: 83.9196 - val_mse: 83.9196\n",
            "Epoch 33/50\n",
            "10/10 [==============================] - 0s 6ms/step - loss: 77.1893 - mse: 77.1893 - val_loss: 83.8871 - val_mse: 83.8871\n",
            "Epoch 34/50\n",
            "10/10 [==============================] - 0s 8ms/step - loss: 75.6360 - mse: 75.6360 - val_loss: 83.8256 - val_mse: 83.8256\n",
            "Epoch 35/50\n",
            "10/10 [==============================] - 0s 7ms/step - loss: 74.8325 - mse: 74.8325 - val_loss: 87.1084 - val_mse: 87.1084\n",
            "Epoch 36/50\n",
            "10/10 [==============================] - 0s 6ms/step - loss: 75.2494 - mse: 75.2494 - val_loss: 81.5211 - val_mse: 81.5211\n",
            "Epoch 37/50\n",
            "10/10 [==============================] - 0s 8ms/step - loss: 75.4522 - mse: 75.4522 - val_loss: 80.2227 - val_mse: 80.2227\n",
            "Epoch 38/50\n",
            "10/10 [==============================] - 0s 8ms/step - loss: 76.6211 - mse: 76.6211 - val_loss: 100.2656 - val_mse: 100.2656\n",
            "Epoch 39/50\n",
            "10/10 [==============================] - 0s 6ms/step - loss: 75.3344 - mse: 75.3344 - val_loss: 79.2485 - val_mse: 79.2485\n",
            "Epoch 40/50\n",
            "10/10 [==============================] - 0s 8ms/step - loss: 72.7521 - mse: 72.7521 - val_loss: 87.7519 - val_mse: 87.7519\n",
            "Epoch 41/50\n",
            "10/10 [==============================] - 0s 8ms/step - loss: 74.3492 - mse: 74.3492 - val_loss: 76.0124 - val_mse: 76.0124\n",
            "Epoch 42/50\n",
            "10/10 [==============================] - 0s 10ms/step - loss: 67.0677 - mse: 67.0677 - val_loss: 79.6669 - val_mse: 79.6669\n",
            "Epoch 43/50\n",
            "10/10 [==============================] - 0s 11ms/step - loss: 69.8095 - mse: 69.8095 - val_loss: 81.1611 - val_mse: 81.1611\n",
            "Epoch 44/50\n",
            "10/10 [==============================] - 0s 8ms/step - loss: 67.6064 - mse: 67.6064 - val_loss: 76.3636 - val_mse: 76.3636\n",
            "Epoch 45/50\n",
            "10/10 [==============================] - 0s 13ms/step - loss: 66.5352 - mse: 66.5352 - val_loss: 83.3717 - val_mse: 83.3717\n",
            "Epoch 46/50\n",
            "10/10 [==============================] - 0s 34ms/step - loss: 68.2144 - mse: 68.2144 - val_loss: 78.2229 - val_mse: 78.2229\n",
            "Epoch 47/50\n",
            "10/10 [==============================] - 0s 20ms/step - loss: 68.9778 - mse: 68.9778 - val_loss: 80.3262 - val_mse: 80.3262\n",
            "Epoch 48/50\n",
            "10/10 [==============================] - 0s 9ms/step - loss: 67.3251 - mse: 67.3251 - val_loss: 72.7763 - val_mse: 72.7763\n",
            "Epoch 49/50\n",
            "10/10 [==============================] - 0s 9ms/step - loss: 64.7310 - mse: 64.7310 - val_loss: 73.2667 - val_mse: 73.2667\n",
            "Epoch 50/50\n",
            "10/10 [==============================] - 0s 9ms/step - loss: 65.5054 - mse: 65.5054 - val_loss: 71.1168 - val_mse: 71.1168\n"
          ]
        }
      ]
    },
    {
      "cell_type": "code",
      "source": [
        "history_df = pd.DataFrame(history.history)\n",
        "history_df.loc[0:, ['loss', 'val_loss']].plot()"
      ],
      "metadata": {
        "id": "wajflE_pWQ6i",
        "colab": {
          "base_uri": "https://localhost:8080/",
          "height": 283
        },
        "outputId": "febeb984-aa66-4f02-dec7-ca52106631b9"
      },
      "execution_count": null,
      "outputs": [
        {
          "output_type": "execute_result",
          "data": {
            "text/plain": [
              "<matplotlib.axes._subplots.AxesSubplot at 0x7fb1d0466700>"
            ]
          },
          "metadata": {},
          "execution_count": 15
        },
        {
          "output_type": "display_data",
          "data": {
            "text/plain": [
              "<Figure size 432x288 with 1 Axes>"
            ],
            "image/png": "[encoded data removed]"
          },
          "metadata": {
            "needs_background": "light"
          }
        }
      ]
    },
    {
      "cell_type": "markdown",
      "source": [
        "## 모델 평가"
      ],
      "metadata": {
        "id": "KNDUIh2YUXjh"
      }
    },
    {
      "cell_type": "code",
      "source": [
        "# 모델 평가\n",
        "model.evaluate(X_test, y_test)"
      ],
      "metadata": {
        "id": "n9wIbn5-V0ZG",
        "colab": {
          "base_uri": "https://localhost:8080/"
        },
        "outputId": "16c5fcb8-b786-4d2c-83b8-281e6b052cde"
      },
      "execution_count": null,
      "outputs": [
        {
          "output_type": "stream",
          "name": "stdout",
          "text": [
            "9/9 [==============================] - 0s 4ms/step - loss: 69.6891 - mse: 69.6891\n"
          ]
        },
        {
          "output_type": "execute_result",
          "data": {
            "text/plain": [
              "[69.68910217285156, 69.68910217285156]"
            ]
          },
          "metadata": {},
          "execution_count": 16
        }
      ]
    },
    {
      "cell_type": "code",
      "source": [
        "# 값 예측\n",
        "model.predict(X_test)[0]"
      ],
      "metadata": {
        "id": "3TeCJQH5UfYs",
        "colab": {
          "base_uri": "https://localhost:8080/"
        },
        "outputId": "1a144a00-31a2-45ca-d894-5d4217b76958"
      },
      "execution_count": null,
      "outputs": [
        {
          "output_type": "stream",
          "name": "stdout",
          "text": [
            "9/9 [==============================] - 0s 2ms/step\n"
          ]
        },
        {
          "output_type": "execute_result",
          "data": {
            "text/plain": [
              "array([36.668613], dtype=float32)"
            ]
          },
          "metadata": {},
          "execution_count": 17
        }
      ]
    },
    {
      "cell_type": "code",
      "source": [],
      "metadata": {
        "id": "qhjEF-nDWhFY"
      },
      "execution_count": null,
      "outputs": []
    }
  ]
}