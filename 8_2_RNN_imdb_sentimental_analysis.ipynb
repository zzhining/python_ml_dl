{
  "cells": [
    {
      "cell_type": "markdown",
      "metadata": {
        "id": "view-in-github",
        "colab_type": "text"
      },
      "source": [
        "<a href=\"https://colab.research.google.com/github/zzhining/python_ml_dl/blob/main/8_2_RNN_imdb_sentimental_analysis.ipynb\" target=\"_parent\"><img src=\"https://colab.research.google.com/assets/colab-badge.svg\" alt=\"Open In Colab\"/></a>"
      ]
    },
    {
      "cell_type": "markdown",
      "source": [
        "# imdb sentimental anlaysis\n",
        "\n",
        "[imdb 영화평 데이터 셋](https://keras.io/api/datasets/imdb/)을 사용하여 영화평 감성분석을 하는 모델을 만들어 봅니다. 레이블은 긍정/부정으로 나뉘어져있으므로 '이진분류'문제입니다.\n",
        "'분류'문제를 해결하기 위한 Classifier를 모델로 설정하고, 모델 평가는 Accuracy를 사용할 수 있습니다.\n",
        "\n"
      ],
      "metadata": {
        "id": "oFJ355nJJTLY"
      }
    },
    {
      "cell_type": "markdown",
      "source": [
        "## 데이터 불러오기"
      ],
      "metadata": {
        "id": "kMCLotBxZp7n"
      }
    },
    {
      "cell_type": "code",
      "source": [
        "from tensorflow.keras.datasets.imdb import load_data\n",
        "\n",
        "num_words = 20000    # 2만 개의 단어만 학습에 활용\n",
        "(x_train, y_train), (x_test, y_test) = load_data(num_words = num_words)\n",
        "\n",
        "x_train.shape, x_test.shape, y_train.shape, y_test.shape"
      ],
      "metadata": {
        "id": "6M5VCiR8ZrwS"
      },
      "execution_count": null,
      "outputs": []
    },
    {
      "cell_type": "markdown",
      "source": [
        "## 데이터 탐색하기"
      ],
      "metadata": {
        "id": "6I9l1sV-bj9v"
      }
    },
    {
      "cell_type": "code",
      "source": [
        "x_train[0]"
      ],
      "metadata": {
        "collapsed": true,
        "id": "EVJ7GUxna1R1"
      },
      "execution_count": null,
      "outputs": []
    },
    {
      "cell_type": "code",
      "source": [
        "len(x_train[0])"
      ],
      "metadata": {
        "id": "soTGlqebcAEY"
      },
      "execution_count": null,
      "outputs": []
    },
    {
      "cell_type": "code",
      "source": [
        "y_train[0]"
      ],
      "metadata": {
        "id": "IAyaym-Gbr7p"
      },
      "execution_count": null,
      "outputs": []
    },
    {
      "cell_type": "code",
      "source": [
        "import numpy as np\n",
        "\n",
        "np.unique(y_train)"
      ],
      "metadata": {
        "id": "NdfhMKAUbvTL"
      },
      "execution_count": null,
      "outputs": []
    },
    {
      "cell_type": "code",
      "source": [
        "import pandas as pd\n",
        "\n",
        "df = pd.DataFrame(x_train, columns=['review'])\n",
        "df['length'] = df['review'].apply(lambda x: len(df['review'][x]))\n",
        "df['label'] = y_train\n",
        "df.head()"
      ],
      "metadata": {
        "id": "FI_nsg1matkG"
      },
      "execution_count": null,
      "outputs": []
    },
    {
      "cell_type": "code",
      "source": [
        "import seaborn as sns\n",
        "\n",
        "sns.histplot(df['length'], kde = True)"
      ],
      "metadata": {
        "id": "T90t6uWkf0Ha"
      },
      "execution_count": null,
      "outputs": []
    },
    {
      "cell_type": "code",
      "source": [
        "df['length'].describe()"
      ],
      "metadata": {
        "id": "iC3MEmiEf5ag"
      },
      "execution_count": null,
      "outputs": []
    },
    {
      "cell_type": "markdown",
      "source": [
        "## 데이터 전처리"
      ],
      "metadata": {
        "id": "9TIMTHrDdDCU"
      }
    },
    {
      "cell_type": "code",
      "source": [
        "from tensorflow.keras.preprocessing.sequence import pad_sequences\n",
        "\n",
        " # 리뷰 문장 중 300 단어만 활용\n",
        "maxlen = 300\n",
        "x_train = pad_sequences(x_train, maxlen = maxlen)\n",
        "x_test = pad_sequences(x_test, maxlen = maxlen)"
      ],
      "metadata": {
        "id": "vRRhbEBGfoff"
      },
      "execution_count": null,
      "outputs": []
    },
    {
      "cell_type": "code",
      "source": [
        "x_train.shape, x_test.shape"
      ],
      "metadata": {
        "id": "9nYlEOdIdM29"
      },
      "execution_count": null,
      "outputs": []
    },
    {
      "cell_type": "markdown",
      "source": [
        "## 신경망 설계하기"
      ],
      "metadata": {
        "id": "SxWKKe-7czU7"
      }
    },
    {
      "cell_type": "code",
      "source": [
        "from tensorflow.keras.models import Sequential\n",
        "from tensorflow.keras.layers import Embedding, Bidirectional, LSTM, Dense\n",
        "\n",
        "model = Sequential()\n",
        "# 입력 데이터를 128 차원 벡터로 임베딩\n",
        "model.add(Embedding(num_words, 128))\n",
        "# 양방향 LSTM\n",
        "model.add(Bidirectional(LSTM(256, return_sequences=True)))\n",
        "model.add(Bidirectional(LSTM(128)))\n",
        "# 분류기\n",
        "model.add(Dense(1, activation = 'sigmoid'))"
      ],
      "metadata": {
        "id": "scr0LOeeK4zT"
      },
      "execution_count": null,
      "outputs": []
    },
    {
      "cell_type": "code",
      "source": [
        "model.compile(loss='binary_crossentropy',\n",
        "              optimizer='adam',\n",
        "              metrics=['accuracy'])"
      ],
      "metadata": {
        "id": "2qVIhAazetrW"
      },
      "execution_count": null,
      "outputs": []
    },
    {
      "cell_type": "code",
      "source": [
        "import os\n",
        "from tensorflow.keras.callbacks import ModelCheckpoint, EarlyStopping\n",
        "\n",
        "# 학습 결과를 저장하기 위한 환경 설정정\n",
        "MODEL_DIR = './model/'\n",
        "if not os.path.exists(MODEL_DIR):\n",
        "    os.mkdir(MODEL_DIR)\n",
        "modelpath=\"./model/{epoch:02d}-{val_loss:.2f}.keras\"\n",
        "\n",
        "# 학습 중 모니터링 할 조건 설정\n",
        "checkpointer = ModelCheckpoint(filepath=modelpath,\n",
        "                               monitor='val_loss',\n",
        "                               verbose=1,\n",
        "                               save_best_only=True)\n",
        "\n",
        "# 학습의 이른 종료를 위한 조건 설정\n",
        "early_stopping_callback = EarlyStopping(monitor='val_loss', patience=5)"
      ],
      "metadata": {
        "id": "QKKuvetSocvZ"
      },
      "execution_count": null,
      "outputs": []
    },
    {
      "cell_type": "code",
      "source": [
        "history = model.fit(x_train, y_train, batch_size=256, epochs=50,\n",
        "                    validation_split=0.2,\n",
        "                    callbacks=[early_stopping_callback, checkpointer])"
      ],
      "metadata": {
        "id": "5nkGpxene4PS"
      },
      "execution_count": null,
      "outputs": []
    },
    {
      "cell_type": "code",
      "source": [
        "history_df = pd.DataFrame(history.history)\n",
        "history_df.loc[0:, ['accuracy', 'val_accuracy']].plot()"
      ],
      "metadata": {
        "id": "gF-5DdvefflF"
      },
      "execution_count": null,
      "outputs": []
    },
    {
      "cell_type": "code",
      "source": [
        "model.evaluate(x_test, y_test)"
      ],
      "metadata": {
        "id": "cc28y9xukI59"
      },
      "execution_count": null,
      "outputs": []
    },
    {
      "cell_type": "code",
      "source": [
        "# 모델 구조 plot\n",
        "from tensorflow.keras.utils import plot_model\n",
        "plot_model(model, to_file='graph.png')"
      ],
      "metadata": {
        "id": "JBecpucEKgIM"
      },
      "execution_count": null,
      "outputs": []
    }
  ],
  "metadata": {
    "accelerator": "GPU",
    "colab": {
      "provenance": [],
      "include_colab_link": true
    },
    "kernelspec": {
      "display_name": "Python 3",
      "language": "python",
      "name": "python3"
    },
    "language_info": {
      "codemirror_mode": {
        "name": "ipython",
        "version": 3
      },
      "file_extension": ".py",
      "mimetype": "text/x-python",
      "name": "python",
      "nbconvert_exporter": "python",
      "pygments_lexer": "ipython3",
      "version": "3.8.5"
    },
    "toc": {
      "base_numbering": 1,
      "nav_menu": {},
      "number_sections": false,
      "sideBar": true,
      "skip_h1_title": false,
      "title_cell": "Table of Contents",
      "title_sidebar": "Contents",
      "toc_cell": false,
      "toc_position": {},
      "toc_section_display": true,
      "toc_window_display": false
    }
  },
  "nbformat": 4,
  "nbformat_minor": 0
}