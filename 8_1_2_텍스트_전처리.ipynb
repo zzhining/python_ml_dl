{
  "nbformat": 4,
  "nbformat_minor": 0,
  "metadata": {
    "colab": {
      "provenance": [],
      "authorship_tag": "ABX9TyP08GzLEW8QVnIer8465WCr",
      "include_colab_link": true
    },
    "kernelspec": {
      "name": "python3",
      "display_name": "Python 3"
    },
    "language_info": {
      "name": "python"
    },
    "gpuClass": "standard"
  },
  "cells": [
    {
      "cell_type": "markdown",
      "metadata": {
        "id": "view-in-github",
        "colab_type": "text"
      },
      "source": [
        "<a href=\"https://colab.research.google.com/github/zzhining/python_ml_dl/blob/main/8_1_2_%ED%85%8D%EC%8A%A4%ED%8A%B8_%EC%A0%84%EC%B2%98%EB%A6%AC.ipynb\" target=\"_parent\"><img src=\"https://colab.research.google.com/assets/colab-badge.svg\" alt=\"Open In Colab\"/></a>"
      ]
    },
    {
      "cell_type": "markdown",
      "source": [
        "## 토큰화"
      ],
      "metadata": {
        "id": "xKfUcQpctSJ6"
      }
    },
    {
      "cell_type": "code",
      "execution_count": 1,
      "metadata": {
        "id": "ssATG8KyGA1i",
        "colab": {
          "base_uri": "https://localhost:8080/"
        },
        "outputId": "751fed79-aeaa-4175-b58b-a29a487339af"
      },
      "outputs": [
        {
          "output_type": "stream",
          "name": "stdout",
          "text": [
            "원문: 아버지가 방에 들어가신다\n",
            "토큰:['아버지가', '방에', '들어가신다']\n"
          ]
        }
      ],
      "source": [
        "from tensorflow.keras.preprocessing.text import text_to_word_sequence \n",
        "\n",
        "text = '아버지가 방에 들어가신다'\n",
        "tokens = text_to_word_sequence(text)\n",
        "\n",
        "print(\"원문: {}\\n토큰:{}\".format(text, tokens))"
      ]
    },
    {
      "cell_type": "markdown",
      "source": [
        "konlpy 설치"
      ],
      "metadata": {
        "id": "d3h6bGOztY4A"
      }
    },
    {
      "cell_type": "code",
      "source": [
        "!pip install konlpy"
      ],
      "metadata": {
        "id": "kSfnvhKiGBcC",
        "colab": {
          "base_uri": "https://localhost:8080/"
        },
        "outputId": "2a702ca9-13c2-46a0-8d67-8dfa1c038620"
      },
      "execution_count": 2,
      "outputs": [
        {
          "output_type": "stream",
          "name": "stdout",
          "text": [
            "Looking in indexes: https://pypi.org/simple, https://us-python.pkg.dev/colab-wheels/public/simple/\n",
            "Collecting konlpy\n",
            "  Downloading konlpy-0.6.0-py2.py3-none-any.whl (19.4 MB)\n",
            "\u001b[2K     \u001b[90m━━━━━━━━━━━━━━━━━━━━━━━━━━━━━━━━━━━━━━━━\u001b[0m \u001b[32m19.4/19.4 MB\u001b[0m \u001b[31m25.3 MB/s\u001b[0m eta \u001b[36m0:00:00\u001b[0m\n",
            "\u001b[?25hRequirement already satisfied: numpy>=1.6 in /usr/local/lib/python3.8/dist-packages (from konlpy) (1.21.6)\n",
            "Requirement already satisfied: lxml>=4.1.0 in /usr/local/lib/python3.8/dist-packages (from konlpy) (4.9.2)\n",
            "Collecting JPype1>=0.7.0\n",
            "  Downloading JPype1-1.4.1-cp38-cp38-manylinux_2_12_x86_64.manylinux2010_x86_64.whl (465 kB)\n",
            "\u001b[2K     \u001b[90m━━━━━━━━━━━━━━━━━━━━━━━━━━━━━━━━━━━━━━━\u001b[0m \u001b[32m465.6/465.6 KB\u001b[0m \u001b[31m9.4 MB/s\u001b[0m eta \u001b[36m0:00:00\u001b[0m\n",
            "\u001b[?25hRequirement already satisfied: packaging in /usr/local/lib/python3.8/dist-packages (from JPype1>=0.7.0->konlpy) (23.0)\n",
            "Installing collected packages: JPype1, konlpy\n",
            "Successfully installed JPype1-1.4.1 konlpy-0.6.0\n"
          ]
        }
      ]
    },
    {
      "cell_type": "code",
      "source": [
        "from konlpy.tag import Kkma\n",
        "kkma = Kkma()\n",
        "# 문장 단위로 분할\n",
        "kkma.sentences('안녕하세요. 반갑습니다.')"
      ],
      "metadata": {
        "id": "e7tyrH_CGNPD",
        "colab": {
          "base_uri": "https://localhost:8080/"
        },
        "outputId": "bbec4851-9cef-4a61-b060-06297903f93f"
      },
      "execution_count": 3,
      "outputs": [
        {
          "output_type": "execute_result",
          "data": {
            "text/plain": [
              "['안녕하세요.', '반갑습니다.']"
            ]
          },
          "metadata": {},
          "execution_count": 3
        }
      ]
    },
    {
      "cell_type": "code",
      "source": [
        "# 명사만 추출\n",
        "kkma.nouns('이 문장에 포함된 명사만 추출합니다.')"
      ],
      "metadata": {
        "id": "GaSNkF_AHNDK",
        "colab": {
          "base_uri": "https://localhost:8080/"
        },
        "outputId": "a7c5105f-2443-486e-85eb-e1b3f6e03222"
      },
      "execution_count": 4,
      "outputs": [
        {
          "output_type": "execute_result",
          "data": {
            "text/plain": [
              "['문장', '포함', '명사', '추출']"
            ]
          },
          "metadata": {},
          "execution_count": 4
        }
      ]
    },
    {
      "cell_type": "code",
      "source": [
        "# POS 태깅\n",
        "kkma.pos('이 문장에 포함된 모든 단어에 태그를 달아주세요!^^')"
      ],
      "metadata": {
        "id": "KObU-MnUHOOm",
        "colab": {
          "base_uri": "https://localhost:8080/"
        },
        "outputId": "4c8b79e0-5068-4164-bdba-11b86a288a63"
      },
      "execution_count": 5,
      "outputs": [
        {
          "output_type": "execute_result",
          "data": {
            "text/plain": [
              "[('이', 'MDT'),\n",
              " ('문장', 'NNG'),\n",
              " ('에', 'JKM'),\n",
              " ('포함', 'NNG'),\n",
              " ('되', 'XSV'),\n",
              " ('ㄴ', 'ETD'),\n",
              " ('모든', 'MDT'),\n",
              " ('단어', 'NNG'),\n",
              " ('에', 'JKM'),\n",
              " ('태그', 'NNG'),\n",
              " ('를', 'JKO'),\n",
              " ('닫', 'VV'),\n",
              " ('아', 'ECD'),\n",
              " ('주', 'VXV'),\n",
              " ('세요', 'EFN'),\n",
              " ('!', 'SF'),\n",
              " ('^^', 'EMO')]"
            ]
          },
          "metadata": {},
          "execution_count": 5
        }
      ]
    },
    {
      "cell_type": "markdown",
      "source": [
        "## 레이블 인코딩"
      ],
      "metadata": {
        "id": "f95OXlV9tbdv"
      }
    },
    {
      "cell_type": "code",
      "source": [
        "from konlpy.tag import Kkma\n",
        "tokenizer = Kkma()  \n",
        "tokens = tokenizer.nouns(\"봄 여름 가을 겨울 ４계절이 있다\")\n",
        "print(tokens)"
      ],
      "metadata": {
        "id": "AL-ewzkwGm_4",
        "colab": {
          "base_uri": "https://localhost:8080/"
        },
        "outputId": "4a5409b8-a455-41be-f6a6-acbbd302fd04"
      },
      "execution_count": 6,
      "outputs": [
        {
          "output_type": "stream",
          "name": "stdout",
          "text": [
            "['봄', '여름', '가을', '겨울', '계절']\n"
          ]
        }
      ]
    },
    {
      "cell_type": "code",
      "source": [
        "# 단어-인덱스 딕셔너리\n",
        "word_to_index = {}\n",
        "\n",
        "# 토큰을 인덱스로 변환\n",
        "for token in tokens:\n",
        "    if token not in word_to_index.keys():\n",
        "        word_to_index[token] = len(word_to_index)\n",
        "        \n",
        "print(word_to_index)"
      ],
      "metadata": {
        "id": "yuEIUz6qJ39o",
        "colab": {
          "base_uri": "https://localhost:8080/"
        },
        "outputId": "85fb555b-6484-4ae0-beba-40f08584bf7e"
      },
      "execution_count": 7,
      "outputs": [
        {
          "output_type": "stream",
          "name": "stdout",
          "text": [
            "{'봄': 0, '여름': 1, '가을': 2, '겨울': 3, '계절': 4}\n"
          ]
        }
      ]
    },
    {
      "cell_type": "markdown",
      "source": [
        "## 원핫인코딩"
      ],
      "metadata": {
        "id": "phiMaDlQtlGX"
      }
    },
    {
      "cell_type": "code",
      "source": [
        "# 원핫인코딩으로 변환\n",
        "def convert_ohe(word, word_to_index):\n",
        "    \n",
        "    # 벡터를 단어의 개수만큼 0으로 초기화\n",
        "    vector = [0]*(len(word_to_index))\n",
        "    \n",
        "    # 단어의 인덱스 위치에 1 설정\n",
        "    vector[word_to_index[word]] = 1\n",
        "    \n",
        "    return vector"
      ],
      "metadata": {
        "id": "Xw4fHLUCMXrP"
      },
      "execution_count": 8,
      "outputs": []
    },
    {
      "cell_type": "code",
      "source": [
        "for token in tokens:\n",
        "    print(token, convert_ohe(token, word_to_index))"
      ],
      "metadata": {
        "id": "8t4vGThIJ_6X",
        "colab": {
          "base_uri": "https://localhost:8080/"
        },
        "outputId": "b0ee967e-9009-4094-b09b-ded6d484313e"
      },
      "execution_count": 9,
      "outputs": [
        {
          "output_type": "stream",
          "name": "stdout",
          "text": [
            "봄 [1, 0, 0, 0, 0]\n",
            "여름 [0, 1, 0, 0, 0]\n",
            "가을 [0, 0, 1, 0, 0]\n",
            "겨울 [0, 0, 0, 1, 0]\n",
            "계절 [0, 0, 0, 0, 1]\n"
          ]
        }
      ]
    },
    {
      "cell_type": "code",
      "source": [],
      "metadata": {
        "id": "KkJnUzlkLaUA"
      },
      "execution_count": 9,
      "outputs": []
    }
  ]
}