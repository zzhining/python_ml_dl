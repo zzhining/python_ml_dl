{
  "nbformat": 4,
  "nbformat_minor": 0,
  "metadata": {
    "colab": {
      "provenance": [],
      "collapsed_sections": [],
      "authorship_tag": "ABX9TyOru3QnmTv3iwNagoqzcVy/",
      "include_colab_link": true
    },
    "kernelspec": {
      "name": "python3",
      "display_name": "Python 3"
    },
    "language_info": {
      "name": "python"
    }
  },
  "cells": [
    {
      "cell_type": "markdown",
      "metadata": {
        "id": "view-in-github",
        "colab_type": "text"
      },
      "source": [
        "<a href=\"https://colab.research.google.com/github/zzhining/python_ml_dl/blob/main/svm.ipynb\" target=\"_parent\"><img src=\"https://colab.research.google.com/assets/colab-badge.svg\" alt=\"Open In Colab\"/></a>"
      ]
    },
    {
      "cell_type": "markdown",
      "source": [
        "# SVM(Suport Vector Machine)\n",
        "\n",
        "\n",
        "**[참고자료]** \n",
        "- [SVM 개념](https://www.notion.so/SVM-88a8db59158d4886b244d523c7214f19)\n",
        "- [sklearn - SVC](https://scikit-learn.org/stable/modules/generated/sklearn.svm.SVC.html)\n",
        "- [sklearn - SVR](https://scikit-learn.org/stable/modules/generated/sklearn.svm.SVR.html?)"
      ],
      "metadata": {
        "id": "imT3Z5yUJ9lu"
      }
    },
    {
      "cell_type": "markdown",
      "source": [
        "# [실습 01] Binary classification"
      ],
      "metadata": {
        "id": "3IyHdA0IOB8a"
      }
    },
    {
      "cell_type": "markdown",
      "source": [
        "## 실습 목표\n",
        "---\n",
        "- 주어진 데이터를 예측하기 위해서 어떠한 AI 기술을 활용해야하는지 이해합니다.\n",
        "- 의사결정트리 및 SVM 모델을 이해합니다."
      ],
      "metadata": {
        "id": "UHhc5UFvOGLv"
      }
    },
    {
      "cell_type": "markdown",
      "source": [
        "## 실습 목차\n",
        "---\n",
        "\n",
        "1. **데이터 읽기:** 주어진 데이터('Dataset.csv')를 불러오고 Dataframe 구조를 확인\n",
        "\n",
        "2. **데이터 정제:** 비어 있는 데이터 또는 쓸모 없는 데이터를 삭제\n",
        "\n",
        "3. **데이터 시각화:** 변수 시각화를 통하여 분포 파악\n",
        "\n",
        "4. **데이터 전처리:** 머신러닝 모델에 필요한 입력값 형식으로 데이터 처리\n",
        "\n",
        "3. **머신러닝 모델 수행:** 분류 모델을 사용하여 학습 수행, 평가 및 예측 수행"
      ],
      "metadata": {
        "id": "1BQ_OljEPC-m"
      }
    },
    {
      "cell_type": "markdown",
      "source": [
        "## 실습 개요\n",
        "---\n",
        "머신러닝 프로세스 과정을 이해하고, 데이터 전처리, 학습, 평가 단계를 구현합니다."
      ],
      "metadata": {
        "id": "Ocp7oKQUPFta"
      }
    },
    {
      "cell_type": "markdown",
      "source": [
        "## 1. 데이터 읽기\n",
        "---\n",
        "\n",
        "### 1.1 라이브러리 불러오기\n",
        "---\n",
        "머신러닝에 필요한 주요 라이브러리를 불러옵니다.\n",
        "\n",
        " - **numpy**: 수치형 데이터를 배열 구조로 처리하기 위한 라이브러리\n",
        " - **pandas**: 데이터프레임을 다루기 위한 라이브러리\n",
        " - **matplotlib.pyplot**: 데이터시각화를 위한 라이브러리\n",
        " - **seaborn**: 데이터시각화를 위한 라이브러리"
      ],
      "metadata": {
        "id": "B0ApTH_ZPaOR"
      }
    },
    {
      "cell_type": "code",
      "source": [
        "import numpy as np\n",
        "import pandas as pd\n",
        "import matplotlib.pyplot as plt\n",
        "import seaborn as sns"
      ],
      "metadata": {
        "id": "Zl_2ot5-OApi"
      },
      "execution_count": 1,
      "outputs": []
    },
    {
      "cell_type": "markdown",
      "source": [
        "### 1.2 데이터 불러오기\n",
        "---\n",
        "pandas를 사용하여 dataframe 형태로 데이터를 불러옵니다. 데이터프레임을 담을 변수는 `df`로 설정합니다."
      ],
      "metadata": {
        "id": "f4C6vS2IPdA9"
      }
    },
    {
      "cell_type": "code",
      "source": [
        "# data.csv 파일을 읽어오기\n",
        "df = pd.read_csv('data.csv')\n",
        "\n",
        "# 데이터프레임의 상위 5개 항목 출력\n",
        "df.head()"
      ],
      "metadata": {
        "colab": {
          "base_uri": "https://localhost:8080/",
          "height": 206
        },
        "id": "5EW716aKN_R_",
        "outputId": "cfd82aae-ec27-4931-ce07-f1c42b021f50"
      },
      "execution_count": 2,
      "outputs": [
        {
          "output_type": "execute_result",
          "data": {
            "text/plain": [
              "   a1    a2   a3     a4   a5   a6  target\n",
              "0  28  0.06  500  0.048  200  0.2       0\n",
              "1  35  0.32  800  0.034  130  1.9       1\n",
              "2  14  0.21  800  0.018  120  2.8       0\n",
              "3   9  0.05  800  0.018   80  2.3       1\n",
              "4  31  0.29  400  0.015  170  0.2       1"
            ],
            "text/html": [
              "\n",
              "  <div id=\"df-a3170f22-8dbe-4ee3-8f0c-35c78cba4881\">\n",
              "    <div class=\"colab-df-container\">\n",
              "      <div>\n",
              "<style scoped>\n",
              "    .dataframe tbody tr th:only-of-type {\n",
              "        vertical-align: middle;\n",
              "    }\n",
              "\n",
              "    .dataframe tbody tr th {\n",
              "        vertical-align: top;\n",
              "    }\n",
              "\n",
              "    .dataframe thead th {\n",
              "        text-align: right;\n",
              "    }\n",
              "</style>\n",
              "<table border=\"1\" class=\"dataframe\">\n",
              "  <thead>\n",
              "    <tr style=\"text-align: right;\">\n",
              "      <th></th>\n",
              "      <th>a1</th>\n",
              "      <th>a2</th>\n",
              "      <th>a3</th>\n",
              "      <th>a4</th>\n",
              "      <th>a5</th>\n",
              "      <th>a6</th>\n",
              "      <th>target</th>\n",
              "    </tr>\n",
              "  </thead>\n",
              "  <tbody>\n",
              "    <tr>\n",
              "      <th>0</th>\n",
              "      <td>28</td>\n",
              "      <td>0.06</td>\n",
              "      <td>500</td>\n",
              "      <td>0.048</td>\n",
              "      <td>200</td>\n",
              "      <td>0.2</td>\n",
              "      <td>0</td>\n",
              "    </tr>\n",
              "    <tr>\n",
              "      <th>1</th>\n",
              "      <td>35</td>\n",
              "      <td>0.32</td>\n",
              "      <td>800</td>\n",
              "      <td>0.034</td>\n",
              "      <td>130</td>\n",
              "      <td>1.9</td>\n",
              "      <td>1</td>\n",
              "    </tr>\n",
              "    <tr>\n",
              "      <th>2</th>\n",
              "      <td>14</td>\n",
              "      <td>0.21</td>\n",
              "      <td>800</td>\n",
              "      <td>0.018</td>\n",
              "      <td>120</td>\n",
              "      <td>2.8</td>\n",
              "      <td>0</td>\n",
              "    </tr>\n",
              "    <tr>\n",
              "      <th>3</th>\n",
              "      <td>9</td>\n",
              "      <td>0.05</td>\n",
              "      <td>800</td>\n",
              "      <td>0.018</td>\n",
              "      <td>80</td>\n",
              "      <td>2.3</td>\n",
              "      <td>1</td>\n",
              "    </tr>\n",
              "    <tr>\n",
              "      <th>4</th>\n",
              "      <td>31</td>\n",
              "      <td>0.29</td>\n",
              "      <td>400</td>\n",
              "      <td>0.015</td>\n",
              "      <td>170</td>\n",
              "      <td>0.2</td>\n",
              "      <td>1</td>\n",
              "    </tr>\n",
              "  </tbody>\n",
              "</table>\n",
              "</div>\n",
              "      <button class=\"colab-df-convert\" onclick=\"convertToInteractive('df-a3170f22-8dbe-4ee3-8f0c-35c78cba4881')\"\n",
              "              title=\"Convert this dataframe to an interactive table.\"\n",
              "              style=\"display:none;\">\n",
              "        \n",
              "  <svg xmlns=\"http://www.w3.org/2000/svg\" height=\"24px\"viewBox=\"0 0 24 24\"\n",
              "       width=\"24px\">\n",
              "    <path d=\"M0 0h24v24H0V0z\" fill=\"none\"/>\n",
              "    <path d=\"M18.56 5.44l.94 2.06.94-2.06 2.06-.94-2.06-.94-.94-2.06-.94 2.06-2.06.94zm-11 1L8.5 8.5l.94-2.06 2.06-.94-2.06-.94L8.5 2.5l-.94 2.06-2.06.94zm10 10l.94 2.06.94-2.06 2.06-.94-2.06-.94-.94-2.06-.94 2.06-2.06.94z\"/><path d=\"M17.41 7.96l-1.37-1.37c-.4-.4-.92-.59-1.43-.59-.52 0-1.04.2-1.43.59L10.3 9.45l-7.72 7.72c-.78.78-.78 2.05 0 2.83L4 21.41c.39.39.9.59 1.41.59.51 0 1.02-.2 1.41-.59l7.78-7.78 2.81-2.81c.8-.78.8-2.07 0-2.86zM5.41 20L4 18.59l7.72-7.72 1.47 1.35L5.41 20z\"/>\n",
              "  </svg>\n",
              "      </button>\n",
              "      \n",
              "  <style>\n",
              "    .colab-df-container {\n",
              "      display:flex;\n",
              "      flex-wrap:wrap;\n",
              "      gap: 12px;\n",
              "    }\n",
              "\n",
              "    .colab-df-convert {\n",
              "      background-color: #E8F0FE;\n",
              "      border: none;\n",
              "      border-radius: 50%;\n",
              "      cursor: pointer;\n",
              "      display: none;\n",
              "      fill: #1967D2;\n",
              "      height: 32px;\n",
              "      padding: 0 0 0 0;\n",
              "      width: 32px;\n",
              "    }\n",
              "\n",
              "    .colab-df-convert:hover {\n",
              "      background-color: #E2EBFA;\n",
              "      box-shadow: 0px 1px 2px rgba(60, 64, 67, 0.3), 0px 1px 3px 1px rgba(60, 64, 67, 0.15);\n",
              "      fill: #174EA6;\n",
              "    }\n",
              "\n",
              "    [theme=dark] .colab-df-convert {\n",
              "      background-color: #3B4455;\n",
              "      fill: #D2E3FC;\n",
              "    }\n",
              "\n",
              "    [theme=dark] .colab-df-convert:hover {\n",
              "      background-color: #434B5C;\n",
              "      box-shadow: 0px 1px 3px 1px rgba(0, 0, 0, 0.15);\n",
              "      filter: drop-shadow(0px 1px 2px rgba(0, 0, 0, 0.3));\n",
              "      fill: #FFFFFF;\n",
              "    }\n",
              "  </style>\n",
              "\n",
              "      <script>\n",
              "        const buttonEl =\n",
              "          document.querySelector('#df-a3170f22-8dbe-4ee3-8f0c-35c78cba4881 button.colab-df-convert');\n",
              "        buttonEl.style.display =\n",
              "          google.colab.kernel.accessAllowed ? 'block' : 'none';\n",
              "\n",
              "        async function convertToInteractive(key) {\n",
              "          const element = document.querySelector('#df-a3170f22-8dbe-4ee3-8f0c-35c78cba4881');\n",
              "          const dataTable =\n",
              "            await google.colab.kernel.invokeFunction('convertToInteractive',\n",
              "                                                     [key], {});\n",
              "          if (!dataTable) return;\n",
              "\n",
              "          const docLinkHtml = 'Like what you see? Visit the ' +\n",
              "            '<a target=\"_blank\" href=https://colab.research.google.com/notebooks/data_table.ipynb>data table notebook</a>'\n",
              "            + ' to learn more about interactive tables.';\n",
              "          element.innerHTML = '';\n",
              "          dataTable['output_type'] = 'display_data';\n",
              "          await google.colab.output.renderOutput(dataTable, element);\n",
              "          const docLink = document.createElement('div');\n",
              "          docLink.innerHTML = docLinkHtml;\n",
              "          element.appendChild(docLink);\n",
              "        }\n",
              "      </script>\n",
              "    </div>\n",
              "  </div>\n",
              "  "
            ]
          },
          "metadata": {},
          "execution_count": 2
        }
      ]
    },
    {
      "cell_type": "markdown",
      "source": [
        "7개의 컬럼을 갖는 데이터프레임을 불러왔습니다."
      ],
      "metadata": {
        "id": "igB83KgURX6O"
      }
    },
    {
      "cell_type": "markdown",
      "source": [
        "\n",
        "### 1.3 데이터 탐색\n",
        "---\n",
        "\n",
        "`df`의 컬럼별 요약정보(info)를 확인합니다. 각 컬럼별 데이터 타입과 결측치 여부를 확인합니다."
      ],
      "metadata": {
        "id": "Qpyq2NnGRaov"
      }
    },
    {
      "cell_type": "code",
      "source": [
        "# 컬럼별 요약정보\n",
        "df.info()"
      ],
      "metadata": {
        "colab": {
          "base_uri": "https://localhost:8080/"
        },
        "id": "8CU5zAliRdVR",
        "outputId": "2dd7f166-7651-4a3b-c0a5-9265397920f2"
      },
      "execution_count": 3,
      "outputs": [
        {
          "output_type": "stream",
          "name": "stdout",
          "text": [
            "<class 'pandas.core.frame.DataFrame'>\n",
            "RangeIndex: 1000 entries, 0 to 999\n",
            "Data columns (total 7 columns):\n",
            " #   Column  Non-Null Count  Dtype  \n",
            "---  ------  --------------  -----  \n",
            " 0   a1      1000 non-null   int64  \n",
            " 1   a2      1000 non-null   float64\n",
            " 2   a3      1000 non-null   int64  \n",
            " 3   a4      1000 non-null   float64\n",
            " 4   a5      1000 non-null   int64  \n",
            " 5   a6      1000 non-null   float64\n",
            " 6   target  1000 non-null   int64  \n",
            "dtypes: float64(3), int64(4)\n",
            "memory usage: 54.8 KB\n"
          ]
        }
      ]
    },
    {
      "cell_type": "markdown",
      "source": [
        "## 2. 데이터 전처리\n",
        "----\n",
        "머신러닝을 하기 위한 데이터 전처리를 수행합니다. 독립변수(X)와 종속변수(Y)로 각 컬럼을 나누고, 학습용 데이터와 테스트용 데이터로 분할하는 데이터 분할을 수행합니다. 독립변수(X)에 대해서 정규화를 수행합니다."
      ],
      "metadata": {
        "id": "MnbDL8AmRfwR"
      }
    },
    {
      "cell_type": "markdown",
      "source": [
        "### 2.1 종속변수, 독립변수 할당\n",
        "-----"
      ],
      "metadata": {
        "id": "fXDeqINnRz9B"
      }
    },
    {
      "cell_type": "code",
      "source": [
        "# 전체 컬럼에서 0~5번 컬럼에 해당하는 값을 독립변수(X)로 할당\n",
        "X = df.iloc[:, :6]\n",
        "\n",
        "# target 컬럼을 종속변수(y)로 할당\n",
        "y = df['target']\n",
        "\n",
        "# X에 할당된 값 확인\n",
        "X.head()"
      ],
      "metadata": {
        "colab": {
          "base_uri": "https://localhost:8080/",
          "height": 206
        },
        "id": "sZV7RbbpR2jV",
        "outputId": "c00f5a80-8eab-4b43-9191-d8e6aa381423"
      },
      "execution_count": 4,
      "outputs": [
        {
          "output_type": "execute_result",
          "data": {
            "text/plain": [
              "   a1    a2   a3     a4   a5   a6\n",
              "0  28  0.06  500  0.048  200  0.2\n",
              "1  35  0.32  800  0.034  130  1.9\n",
              "2  14  0.21  800  0.018  120  2.8\n",
              "3   9  0.05  800  0.018   80  2.3\n",
              "4  31  0.29  400  0.015  170  0.2"
            ],
            "text/html": [
              "\n",
              "  <div id=\"df-29eafc1c-09d9-40ee-8f13-cb3d9b57c32a\">\n",
              "    <div class=\"colab-df-container\">\n",
              "      <div>\n",
              "<style scoped>\n",
              "    .dataframe tbody tr th:only-of-type {\n",
              "        vertical-align: middle;\n",
              "    }\n",
              "\n",
              "    .dataframe tbody tr th {\n",
              "        vertical-align: top;\n",
              "    }\n",
              "\n",
              "    .dataframe thead th {\n",
              "        text-align: right;\n",
              "    }\n",
              "</style>\n",
              "<table border=\"1\" class=\"dataframe\">\n",
              "  <thead>\n",
              "    <tr style=\"text-align: right;\">\n",
              "      <th></th>\n",
              "      <th>a1</th>\n",
              "      <th>a2</th>\n",
              "      <th>a3</th>\n",
              "      <th>a4</th>\n",
              "      <th>a5</th>\n",
              "      <th>a6</th>\n",
              "    </tr>\n",
              "  </thead>\n",
              "  <tbody>\n",
              "    <tr>\n",
              "      <th>0</th>\n",
              "      <td>28</td>\n",
              "      <td>0.06</td>\n",
              "      <td>500</td>\n",
              "      <td>0.048</td>\n",
              "      <td>200</td>\n",
              "      <td>0.2</td>\n",
              "    </tr>\n",
              "    <tr>\n",
              "      <th>1</th>\n",
              "      <td>35</td>\n",
              "      <td>0.32</td>\n",
              "      <td>800</td>\n",
              "      <td>0.034</td>\n",
              "      <td>130</td>\n",
              "      <td>1.9</td>\n",
              "    </tr>\n",
              "    <tr>\n",
              "      <th>2</th>\n",
              "      <td>14</td>\n",
              "      <td>0.21</td>\n",
              "      <td>800</td>\n",
              "      <td>0.018</td>\n",
              "      <td>120</td>\n",
              "      <td>2.8</td>\n",
              "    </tr>\n",
              "    <tr>\n",
              "      <th>3</th>\n",
              "      <td>9</td>\n",
              "      <td>0.05</td>\n",
              "      <td>800</td>\n",
              "      <td>0.018</td>\n",
              "      <td>80</td>\n",
              "      <td>2.3</td>\n",
              "    </tr>\n",
              "    <tr>\n",
              "      <th>4</th>\n",
              "      <td>31</td>\n",
              "      <td>0.29</td>\n",
              "      <td>400</td>\n",
              "      <td>0.015</td>\n",
              "      <td>170</td>\n",
              "      <td>0.2</td>\n",
              "    </tr>\n",
              "  </tbody>\n",
              "</table>\n",
              "</div>\n",
              "      <button class=\"colab-df-convert\" onclick=\"convertToInteractive('df-29eafc1c-09d9-40ee-8f13-cb3d9b57c32a')\"\n",
              "              title=\"Convert this dataframe to an interactive table.\"\n",
              "              style=\"display:none;\">\n",
              "        \n",
              "  <svg xmlns=\"http://www.w3.org/2000/svg\" height=\"24px\"viewBox=\"0 0 24 24\"\n",
              "       width=\"24px\">\n",
              "    <path d=\"M0 0h24v24H0V0z\" fill=\"none\"/>\n",
              "    <path d=\"M18.56 5.44l.94 2.06.94-2.06 2.06-.94-2.06-.94-.94-2.06-.94 2.06-2.06.94zm-11 1L8.5 8.5l.94-2.06 2.06-.94-2.06-.94L8.5 2.5l-.94 2.06-2.06.94zm10 10l.94 2.06.94-2.06 2.06-.94-2.06-.94-.94-2.06-.94 2.06-2.06.94z\"/><path d=\"M17.41 7.96l-1.37-1.37c-.4-.4-.92-.59-1.43-.59-.52 0-1.04.2-1.43.59L10.3 9.45l-7.72 7.72c-.78.78-.78 2.05 0 2.83L4 21.41c.39.39.9.59 1.41.59.51 0 1.02-.2 1.41-.59l7.78-7.78 2.81-2.81c.8-.78.8-2.07 0-2.86zM5.41 20L4 18.59l7.72-7.72 1.47 1.35L5.41 20z\"/>\n",
              "  </svg>\n",
              "      </button>\n",
              "      \n",
              "  <style>\n",
              "    .colab-df-container {\n",
              "      display:flex;\n",
              "      flex-wrap:wrap;\n",
              "      gap: 12px;\n",
              "    }\n",
              "\n",
              "    .colab-df-convert {\n",
              "      background-color: #E8F0FE;\n",
              "      border: none;\n",
              "      border-radius: 50%;\n",
              "      cursor: pointer;\n",
              "      display: none;\n",
              "      fill: #1967D2;\n",
              "      height: 32px;\n",
              "      padding: 0 0 0 0;\n",
              "      width: 32px;\n",
              "    }\n",
              "\n",
              "    .colab-df-convert:hover {\n",
              "      background-color: #E2EBFA;\n",
              "      box-shadow: 0px 1px 2px rgba(60, 64, 67, 0.3), 0px 1px 3px 1px rgba(60, 64, 67, 0.15);\n",
              "      fill: #174EA6;\n",
              "    }\n",
              "\n",
              "    [theme=dark] .colab-df-convert {\n",
              "      background-color: #3B4455;\n",
              "      fill: #D2E3FC;\n",
              "    }\n",
              "\n",
              "    [theme=dark] .colab-df-convert:hover {\n",
              "      background-color: #434B5C;\n",
              "      box-shadow: 0px 1px 3px 1px rgba(0, 0, 0, 0.15);\n",
              "      filter: drop-shadow(0px 1px 2px rgba(0, 0, 0, 0.3));\n",
              "      fill: #FFFFFF;\n",
              "    }\n",
              "  </style>\n",
              "\n",
              "      <script>\n",
              "        const buttonEl =\n",
              "          document.querySelector('#df-29eafc1c-09d9-40ee-8f13-cb3d9b57c32a button.colab-df-convert');\n",
              "        buttonEl.style.display =\n",
              "          google.colab.kernel.accessAllowed ? 'block' : 'none';\n",
              "\n",
              "        async function convertToInteractive(key) {\n",
              "          const element = document.querySelector('#df-29eafc1c-09d9-40ee-8f13-cb3d9b57c32a');\n",
              "          const dataTable =\n",
              "            await google.colab.kernel.invokeFunction('convertToInteractive',\n",
              "                                                     [key], {});\n",
              "          if (!dataTable) return;\n",
              "\n",
              "          const docLinkHtml = 'Like what you see? Visit the ' +\n",
              "            '<a target=\"_blank\" href=https://colab.research.google.com/notebooks/data_table.ipynb>data table notebook</a>'\n",
              "            + ' to learn more about interactive tables.';\n",
              "          element.innerHTML = '';\n",
              "          dataTable['output_type'] = 'display_data';\n",
              "          await google.colab.output.renderOutput(dataTable, element);\n",
              "          const docLink = document.createElement('div');\n",
              "          docLink.innerHTML = docLinkHtml;\n",
              "          element.appendChild(docLink);\n",
              "        }\n",
              "      </script>\n",
              "    </div>\n",
              "  </div>\n",
              "  "
            ]
          },
          "metadata": {},
          "execution_count": 4
        }
      ]
    },
    {
      "cell_type": "markdown",
      "source": [
        "X에 `target`를 제외한 모든 컬럼이 할당되었습니다."
      ],
      "metadata": {
        "id": "zltlKroSSAPp"
      }
    },
    {
      "cell_type": "markdown",
      "source": [
        "### 2.2 정규화(스케일링)\n",
        "-----\n",
        "컬럼별 데이터 크기 및 분포의 차이가 있으므로 StandardScaler를 사용하여 정규화를 수행하겠습니다.\n"
      ],
      "metadata": {
        "id": "qn0Ry7QnR84l"
      }
    },
    {
      "cell_type": "code",
      "source": [
        "# sklearn에서 제공하는 StandardScaler를 임포트\n",
        "from sklearn.preprocessing import StandardScaler\n",
        "\n",
        "# StandardScaler() 객체 선언\n",
        "sc = StandardScaler()\n",
        "\n",
        "# X를 StandardScaler를 사용하여 z-점수 정규화(StandardScaler)수행\n",
        "X = sc.fit_transform(X)\n",
        "\n",
        "# 변환된 결과 출력\n",
        "print(X)\n",
        "\n",
        "for i in range(len(X[0])):\n",
        "    print('{} 컬럼의 평균: {:.2f}, 표준편차:{}'.format(i, X[:, i].mean(), X[:, i].std()))"
      ],
      "metadata": {
        "colab": {
          "base_uri": "https://localhost:8080/"
        },
        "id": "0KPI-5A0SGuM",
        "outputId": "08944533-2522-46ea-d9f8-b6f3fa10be62"
      },
      "execution_count": 5,
      "outputs": [
        {
          "output_type": "stream",
          "name": "stdout",
          "text": [
            "[[-0.07821    -2.16118423 -1.26280634  1.90247583  1.82401334 -2.14029285]\n",
            " [ 0.58862314  0.3558732  -0.08371545  0.6037942   0.28234546  0.26516652]\n",
            " [-1.41187628 -0.70903572 -0.08371545 -0.88041339  0.06210719  1.53864501]\n",
            " ...\n",
            " [-2.26923318 -1.28989512 -0.47674575 -0.04554662  1.60377507 -1.99879524]\n",
            " [ 0.11231375  1.42078211 -0.08371545  0.97484609 -1.69979895 -1.99879524]\n",
            " [ 0.39809939 -2.06437433  1.48840573 -1.5297542  -2.14027549 -2.14029285]]\n",
            "0 컬럼의 평균: -0.00, 표준편차:1.0\n",
            "1 컬럼의 평균: 0.00, 표준편차:1.0\n",
            "2 컬럼의 평균: 0.00, 표준편차:1.0\n",
            "3 컬럼의 평균: -0.00, 표준편차:1.0\n",
            "4 컬럼의 평균: -0.00, 표준편차:1.0\n",
            "5 컬럼의 평균: -0.00, 표준편차:1.0\n"
          ]
        }
      ]
    },
    {
      "cell_type": "markdown",
      "source": [
        "데이터의 범위가 평균 0, 표준편차 1을 기준으로 변경되었습니다."
      ],
      "metadata": {
        "id": "ZwQ6oKbmSEvQ"
      }
    },
    {
      "cell_type": "markdown",
      "source": [
        "### 2.3 학습용, 테스트용 데이터 분할\n",
        "-----\n",
        "train_test_split()을 사용하여 전처리가 완료된 데이터를 분할합니다."
      ],
      "metadata": {
        "id": "yJR49JtbSL8F"
      }
    },
    {
      "cell_type": "code",
      "source": [
        "# sklearn에서 제공하는 train_test_split 임포트\n",
        "from sklearn.model_selection import train_test_split\n",
        "\n",
        "# 데이터 분할\n",
        "# - 테스트용 데이터의 비율을 20%로 설정\n",
        "# - 동일한 샘플링 결과를 얻기 위해 random_state 설정\n",
        "# - y의 비율을 기준으로 샘플링\n",
        "X_train, X_test, y_train, y_test = train_test_split(X,y,test_size = 0.3, random_state = 1, stratify = y)\n",
        "\n",
        "# 분할된 변수의 결과 출력\n",
        "print('X: {}, X_train: {}, X_test:{}'.format(X.shape, X_train.shape, X_test.shape))\n",
        "print('y: {}, y_train: {}, y_test:{}'.format(y.shape, y_train.shape, y_test.shape))"
      ],
      "metadata": {
        "colab": {
          "base_uri": "https://localhost:8080/"
        },
        "id": "h3hzN30MSQ7V",
        "outputId": "5b2cefb8-a33e-4eb8-a9fa-6cef015d18f7"
      },
      "execution_count": 6,
      "outputs": [
        {
          "output_type": "stream",
          "name": "stdout",
          "text": [
            "X: (1000, 6), X_train: (700, 6), X_test:(300, 6)\n",
            "y: (1000,), y_train: (700,), y_test:(300,)\n"
          ]
        }
      ]
    },
    {
      "cell_type": "markdown",
      "source": [
        "1000개의 데이터가 학습용 데이터 700개, 테스트용 데이터 300개로 분할되었습니다."
      ],
      "metadata": {
        "id": "-rVyvcqhSUvO"
      }
    },
    {
      "cell_type": "code",
      "source": [
        "# y값을 기준으로 계층적(stratified) 샘플링이 적용되어 데이터가 분할되었는지 여부를 확인\n",
        "print(y.value_counts()/len(y) * 100)\n",
        "print(y_train.value_counts()/len(y_train) * 100)\n",
        "print(y_test.value_counts()/len(y_test) * 100)"
      ],
      "metadata": {
        "colab": {
          "base_uri": "https://localhost:8080/"
        },
        "id": "jQsRCmhkSfU5",
        "outputId": "75c69914-0129-4797-af84-10bc08695597"
      },
      "execution_count": 7,
      "outputs": [
        {
          "output_type": "stream",
          "name": "stdout",
          "text": [
            "0    58.8\n",
            "1    41.2\n",
            "Name: target, dtype: float64\n",
            "0    58.857143\n",
            "1    41.142857\n",
            "Name: target, dtype: float64\n",
            "0    58.666667\n",
            "1    41.333333\n",
            "Name: target, dtype: float64\n"
          ]
        }
      ]
    },
    {
      "cell_type": "markdown",
      "source": [
        "0과 1의 비율이 학습용 데이터셋과 테스트용 데이터 셋 모두 약 59:41로 기존 데이터의 비율과 동일하게 분할되었습니다."
      ],
      "metadata": {
        "id": "1VjJLVgBSkfh"
      }
    },
    {
      "cell_type": "markdown",
      "source": [
        "## 3. 머신러닝 모델 수행\n",
        "-----\n",
        "\n",
        "다음의 알고리즘을 사용하여 분류(classifier) 모델을 생성하는 머신러닝 학습을 수행합니다.\n",
        "\n",
        "- 의사결정나무\n",
        "- 서포트벡터머신"
      ],
      "metadata": {
        "id": "7XwzBwwsSpG9"
      }
    },
    {
      "cell_type": "markdown",
      "source": [
        "### 3.1 의사결정나무(DecisionTree)\n",
        "---\n"
      ],
      "metadata": {
        "id": "eRgXsA9jSvSO"
      }
    },
    {
      "cell_type": "markdown",
      "source": [
        "\n",
        "#### 3.1.1 학습\n",
        "\n",
        "DecisionTreeClassifier 클래스의 기본 매개변수를 사용하여 모델을 학습시킵니다."
      ],
      "metadata": {
        "id": "a3dq3e2NXm4l"
      }
    },
    {
      "cell_type": "code",
      "source": [
        "# DecisionTreeClassifier 라이브러리 불러오기\n",
        "from sklearn.tree import DecisionTreeClassifier\n",
        "\n",
        "# 기본 매개변수를 사용하는 DecisionTreeClassifier 생성\n",
        "tree = DecisionTreeClassifier(random_state=42)\n",
        "\n",
        "# 생성한 tree 객체를 학습용 데이터를 사용하여 학습\n",
        "tree.fit(X_train, y_train)"
      ],
      "metadata": {
        "colab": {
          "base_uri": "https://localhost:8080/"
        },
        "id": "ZIM24brCSl7s",
        "outputId": "45be4435-6b23-459b-a8f3-ba2ad550a758"
      },
      "execution_count": 8,
      "outputs": [
        {
          "output_type": "execute_result",
          "data": {
            "text/plain": [
              "DecisionTreeClassifier(random_state=42)"
            ]
          },
          "metadata": {},
          "execution_count": 8
        }
      ]
    },
    {
      "cell_type": "markdown",
      "source": [
        "#### 3.1.2 학습결과 시각화\n",
        "-----"
      ],
      "metadata": {
        "id": "lHCU9YGUS4VJ"
      }
    },
    {
      "cell_type": "code",
      "source": [
        "df.columns[:len(df.columns)-1]"
      ],
      "metadata": {
        "colab": {
          "base_uri": "https://localhost:8080/"
        },
        "id": "HUIgZ0G9TBlu",
        "outputId": "8b1aafaf-41a6-4c1d-e682-c80948007088"
      },
      "execution_count": 9,
      "outputs": [
        {
          "output_type": "execute_result",
          "data": {
            "text/plain": [
              "Index(['a1', 'a2', 'a3', 'a4', 'a5', 'a6'], dtype='object')"
            ]
          },
          "metadata": {},
          "execution_count": 9
        }
      ]
    },
    {
      "cell_type": "code",
      "source": [
        "import graphviz\n",
        "from sklearn.tree import export_graphviz\n",
        "\n",
        "tree_img = export_graphviz(tree,feature_names=df.columns[:len(df.columns)-1],\n",
        "                      class_names=[\"1\",\"0\"])\n",
        "graphviz.Source(tree_img)"
      ],
      "metadata": {
        "colab": {
          "base_uri": "https://localhost:8080/",
          "height": 1000
        },
        "id": "7Iz76Fm5S9PN",
        "outputId": "d8ceea25-8514-4a61-947d-b29573eabbc2"
      },
      "execution_count": 10,
      "outputs": [
        {
          "output_type": "execute_result",
          "data": {
            "text/plain": [
              "<graphviz.files.Source at 0x7f339d0b3950>"
            ],
            "image/svg+xml": "<?xml version=\"1.0\" encoding=\"UTF-8\" standalone=\"no\"?>\n<!DOCTYPE svg PUBLIC \"-//W3C//DTD SVG 1.1//EN\"\n \"http://www.w3.org/Graphics/SVG/1.1/DTD/svg11.dtd\">\n<!-- Generated by graphviz version 2.40.1 (20161225.0304)\n -->\n<!-- Title: Tree Pages: 1 -->\n<svg width=\"4105pt\" height=\"2218pt\"\n viewBox=\"0.00 0.00 4105.00 2218.00\" xmlns=\"http://www.w3.org/2000/svg\" xmlns:xlink=\"http://www.w3.org/1999/xlink\">\n<g id=\"graph0\" class=\"graph\" transform=\"scale(1 1) rotate(0) translate(4 2214)\">\n<title>Tree</title>\n<polygon fill=\"#ffffff\" stroke=\"transparent\" points=\"-4,4 -4,-2214 4101,-2214 4101,4 -4,4\"/>\n<!-- 0 -->\n<g id=\"node1\" class=\"node\">\n<title>0</title>\n<polygon fill=\"none\" stroke=\"#000000\" points=\"1799.5,-2210 1667.5,-2210 1667.5,-2127 1799.5,-2127 1799.5,-2210\"/>\n<text text-anchor=\"middle\" x=\"1733.5\" y=\"-2194.8\" font-family=\"Helvetica,sans-Serif\" font-size=\"14.00\" fill=\"#000000\">a3 &lt;= &#45;0.28</text>\n<text text-anchor=\"middle\" x=\"1733.5\" y=\"-2179.8\" font-family=\"Helvetica,sans-Serif\" font-size=\"14.00\" fill=\"#000000\">gini = 0.484</text>\n<text text-anchor=\"middle\" x=\"1733.5\" y=\"-2164.8\" font-family=\"Helvetica,sans-Serif\" font-size=\"14.00\" fill=\"#000000\">samples = 700</text>\n<text text-anchor=\"middle\" x=\"1733.5\" y=\"-2149.8\" font-family=\"Helvetica,sans-Serif\" font-size=\"14.00\" fill=\"#000000\">value = [412, 288]</text>\n<text text-anchor=\"middle\" x=\"1733.5\" y=\"-2134.8\" font-family=\"Helvetica,sans-Serif\" font-size=\"14.00\" fill=\"#000000\">class = 1</text>\n</g>\n<!-- 1 -->\n<g id=\"node2\" class=\"node\">\n<title>1</title>\n<polygon fill=\"none\" stroke=\"#000000\" points=\"1527.5,-2091 1403.5,-2091 1403.5,-2008 1527.5,-2008 1527.5,-2091\"/>\n<text text-anchor=\"middle\" x=\"1465.5\" y=\"-2075.8\" font-family=\"Helvetica,sans-Serif\" font-size=\"14.00\" fill=\"#000000\">a2 &lt;= &#45;0.273</text>\n<text text-anchor=\"middle\" x=\"1465.5\" y=\"-2060.8\" font-family=\"Helvetica,sans-Serif\" font-size=\"14.00\" fill=\"#000000\">gini = 0.154</text>\n<text text-anchor=\"middle\" x=\"1465.5\" y=\"-2045.8\" font-family=\"Helvetica,sans-Serif\" font-size=\"14.00\" fill=\"#000000\">samples = 214</text>\n<text text-anchor=\"middle\" x=\"1465.5\" y=\"-2030.8\" font-family=\"Helvetica,sans-Serif\" font-size=\"14.00\" fill=\"#000000\">value = [196, 18]</text>\n<text text-anchor=\"middle\" x=\"1465.5\" y=\"-2015.8\" font-family=\"Helvetica,sans-Serif\" font-size=\"14.00\" fill=\"#000000\">class = 1</text>\n</g>\n<!-- 0&#45;&gt;1 -->\n<g id=\"edge1\" class=\"edge\">\n<title>0&#45;&gt;1</title>\n<path fill=\"none\" stroke=\"#000000\" d=\"M1667.2528,-2139.0843C1627.7069,-2121.5247 1577.4773,-2099.2212 1537.0304,-2081.2616\"/>\n<polygon fill=\"#000000\" stroke=\"#000000\" points=\"1538.3262,-2078.0075 1527.7663,-2077.1481 1535.4854,-2084.4052 1538.3262,-2078.0075\"/>\n<text text-anchor=\"middle\" x=\"1536.7489\" y=\"-2096.7786\" font-family=\"Helvetica,sans-Serif\" font-size=\"14.00\" fill=\"#000000\">True</text>\n</g>\n<!-- 54 -->\n<g id=\"node55\" class=\"node\">\n<title>54</title>\n<polygon fill=\"none\" stroke=\"#000000\" points=\"2131.5,-2091 1999.5,-2091 1999.5,-2008 2131.5,-2008 2131.5,-2091\"/>\n<text text-anchor=\"middle\" x=\"2065.5\" y=\"-2075.8\" font-family=\"Helvetica,sans-Serif\" font-size=\"14.00\" fill=\"#000000\">a2 &lt;= &#45;0.37</text>\n<text text-anchor=\"middle\" x=\"2065.5\" y=\"-2060.8\" font-family=\"Helvetica,sans-Serif\" font-size=\"14.00\" fill=\"#000000\">gini = 0.494</text>\n<text text-anchor=\"middle\" x=\"2065.5\" y=\"-2045.8\" font-family=\"Helvetica,sans-Serif\" font-size=\"14.00\" fill=\"#000000\">samples = 486</text>\n<text text-anchor=\"middle\" x=\"2065.5\" y=\"-2030.8\" font-family=\"Helvetica,sans-Serif\" font-size=\"14.00\" fill=\"#000000\">value = [216, 270]</text>\n<text text-anchor=\"middle\" x=\"2065.5\" y=\"-2015.8\" font-family=\"Helvetica,sans-Serif\" font-size=\"14.00\" fill=\"#000000\">class = 0</text>\n</g>\n<!-- 0&#45;&gt;54 -->\n<g id=\"edge54\" class=\"edge\">\n<title>0&#45;&gt;54</title>\n<path fill=\"none\" stroke=\"#000000\" d=\"M1799.8872,-2144.7046C1854.6251,-2125.0847 1932.2941,-2097.2455 1989.5113,-2076.7369\"/>\n<polygon fill=\"#000000\" stroke=\"#000000\" points=\"1990.9952,-2079.9231 1999.2278,-2073.2542 1988.6333,-2073.3336 1990.9952,-2079.9231\"/>\n<text text-anchor=\"middle\" x=\"1988.5515\" y=\"-2092.1599\" font-family=\"Helvetica,sans-Serif\" font-size=\"14.00\" fill=\"#000000\">False</text>\n</g>\n<!-- 2 -->\n<g id=\"node3\" class=\"node\">\n<title>2</title>\n<polygon fill=\"none\" stroke=\"#000000\" points=\"932.5,-1972 816.5,-1972 816.5,-1889 932.5,-1889 932.5,-1972\"/>\n<text text-anchor=\"middle\" x=\"874.5\" y=\"-1956.8\" font-family=\"Helvetica,sans-Serif\" font-size=\"14.00\" fill=\"#000000\">a2 &lt;= &#45;1.822</text>\n<text text-anchor=\"middle\" x=\"874.5\" y=\"-1941.8\" font-family=\"Helvetica,sans-Serif\" font-size=\"14.00\" fill=\"#000000\">gini = 0.221</text>\n<text text-anchor=\"middle\" x=\"874.5\" y=\"-1926.8\" font-family=\"Helvetica,sans-Serif\" font-size=\"14.00\" fill=\"#000000\">samples = 103</text>\n<text text-anchor=\"middle\" x=\"874.5\" y=\"-1911.8\" font-family=\"Helvetica,sans-Serif\" font-size=\"14.00\" fill=\"#000000\">value = [90, 13]</text>\n<text text-anchor=\"middle\" x=\"874.5\" y=\"-1896.8\" font-family=\"Helvetica,sans-Serif\" font-size=\"14.00\" fill=\"#000000\">class = 1</text>\n</g>\n<!-- 1&#45;&gt;2 -->\n<g id=\"edge2\" class=\"edge\">\n<title>1&#45;&gt;2</title>\n<path fill=\"none\" stroke=\"#000000\" d=\"M1403.3697,-2036.9898C1291.782,-2014.5212 1058.2966,-1967.5081 942.5496,-1944.202\"/>\n<polygon fill=\"#000000\" stroke=\"#000000\" points=\"943.2292,-1940.7687 932.735,-1942.2258 941.8474,-1947.631 943.2292,-1940.7687\"/>\n</g>\n<!-- 39 -->\n<g id=\"node40\" class=\"node\">\n<title>39</title>\n<polygon fill=\"none\" stroke=\"#000000\" points=\"1523.5,-1972 1407.5,-1972 1407.5,-1889 1523.5,-1889 1523.5,-1972\"/>\n<text text-anchor=\"middle\" x=\"1465.5\" y=\"-1956.8\" font-family=\"Helvetica,sans-Serif\" font-size=\"14.00\" fill=\"#000000\">a4 &lt;= &#45;0.092</text>\n<text text-anchor=\"middle\" x=\"1465.5\" y=\"-1941.8\" font-family=\"Helvetica,sans-Serif\" font-size=\"14.00\" fill=\"#000000\">gini = 0.086</text>\n<text text-anchor=\"middle\" x=\"1465.5\" y=\"-1926.8\" font-family=\"Helvetica,sans-Serif\" font-size=\"14.00\" fill=\"#000000\">samples = 111</text>\n<text text-anchor=\"middle\" x=\"1465.5\" y=\"-1911.8\" font-family=\"Helvetica,sans-Serif\" font-size=\"14.00\" fill=\"#000000\">value = [106, 5]</text>\n<text text-anchor=\"middle\" x=\"1465.5\" y=\"-1896.8\" font-family=\"Helvetica,sans-Serif\" font-size=\"14.00\" fill=\"#000000\">class = 1</text>\n</g>\n<!-- 1&#45;&gt;39 -->\n<g id=\"edge39\" class=\"edge\">\n<title>1&#45;&gt;39</title>\n<path fill=\"none\" stroke=\"#000000\" d=\"M1465.5,-2007.8796C1465.5,-1999.6838 1465.5,-1990.9891 1465.5,-1982.5013\"/>\n<polygon fill=\"#000000\" stroke=\"#000000\" points=\"1469.0001,-1982.298 1465.5,-1972.2981 1462.0001,-1982.2981 1469.0001,-1982.298\"/>\n</g>\n<!-- 3 -->\n<g id=\"node4\" class=\"node\">\n<title>3</title>\n<polygon fill=\"none\" stroke=\"#000000\" points=\"798,-1845.5 691,-1845.5 691,-1777.5 798,-1777.5 798,-1845.5\"/>\n<text text-anchor=\"middle\" x=\"744.5\" y=\"-1830.3\" font-family=\"Helvetica,sans-Serif\" font-size=\"14.00\" fill=\"#000000\">gini = 0.0</text>\n<text text-anchor=\"middle\" x=\"744.5\" y=\"-1815.3\" font-family=\"Helvetica,sans-Serif\" font-size=\"14.00\" fill=\"#000000\">samples = 21</text>\n<text text-anchor=\"middle\" x=\"744.5\" y=\"-1800.3\" font-family=\"Helvetica,sans-Serif\" font-size=\"14.00\" fill=\"#000000\">value = [21, 0]</text>\n<text text-anchor=\"middle\" x=\"744.5\" y=\"-1785.3\" font-family=\"Helvetica,sans-Serif\" font-size=\"14.00\" fill=\"#000000\">class = 1</text>\n</g>\n<!-- 2&#45;&gt;3 -->\n<g id=\"edge3\" class=\"edge\">\n<title>2&#45;&gt;3</title>\n<path fill=\"none\" stroke=\"#000000\" d=\"M829.0323,-1888.8796C816.1789,-1877.1138 802.2021,-1864.3197 789.3834,-1852.5855\"/>\n<polygon fill=\"#000000\" stroke=\"#000000\" points=\"791.7264,-1849.9854 781.9869,-1845.8149 786.9999,-1855.1488 791.7264,-1849.9854\"/>\n</g>\n<!-- 4 -->\n<g id=\"node5\" class=\"node\">\n<title>4</title>\n<polygon fill=\"none\" stroke=\"#000000\" points=\"932.5,-1853 816.5,-1853 816.5,-1770 932.5,-1770 932.5,-1853\"/>\n<text text-anchor=\"middle\" x=\"874.5\" y=\"-1837.8\" font-family=\"Helvetica,sans-Serif\" font-size=\"14.00\" fill=\"#000000\">a5 &lt;= &#45;2.03</text>\n<text text-anchor=\"middle\" x=\"874.5\" y=\"-1822.8\" font-family=\"Helvetica,sans-Serif\" font-size=\"14.00\" fill=\"#000000\">gini = 0.267</text>\n<text text-anchor=\"middle\" x=\"874.5\" y=\"-1807.8\" font-family=\"Helvetica,sans-Serif\" font-size=\"14.00\" fill=\"#000000\">samples = 82</text>\n<text text-anchor=\"middle\" x=\"874.5\" y=\"-1792.8\" font-family=\"Helvetica,sans-Serif\" font-size=\"14.00\" fill=\"#000000\">value = [69, 13]</text>\n<text text-anchor=\"middle\" x=\"874.5\" y=\"-1777.8\" font-family=\"Helvetica,sans-Serif\" font-size=\"14.00\" fill=\"#000000\">class = 1</text>\n</g>\n<!-- 2&#45;&gt;4 -->\n<g id=\"edge4\" class=\"edge\">\n<title>2&#45;&gt;4</title>\n<path fill=\"none\" stroke=\"#000000\" d=\"M874.5,-1888.8796C874.5,-1880.6838 874.5,-1871.9891 874.5,-1863.5013\"/>\n<polygon fill=\"#000000\" stroke=\"#000000\" points=\"878.0001,-1863.298 874.5,-1853.2981 871.0001,-1863.2981 878.0001,-1863.298\"/>\n</g>\n<!-- 5 -->\n<g id=\"node6\" class=\"node\">\n<title>5</title>\n<polygon fill=\"none\" stroke=\"#000000\" points=\"798,-1726.5 699,-1726.5 699,-1658.5 798,-1658.5 798,-1726.5\"/>\n<text text-anchor=\"middle\" x=\"748.5\" y=\"-1711.3\" font-family=\"Helvetica,sans-Serif\" font-size=\"14.00\" fill=\"#000000\">gini = 0.0</text>\n<text text-anchor=\"middle\" x=\"748.5\" y=\"-1696.3\" font-family=\"Helvetica,sans-Serif\" font-size=\"14.00\" fill=\"#000000\">samples = 1</text>\n<text text-anchor=\"middle\" x=\"748.5\" y=\"-1681.3\" font-family=\"Helvetica,sans-Serif\" font-size=\"14.00\" fill=\"#000000\">value = [0, 1]</text>\n<text text-anchor=\"middle\" x=\"748.5\" y=\"-1666.3\" font-family=\"Helvetica,sans-Serif\" font-size=\"14.00\" fill=\"#000000\">class = 0</text>\n</g>\n<!-- 4&#45;&gt;5 -->\n<g id=\"edge5\" class=\"edge\">\n<title>4&#45;&gt;5</title>\n<path fill=\"none\" stroke=\"#000000\" d=\"M830.4313,-1769.8796C818.0898,-1758.2237 804.6798,-1745.5587 792.351,-1733.9148\"/>\n<polygon fill=\"#000000\" stroke=\"#000000\" points=\"794.5068,-1731.1366 784.8335,-1726.8149 789.7004,-1736.2258 794.5068,-1731.1366\"/>\n</g>\n<!-- 6 -->\n<g id=\"node7\" class=\"node\">\n<title>6</title>\n<polygon fill=\"none\" stroke=\"#000000\" points=\"932.5,-1734 816.5,-1734 816.5,-1651 932.5,-1651 932.5,-1734\"/>\n<text text-anchor=\"middle\" x=\"874.5\" y=\"-1718.8\" font-family=\"Helvetica,sans-Serif\" font-size=\"14.00\" fill=\"#000000\">a4 &lt;= 1.207</text>\n<text text-anchor=\"middle\" x=\"874.5\" y=\"-1703.8\" font-family=\"Helvetica,sans-Serif\" font-size=\"14.00\" fill=\"#000000\">gini = 0.252</text>\n<text text-anchor=\"middle\" x=\"874.5\" y=\"-1688.8\" font-family=\"Helvetica,sans-Serif\" font-size=\"14.00\" fill=\"#000000\">samples = 81</text>\n<text text-anchor=\"middle\" x=\"874.5\" y=\"-1673.8\" font-family=\"Helvetica,sans-Serif\" font-size=\"14.00\" fill=\"#000000\">value = [69, 12]</text>\n<text text-anchor=\"middle\" x=\"874.5\" y=\"-1658.8\" font-family=\"Helvetica,sans-Serif\" font-size=\"14.00\" fill=\"#000000\">class = 1</text>\n</g>\n<!-- 4&#45;&gt;6 -->\n<g id=\"edge6\" class=\"edge\">\n<title>4&#45;&gt;6</title>\n<path fill=\"none\" stroke=\"#000000\" d=\"M874.5,-1769.8796C874.5,-1761.6838 874.5,-1752.9891 874.5,-1744.5013\"/>\n<polygon fill=\"#000000\" stroke=\"#000000\" points=\"878.0001,-1744.298 874.5,-1734.2981 871.0001,-1744.2981 878.0001,-1744.298\"/>\n</g>\n<!-- 7 -->\n<g id=\"node8\" class=\"node\">\n<title>7</title>\n<polygon fill=\"none\" stroke=\"#000000\" points=\"562,-1615 455,-1615 455,-1532 562,-1532 562,-1615\"/>\n<text text-anchor=\"middle\" x=\"508.5\" y=\"-1599.8\" font-family=\"Helvetica,sans-Serif\" font-size=\"14.00\" fill=\"#000000\">a3 &lt;= &#45;1.852</text>\n<text text-anchor=\"middle\" x=\"508.5\" y=\"-1584.8\" font-family=\"Helvetica,sans-Serif\" font-size=\"14.00\" fill=\"#000000\">gini = 0.2</text>\n<text text-anchor=\"middle\" x=\"508.5\" y=\"-1569.8\" font-family=\"Helvetica,sans-Serif\" font-size=\"14.00\" fill=\"#000000\">samples = 62</text>\n<text text-anchor=\"middle\" x=\"508.5\" y=\"-1554.8\" font-family=\"Helvetica,sans-Serif\" font-size=\"14.00\" fill=\"#000000\">value = [55, 7]</text>\n<text text-anchor=\"middle\" x=\"508.5\" y=\"-1539.8\" font-family=\"Helvetica,sans-Serif\" font-size=\"14.00\" fill=\"#000000\">class = 1</text>\n</g>\n<!-- 6&#45;&gt;7 -->\n<g id=\"edge7\" class=\"edge\">\n<title>6&#45;&gt;7</title>\n<path fill=\"none\" stroke=\"#000000\" d=\"M816.4781,-1655.5978C813.1498,-1653.9514 809.8104,-1652.4043 806.5,-1651 728.8824,-1618.0746 633.7922,-1596.3027 572.2201,-1584.4386\"/>\n<polygon fill=\"#000000\" stroke=\"#000000\" points=\"572.7345,-1580.9739 562.2574,-1582.5491 571.43,-1587.8513 572.7345,-1580.9739\"/>\n</g>\n<!-- 30 -->\n<g id=\"node31\" class=\"node\">\n<title>30</title>\n<polygon fill=\"none\" stroke=\"#000000\" points=\"928,-1615 821,-1615 821,-1532 928,-1532 928,-1615\"/>\n<text text-anchor=\"middle\" x=\"874.5\" y=\"-1599.8\" font-family=\"Helvetica,sans-Serif\" font-size=\"14.00\" fill=\"#000000\">a2 &lt;= &#45;0.951</text>\n<text text-anchor=\"middle\" x=\"874.5\" y=\"-1584.8\" font-family=\"Helvetica,sans-Serif\" font-size=\"14.00\" fill=\"#000000\">gini = 0.388</text>\n<text text-anchor=\"middle\" x=\"874.5\" y=\"-1569.8\" font-family=\"Helvetica,sans-Serif\" font-size=\"14.00\" fill=\"#000000\">samples = 19</text>\n<text text-anchor=\"middle\" x=\"874.5\" y=\"-1554.8\" font-family=\"Helvetica,sans-Serif\" font-size=\"14.00\" fill=\"#000000\">value = [14, 5]</text>\n<text text-anchor=\"middle\" x=\"874.5\" y=\"-1539.8\" font-family=\"Helvetica,sans-Serif\" font-size=\"14.00\" fill=\"#000000\">class = 1</text>\n</g>\n<!-- 6&#45;&gt;30 -->\n<g id=\"edge30\" class=\"edge\">\n<title>6&#45;&gt;30</title>\n<path fill=\"none\" stroke=\"#000000\" d=\"M874.5,-1650.8796C874.5,-1642.6838 874.5,-1633.9891 874.5,-1625.5013\"/>\n<polygon fill=\"#000000\" stroke=\"#000000\" points=\"878.0001,-1625.298 874.5,-1615.2981 871.0001,-1625.2981 878.0001,-1625.298\"/>\n</g>\n<!-- 8 -->\n<g id=\"node9\" class=\"node\">\n<title>8</title>\n<polygon fill=\"none\" stroke=\"#000000\" points=\"375.5,-1496 271.5,-1496 271.5,-1413 375.5,-1413 375.5,-1496\"/>\n<text text-anchor=\"middle\" x=\"323.5\" y=\"-1480.8\" font-family=\"Helvetica,sans-Serif\" font-size=\"14.00\" fill=\"#000000\">a2 &lt;= &#45;1.145</text>\n<text text-anchor=\"middle\" x=\"323.5\" y=\"-1465.8\" font-family=\"Helvetica,sans-Serif\" font-size=\"14.00\" fill=\"#000000\">gini = 0.397</text>\n<text text-anchor=\"middle\" x=\"323.5\" y=\"-1450.8\" font-family=\"Helvetica,sans-Serif\" font-size=\"14.00\" fill=\"#000000\">samples = 11</text>\n<text text-anchor=\"middle\" x=\"323.5\" y=\"-1435.8\" font-family=\"Helvetica,sans-Serif\" font-size=\"14.00\" fill=\"#000000\">value = [8, 3]</text>\n<text text-anchor=\"middle\" x=\"323.5\" y=\"-1420.8\" font-family=\"Helvetica,sans-Serif\" font-size=\"14.00\" fill=\"#000000\">class = 1</text>\n</g>\n<!-- 7&#45;&gt;8 -->\n<g id=\"edge8\" class=\"edge\">\n<title>7&#45;&gt;8</title>\n<path fill=\"none\" stroke=\"#000000\" d=\"M454.9903,-1539.0803C432.848,-1524.8374 407.0572,-1508.2476 384.2116,-1493.5523\"/>\n<polygon fill=\"#000000\" stroke=\"#000000\" points=\"385.9175,-1490.4881 375.6137,-1488.0218 382.1306,-1496.3753 385.9175,-1490.4881\"/>\n</g>\n<!-- 15 -->\n<g id=\"node16\" class=\"node\">\n<title>15</title>\n<polygon fill=\"none\" stroke=\"#000000\" points=\"562,-1496 455,-1496 455,-1413 562,-1413 562,-1496\"/>\n<text text-anchor=\"middle\" x=\"508.5\" y=\"-1480.8\" font-family=\"Helvetica,sans-Serif\" font-size=\"14.00\" fill=\"#000000\">a1 &lt;= &#45;0.126</text>\n<text text-anchor=\"middle\" x=\"508.5\" y=\"-1465.8\" font-family=\"Helvetica,sans-Serif\" font-size=\"14.00\" fill=\"#000000\">gini = 0.145</text>\n<text text-anchor=\"middle\" x=\"508.5\" y=\"-1450.8\" font-family=\"Helvetica,sans-Serif\" font-size=\"14.00\" fill=\"#000000\">samples = 51</text>\n<text text-anchor=\"middle\" x=\"508.5\" y=\"-1435.8\" font-family=\"Helvetica,sans-Serif\" font-size=\"14.00\" fill=\"#000000\">value = [47, 4]</text>\n<text text-anchor=\"middle\" x=\"508.5\" y=\"-1420.8\" font-family=\"Helvetica,sans-Serif\" font-size=\"14.00\" fill=\"#000000\">class = 1</text>\n</g>\n<!-- 7&#45;&gt;15 -->\n<g id=\"edge15\" class=\"edge\">\n<title>7&#45;&gt;15</title>\n<path fill=\"none\" stroke=\"#000000\" d=\"M508.5,-1531.8796C508.5,-1523.6838 508.5,-1514.9891 508.5,-1506.5013\"/>\n<polygon fill=\"#000000\" stroke=\"#000000\" points=\"512.0001,-1506.298 508.5,-1496.2981 505.0001,-1506.2981 512.0001,-1506.298\"/>\n</g>\n<!-- 9 -->\n<g id=\"node10\" class=\"node\">\n<title>9</title>\n<polygon fill=\"none\" stroke=\"#000000\" points=\"256,-1377 157,-1377 157,-1294 256,-1294 256,-1377\"/>\n<text text-anchor=\"middle\" x=\"206.5\" y=\"-1361.8\" font-family=\"Helvetica,sans-Serif\" font-size=\"14.00\" fill=\"#000000\">a4 &lt;= &#45;0.324</text>\n<text text-anchor=\"middle\" x=\"206.5\" y=\"-1346.8\" font-family=\"Helvetica,sans-Serif\" font-size=\"14.00\" fill=\"#000000\">gini = 0.5</text>\n<text text-anchor=\"middle\" x=\"206.5\" y=\"-1331.8\" font-family=\"Helvetica,sans-Serif\" font-size=\"14.00\" fill=\"#000000\">samples = 6</text>\n<text text-anchor=\"middle\" x=\"206.5\" y=\"-1316.8\" font-family=\"Helvetica,sans-Serif\" font-size=\"14.00\" fill=\"#000000\">value = [3, 3]</text>\n<text text-anchor=\"middle\" x=\"206.5\" y=\"-1301.8\" font-family=\"Helvetica,sans-Serif\" font-size=\"14.00\" fill=\"#000000\">class = 1</text>\n</g>\n<!-- 8&#45;&gt;9 -->\n<g id=\"edge9\" class=\"edge\">\n<title>8&#45;&gt;9</title>\n<path fill=\"none\" stroke=\"#000000\" d=\"M282.5791,-1412.8796C273.547,-1403.6931 263.8987,-1393.8798 254.6112,-1384.4336\"/>\n<polygon fill=\"#000000\" stroke=\"#000000\" points=\"257.1023,-1381.975 247.5956,-1377.2981 252.1107,-1386.8827 257.1023,-1381.975\"/>\n</g>\n<!-- 14 -->\n<g id=\"node15\" class=\"node\">\n<title>14</title>\n<polygon fill=\"none\" stroke=\"#000000\" points=\"373,-1369.5 274,-1369.5 274,-1301.5 373,-1301.5 373,-1369.5\"/>\n<text text-anchor=\"middle\" x=\"323.5\" y=\"-1354.3\" font-family=\"Helvetica,sans-Serif\" font-size=\"14.00\" fill=\"#000000\">gini = 0.0</text>\n<text text-anchor=\"middle\" x=\"323.5\" y=\"-1339.3\" font-family=\"Helvetica,sans-Serif\" font-size=\"14.00\" fill=\"#000000\">samples = 5</text>\n<text text-anchor=\"middle\" x=\"323.5\" y=\"-1324.3\" font-family=\"Helvetica,sans-Serif\" font-size=\"14.00\" fill=\"#000000\">value = [5, 0]</text>\n<text text-anchor=\"middle\" x=\"323.5\" y=\"-1309.3\" font-family=\"Helvetica,sans-Serif\" font-size=\"14.00\" fill=\"#000000\">class = 1</text>\n</g>\n<!-- 8&#45;&gt;14 -->\n<g id=\"edge14\" class=\"edge\">\n<title>8&#45;&gt;14</title>\n<path fill=\"none\" stroke=\"#000000\" d=\"M323.5,-1412.8796C323.5,-1402.2134 323.5,-1390.7021 323.5,-1379.9015\"/>\n<polygon fill=\"#000000\" stroke=\"#000000\" points=\"327.0001,-1379.8149 323.5,-1369.8149 320.0001,-1379.815 327.0001,-1379.8149\"/>\n</g>\n<!-- 10 -->\n<g id=\"node11\" class=\"node\">\n<title>10</title>\n<polygon fill=\"none\" stroke=\"#000000\" points=\"201,-1258 102,-1258 102,-1175 201,-1175 201,-1258\"/>\n<text text-anchor=\"middle\" x=\"151.5\" y=\"-1242.8\" font-family=\"Helvetica,sans-Serif\" font-size=\"14.00\" fill=\"#000000\">a5 &lt;= &#45;0.709</text>\n<text text-anchor=\"middle\" x=\"151.5\" y=\"-1227.8\" font-family=\"Helvetica,sans-Serif\" font-size=\"14.00\" fill=\"#000000\">gini = 0.375</text>\n<text text-anchor=\"middle\" x=\"151.5\" y=\"-1212.8\" font-family=\"Helvetica,sans-Serif\" font-size=\"14.00\" fill=\"#000000\">samples = 4</text>\n<text text-anchor=\"middle\" x=\"151.5\" y=\"-1197.8\" font-family=\"Helvetica,sans-Serif\" font-size=\"14.00\" fill=\"#000000\">value = [3, 1]</text>\n<text text-anchor=\"middle\" x=\"151.5\" y=\"-1182.8\" font-family=\"Helvetica,sans-Serif\" font-size=\"14.00\" fill=\"#000000\">class = 1</text>\n</g>\n<!-- 9&#45;&gt;10 -->\n<g id=\"edge10\" class=\"edge\">\n<title>9&#45;&gt;10</title>\n<path fill=\"none\" stroke=\"#000000\" d=\"M187.2637,-1293.8796C183.3092,-1285.3236 179.1034,-1276.2238 175.0175,-1267.3833\"/>\n<polygon fill=\"#000000\" stroke=\"#000000\" points=\"178.191,-1265.907 170.8184,-1258.2981 171.8368,-1268.8439 178.191,-1265.907\"/>\n</g>\n<!-- 13 -->\n<g id=\"node14\" class=\"node\">\n<title>13</title>\n<polygon fill=\"none\" stroke=\"#000000\" points=\"318,-1250.5 219,-1250.5 219,-1182.5 318,-1182.5 318,-1250.5\"/>\n<text text-anchor=\"middle\" x=\"268.5\" y=\"-1235.3\" font-family=\"Helvetica,sans-Serif\" font-size=\"14.00\" fill=\"#000000\">gini = 0.0</text>\n<text text-anchor=\"middle\" x=\"268.5\" y=\"-1220.3\" font-family=\"Helvetica,sans-Serif\" font-size=\"14.00\" fill=\"#000000\">samples = 2</text>\n<text text-anchor=\"middle\" x=\"268.5\" y=\"-1205.3\" font-family=\"Helvetica,sans-Serif\" font-size=\"14.00\" fill=\"#000000\">value = [0, 2]</text>\n<text text-anchor=\"middle\" x=\"268.5\" y=\"-1190.3\" font-family=\"Helvetica,sans-Serif\" font-size=\"14.00\" fill=\"#000000\">class = 0</text>\n</g>\n<!-- 9&#45;&gt;13 -->\n<g id=\"edge13\" class=\"edge\">\n<title>9&#45;&gt;13</title>\n<path fill=\"none\" stroke=\"#000000\" d=\"M228.1846,-1293.8796C233.9136,-1282.8835 240.1106,-1270.9893 245.8874,-1259.9015\"/>\n<polygon fill=\"#000000\" stroke=\"#000000\" points=\"249.105,-1261.3007 250.6216,-1250.8149 242.897,-1258.0662 249.105,-1261.3007\"/>\n</g>\n<!-- 11 -->\n<g id=\"node12\" class=\"node\">\n<title>11</title>\n<polygon fill=\"none\" stroke=\"#000000\" points=\"99,-1131.5 0,-1131.5 0,-1063.5 99,-1063.5 99,-1131.5\"/>\n<text text-anchor=\"middle\" x=\"49.5\" y=\"-1116.3\" font-family=\"Helvetica,sans-Serif\" font-size=\"14.00\" fill=\"#000000\">gini = 0.0</text>\n<text text-anchor=\"middle\" x=\"49.5\" y=\"-1101.3\" font-family=\"Helvetica,sans-Serif\" font-size=\"14.00\" fill=\"#000000\">samples = 1</text>\n<text text-anchor=\"middle\" x=\"49.5\" y=\"-1086.3\" font-family=\"Helvetica,sans-Serif\" font-size=\"14.00\" fill=\"#000000\">value = [0, 1]</text>\n<text text-anchor=\"middle\" x=\"49.5\" y=\"-1071.3\" font-family=\"Helvetica,sans-Serif\" font-size=\"14.00\" fill=\"#000000\">class = 0</text>\n</g>\n<!-- 10&#45;&gt;11 -->\n<g id=\"edge11\" class=\"edge\">\n<title>10&#45;&gt;11</title>\n<path fill=\"none\" stroke=\"#000000\" d=\"M115.8253,-1174.8796C106.0231,-1163.4436 95.3882,-1151.0363 85.5643,-1139.575\"/>\n<polygon fill=\"#000000\" stroke=\"#000000\" points=\"88.0782,-1137.1297 78.9128,-1131.8149 82.7633,-1141.6853 88.0782,-1137.1297\"/>\n</g>\n<!-- 12 -->\n<g id=\"node13\" class=\"node\">\n<title>12</title>\n<polygon fill=\"none\" stroke=\"#000000\" points=\"216,-1131.5 117,-1131.5 117,-1063.5 216,-1063.5 216,-1131.5\"/>\n<text text-anchor=\"middle\" x=\"166.5\" y=\"-1116.3\" font-family=\"Helvetica,sans-Serif\" font-size=\"14.00\" fill=\"#000000\">gini = 0.0</text>\n<text text-anchor=\"middle\" x=\"166.5\" y=\"-1101.3\" font-family=\"Helvetica,sans-Serif\" font-size=\"14.00\" fill=\"#000000\">samples = 3</text>\n<text text-anchor=\"middle\" x=\"166.5\" y=\"-1086.3\" font-family=\"Helvetica,sans-Serif\" font-size=\"14.00\" fill=\"#000000\">value = [3, 0]</text>\n<text text-anchor=\"middle\" x=\"166.5\" y=\"-1071.3\" font-family=\"Helvetica,sans-Serif\" font-size=\"14.00\" fill=\"#000000\">class = 1</text>\n</g>\n<!-- 10&#45;&gt;12 -->\n<g id=\"edge12\" class=\"edge\">\n<title>10&#45;&gt;12</title>\n<path fill=\"none\" stroke=\"#000000\" d=\"M156.7463,-1174.8796C158.0908,-1164.2134 159.5418,-1152.7021 160.9032,-1141.9015\"/>\n<polygon fill=\"#000000\" stroke=\"#000000\" points=\"164.3964,-1142.1742 162.1746,-1131.8149 157.4514,-1141.2987 164.3964,-1142.1742\"/>\n</g>\n<!-- 16 -->\n<g id=\"node17\" class=\"node\">\n<title>16</title>\n<polygon fill=\"none\" stroke=\"#000000\" points=\"498,-1377 391,-1377 391,-1294 498,-1294 498,-1377\"/>\n<text text-anchor=\"middle\" x=\"444.5\" y=\"-1361.8\" font-family=\"Helvetica,sans-Serif\" font-size=\"14.00\" fill=\"#000000\">a2 &lt;= &#45;1.338</text>\n<text text-anchor=\"middle\" x=\"444.5\" y=\"-1346.8\" font-family=\"Helvetica,sans-Serif\" font-size=\"14.00\" fill=\"#000000\">gini = 0.252</text>\n<text text-anchor=\"middle\" x=\"444.5\" y=\"-1331.8\" font-family=\"Helvetica,sans-Serif\" font-size=\"14.00\" fill=\"#000000\">samples = 27</text>\n<text text-anchor=\"middle\" x=\"444.5\" y=\"-1316.8\" font-family=\"Helvetica,sans-Serif\" font-size=\"14.00\" fill=\"#000000\">value = [23, 4]</text>\n<text text-anchor=\"middle\" x=\"444.5\" y=\"-1301.8\" font-family=\"Helvetica,sans-Serif\" font-size=\"14.00\" fill=\"#000000\">class = 1</text>\n</g>\n<!-- 15&#45;&gt;16 -->\n<g id=\"edge16\" class=\"edge\">\n<title>15&#45;&gt;16</title>\n<path fill=\"none\" stroke=\"#000000\" d=\"M486.1159,-1412.8796C481.5144,-1404.3236 476.6204,-1395.2238 471.8658,-1386.3833\"/>\n<polygon fill=\"#000000\" stroke=\"#000000\" points=\"474.7988,-1384.4473 466.9796,-1377.2981 468.6338,-1387.763 474.7988,-1384.4473\"/>\n</g>\n<!-- 29 -->\n<g id=\"node30\" class=\"node\">\n<title>29</title>\n<polygon fill=\"none\" stroke=\"#000000\" points=\"623,-1369.5 516,-1369.5 516,-1301.5 623,-1301.5 623,-1369.5\"/>\n<text text-anchor=\"middle\" x=\"569.5\" y=\"-1354.3\" font-family=\"Helvetica,sans-Serif\" font-size=\"14.00\" fill=\"#000000\">gini = 0.0</text>\n<text text-anchor=\"middle\" x=\"569.5\" y=\"-1339.3\" font-family=\"Helvetica,sans-Serif\" font-size=\"14.00\" fill=\"#000000\">samples = 24</text>\n<text text-anchor=\"middle\" x=\"569.5\" y=\"-1324.3\" font-family=\"Helvetica,sans-Serif\" font-size=\"14.00\" fill=\"#000000\">value = [24, 0]</text>\n<text text-anchor=\"middle\" x=\"569.5\" y=\"-1309.3\" font-family=\"Helvetica,sans-Serif\" font-size=\"14.00\" fill=\"#000000\">class = 1</text>\n</g>\n<!-- 15&#45;&gt;29 -->\n<g id=\"edge29\" class=\"edge\">\n<title>15&#45;&gt;29</title>\n<path fill=\"none\" stroke=\"#000000\" d=\"M529.8348,-1412.8796C535.4715,-1401.8835 541.5685,-1389.9893 547.2522,-1378.9015\"/>\n<polygon fill=\"#000000\" stroke=\"#000000\" points=\"550.4629,-1380.3105 551.91,-1369.8149 544.2337,-1377.1173 550.4629,-1380.3105\"/>\n</g>\n<!-- 17 -->\n<g id=\"node18\" class=\"node\">\n<title>17</title>\n<polygon fill=\"none\" stroke=\"#000000\" points=\"465,-1258 366,-1258 366,-1175 465,-1175 465,-1258\"/>\n<text text-anchor=\"middle\" x=\"415.5\" y=\"-1242.8\" font-family=\"Helvetica,sans-Serif\" font-size=\"14.00\" fill=\"#000000\">a1 &lt;= &#45;0.697</text>\n<text text-anchor=\"middle\" x=\"415.5\" y=\"-1227.8\" font-family=\"Helvetica,sans-Serif\" font-size=\"14.00\" fill=\"#000000\">gini = 0.469</text>\n<text text-anchor=\"middle\" x=\"415.5\" y=\"-1212.8\" font-family=\"Helvetica,sans-Serif\" font-size=\"14.00\" fill=\"#000000\">samples = 8</text>\n<text text-anchor=\"middle\" x=\"415.5\" y=\"-1197.8\" font-family=\"Helvetica,sans-Serif\" font-size=\"14.00\" fill=\"#000000\">value = [5, 3]</text>\n<text text-anchor=\"middle\" x=\"415.5\" y=\"-1182.8\" font-family=\"Helvetica,sans-Serif\" font-size=\"14.00\" fill=\"#000000\">class = 1</text>\n</g>\n<!-- 16&#45;&gt;17 -->\n<g id=\"edge17\" class=\"edge\">\n<title>16&#45;&gt;17</title>\n<path fill=\"none\" stroke=\"#000000\" d=\"M434.3572,-1293.8796C432.338,-1285.5938 430.1945,-1276.798 428.1044,-1268.2216\"/>\n<polygon fill=\"#000000\" stroke=\"#000000\" points=\"431.4543,-1267.185 425.6861,-1258.2981 424.6534,-1268.8425 431.4543,-1267.185\"/>\n</g>\n<!-- 24 -->\n<g id=\"node25\" class=\"node\">\n<title>24</title>\n<polygon fill=\"none\" stroke=\"#000000\" points=\"590,-1258 483,-1258 483,-1175 590,-1175 590,-1258\"/>\n<text text-anchor=\"middle\" x=\"536.5\" y=\"-1242.8\" font-family=\"Helvetica,sans-Serif\" font-size=\"14.00\" fill=\"#000000\">a1 &lt;= &#45;2.079</text>\n<text text-anchor=\"middle\" x=\"536.5\" y=\"-1227.8\" font-family=\"Helvetica,sans-Serif\" font-size=\"14.00\" fill=\"#000000\">gini = 0.1</text>\n<text text-anchor=\"middle\" x=\"536.5\" y=\"-1212.8\" font-family=\"Helvetica,sans-Serif\" font-size=\"14.00\" fill=\"#000000\">samples = 19</text>\n<text text-anchor=\"middle\" x=\"536.5\" y=\"-1197.8\" font-family=\"Helvetica,sans-Serif\" font-size=\"14.00\" fill=\"#000000\">value = [18, 1]</text>\n<text text-anchor=\"middle\" x=\"536.5\" y=\"-1182.8\" font-family=\"Helvetica,sans-Serif\" font-size=\"14.00\" fill=\"#000000\">class = 1</text>\n</g>\n<!-- 16&#45;&gt;24 -->\n<g id=\"edge24\" class=\"edge\">\n<title>16&#45;&gt;24</title>\n<path fill=\"none\" stroke=\"#000000\" d=\"M476.6771,-1293.8796C483.5704,-1284.9633 490.9202,-1275.4565 498.0239,-1266.268\"/>\n<polygon fill=\"#000000\" stroke=\"#000000\" points=\"500.8381,-1268.3502 504.1855,-1258.2981 495.3001,-1264.0687 500.8381,-1268.3502\"/>\n</g>\n<!-- 18 -->\n<g id=\"node19\" class=\"node\">\n<title>18</title>\n<polygon fill=\"none\" stroke=\"#000000\" points=\"349,-1139 250,-1139 250,-1056 349,-1056 349,-1139\"/>\n<text text-anchor=\"middle\" x=\"299.5\" y=\"-1123.8\" font-family=\"Helvetica,sans-Serif\" font-size=\"14.00\" fill=\"#000000\">a3 &lt;= &#45;0.673</text>\n<text text-anchor=\"middle\" x=\"299.5\" y=\"-1108.8\" font-family=\"Helvetica,sans-Serif\" font-size=\"14.00\" fill=\"#000000\">gini = 0.278</text>\n<text text-anchor=\"middle\" x=\"299.5\" y=\"-1093.8\" font-family=\"Helvetica,sans-Serif\" font-size=\"14.00\" fill=\"#000000\">samples = 6</text>\n<text text-anchor=\"middle\" x=\"299.5\" y=\"-1078.8\" font-family=\"Helvetica,sans-Serif\" font-size=\"14.00\" fill=\"#000000\">value = [5, 1]</text>\n<text text-anchor=\"middle\" x=\"299.5\" y=\"-1063.8\" font-family=\"Helvetica,sans-Serif\" font-size=\"14.00\" fill=\"#000000\">class = 1</text>\n</g>\n<!-- 17&#45;&gt;18 -->\n<g id=\"edge18\" class=\"edge\">\n<title>17&#45;&gt;18</title>\n<path fill=\"none\" stroke=\"#000000\" d=\"M374.9288,-1174.8796C366.0618,-1165.7832 356.5956,-1156.0722 347.4709,-1146.7116\"/>\n<polygon fill=\"#000000\" stroke=\"#000000\" points=\"349.7309,-1144.0158 340.2443,-1139.2981 344.7183,-1148.9019 349.7309,-1144.0158\"/>\n</g>\n<!-- 23 -->\n<g id=\"node24\" class=\"node\">\n<title>23</title>\n<polygon fill=\"none\" stroke=\"#000000\" points=\"466,-1131.5 367,-1131.5 367,-1063.5 466,-1063.5 466,-1131.5\"/>\n<text text-anchor=\"middle\" x=\"416.5\" y=\"-1116.3\" font-family=\"Helvetica,sans-Serif\" font-size=\"14.00\" fill=\"#000000\">gini = 0.0</text>\n<text text-anchor=\"middle\" x=\"416.5\" y=\"-1101.3\" font-family=\"Helvetica,sans-Serif\" font-size=\"14.00\" fill=\"#000000\">samples = 2</text>\n<text text-anchor=\"middle\" x=\"416.5\" y=\"-1086.3\" font-family=\"Helvetica,sans-Serif\" font-size=\"14.00\" fill=\"#000000\">value = [0, 2]</text>\n<text text-anchor=\"middle\" x=\"416.5\" y=\"-1071.3\" font-family=\"Helvetica,sans-Serif\" font-size=\"14.00\" fill=\"#000000\">class = 0</text>\n</g>\n<!-- 17&#45;&gt;23 -->\n<g id=\"edge23\" class=\"edge\">\n<title>17&#45;&gt;23</title>\n<path fill=\"none\" stroke=\"#000000\" d=\"M415.8498,-1174.8796C415.9394,-1164.2134 416.0361,-1152.7021 416.1269,-1141.9015\"/>\n<polygon fill=\"#000000\" stroke=\"#000000\" points=\"419.6274,-1141.844 416.2116,-1131.8149 412.6276,-1141.7851 419.6274,-1141.844\"/>\n</g>\n<!-- 19 -->\n<g id=\"node20\" class=\"node\">\n<title>19</title>\n<polygon fill=\"none\" stroke=\"#000000\" points=\"233,-1012.5 134,-1012.5 134,-944.5 233,-944.5 233,-1012.5\"/>\n<text text-anchor=\"middle\" x=\"183.5\" y=\"-997.3\" font-family=\"Helvetica,sans-Serif\" font-size=\"14.00\" fill=\"#000000\">gini = 0.0</text>\n<text text-anchor=\"middle\" x=\"183.5\" y=\"-982.3\" font-family=\"Helvetica,sans-Serif\" font-size=\"14.00\" fill=\"#000000\">samples = 3</text>\n<text text-anchor=\"middle\" x=\"183.5\" y=\"-967.3\" font-family=\"Helvetica,sans-Serif\" font-size=\"14.00\" fill=\"#000000\">value = [3, 0]</text>\n<text text-anchor=\"middle\" x=\"183.5\" y=\"-952.3\" font-family=\"Helvetica,sans-Serif\" font-size=\"14.00\" fill=\"#000000\">class = 1</text>\n</g>\n<!-- 18&#45;&gt;19 -->\n<g id=\"edge19\" class=\"edge\">\n<title>18&#45;&gt;19</title>\n<path fill=\"none\" stroke=\"#000000\" d=\"M258.9288,-1055.8796C247.674,-1044.3337 235.4539,-1031.7976 224.1922,-1020.2446\"/>\n<polygon fill=\"#000000\" stroke=\"#000000\" points=\"226.4364,-1017.5326 216.9499,-1012.8149 221.4238,-1022.4188 226.4364,-1017.5326\"/>\n</g>\n<!-- 20 -->\n<g id=\"node21\" class=\"node\">\n<title>20</title>\n<polygon fill=\"none\" stroke=\"#000000\" points=\"350,-1020 251,-1020 251,-937 350,-937 350,-1020\"/>\n<text text-anchor=\"middle\" x=\"300.5\" y=\"-1004.8\" font-family=\"Helvetica,sans-Serif\" font-size=\"14.00\" fill=\"#000000\">a1 &lt;= &#45;1.412</text>\n<text text-anchor=\"middle\" x=\"300.5\" y=\"-989.8\" font-family=\"Helvetica,sans-Serif\" font-size=\"14.00\" fill=\"#000000\">gini = 0.444</text>\n<text text-anchor=\"middle\" x=\"300.5\" y=\"-974.8\" font-family=\"Helvetica,sans-Serif\" font-size=\"14.00\" fill=\"#000000\">samples = 3</text>\n<text text-anchor=\"middle\" x=\"300.5\" y=\"-959.8\" font-family=\"Helvetica,sans-Serif\" font-size=\"14.00\" fill=\"#000000\">value = [2, 1]</text>\n<text text-anchor=\"middle\" x=\"300.5\" y=\"-944.8\" font-family=\"Helvetica,sans-Serif\" font-size=\"14.00\" fill=\"#000000\">class = 1</text>\n</g>\n<!-- 18&#45;&gt;20 -->\n<g id=\"edge20\" class=\"edge\">\n<title>18&#45;&gt;20</title>\n<path fill=\"none\" stroke=\"#000000\" d=\"M299.8498,-1055.8796C299.9186,-1047.6838 299.9917,-1038.9891 300.063,-1030.5013\"/>\n<polygon fill=\"#000000\" stroke=\"#000000\" points=\"303.5645,-1030.3272 300.1488,-1020.2981 296.5648,-1030.2683 303.5645,-1030.3272\"/>\n</g>\n<!-- 21 -->\n<g id=\"node22\" class=\"node\">\n<title>21</title>\n<polygon fill=\"none\" stroke=\"#000000\" points=\"292,-893.5 193,-893.5 193,-825.5 292,-825.5 292,-893.5\"/>\n<text text-anchor=\"middle\" x=\"242.5\" y=\"-878.3\" font-family=\"Helvetica,sans-Serif\" font-size=\"14.00\" fill=\"#000000\">gini = 0.0</text>\n<text text-anchor=\"middle\" x=\"242.5\" y=\"-863.3\" font-family=\"Helvetica,sans-Serif\" font-size=\"14.00\" fill=\"#000000\">samples = 2</text>\n<text text-anchor=\"middle\" x=\"242.5\" y=\"-848.3\" font-family=\"Helvetica,sans-Serif\" font-size=\"14.00\" fill=\"#000000\">value = [2, 0]</text>\n<text text-anchor=\"middle\" x=\"242.5\" y=\"-833.3\" font-family=\"Helvetica,sans-Serif\" font-size=\"14.00\" fill=\"#000000\">class = 1</text>\n</g>\n<!-- 20&#45;&gt;21 -->\n<g id=\"edge21\" class=\"edge\">\n<title>20&#45;&gt;21</title>\n<path fill=\"none\" stroke=\"#000000\" d=\"M280.2144,-936.8796C274.855,-925.8835 269.0578,-913.9893 263.6537,-902.9015\"/>\n<polygon fill=\"#000000\" stroke=\"#000000\" points=\"266.7524,-901.2706 259.2249,-893.8149 260.46,-904.3375 266.7524,-901.2706\"/>\n</g>\n<!-- 22 -->\n<g id=\"node23\" class=\"node\">\n<title>22</title>\n<polygon fill=\"none\" stroke=\"#000000\" points=\"409,-893.5 310,-893.5 310,-825.5 409,-825.5 409,-893.5\"/>\n<text text-anchor=\"middle\" x=\"359.5\" y=\"-878.3\" font-family=\"Helvetica,sans-Serif\" font-size=\"14.00\" fill=\"#000000\">gini = 0.0</text>\n<text text-anchor=\"middle\" x=\"359.5\" y=\"-863.3\" font-family=\"Helvetica,sans-Serif\" font-size=\"14.00\" fill=\"#000000\">samples = 1</text>\n<text text-anchor=\"middle\" x=\"359.5\" y=\"-848.3\" font-family=\"Helvetica,sans-Serif\" font-size=\"14.00\" fill=\"#000000\">value = [0, 1]</text>\n<text text-anchor=\"middle\" x=\"359.5\" y=\"-833.3\" font-family=\"Helvetica,sans-Serif\" font-size=\"14.00\" fill=\"#000000\">class = 0</text>\n</g>\n<!-- 20&#45;&gt;22 -->\n<g id=\"edge22\" class=\"edge\">\n<title>20&#45;&gt;22</title>\n<path fill=\"none\" stroke=\"#000000\" d=\"M321.1353,-936.8796C326.5872,-925.8835 332.4843,-913.9893 337.9816,-902.9015\"/>\n<polygon fill=\"#000000\" stroke=\"#000000\" points=\"341.1804,-904.3289 342.4867,-893.8149 334.9089,-901.2195 341.1804,-904.3289\"/>\n</g>\n<!-- 25 -->\n<g id=\"node26\" class=\"node\">\n<title>25</title>\n<polygon fill=\"none\" stroke=\"#000000\" points=\"585,-1139 486,-1139 486,-1056 585,-1056 585,-1139\"/>\n<text text-anchor=\"middle\" x=\"535.5\" y=\"-1123.8\" font-family=\"Helvetica,sans-Serif\" font-size=\"14.00\" fill=\"#000000\">a1 &lt;= &#45;2.222</text>\n<text text-anchor=\"middle\" x=\"535.5\" y=\"-1108.8\" font-family=\"Helvetica,sans-Serif\" font-size=\"14.00\" fill=\"#000000\">gini = 0.444</text>\n<text text-anchor=\"middle\" x=\"535.5\" y=\"-1093.8\" font-family=\"Helvetica,sans-Serif\" font-size=\"14.00\" fill=\"#000000\">samples = 3</text>\n<text text-anchor=\"middle\" x=\"535.5\" y=\"-1078.8\" font-family=\"Helvetica,sans-Serif\" font-size=\"14.00\" fill=\"#000000\">value = [2, 1]</text>\n<text text-anchor=\"middle\" x=\"535.5\" y=\"-1063.8\" font-family=\"Helvetica,sans-Serif\" font-size=\"14.00\" fill=\"#000000\">class = 1</text>\n</g>\n<!-- 24&#45;&gt;25 -->\n<g id=\"edge25\" class=\"edge\">\n<title>24&#45;&gt;25</title>\n<path fill=\"none\" stroke=\"#000000\" d=\"M536.1502,-1174.8796C536.0814,-1166.6838 536.0083,-1157.9891 535.937,-1149.5013\"/>\n<polygon fill=\"#000000\" stroke=\"#000000\" points=\"539.4352,-1149.2683 535.8512,-1139.2981 532.4355,-1149.3272 539.4352,-1149.2683\"/>\n</g>\n<!-- 28 -->\n<g id=\"node29\" class=\"node\">\n<title>28</title>\n<polygon fill=\"none\" stroke=\"#000000\" points=\"710,-1131.5 603,-1131.5 603,-1063.5 710,-1063.5 710,-1131.5\"/>\n<text text-anchor=\"middle\" x=\"656.5\" y=\"-1116.3\" font-family=\"Helvetica,sans-Serif\" font-size=\"14.00\" fill=\"#000000\">gini = 0.0</text>\n<text text-anchor=\"middle\" x=\"656.5\" y=\"-1101.3\" font-family=\"Helvetica,sans-Serif\" font-size=\"14.00\" fill=\"#000000\">samples = 16</text>\n<text text-anchor=\"middle\" x=\"656.5\" y=\"-1086.3\" font-family=\"Helvetica,sans-Serif\" font-size=\"14.00\" fill=\"#000000\">value = [16, 0]</text>\n<text text-anchor=\"middle\" x=\"656.5\" y=\"-1071.3\" font-family=\"Helvetica,sans-Serif\" font-size=\"14.00\" fill=\"#000000\">class = 1</text>\n</g>\n<!-- 24&#45;&gt;28 -->\n<g id=\"edge28\" class=\"edge\">\n<title>24&#45;&gt;28</title>\n<path fill=\"none\" stroke=\"#000000\" d=\"M578.4702,-1174.8796C590.224,-1163.2237 602.9954,-1150.5587 614.7372,-1138.9148\"/>\n<polygon fill=\"#000000\" stroke=\"#000000\" points=\"617.2606,-1141.3416 621.8967,-1131.8149 612.3316,-1136.3712 617.2606,-1141.3416\"/>\n</g>\n<!-- 26 -->\n<g id=\"node27\" class=\"node\">\n<title>26</title>\n<polygon fill=\"none\" stroke=\"#000000\" points=\"526,-1012.5 427,-1012.5 427,-944.5 526,-944.5 526,-1012.5\"/>\n<text text-anchor=\"middle\" x=\"476.5\" y=\"-997.3\" font-family=\"Helvetica,sans-Serif\" font-size=\"14.00\" fill=\"#000000\">gini = 0.0</text>\n<text text-anchor=\"middle\" x=\"476.5\" y=\"-982.3\" font-family=\"Helvetica,sans-Serif\" font-size=\"14.00\" fill=\"#000000\">samples = 2</text>\n<text text-anchor=\"middle\" x=\"476.5\" y=\"-967.3\" font-family=\"Helvetica,sans-Serif\" font-size=\"14.00\" fill=\"#000000\">value = [2, 0]</text>\n<text text-anchor=\"middle\" x=\"476.5\" y=\"-952.3\" font-family=\"Helvetica,sans-Serif\" font-size=\"14.00\" fill=\"#000000\">class = 1</text>\n</g>\n<!-- 25&#45;&gt;26 -->\n<g id=\"edge26\" class=\"edge\">\n<title>25&#45;&gt;26</title>\n<path fill=\"none\" stroke=\"#000000\" d=\"M514.8647,-1055.8796C509.4128,-1044.8835 503.5157,-1032.9893 498.0184,-1021.9015\"/>\n<polygon fill=\"#000000\" stroke=\"#000000\" points=\"501.0911,-1020.2195 493.5133,-1012.8149 494.8196,-1023.3289 501.0911,-1020.2195\"/>\n</g>\n<!-- 27 -->\n<g id=\"node28\" class=\"node\">\n<title>27</title>\n<polygon fill=\"none\" stroke=\"#000000\" points=\"643,-1012.5 544,-1012.5 544,-944.5 643,-944.5 643,-1012.5\"/>\n<text text-anchor=\"middle\" x=\"593.5\" y=\"-997.3\" font-family=\"Helvetica,sans-Serif\" font-size=\"14.00\" fill=\"#000000\">gini = 0.0</text>\n<text text-anchor=\"middle\" x=\"593.5\" y=\"-982.3\" font-family=\"Helvetica,sans-Serif\" font-size=\"14.00\" fill=\"#000000\">samples = 1</text>\n<text text-anchor=\"middle\" x=\"593.5\" y=\"-967.3\" font-family=\"Helvetica,sans-Serif\" font-size=\"14.00\" fill=\"#000000\">value = [0, 1]</text>\n<text text-anchor=\"middle\" x=\"593.5\" y=\"-952.3\" font-family=\"Helvetica,sans-Serif\" font-size=\"14.00\" fill=\"#000000\">class = 0</text>\n</g>\n<!-- 25&#45;&gt;27 -->\n<g id=\"edge27\" class=\"edge\">\n<title>25&#45;&gt;27</title>\n<path fill=\"none\" stroke=\"#000000\" d=\"M555.7856,-1055.8796C561.145,-1044.8835 566.9422,-1032.9893 572.3463,-1021.9015\"/>\n<polygon fill=\"#000000\" stroke=\"#000000\" points=\"575.54,-1023.3375 576.7751,-1012.8149 569.2476,-1020.2706 575.54,-1023.3375\"/>\n</g>\n<!-- 31 -->\n<g id=\"node32\" class=\"node\">\n<title>31</title>\n<polygon fill=\"none\" stroke=\"#000000\" points=\"867,-1496 760,-1496 760,-1413 867,-1413 867,-1496\"/>\n<text text-anchor=\"middle\" x=\"813.5\" y=\"-1480.8\" font-family=\"Helvetica,sans-Serif\" font-size=\"14.00\" fill=\"#000000\">a3 &lt;= &#45;0.673</text>\n<text text-anchor=\"middle\" x=\"813.5\" y=\"-1465.8\" font-family=\"Helvetica,sans-Serif\" font-size=\"14.00\" fill=\"#000000\">gini = 0.153</text>\n<text text-anchor=\"middle\" x=\"813.5\" y=\"-1450.8\" font-family=\"Helvetica,sans-Serif\" font-size=\"14.00\" fill=\"#000000\">samples = 12</text>\n<text text-anchor=\"middle\" x=\"813.5\" y=\"-1435.8\" font-family=\"Helvetica,sans-Serif\" font-size=\"14.00\" fill=\"#000000\">value = [11, 1]</text>\n<text text-anchor=\"middle\" x=\"813.5\" y=\"-1420.8\" font-family=\"Helvetica,sans-Serif\" font-size=\"14.00\" fill=\"#000000\">class = 1</text>\n</g>\n<!-- 30&#45;&gt;31 -->\n<g id=\"edge31\" class=\"edge\">\n<title>30&#45;&gt;31</title>\n<path fill=\"none\" stroke=\"#000000\" d=\"M853.1652,-1531.8796C848.7793,-1523.3236 844.1147,-1514.2238 839.583,-1505.3833\"/>\n<polygon fill=\"#000000\" stroke=\"#000000\" points=\"842.6022,-1503.6004 834.9259,-1496.2981 836.373,-1506.7936 842.6022,-1503.6004\"/>\n</g>\n<!-- 34 -->\n<g id=\"node35\" class=\"node\">\n<title>34</title>\n<polygon fill=\"none\" stroke=\"#000000\" points=\"984,-1496 885,-1496 885,-1413 984,-1413 984,-1496\"/>\n<text text-anchor=\"middle\" x=\"934.5\" y=\"-1480.8\" font-family=\"Helvetica,sans-Serif\" font-size=\"14.00\" fill=\"#000000\">a3 &lt;= &#45;1.852</text>\n<text text-anchor=\"middle\" x=\"934.5\" y=\"-1465.8\" font-family=\"Helvetica,sans-Serif\" font-size=\"14.00\" fill=\"#000000\">gini = 0.49</text>\n<text text-anchor=\"middle\" x=\"934.5\" y=\"-1450.8\" font-family=\"Helvetica,sans-Serif\" font-size=\"14.00\" fill=\"#000000\">samples = 7</text>\n<text text-anchor=\"middle\" x=\"934.5\" y=\"-1435.8\" font-family=\"Helvetica,sans-Serif\" font-size=\"14.00\" fill=\"#000000\">value = [3, 4]</text>\n<text text-anchor=\"middle\" x=\"934.5\" y=\"-1420.8\" font-family=\"Helvetica,sans-Serif\" font-size=\"14.00\" fill=\"#000000\">class = 0</text>\n</g>\n<!-- 30&#45;&gt;34 -->\n<g id=\"edge34\" class=\"edge\">\n<title>30&#45;&gt;34</title>\n<path fill=\"none\" stroke=\"#000000\" d=\"M895.4851,-1531.8796C899.799,-1523.3236 904.3872,-1514.2238 908.8446,-1505.3833\"/>\n<polygon fill=\"#000000\" stroke=\"#000000\" points=\"912.0484,-1506.8031 913.4253,-1496.2981 905.7979,-1503.6515 912.0484,-1506.8031\"/>\n</g>\n<!-- 32 -->\n<g id=\"node33\" class=\"node\">\n<title>32</title>\n<polygon fill=\"none\" stroke=\"#000000\" points=\"748,-1369.5 641,-1369.5 641,-1301.5 748,-1301.5 748,-1369.5\"/>\n<text text-anchor=\"middle\" x=\"694.5\" y=\"-1354.3\" font-family=\"Helvetica,sans-Serif\" font-size=\"14.00\" fill=\"#000000\">gini = 0.0</text>\n<text text-anchor=\"middle\" x=\"694.5\" y=\"-1339.3\" font-family=\"Helvetica,sans-Serif\" font-size=\"14.00\" fill=\"#000000\">samples = 11</text>\n<text text-anchor=\"middle\" x=\"694.5\" y=\"-1324.3\" font-family=\"Helvetica,sans-Serif\" font-size=\"14.00\" fill=\"#000000\">value = [11, 0]</text>\n<text text-anchor=\"middle\" x=\"694.5\" y=\"-1309.3\" font-family=\"Helvetica,sans-Serif\" font-size=\"14.00\" fill=\"#000000\">class = 1</text>\n</g>\n<!-- 31&#45;&gt;32 -->\n<g id=\"edge32\" class=\"edge\">\n<title>31&#45;&gt;32</title>\n<path fill=\"none\" stroke=\"#000000\" d=\"M771.8796,-1412.8796C760.2237,-1401.2237 747.5587,-1388.5587 735.9148,-1376.9148\"/>\n<polygon fill=\"#000000\" stroke=\"#000000\" points=\"738.3609,-1374.4111 728.8149,-1369.8149 733.4111,-1379.3609 738.3609,-1374.4111\"/>\n</g>\n<!-- 33 -->\n<g id=\"node34\" class=\"node\">\n<title>33</title>\n<polygon fill=\"none\" stroke=\"#000000\" points=\"865,-1369.5 766,-1369.5 766,-1301.5 865,-1301.5 865,-1369.5\"/>\n<text text-anchor=\"middle\" x=\"815.5\" y=\"-1354.3\" font-family=\"Helvetica,sans-Serif\" font-size=\"14.00\" fill=\"#000000\">gini = 0.0</text>\n<text text-anchor=\"middle\" x=\"815.5\" y=\"-1339.3\" font-family=\"Helvetica,sans-Serif\" font-size=\"14.00\" fill=\"#000000\">samples = 1</text>\n<text text-anchor=\"middle\" x=\"815.5\" y=\"-1324.3\" font-family=\"Helvetica,sans-Serif\" font-size=\"14.00\" fill=\"#000000\">value = [0, 1]</text>\n<text text-anchor=\"middle\" x=\"815.5\" y=\"-1309.3\" font-family=\"Helvetica,sans-Serif\" font-size=\"14.00\" fill=\"#000000\">class = 0</text>\n</g>\n<!-- 31&#45;&gt;33 -->\n<g id=\"edge33\" class=\"edge\">\n<title>31&#45;&gt;33</title>\n<path fill=\"none\" stroke=\"#000000\" d=\"M814.1995,-1412.8796C814.3788,-1402.2134 814.5722,-1390.7021 814.7538,-1379.9015\"/>\n<polygon fill=\"#000000\" stroke=\"#000000\" points=\"818.2546,-1379.8724 814.9233,-1369.8149 811.2556,-1379.7547 818.2546,-1379.8724\"/>\n</g>\n<!-- 35 -->\n<g id=\"node36\" class=\"node\">\n<title>35</title>\n<polygon fill=\"none\" stroke=\"#000000\" points=\"982,-1369.5 883,-1369.5 883,-1301.5 982,-1301.5 982,-1369.5\"/>\n<text text-anchor=\"middle\" x=\"932.5\" y=\"-1354.3\" font-family=\"Helvetica,sans-Serif\" font-size=\"14.00\" fill=\"#000000\">gini = 0.0</text>\n<text text-anchor=\"middle\" x=\"932.5\" y=\"-1339.3\" font-family=\"Helvetica,sans-Serif\" font-size=\"14.00\" fill=\"#000000\">samples = 2</text>\n<text text-anchor=\"middle\" x=\"932.5\" y=\"-1324.3\" font-family=\"Helvetica,sans-Serif\" font-size=\"14.00\" fill=\"#000000\">value = [2, 0]</text>\n<text text-anchor=\"middle\" x=\"932.5\" y=\"-1309.3\" font-family=\"Helvetica,sans-Serif\" font-size=\"14.00\" fill=\"#000000\">class = 1</text>\n</g>\n<!-- 34&#45;&gt;35 -->\n<g id=\"edge35\" class=\"edge\">\n<title>34&#45;&gt;35</title>\n<path fill=\"none\" stroke=\"#000000\" d=\"M933.8005,-1412.8796C933.6212,-1402.2134 933.4278,-1390.7021 933.2462,-1379.9015\"/>\n<polygon fill=\"#000000\" stroke=\"#000000\" points=\"936.7444,-1379.7547 933.0767,-1369.8149 929.7454,-1379.8724 936.7444,-1379.7547\"/>\n</g>\n<!-- 36 -->\n<g id=\"node37\" class=\"node\">\n<title>36</title>\n<polygon fill=\"none\" stroke=\"#000000\" points=\"1099,-1377 1000,-1377 1000,-1294 1099,-1294 1099,-1377\"/>\n<text text-anchor=\"middle\" x=\"1049.5\" y=\"-1361.8\" font-family=\"Helvetica,sans-Serif\" font-size=\"14.00\" fill=\"#000000\">a3 &lt;= &#45;0.673</text>\n<text text-anchor=\"middle\" x=\"1049.5\" y=\"-1346.8\" font-family=\"Helvetica,sans-Serif\" font-size=\"14.00\" fill=\"#000000\">gini = 0.32</text>\n<text text-anchor=\"middle\" x=\"1049.5\" y=\"-1331.8\" font-family=\"Helvetica,sans-Serif\" font-size=\"14.00\" fill=\"#000000\">samples = 5</text>\n<text text-anchor=\"middle\" x=\"1049.5\" y=\"-1316.8\" font-family=\"Helvetica,sans-Serif\" font-size=\"14.00\" fill=\"#000000\">value = [1, 4]</text>\n<text text-anchor=\"middle\" x=\"1049.5\" y=\"-1301.8\" font-family=\"Helvetica,sans-Serif\" font-size=\"14.00\" fill=\"#000000\">class = 0</text>\n</g>\n<!-- 34&#45;&gt;36 -->\n<g id=\"edge36\" class=\"edge\">\n<title>34&#45;&gt;36</title>\n<path fill=\"none\" stroke=\"#000000\" d=\"M974.7214,-1412.8796C983.512,-1403.7832 992.8966,-1394.0722 1001.9426,-1384.7116\"/>\n<polygon fill=\"#000000\" stroke=\"#000000\" points=\"1004.6745,-1386.9212 1009.1069,-1377.2981 999.6409,-1382.0568 1004.6745,-1386.9212\"/>\n</g>\n<!-- 37 -->\n<g id=\"node38\" class=\"node\">\n<title>37</title>\n<polygon fill=\"none\" stroke=\"#000000\" points=\"1040,-1250.5 941,-1250.5 941,-1182.5 1040,-1182.5 1040,-1250.5\"/>\n<text text-anchor=\"middle\" x=\"990.5\" y=\"-1235.3\" font-family=\"Helvetica,sans-Serif\" font-size=\"14.00\" fill=\"#000000\">gini = 0.0</text>\n<text text-anchor=\"middle\" x=\"990.5\" y=\"-1220.3\" font-family=\"Helvetica,sans-Serif\" font-size=\"14.00\" fill=\"#000000\">samples = 4</text>\n<text text-anchor=\"middle\" x=\"990.5\" y=\"-1205.3\" font-family=\"Helvetica,sans-Serif\" font-size=\"14.00\" fill=\"#000000\">value = [0, 4]</text>\n<text text-anchor=\"middle\" x=\"990.5\" y=\"-1190.3\" font-family=\"Helvetica,sans-Serif\" font-size=\"14.00\" fill=\"#000000\">class = 0</text>\n</g>\n<!-- 36&#45;&gt;37 -->\n<g id=\"edge37\" class=\"edge\">\n<title>36&#45;&gt;37</title>\n<path fill=\"none\" stroke=\"#000000\" d=\"M1028.8647,-1293.8796C1023.4128,-1282.8835 1017.5157,-1270.9893 1012.0184,-1259.9015\"/>\n<polygon fill=\"#000000\" stroke=\"#000000\" points=\"1015.0911,-1258.2195 1007.5133,-1250.8149 1008.8196,-1261.3289 1015.0911,-1258.2195\"/>\n</g>\n<!-- 38 -->\n<g id=\"node39\" class=\"node\">\n<title>38</title>\n<polygon fill=\"none\" stroke=\"#000000\" points=\"1157,-1250.5 1058,-1250.5 1058,-1182.5 1157,-1182.5 1157,-1250.5\"/>\n<text text-anchor=\"middle\" x=\"1107.5\" y=\"-1235.3\" font-family=\"Helvetica,sans-Serif\" font-size=\"14.00\" fill=\"#000000\">gini = 0.0</text>\n<text text-anchor=\"middle\" x=\"1107.5\" y=\"-1220.3\" font-family=\"Helvetica,sans-Serif\" font-size=\"14.00\" fill=\"#000000\">samples = 1</text>\n<text text-anchor=\"middle\" x=\"1107.5\" y=\"-1205.3\" font-family=\"Helvetica,sans-Serif\" font-size=\"14.00\" fill=\"#000000\">value = [1, 0]</text>\n<text text-anchor=\"middle\" x=\"1107.5\" y=\"-1190.3\" font-family=\"Helvetica,sans-Serif\" font-size=\"14.00\" fill=\"#000000\">class = 1</text>\n</g>\n<!-- 36&#45;&gt;38 -->\n<g id=\"edge38\" class=\"edge\">\n<title>36&#45;&gt;38</title>\n<path fill=\"none\" stroke=\"#000000\" d=\"M1069.7856,-1293.8796C1075.145,-1282.8835 1080.9422,-1270.9893 1086.3463,-1259.9015\"/>\n<polygon fill=\"#000000\" stroke=\"#000000\" points=\"1089.54,-1261.3375 1090.7751,-1250.8149 1083.2476,-1258.2706 1089.54,-1261.3375\"/>\n</g>\n<!-- 40 -->\n<g id=\"node41\" class=\"node\">\n<title>40</title>\n<polygon fill=\"none\" stroke=\"#000000\" points=\"1457,-1853 1350,-1853 1350,-1770 1457,-1770 1457,-1853\"/>\n<text text-anchor=\"middle\" x=\"1403.5\" y=\"-1837.8\" font-family=\"Helvetica,sans-Serif\" font-size=\"14.00\" fill=\"#000000\">a5 &lt;= 1.053</text>\n<text text-anchor=\"middle\" x=\"1403.5\" y=\"-1822.8\" font-family=\"Helvetica,sans-Serif\" font-size=\"14.00\" fill=\"#000000\">gini = 0.177</text>\n<text text-anchor=\"middle\" x=\"1403.5\" y=\"-1807.8\" font-family=\"Helvetica,sans-Serif\" font-size=\"14.00\" fill=\"#000000\">samples = 51</text>\n<text text-anchor=\"middle\" x=\"1403.5\" y=\"-1792.8\" font-family=\"Helvetica,sans-Serif\" font-size=\"14.00\" fill=\"#000000\">value = [46, 5]</text>\n<text text-anchor=\"middle\" x=\"1403.5\" y=\"-1777.8\" font-family=\"Helvetica,sans-Serif\" font-size=\"14.00\" fill=\"#000000\">class = 1</text>\n</g>\n<!-- 39&#45;&gt;40 -->\n<g id=\"edge40\" class=\"edge\">\n<title>39&#45;&gt;40</title>\n<path fill=\"none\" stroke=\"#000000\" d=\"M1443.8154,-1888.8796C1439.3577,-1880.3236 1434.6166,-1871.2238 1430.0106,-1862.3833\"/>\n<polygon fill=\"#000000\" stroke=\"#000000\" points=\"1433.0017,-1860.5494 1425.2771,-1853.2981 1426.7938,-1863.7838 1433.0017,-1860.5494\"/>\n</g>\n<!-- 53 -->\n<g id=\"node54\" class=\"node\">\n<title>53</title>\n<polygon fill=\"none\" stroke=\"#000000\" points=\"1582,-1845.5 1475,-1845.5 1475,-1777.5 1582,-1777.5 1582,-1845.5\"/>\n<text text-anchor=\"middle\" x=\"1528.5\" y=\"-1830.3\" font-family=\"Helvetica,sans-Serif\" font-size=\"14.00\" fill=\"#000000\">gini = 0.0</text>\n<text text-anchor=\"middle\" x=\"1528.5\" y=\"-1815.3\" font-family=\"Helvetica,sans-Serif\" font-size=\"14.00\" fill=\"#000000\">samples = 60</text>\n<text text-anchor=\"middle\" x=\"1528.5\" y=\"-1800.3\" font-family=\"Helvetica,sans-Serif\" font-size=\"14.00\" fill=\"#000000\">value = [60, 0]</text>\n<text text-anchor=\"middle\" x=\"1528.5\" y=\"-1785.3\" font-family=\"Helvetica,sans-Serif\" font-size=\"14.00\" fill=\"#000000\">class = 1</text>\n</g>\n<!-- 39&#45;&gt;53 -->\n<g id=\"edge53\" class=\"edge\">\n<title>39&#45;&gt;53</title>\n<path fill=\"none\" stroke=\"#000000\" d=\"M1487.5343,-1888.8796C1493.3558,-1877.8835 1499.6527,-1865.9893 1505.5227,-1854.9015\"/>\n<polygon fill=\"#000000\" stroke=\"#000000\" points=\"1508.7476,-1856.2905 1510.3333,-1845.8149 1502.5611,-1853.0152 1508.7476,-1856.2905\"/>\n</g>\n<!-- 41 -->\n<g id=\"node42\" class=\"node\">\n<title>41</title>\n<polygon fill=\"none\" stroke=\"#000000\" points=\"1395,-1734 1288,-1734 1288,-1651 1395,-1651 1395,-1734\"/>\n<text text-anchor=\"middle\" x=\"1341.5\" y=\"-1718.8\" font-family=\"Helvetica,sans-Serif\" font-size=\"14.00\" fill=\"#000000\">a5 &lt;= &#45;1.59</text>\n<text text-anchor=\"middle\" x=\"1341.5\" y=\"-1703.8\" font-family=\"Helvetica,sans-Serif\" font-size=\"14.00\" fill=\"#000000\">gini = 0.095</text>\n<text text-anchor=\"middle\" x=\"1341.5\" y=\"-1688.8\" font-family=\"Helvetica,sans-Serif\" font-size=\"14.00\" fill=\"#000000\">samples = 40</text>\n<text text-anchor=\"middle\" x=\"1341.5\" y=\"-1673.8\" font-family=\"Helvetica,sans-Serif\" font-size=\"14.00\" fill=\"#000000\">value = [38, 2]</text>\n<text text-anchor=\"middle\" x=\"1341.5\" y=\"-1658.8\" font-family=\"Helvetica,sans-Serif\" font-size=\"14.00\" fill=\"#000000\">class = 1</text>\n</g>\n<!-- 40&#45;&gt;41 -->\n<g id=\"edge41\" class=\"edge\">\n<title>40&#45;&gt;41</title>\n<path fill=\"none\" stroke=\"#000000\" d=\"M1381.8154,-1769.8796C1377.3577,-1761.3236 1372.6166,-1752.2238 1368.0106,-1743.3833\"/>\n<polygon fill=\"#000000\" stroke=\"#000000\" points=\"1371.0017,-1741.5494 1363.2771,-1734.2981 1364.7938,-1744.7838 1371.0017,-1741.5494\"/>\n</g>\n<!-- 48 -->\n<g id=\"node49\" class=\"node\">\n<title>48</title>\n<polygon fill=\"none\" stroke=\"#000000\" points=\"1517.5,-1734 1413.5,-1734 1413.5,-1651 1517.5,-1651 1517.5,-1734\"/>\n<text text-anchor=\"middle\" x=\"1465.5\" y=\"-1718.8\" font-family=\"Helvetica,sans-Serif\" font-size=\"14.00\" fill=\"#000000\">a5 &lt;= 1.494</text>\n<text text-anchor=\"middle\" x=\"1465.5\" y=\"-1703.8\" font-family=\"Helvetica,sans-Serif\" font-size=\"14.00\" fill=\"#000000\">gini = 0.397</text>\n<text text-anchor=\"middle\" x=\"1465.5\" y=\"-1688.8\" font-family=\"Helvetica,sans-Serif\" font-size=\"14.00\" fill=\"#000000\">samples = 11</text>\n<text text-anchor=\"middle\" x=\"1465.5\" y=\"-1673.8\" font-family=\"Helvetica,sans-Serif\" font-size=\"14.00\" fill=\"#000000\">value = [8, 3]</text>\n<text text-anchor=\"middle\" x=\"1465.5\" y=\"-1658.8\" font-family=\"Helvetica,sans-Serif\" font-size=\"14.00\" fill=\"#000000\">class = 1</text>\n</g>\n<!-- 40&#45;&gt;48 -->\n<g id=\"edge48\" class=\"edge\">\n<title>40&#45;&gt;48</title>\n<path fill=\"none\" stroke=\"#000000\" d=\"M1425.1846,-1769.8796C1429.6423,-1761.3236 1434.3834,-1752.2238 1438.9894,-1743.3833\"/>\n<polygon fill=\"#000000\" stroke=\"#000000\" points=\"1442.2062,-1744.7838 1443.7229,-1734.2981 1435.9983,-1741.5494 1442.2062,-1744.7838\"/>\n</g>\n<!-- 42 -->\n<g id=\"node43\" class=\"node\">\n<title>42</title>\n<polygon fill=\"none\" stroke=\"#000000\" points=\"1270.5,-1615 1166.5,-1615 1166.5,-1532 1270.5,-1532 1270.5,-1615\"/>\n<text text-anchor=\"middle\" x=\"1218.5\" y=\"-1599.8\" font-family=\"Helvetica,sans-Serif\" font-size=\"14.00\" fill=\"#000000\">a1 &lt;= &#45;0.745</text>\n<text text-anchor=\"middle\" x=\"1218.5\" y=\"-1584.8\" font-family=\"Helvetica,sans-Serif\" font-size=\"14.00\" fill=\"#000000\">gini = 0.32</text>\n<text text-anchor=\"middle\" x=\"1218.5\" y=\"-1569.8\" font-family=\"Helvetica,sans-Serif\" font-size=\"14.00\" fill=\"#000000\">samples = 10</text>\n<text text-anchor=\"middle\" x=\"1218.5\" y=\"-1554.8\" font-family=\"Helvetica,sans-Serif\" font-size=\"14.00\" fill=\"#000000\">value = [8, 2]</text>\n<text text-anchor=\"middle\" x=\"1218.5\" y=\"-1539.8\" font-family=\"Helvetica,sans-Serif\" font-size=\"14.00\" fill=\"#000000\">class = 1</text>\n</g>\n<!-- 41&#45;&gt;42 -->\n<g id=\"edge42\" class=\"edge\">\n<title>41&#45;&gt;42</title>\n<path fill=\"none\" stroke=\"#000000\" d=\"M1298.4806,-1650.8796C1288.9853,-1641.6931 1278.8422,-1631.8798 1269.0785,-1622.4336\"/>\n<polygon fill=\"#000000\" stroke=\"#000000\" points=\"1271.3237,-1619.7359 1261.703,-1615.2981 1266.4564,-1624.7668 1271.3237,-1619.7359\"/>\n</g>\n<!-- 47 -->\n<g id=\"node48\" class=\"node\">\n<title>47</title>\n<polygon fill=\"none\" stroke=\"#000000\" points=\"1396,-1607.5 1289,-1607.5 1289,-1539.5 1396,-1539.5 1396,-1607.5\"/>\n<text text-anchor=\"middle\" x=\"1342.5\" y=\"-1592.3\" font-family=\"Helvetica,sans-Serif\" font-size=\"14.00\" fill=\"#000000\">gini = 0.0</text>\n<text text-anchor=\"middle\" x=\"1342.5\" y=\"-1577.3\" font-family=\"Helvetica,sans-Serif\" font-size=\"14.00\" fill=\"#000000\">samples = 30</text>\n<text text-anchor=\"middle\" x=\"1342.5\" y=\"-1562.3\" font-family=\"Helvetica,sans-Serif\" font-size=\"14.00\" fill=\"#000000\">value = [30, 0]</text>\n<text text-anchor=\"middle\" x=\"1342.5\" y=\"-1547.3\" font-family=\"Helvetica,sans-Serif\" font-size=\"14.00\" fill=\"#000000\">class = 1</text>\n</g>\n<!-- 41&#45;&gt;47 -->\n<g id=\"edge47\" class=\"edge\">\n<title>41&#45;&gt;47</title>\n<path fill=\"none\" stroke=\"#000000\" d=\"M1341.8498,-1650.8796C1341.9394,-1640.2134 1342.0361,-1628.7021 1342.1269,-1617.9015\"/>\n<polygon fill=\"#000000\" stroke=\"#000000\" points=\"1345.6274,-1617.844 1342.2116,-1607.8149 1338.6276,-1617.7851 1345.6274,-1617.844\"/>\n</g>\n<!-- 43 -->\n<g id=\"node44\" class=\"node\">\n<title>43</title>\n<polygon fill=\"none\" stroke=\"#000000\" points=\"1216,-1496 1117,-1496 1117,-1413 1216,-1413 1216,-1496\"/>\n<text text-anchor=\"middle\" x=\"1166.5\" y=\"-1480.8\" font-family=\"Helvetica,sans-Serif\" font-size=\"14.00\" fill=\"#000000\">a2 &lt;= 0.404</text>\n<text text-anchor=\"middle\" x=\"1166.5\" y=\"-1465.8\" font-family=\"Helvetica,sans-Serif\" font-size=\"14.00\" fill=\"#000000\">gini = 0.444</text>\n<text text-anchor=\"middle\" x=\"1166.5\" y=\"-1450.8\" font-family=\"Helvetica,sans-Serif\" font-size=\"14.00\" fill=\"#000000\">samples = 3</text>\n<text text-anchor=\"middle\" x=\"1166.5\" y=\"-1435.8\" font-family=\"Helvetica,sans-Serif\" font-size=\"14.00\" fill=\"#000000\">value = [1, 2]</text>\n<text text-anchor=\"middle\" x=\"1166.5\" y=\"-1420.8\" font-family=\"Helvetica,sans-Serif\" font-size=\"14.00\" fill=\"#000000\">class = 0</text>\n</g>\n<!-- 42&#45;&gt;43 -->\n<g id=\"edge43\" class=\"edge\">\n<title>42&#45;&gt;43</title>\n<path fill=\"none\" stroke=\"#000000\" d=\"M1200.3129,-1531.8796C1196.6135,-1523.4136 1192.6815,-1514.4153 1188.8567,-1505.6626\"/>\n<polygon fill=\"#000000\" stroke=\"#000000\" points=\"1191.9761,-1504.0599 1184.7647,-1496.2981 1185.5617,-1506.8629 1191.9761,-1504.0599\"/>\n</g>\n<!-- 46 -->\n<g id=\"node47\" class=\"node\">\n<title>46</title>\n<polygon fill=\"none\" stroke=\"#000000\" points=\"1333,-1488.5 1234,-1488.5 1234,-1420.5 1333,-1420.5 1333,-1488.5\"/>\n<text text-anchor=\"middle\" x=\"1283.5\" y=\"-1473.3\" font-family=\"Helvetica,sans-Serif\" font-size=\"14.00\" fill=\"#000000\">gini = 0.0</text>\n<text text-anchor=\"middle\" x=\"1283.5\" y=\"-1458.3\" font-family=\"Helvetica,sans-Serif\" font-size=\"14.00\" fill=\"#000000\">samples = 7</text>\n<text text-anchor=\"middle\" x=\"1283.5\" y=\"-1443.3\" font-family=\"Helvetica,sans-Serif\" font-size=\"14.00\" fill=\"#000000\">value = [7, 0]</text>\n<text text-anchor=\"middle\" x=\"1283.5\" y=\"-1428.3\" font-family=\"Helvetica,sans-Serif\" font-size=\"14.00\" fill=\"#000000\">class = 1</text>\n</g>\n<!-- 42&#45;&gt;46 -->\n<g id=\"edge46\" class=\"edge\">\n<title>42&#45;&gt;46</title>\n<path fill=\"none\" stroke=\"#000000\" d=\"M1241.2338,-1531.8796C1247.2401,-1520.8835 1253.737,-1508.9893 1259.7933,-1497.9015\"/>\n<polygon fill=\"#000000\" stroke=\"#000000\" points=\"1263.0345,-1499.2689 1264.7565,-1488.8149 1256.8912,-1495.9133 1263.0345,-1499.2689\"/>\n</g>\n<!-- 44 -->\n<g id=\"node45\" class=\"node\">\n<title>44</title>\n<polygon fill=\"none\" stroke=\"#000000\" points=\"1216,-1369.5 1117,-1369.5 1117,-1301.5 1216,-1301.5 1216,-1369.5\"/>\n<text text-anchor=\"middle\" x=\"1166.5\" y=\"-1354.3\" font-family=\"Helvetica,sans-Serif\" font-size=\"14.00\" fill=\"#000000\">gini = 0.0</text>\n<text text-anchor=\"middle\" x=\"1166.5\" y=\"-1339.3\" font-family=\"Helvetica,sans-Serif\" font-size=\"14.00\" fill=\"#000000\">samples = 1</text>\n<text text-anchor=\"middle\" x=\"1166.5\" y=\"-1324.3\" font-family=\"Helvetica,sans-Serif\" font-size=\"14.00\" fill=\"#000000\">value = [1, 0]</text>\n<text text-anchor=\"middle\" x=\"1166.5\" y=\"-1309.3\" font-family=\"Helvetica,sans-Serif\" font-size=\"14.00\" fill=\"#000000\">class = 1</text>\n</g>\n<!-- 43&#45;&gt;44 -->\n<g id=\"edge44\" class=\"edge\">\n<title>43&#45;&gt;44</title>\n<path fill=\"none\" stroke=\"#000000\" d=\"M1166.5,-1412.8796C1166.5,-1402.2134 1166.5,-1390.7021 1166.5,-1379.9015\"/>\n<polygon fill=\"#000000\" stroke=\"#000000\" points=\"1170.0001,-1379.8149 1166.5,-1369.8149 1163.0001,-1379.815 1170.0001,-1379.8149\"/>\n</g>\n<!-- 45 -->\n<g id=\"node46\" class=\"node\">\n<title>45</title>\n<polygon fill=\"none\" stroke=\"#000000\" points=\"1333,-1369.5 1234,-1369.5 1234,-1301.5 1333,-1301.5 1333,-1369.5\"/>\n<text text-anchor=\"middle\" x=\"1283.5\" y=\"-1354.3\" font-family=\"Helvetica,sans-Serif\" font-size=\"14.00\" fill=\"#000000\">gini = 0.0</text>\n<text text-anchor=\"middle\" x=\"1283.5\" y=\"-1339.3\" font-family=\"Helvetica,sans-Serif\" font-size=\"14.00\" fill=\"#000000\">samples = 2</text>\n<text text-anchor=\"middle\" x=\"1283.5\" y=\"-1324.3\" font-family=\"Helvetica,sans-Serif\" font-size=\"14.00\" fill=\"#000000\">value = [0, 2]</text>\n<text text-anchor=\"middle\" x=\"1283.5\" y=\"-1309.3\" font-family=\"Helvetica,sans-Serif\" font-size=\"14.00\" fill=\"#000000\">class = 0</text>\n</g>\n<!-- 43&#45;&gt;45 -->\n<g id=\"edge45\" class=\"edge\">\n<title>43&#45;&gt;45</title>\n<path fill=\"none\" stroke=\"#000000\" d=\"M1207.4209,-1412.8796C1218.7728,-1401.3337 1231.0982,-1388.7976 1242.457,-1377.2446\"/>\n<polygon fill=\"#000000\" stroke=\"#000000\" points=\"1245.2466,-1379.3995 1249.7618,-1369.8149 1240.2551,-1374.4919 1245.2466,-1379.3995\"/>\n</g>\n<!-- 49 -->\n<g id=\"node50\" class=\"node\">\n<title>49</title>\n<polygon fill=\"none\" stroke=\"#000000\" points=\"1514,-1615 1415,-1615 1415,-1532 1514,-1532 1514,-1615\"/>\n<text text-anchor=\"middle\" x=\"1464.5\" y=\"-1599.8\" font-family=\"Helvetica,sans-Serif\" font-size=\"14.00\" fill=\"#000000\">a2 &lt;= 1.518</text>\n<text text-anchor=\"middle\" x=\"1464.5\" y=\"-1584.8\" font-family=\"Helvetica,sans-Serif\" font-size=\"14.00\" fill=\"#000000\">gini = 0.5</text>\n<text text-anchor=\"middle\" x=\"1464.5\" y=\"-1569.8\" font-family=\"Helvetica,sans-Serif\" font-size=\"14.00\" fill=\"#000000\">samples = 6</text>\n<text text-anchor=\"middle\" x=\"1464.5\" y=\"-1554.8\" font-family=\"Helvetica,sans-Serif\" font-size=\"14.00\" fill=\"#000000\">value = [3, 3]</text>\n<text text-anchor=\"middle\" x=\"1464.5\" y=\"-1539.8\" font-family=\"Helvetica,sans-Serif\" font-size=\"14.00\" fill=\"#000000\">class = 1</text>\n</g>\n<!-- 48&#45;&gt;49 -->\n<g id=\"edge49\" class=\"edge\">\n<title>48&#45;&gt;49</title>\n<path fill=\"none\" stroke=\"#000000\" d=\"M1465.1502,-1650.8796C1465.0814,-1642.6838 1465.0083,-1633.9891 1464.937,-1625.5013\"/>\n<polygon fill=\"#000000\" stroke=\"#000000\" points=\"1468.4352,-1625.2683 1464.8512,-1615.2981 1461.4355,-1625.3272 1468.4352,-1625.2683\"/>\n</g>\n<!-- 52 -->\n<g id=\"node53\" class=\"node\">\n<title>52</title>\n<polygon fill=\"none\" stroke=\"#000000\" points=\"1631,-1607.5 1532,-1607.5 1532,-1539.5 1631,-1539.5 1631,-1607.5\"/>\n<text text-anchor=\"middle\" x=\"1581.5\" y=\"-1592.3\" font-family=\"Helvetica,sans-Serif\" font-size=\"14.00\" fill=\"#000000\">gini = 0.0</text>\n<text text-anchor=\"middle\" x=\"1581.5\" y=\"-1577.3\" font-family=\"Helvetica,sans-Serif\" font-size=\"14.00\" fill=\"#000000\">samples = 5</text>\n<text text-anchor=\"middle\" x=\"1581.5\" y=\"-1562.3\" font-family=\"Helvetica,sans-Serif\" font-size=\"14.00\" fill=\"#000000\">value = [5, 0]</text>\n<text text-anchor=\"middle\" x=\"1581.5\" y=\"-1547.3\" font-family=\"Helvetica,sans-Serif\" font-size=\"14.00\" fill=\"#000000\">class = 1</text>\n</g>\n<!-- 48&#45;&gt;52 -->\n<g id=\"edge52\" class=\"edge\">\n<title>48&#45;&gt;52</title>\n<path fill=\"none\" stroke=\"#000000\" d=\"M1506.0712,-1650.8796C1517.326,-1639.3337 1529.5461,-1626.7976 1540.8078,-1615.2446\"/>\n<polygon fill=\"#000000\" stroke=\"#000000\" points=\"1543.5762,-1617.4188 1548.0501,-1607.8149 1538.5636,-1612.5326 1543.5762,-1617.4188\"/>\n</g>\n<!-- 50 -->\n<g id=\"node51\" class=\"node\">\n<title>50</title>\n<polygon fill=\"none\" stroke=\"#000000\" points=\"1450,-1488.5 1351,-1488.5 1351,-1420.5 1450,-1420.5 1450,-1488.5\"/>\n<text text-anchor=\"middle\" x=\"1400.5\" y=\"-1473.3\" font-family=\"Helvetica,sans-Serif\" font-size=\"14.00\" fill=\"#000000\">gini = 0.0</text>\n<text text-anchor=\"middle\" x=\"1400.5\" y=\"-1458.3\" font-family=\"Helvetica,sans-Serif\" font-size=\"14.00\" fill=\"#000000\">samples = 3</text>\n<text text-anchor=\"middle\" x=\"1400.5\" y=\"-1443.3\" font-family=\"Helvetica,sans-Serif\" font-size=\"14.00\" fill=\"#000000\">value = [0, 3]</text>\n<text text-anchor=\"middle\" x=\"1400.5\" y=\"-1428.3\" font-family=\"Helvetica,sans-Serif\" font-size=\"14.00\" fill=\"#000000\">class = 0</text>\n</g>\n<!-- 49&#45;&gt;50 -->\n<g id=\"edge50\" class=\"edge\">\n<title>49&#45;&gt;50</title>\n<path fill=\"none\" stroke=\"#000000\" d=\"M1442.1159,-1531.8796C1436.202,-1520.8835 1429.8051,-1508.9893 1423.842,-1497.9015\"/>\n<polygon fill=\"#000000\" stroke=\"#000000\" points=\"1426.7742,-1495.9642 1418.9551,-1488.8149 1420.6092,-1499.2799 1426.7742,-1495.9642\"/>\n</g>\n<!-- 51 -->\n<g id=\"node52\" class=\"node\">\n<title>51</title>\n<polygon fill=\"none\" stroke=\"#000000\" points=\"1567,-1488.5 1468,-1488.5 1468,-1420.5 1567,-1420.5 1567,-1488.5\"/>\n<text text-anchor=\"middle\" x=\"1517.5\" y=\"-1473.3\" font-family=\"Helvetica,sans-Serif\" font-size=\"14.00\" fill=\"#000000\">gini = 0.0</text>\n<text text-anchor=\"middle\" x=\"1517.5\" y=\"-1458.3\" font-family=\"Helvetica,sans-Serif\" font-size=\"14.00\" fill=\"#000000\">samples = 3</text>\n<text text-anchor=\"middle\" x=\"1517.5\" y=\"-1443.3\" font-family=\"Helvetica,sans-Serif\" font-size=\"14.00\" fill=\"#000000\">value = [3, 0]</text>\n<text text-anchor=\"middle\" x=\"1517.5\" y=\"-1428.3\" font-family=\"Helvetica,sans-Serif\" font-size=\"14.00\" fill=\"#000000\">class = 1</text>\n</g>\n<!-- 49&#45;&gt;51 -->\n<g id=\"edge51\" class=\"edge\">\n<title>49&#45;&gt;51</title>\n<path fill=\"none\" stroke=\"#000000\" d=\"M1483.0368,-1531.8796C1487.8853,-1520.9935 1493.1258,-1509.227 1498.0217,-1498.2344\"/>\n<polygon fill=\"#000000\" stroke=\"#000000\" points=\"1501.3455,-1499.3739 1502.2169,-1488.8149 1494.9511,-1496.5259 1501.3455,-1499.3739\"/>\n</g>\n<!-- 55 -->\n<g id=\"node56\" class=\"node\">\n<title>55</title>\n<polygon fill=\"none\" stroke=\"#000000\" points=\"2119,-1972 2012,-1972 2012,-1889 2119,-1889 2119,-1972\"/>\n<text text-anchor=\"middle\" x=\"2065.5\" y=\"-1956.8\" font-family=\"Helvetica,sans-Serif\" font-size=\"14.00\" fill=\"#000000\">a3 &lt;= 0.506</text>\n<text text-anchor=\"middle\" x=\"2065.5\" y=\"-1941.8\" font-family=\"Helvetica,sans-Serif\" font-size=\"14.00\" fill=\"#000000\">gini = 0.162</text>\n<text text-anchor=\"middle\" x=\"2065.5\" y=\"-1926.8\" font-family=\"Helvetica,sans-Serif\" font-size=\"14.00\" fill=\"#000000\">samples = 90</text>\n<text text-anchor=\"middle\" x=\"2065.5\" y=\"-1911.8\" font-family=\"Helvetica,sans-Serif\" font-size=\"14.00\" fill=\"#000000\">value = [82, 8]</text>\n<text text-anchor=\"middle\" x=\"2065.5\" y=\"-1896.8\" font-family=\"Helvetica,sans-Serif\" font-size=\"14.00\" fill=\"#000000\">class = 1</text>\n</g>\n<!-- 54&#45;&gt;55 -->\n<g id=\"edge55\" class=\"edge\">\n<title>54&#45;&gt;55</title>\n<path fill=\"none\" stroke=\"#000000\" d=\"M2065.5,-2007.8796C2065.5,-1999.6838 2065.5,-1990.9891 2065.5,-1982.5013\"/>\n<polygon fill=\"#000000\" stroke=\"#000000\" points=\"2069.0001,-1982.298 2065.5,-1972.2981 2062.0001,-1982.2981 2069.0001,-1982.298\"/>\n</g>\n<!-- 76 -->\n<g id=\"node77\" class=\"node\">\n<title>76</title>\n<polygon fill=\"none\" stroke=\"#000000\" points=\"2690.5,-1972 2558.5,-1972 2558.5,-1889 2690.5,-1889 2690.5,-1972\"/>\n<text text-anchor=\"middle\" x=\"2624.5\" y=\"-1956.8\" font-family=\"Helvetica,sans-Serif\" font-size=\"14.00\" fill=\"#000000\">a2 &lt;= 0.695</text>\n<text text-anchor=\"middle\" x=\"2624.5\" y=\"-1941.8\" font-family=\"Helvetica,sans-Serif\" font-size=\"14.00\" fill=\"#000000\">gini = 0.448</text>\n<text text-anchor=\"middle\" x=\"2624.5\" y=\"-1926.8\" font-family=\"Helvetica,sans-Serif\" font-size=\"14.00\" fill=\"#000000\">samples = 396</text>\n<text text-anchor=\"middle\" x=\"2624.5\" y=\"-1911.8\" font-family=\"Helvetica,sans-Serif\" font-size=\"14.00\" fill=\"#000000\">value = [134, 262]</text>\n<text text-anchor=\"middle\" x=\"2624.5\" y=\"-1896.8\" font-family=\"Helvetica,sans-Serif\" font-size=\"14.00\" fill=\"#000000\">class = 0</text>\n</g>\n<!-- 54&#45;&gt;76 -->\n<g id=\"edge76\" class=\"edge\">\n<title>54&#45;&gt;76</title>\n<path fill=\"none\" stroke=\"#000000\" d=\"M2131.5438,-2035.4406C2235.7637,-2013.2542 2437.8345,-1970.2374 2548.1348,-1946.7566\"/>\n<polygon fill=\"#000000\" stroke=\"#000000\" points=\"2549.1389,-1950.1214 2558.191,-1944.6159 2547.6814,-1943.2748 2549.1389,-1950.1214\"/>\n</g>\n<!-- 56 -->\n<g id=\"node57\" class=\"node\">\n<title>56</title>\n<polygon fill=\"none\" stroke=\"#000000\" points=\"2057,-1853 1950,-1853 1950,-1770 2057,-1770 2057,-1853\"/>\n<text text-anchor=\"middle\" x=\"2003.5\" y=\"-1837.8\" font-family=\"Helvetica,sans-Serif\" font-size=\"14.00\" fill=\"#000000\">a6 &lt;= 0.477</text>\n<text text-anchor=\"middle\" x=\"2003.5\" y=\"-1822.8\" font-family=\"Helvetica,sans-Serif\" font-size=\"14.00\" fill=\"#000000\">gini = 0.32</text>\n<text text-anchor=\"middle\" x=\"2003.5\" y=\"-1807.8\" font-family=\"Helvetica,sans-Serif\" font-size=\"14.00\" fill=\"#000000\">samples = 35</text>\n<text text-anchor=\"middle\" x=\"2003.5\" y=\"-1792.8\" font-family=\"Helvetica,sans-Serif\" font-size=\"14.00\" fill=\"#000000\">value = [28, 7]</text>\n<text text-anchor=\"middle\" x=\"2003.5\" y=\"-1777.8\" font-family=\"Helvetica,sans-Serif\" font-size=\"14.00\" fill=\"#000000\">class = 1</text>\n</g>\n<!-- 55&#45;&gt;56 -->\n<g id=\"edge56\" class=\"edge\">\n<title>55&#45;&gt;56</title>\n<path fill=\"none\" stroke=\"#000000\" d=\"M2043.8154,-1888.8796C2039.3577,-1880.3236 2034.6166,-1871.2238 2030.0106,-1862.3833\"/>\n<polygon fill=\"#000000\" stroke=\"#000000\" points=\"2033.0017,-1860.5494 2025.2771,-1853.2981 2026.7938,-1863.7838 2033.0017,-1860.5494\"/>\n</g>\n<!-- 69 -->\n<g id=\"node70\" class=\"node\">\n<title>69</title>\n<polygon fill=\"none\" stroke=\"#000000\" points=\"2182,-1853 2075,-1853 2075,-1770 2182,-1770 2182,-1853\"/>\n<text text-anchor=\"middle\" x=\"2128.5\" y=\"-1837.8\" font-family=\"Helvetica,sans-Serif\" font-size=\"14.00\" fill=\"#000000\">a6 &lt;= &#45;1.079</text>\n<text text-anchor=\"middle\" x=\"2128.5\" y=\"-1822.8\" font-family=\"Helvetica,sans-Serif\" font-size=\"14.00\" fill=\"#000000\">gini = 0.036</text>\n<text text-anchor=\"middle\" x=\"2128.5\" y=\"-1807.8\" font-family=\"Helvetica,sans-Serif\" font-size=\"14.00\" fill=\"#000000\">samples = 55</text>\n<text text-anchor=\"middle\" x=\"2128.5\" y=\"-1792.8\" font-family=\"Helvetica,sans-Serif\" font-size=\"14.00\" fill=\"#000000\">value = [54, 1]</text>\n<text text-anchor=\"middle\" x=\"2128.5\" y=\"-1777.8\" font-family=\"Helvetica,sans-Serif\" font-size=\"14.00\" fill=\"#000000\">class = 1</text>\n</g>\n<!-- 55&#45;&gt;69 -->\n<g id=\"edge69\" class=\"edge\">\n<title>55&#45;&gt;69</title>\n<path fill=\"none\" stroke=\"#000000\" d=\"M2087.5343,-1888.8796C2092.064,-1880.3236 2096.8815,-1871.2238 2101.5618,-1862.3833\"/>\n<polygon fill=\"#000000\" stroke=\"#000000\" points=\"2104.7859,-1863.7736 2106.3716,-1853.2981 2098.5994,-1860.4983 2104.7859,-1863.7736\"/>\n</g>\n<!-- 57 -->\n<g id=\"node58\" class=\"node\">\n<title>57</title>\n<polygon fill=\"none\" stroke=\"#000000\" points=\"1932,-1734 1825,-1734 1825,-1651 1932,-1651 1932,-1734\"/>\n<text text-anchor=\"middle\" x=\"1878.5\" y=\"-1718.8\" font-family=\"Helvetica,sans-Serif\" font-size=\"14.00\" fill=\"#000000\">a1 &lt;= &#45;0.031</text>\n<text text-anchor=\"middle\" x=\"1878.5\" y=\"-1703.8\" font-family=\"Helvetica,sans-Serif\" font-size=\"14.00\" fill=\"#000000\">gini = 0.434</text>\n<text text-anchor=\"middle\" x=\"1878.5\" y=\"-1688.8\" font-family=\"Helvetica,sans-Serif\" font-size=\"14.00\" fill=\"#000000\">samples = 22</text>\n<text text-anchor=\"middle\" x=\"1878.5\" y=\"-1673.8\" font-family=\"Helvetica,sans-Serif\" font-size=\"14.00\" fill=\"#000000\">value = [15, 7]</text>\n<text text-anchor=\"middle\" x=\"1878.5\" y=\"-1658.8\" font-family=\"Helvetica,sans-Serif\" font-size=\"14.00\" fill=\"#000000\">class = 1</text>\n</g>\n<!-- 56&#45;&gt;57 -->\n<g id=\"edge57\" class=\"edge\">\n<title>56&#45;&gt;57</title>\n<path fill=\"none\" stroke=\"#000000\" d=\"M1959.7811,-1769.8796C1950.1314,-1760.6931 1939.8234,-1750.8798 1929.9009,-1741.4336\"/>\n<polygon fill=\"#000000\" stroke=\"#000000\" points=\"1932.0616,-1738.6582 1922.4055,-1734.2981 1927.235,-1743.7282 1932.0616,-1738.6582\"/>\n</g>\n<!-- 68 -->\n<g id=\"node69\" class=\"node\">\n<title>68</title>\n<polygon fill=\"none\" stroke=\"#000000\" points=\"2057,-1726.5 1950,-1726.5 1950,-1658.5 2057,-1658.5 2057,-1726.5\"/>\n<text text-anchor=\"middle\" x=\"2003.5\" y=\"-1711.3\" font-family=\"Helvetica,sans-Serif\" font-size=\"14.00\" fill=\"#000000\">gini = 0.0</text>\n<text text-anchor=\"middle\" x=\"2003.5\" y=\"-1696.3\" font-family=\"Helvetica,sans-Serif\" font-size=\"14.00\" fill=\"#000000\">samples = 13</text>\n<text text-anchor=\"middle\" x=\"2003.5\" y=\"-1681.3\" font-family=\"Helvetica,sans-Serif\" font-size=\"14.00\" fill=\"#000000\">value = [13, 0]</text>\n<text text-anchor=\"middle\" x=\"2003.5\" y=\"-1666.3\" font-family=\"Helvetica,sans-Serif\" font-size=\"14.00\" fill=\"#000000\">class = 1</text>\n</g>\n<!-- 56&#45;&gt;68 -->\n<g id=\"edge68\" class=\"edge\">\n<title>56&#45;&gt;68</title>\n<path fill=\"none\" stroke=\"#000000\" d=\"M2003.5,-1769.8796C2003.5,-1759.2134 2003.5,-1747.7021 2003.5,-1736.9015\"/>\n<polygon fill=\"#000000\" stroke=\"#000000\" points=\"2007.0001,-1736.8149 2003.5,-1726.8149 2000.0001,-1736.815 2007.0001,-1736.8149\"/>\n</g>\n<!-- 58 -->\n<g id=\"node59\" class=\"node\">\n<title>58</title>\n<polygon fill=\"none\" stroke=\"#000000\" points=\"1810,-1615 1703,-1615 1703,-1532 1810,-1532 1810,-1615\"/>\n<text text-anchor=\"middle\" x=\"1756.5\" y=\"-1599.8\" font-family=\"Helvetica,sans-Serif\" font-size=\"14.00\" fill=\"#000000\">a2 &lt;= &#45;0.515</text>\n<text text-anchor=\"middle\" x=\"1756.5\" y=\"-1584.8\" font-family=\"Helvetica,sans-Serif\" font-size=\"14.00\" fill=\"#000000\">gini = 0.165</text>\n<text text-anchor=\"middle\" x=\"1756.5\" y=\"-1569.8\" font-family=\"Helvetica,sans-Serif\" font-size=\"14.00\" fill=\"#000000\">samples = 11</text>\n<text text-anchor=\"middle\" x=\"1756.5\" y=\"-1554.8\" font-family=\"Helvetica,sans-Serif\" font-size=\"14.00\" fill=\"#000000\">value = [10, 1]</text>\n<text text-anchor=\"middle\" x=\"1756.5\" y=\"-1539.8\" font-family=\"Helvetica,sans-Serif\" font-size=\"14.00\" fill=\"#000000\">class = 1</text>\n</g>\n<!-- 57&#45;&gt;58 -->\n<g id=\"edge58\" class=\"edge\">\n<title>57&#45;&gt;58</title>\n<path fill=\"none\" stroke=\"#000000\" d=\"M1835.8303,-1650.8796C1826.4123,-1641.6931 1816.3516,-1631.8798 1806.6672,-1622.4336\"/>\n<polygon fill=\"#000000\" stroke=\"#000000\" points=\"1808.9543,-1619.7751 1799.3518,-1615.2981 1804.0665,-1624.7861 1808.9543,-1619.7751\"/>\n</g>\n<!-- 61 -->\n<g id=\"node62\" class=\"node\">\n<title>61</title>\n<polygon fill=\"none\" stroke=\"#000000\" points=\"1932.5,-1615 1828.5,-1615 1828.5,-1532 1932.5,-1532 1932.5,-1615\"/>\n<text text-anchor=\"middle\" x=\"1880.5\" y=\"-1599.8\" font-family=\"Helvetica,sans-Serif\" font-size=\"14.00\" fill=\"#000000\">a1 &lt;= 0.398</text>\n<text text-anchor=\"middle\" x=\"1880.5\" y=\"-1584.8\" font-family=\"Helvetica,sans-Serif\" font-size=\"14.00\" fill=\"#000000\">gini = 0.496</text>\n<text text-anchor=\"middle\" x=\"1880.5\" y=\"-1569.8\" font-family=\"Helvetica,sans-Serif\" font-size=\"14.00\" fill=\"#000000\">samples = 11</text>\n<text text-anchor=\"middle\" x=\"1880.5\" y=\"-1554.8\" font-family=\"Helvetica,sans-Serif\" font-size=\"14.00\" fill=\"#000000\">value = [5, 6]</text>\n<text text-anchor=\"middle\" x=\"1880.5\" y=\"-1539.8\" font-family=\"Helvetica,sans-Serif\" font-size=\"14.00\" fill=\"#000000\">class = 0</text>\n</g>\n<!-- 57&#45;&gt;61 -->\n<g id=\"edge61\" class=\"edge\">\n<title>57&#45;&gt;61</title>\n<path fill=\"none\" stroke=\"#000000\" d=\"M1879.1995,-1650.8796C1879.3372,-1642.6838 1879.4834,-1633.9891 1879.626,-1625.5013\"/>\n<polygon fill=\"#000000\" stroke=\"#000000\" points=\"1883.1289,-1625.3555 1879.7975,-1615.2981 1876.1299,-1625.2378 1883.1289,-1625.3555\"/>\n</g>\n<!-- 59 -->\n<g id=\"node60\" class=\"node\">\n<title>59</title>\n<polygon fill=\"none\" stroke=\"#000000\" points=\"1692,-1488.5 1585,-1488.5 1585,-1420.5 1692,-1420.5 1692,-1488.5\"/>\n<text text-anchor=\"middle\" x=\"1638.5\" y=\"-1473.3\" font-family=\"Helvetica,sans-Serif\" font-size=\"14.00\" fill=\"#000000\">gini = 0.0</text>\n<text text-anchor=\"middle\" x=\"1638.5\" y=\"-1458.3\" font-family=\"Helvetica,sans-Serif\" font-size=\"14.00\" fill=\"#000000\">samples = 10</text>\n<text text-anchor=\"middle\" x=\"1638.5\" y=\"-1443.3\" font-family=\"Helvetica,sans-Serif\" font-size=\"14.00\" fill=\"#000000\">value = [10, 0]</text>\n<text text-anchor=\"middle\" x=\"1638.5\" y=\"-1428.3\" font-family=\"Helvetica,sans-Serif\" font-size=\"14.00\" fill=\"#000000\">class = 1</text>\n</g>\n<!-- 58&#45;&gt;59 -->\n<g id=\"edge59\" class=\"edge\">\n<title>58&#45;&gt;59</title>\n<path fill=\"none\" stroke=\"#000000\" d=\"M1715.2293,-1531.8796C1703.7805,-1520.3337 1691.3497,-1507.7976 1679.8938,-1496.2446\"/>\n<polygon fill=\"#000000\" stroke=\"#000000\" points=\"1682.0531,-1493.4514 1672.5266,-1488.8149 1677.0825,-1498.3802 1682.0531,-1493.4514\"/>\n</g>\n<!-- 60 -->\n<g id=\"node61\" class=\"node\">\n<title>60</title>\n<polygon fill=\"none\" stroke=\"#000000\" points=\"1809,-1488.5 1710,-1488.5 1710,-1420.5 1809,-1420.5 1809,-1488.5\"/>\n<text text-anchor=\"middle\" x=\"1759.5\" y=\"-1473.3\" font-family=\"Helvetica,sans-Serif\" font-size=\"14.00\" fill=\"#000000\">gini = 0.0</text>\n<text text-anchor=\"middle\" x=\"1759.5\" y=\"-1458.3\" font-family=\"Helvetica,sans-Serif\" font-size=\"14.00\" fill=\"#000000\">samples = 1</text>\n<text text-anchor=\"middle\" x=\"1759.5\" y=\"-1443.3\" font-family=\"Helvetica,sans-Serif\" font-size=\"14.00\" fill=\"#000000\">value = [0, 1]</text>\n<text text-anchor=\"middle\" x=\"1759.5\" y=\"-1428.3\" font-family=\"Helvetica,sans-Serif\" font-size=\"14.00\" fill=\"#000000\">class = 0</text>\n</g>\n<!-- 58&#45;&gt;60 -->\n<g id=\"edge60\" class=\"edge\">\n<title>58&#45;&gt;60</title>\n<path fill=\"none\" stroke=\"#000000\" d=\"M1757.5493,-1531.8796C1757.8182,-1521.2134 1758.1084,-1509.7021 1758.3806,-1498.9015\"/>\n<polygon fill=\"#000000\" stroke=\"#000000\" points=\"1761.8817,-1498.9 1758.6349,-1488.8149 1754.8839,-1498.7235 1761.8817,-1498.9\"/>\n</g>\n<!-- 62 -->\n<g id=\"node63\" class=\"node\">\n<title>62</title>\n<polygon fill=\"none\" stroke=\"#000000\" points=\"1926,-1488.5 1827,-1488.5 1827,-1420.5 1926,-1420.5 1926,-1488.5\"/>\n<text text-anchor=\"middle\" x=\"1876.5\" y=\"-1473.3\" font-family=\"Helvetica,sans-Serif\" font-size=\"14.00\" fill=\"#000000\">gini = 0.0</text>\n<text text-anchor=\"middle\" x=\"1876.5\" y=\"-1458.3\" font-family=\"Helvetica,sans-Serif\" font-size=\"14.00\" fill=\"#000000\">samples = 4</text>\n<text text-anchor=\"middle\" x=\"1876.5\" y=\"-1443.3\" font-family=\"Helvetica,sans-Serif\" font-size=\"14.00\" fill=\"#000000\">value = [0, 4]</text>\n<text text-anchor=\"middle\" x=\"1876.5\" y=\"-1428.3\" font-family=\"Helvetica,sans-Serif\" font-size=\"14.00\" fill=\"#000000\">class = 0</text>\n</g>\n<!-- 61&#45;&gt;62 -->\n<g id=\"edge62\" class=\"edge\">\n<title>61&#45;&gt;62</title>\n<path fill=\"none\" stroke=\"#000000\" d=\"M1879.101,-1531.8796C1878.7425,-1521.2134 1878.3555,-1509.7021 1877.9925,-1498.9015\"/>\n<polygon fill=\"#000000\" stroke=\"#000000\" points=\"1881.4875,-1498.6917 1877.6534,-1488.8149 1874.4915,-1498.9269 1881.4875,-1498.6917\"/>\n</g>\n<!-- 63 -->\n<g id=\"node64\" class=\"node\">\n<title>63</title>\n<polygon fill=\"none\" stroke=\"#000000\" points=\"2043,-1496 1944,-1496 1944,-1413 2043,-1413 2043,-1496\"/>\n<text text-anchor=\"middle\" x=\"1993.5\" y=\"-1480.8\" font-family=\"Helvetica,sans-Serif\" font-size=\"14.00\" fill=\"#000000\">a2 &lt;= &#45;1.629</text>\n<text text-anchor=\"middle\" x=\"1993.5\" y=\"-1465.8\" font-family=\"Helvetica,sans-Serif\" font-size=\"14.00\" fill=\"#000000\">gini = 0.408</text>\n<text text-anchor=\"middle\" x=\"1993.5\" y=\"-1450.8\" font-family=\"Helvetica,sans-Serif\" font-size=\"14.00\" fill=\"#000000\">samples = 7</text>\n<text text-anchor=\"middle\" x=\"1993.5\" y=\"-1435.8\" font-family=\"Helvetica,sans-Serif\" font-size=\"14.00\" fill=\"#000000\">value = [5, 2]</text>\n<text text-anchor=\"middle\" x=\"1993.5\" y=\"-1420.8\" font-family=\"Helvetica,sans-Serif\" font-size=\"14.00\" fill=\"#000000\">class = 1</text>\n</g>\n<!-- 61&#45;&gt;63 -->\n<g id=\"edge63\" class=\"edge\">\n<title>61&#45;&gt;63</title>\n<path fill=\"none\" stroke=\"#000000\" d=\"M1920.0219,-1531.8796C1928.6597,-1522.7832 1937.881,-1513.0722 1946.7697,-1503.7116\"/>\n<polygon fill=\"#000000\" stroke=\"#000000\" points=\"1949.4615,-1505.9597 1953.8094,-1496.2981 1944.3854,-1501.1395 1949.4615,-1505.9597\"/>\n</g>\n<!-- 64 -->\n<g id=\"node65\" class=\"node\">\n<title>64</title>\n<polygon fill=\"none\" stroke=\"#000000\" points=\"1984,-1377 1885,-1377 1885,-1294 1984,-1294 1984,-1377\"/>\n<text text-anchor=\"middle\" x=\"1934.5\" y=\"-1361.8\" font-family=\"Helvetica,sans-Serif\" font-size=\"14.00\" fill=\"#000000\">a5 &lt;= 1.053</text>\n<text text-anchor=\"middle\" x=\"1934.5\" y=\"-1346.8\" font-family=\"Helvetica,sans-Serif\" font-size=\"14.00\" fill=\"#000000\">gini = 0.444</text>\n<text text-anchor=\"middle\" x=\"1934.5\" y=\"-1331.8\" font-family=\"Helvetica,sans-Serif\" font-size=\"14.00\" fill=\"#000000\">samples = 3</text>\n<text text-anchor=\"middle\" x=\"1934.5\" y=\"-1316.8\" font-family=\"Helvetica,sans-Serif\" font-size=\"14.00\" fill=\"#000000\">value = [1, 2]</text>\n<text text-anchor=\"middle\" x=\"1934.5\" y=\"-1301.8\" font-family=\"Helvetica,sans-Serif\" font-size=\"14.00\" fill=\"#000000\">class = 0</text>\n</g>\n<!-- 63&#45;&gt;64 -->\n<g id=\"edge64\" class=\"edge\">\n<title>63&#45;&gt;64</title>\n<path fill=\"none\" stroke=\"#000000\" d=\"M1972.8647,-1412.8796C1968.6226,-1404.3236 1964.111,-1395.2238 1959.7279,-1386.3833\"/>\n<polygon fill=\"#000000\" stroke=\"#000000\" points=\"1962.8012,-1384.7026 1955.2234,-1377.2981 1956.5297,-1387.8121 1962.8012,-1384.7026\"/>\n</g>\n<!-- 67 -->\n<g id=\"node68\" class=\"node\">\n<title>67</title>\n<polygon fill=\"none\" stroke=\"#000000\" points=\"2101,-1369.5 2002,-1369.5 2002,-1301.5 2101,-1301.5 2101,-1369.5\"/>\n<text text-anchor=\"middle\" x=\"2051.5\" y=\"-1354.3\" font-family=\"Helvetica,sans-Serif\" font-size=\"14.00\" fill=\"#000000\">gini = 0.0</text>\n<text text-anchor=\"middle\" x=\"2051.5\" y=\"-1339.3\" font-family=\"Helvetica,sans-Serif\" font-size=\"14.00\" fill=\"#000000\">samples = 4</text>\n<text text-anchor=\"middle\" x=\"2051.5\" y=\"-1324.3\" font-family=\"Helvetica,sans-Serif\" font-size=\"14.00\" fill=\"#000000\">value = [4, 0]</text>\n<text text-anchor=\"middle\" x=\"2051.5\" y=\"-1309.3\" font-family=\"Helvetica,sans-Serif\" font-size=\"14.00\" fill=\"#000000\">class = 1</text>\n</g>\n<!-- 63&#45;&gt;67 -->\n<g id=\"edge67\" class=\"edge\">\n<title>63&#45;&gt;67</title>\n<path fill=\"none\" stroke=\"#000000\" d=\"M2013.7856,-1412.8796C2019.145,-1401.8835 2024.9422,-1389.9893 2030.3463,-1378.9015\"/>\n<polygon fill=\"#000000\" stroke=\"#000000\" points=\"2033.54,-1380.3375 2034.7751,-1369.8149 2027.2476,-1377.2706 2033.54,-1380.3375\"/>\n</g>\n<!-- 65 -->\n<g id=\"node66\" class=\"node\">\n<title>65</title>\n<polygon fill=\"none\" stroke=\"#000000\" points=\"1925,-1250.5 1826,-1250.5 1826,-1182.5 1925,-1182.5 1925,-1250.5\"/>\n<text text-anchor=\"middle\" x=\"1875.5\" y=\"-1235.3\" font-family=\"Helvetica,sans-Serif\" font-size=\"14.00\" fill=\"#000000\">gini = 0.0</text>\n<text text-anchor=\"middle\" x=\"1875.5\" y=\"-1220.3\" font-family=\"Helvetica,sans-Serif\" font-size=\"14.00\" fill=\"#000000\">samples = 2</text>\n<text text-anchor=\"middle\" x=\"1875.5\" y=\"-1205.3\" font-family=\"Helvetica,sans-Serif\" font-size=\"14.00\" fill=\"#000000\">value = [0, 2]</text>\n<text text-anchor=\"middle\" x=\"1875.5\" y=\"-1190.3\" font-family=\"Helvetica,sans-Serif\" font-size=\"14.00\" fill=\"#000000\">class = 0</text>\n</g>\n<!-- 64&#45;&gt;65 -->\n<g id=\"edge65\" class=\"edge\">\n<title>64&#45;&gt;65</title>\n<path fill=\"none\" stroke=\"#000000\" d=\"M1913.8647,-1293.8796C1908.4128,-1282.8835 1902.5157,-1270.9893 1897.0184,-1259.9015\"/>\n<polygon fill=\"#000000\" stroke=\"#000000\" points=\"1900.0911,-1258.2195 1892.5133,-1250.8149 1893.8196,-1261.3289 1900.0911,-1258.2195\"/>\n</g>\n<!-- 66 -->\n<g id=\"node67\" class=\"node\">\n<title>66</title>\n<polygon fill=\"none\" stroke=\"#000000\" points=\"2042,-1250.5 1943,-1250.5 1943,-1182.5 2042,-1182.5 2042,-1250.5\"/>\n<text text-anchor=\"middle\" x=\"1992.5\" y=\"-1235.3\" font-family=\"Helvetica,sans-Serif\" font-size=\"14.00\" fill=\"#000000\">gini = 0.0</text>\n<text text-anchor=\"middle\" x=\"1992.5\" y=\"-1220.3\" font-family=\"Helvetica,sans-Serif\" font-size=\"14.00\" fill=\"#000000\">samples = 1</text>\n<text text-anchor=\"middle\" x=\"1992.5\" y=\"-1205.3\" font-family=\"Helvetica,sans-Serif\" font-size=\"14.00\" fill=\"#000000\">value = [1, 0]</text>\n<text text-anchor=\"middle\" x=\"1992.5\" y=\"-1190.3\" font-family=\"Helvetica,sans-Serif\" font-size=\"14.00\" fill=\"#000000\">class = 1</text>\n</g>\n<!-- 64&#45;&gt;66 -->\n<g id=\"edge66\" class=\"edge\">\n<title>64&#45;&gt;66</title>\n<path fill=\"none\" stroke=\"#000000\" d=\"M1954.7856,-1293.8796C1960.145,-1282.8835 1965.9422,-1270.9893 1971.3463,-1259.9015\"/>\n<polygon fill=\"#000000\" stroke=\"#000000\" points=\"1974.54,-1261.3375 1975.7751,-1250.8149 1968.2476,-1258.2706 1974.54,-1261.3375\"/>\n</g>\n<!-- 70 -->\n<g id=\"node71\" class=\"node\">\n<title>70</title>\n<polygon fill=\"none\" stroke=\"#000000\" points=\"2182,-1734 2075,-1734 2075,-1651 2182,-1651 2182,-1734\"/>\n<text text-anchor=\"middle\" x=\"2128.5\" y=\"-1718.8\" font-family=\"Helvetica,sans-Serif\" font-size=\"14.00\" fill=\"#000000\">a6 &lt;= &#45;1.221</text>\n<text text-anchor=\"middle\" x=\"2128.5\" y=\"-1703.8\" font-family=\"Helvetica,sans-Serif\" font-size=\"14.00\" fill=\"#000000\">gini = 0.105</text>\n<text text-anchor=\"middle\" x=\"2128.5\" y=\"-1688.8\" font-family=\"Helvetica,sans-Serif\" font-size=\"14.00\" fill=\"#000000\">samples = 18</text>\n<text text-anchor=\"middle\" x=\"2128.5\" y=\"-1673.8\" font-family=\"Helvetica,sans-Serif\" font-size=\"14.00\" fill=\"#000000\">value = [17, 1]</text>\n<text text-anchor=\"middle\" x=\"2128.5\" y=\"-1658.8\" font-family=\"Helvetica,sans-Serif\" font-size=\"14.00\" fill=\"#000000\">class = 1</text>\n</g>\n<!-- 69&#45;&gt;70 -->\n<g id=\"edge70\" class=\"edge\">\n<title>69&#45;&gt;70</title>\n<path fill=\"none\" stroke=\"#000000\" d=\"M2128.5,-1769.8796C2128.5,-1761.6838 2128.5,-1752.9891 2128.5,-1744.5013\"/>\n<polygon fill=\"#000000\" stroke=\"#000000\" points=\"2132.0001,-1744.298 2128.5,-1734.2981 2125.0001,-1744.2981 2132.0001,-1744.298\"/>\n</g>\n<!-- 75 -->\n<g id=\"node76\" class=\"node\">\n<title>75</title>\n<polygon fill=\"none\" stroke=\"#000000\" points=\"2307,-1726.5 2200,-1726.5 2200,-1658.5 2307,-1658.5 2307,-1726.5\"/>\n<text text-anchor=\"middle\" x=\"2253.5\" y=\"-1711.3\" font-family=\"Helvetica,sans-Serif\" font-size=\"14.00\" fill=\"#000000\">gini = 0.0</text>\n<text text-anchor=\"middle\" x=\"2253.5\" y=\"-1696.3\" font-family=\"Helvetica,sans-Serif\" font-size=\"14.00\" fill=\"#000000\">samples = 37</text>\n<text text-anchor=\"middle\" x=\"2253.5\" y=\"-1681.3\" font-family=\"Helvetica,sans-Serif\" font-size=\"14.00\" fill=\"#000000\">value = [37, 0]</text>\n<text text-anchor=\"middle\" x=\"2253.5\" y=\"-1666.3\" font-family=\"Helvetica,sans-Serif\" font-size=\"14.00\" fill=\"#000000\">class = 1</text>\n</g>\n<!-- 69&#45;&gt;75 -->\n<g id=\"edge75\" class=\"edge\">\n<title>69&#45;&gt;75</title>\n<path fill=\"none\" stroke=\"#000000\" d=\"M2172.2189,-1769.8796C2184.4625,-1758.2237 2197.7661,-1745.5587 2209.9971,-1733.9148\"/>\n<polygon fill=\"#000000\" stroke=\"#000000\" points=\"2212.6254,-1736.245 2217.4549,-1726.8149 2207.7988,-1731.1751 2212.6254,-1736.245\"/>\n</g>\n<!-- 71 -->\n<g id=\"node72\" class=\"node\">\n<title>71</title>\n<polygon fill=\"none\" stroke=\"#000000\" points=\"2110,-1607.5 2003,-1607.5 2003,-1539.5 2110,-1539.5 2110,-1607.5\"/>\n<text text-anchor=\"middle\" x=\"2056.5\" y=\"-1592.3\" font-family=\"Helvetica,sans-Serif\" font-size=\"14.00\" fill=\"#000000\">gini = 0.0</text>\n<text text-anchor=\"middle\" x=\"2056.5\" y=\"-1577.3\" font-family=\"Helvetica,sans-Serif\" font-size=\"14.00\" fill=\"#000000\">samples = 16</text>\n<text text-anchor=\"middle\" x=\"2056.5\" y=\"-1562.3\" font-family=\"Helvetica,sans-Serif\" font-size=\"14.00\" fill=\"#000000\">value = [16, 0]</text>\n<text text-anchor=\"middle\" x=\"2056.5\" y=\"-1547.3\" font-family=\"Helvetica,sans-Serif\" font-size=\"14.00\" fill=\"#000000\">class = 1</text>\n</g>\n<!-- 70&#45;&gt;71 -->\n<g id=\"edge71\" class=\"edge\">\n<title>70&#45;&gt;71</title>\n<path fill=\"none\" stroke=\"#000000\" d=\"M2103.3179,-1650.8796C2096.5983,-1639.7735 2089.3243,-1627.7513 2082.5586,-1616.5691\"/>\n<polygon fill=\"#000000\" stroke=\"#000000\" points=\"2085.4332,-1614.5589 2077.262,-1607.8149 2079.4441,-1618.1826 2085.4332,-1614.5589\"/>\n</g>\n<!-- 72 -->\n<g id=\"node73\" class=\"node\">\n<title>72</title>\n<polygon fill=\"none\" stroke=\"#000000\" points=\"2227,-1615 2128,-1615 2128,-1532 2227,-1532 2227,-1615\"/>\n<text text-anchor=\"middle\" x=\"2177.5\" y=\"-1599.8\" font-family=\"Helvetica,sans-Serif\" font-size=\"14.00\" fill=\"#000000\">a1 &lt;= 0.684</text>\n<text text-anchor=\"middle\" x=\"2177.5\" y=\"-1584.8\" font-family=\"Helvetica,sans-Serif\" font-size=\"14.00\" fill=\"#000000\">gini = 0.5</text>\n<text text-anchor=\"middle\" x=\"2177.5\" y=\"-1569.8\" font-family=\"Helvetica,sans-Serif\" font-size=\"14.00\" fill=\"#000000\">samples = 2</text>\n<text text-anchor=\"middle\" x=\"2177.5\" y=\"-1554.8\" font-family=\"Helvetica,sans-Serif\" font-size=\"14.00\" fill=\"#000000\">value = [1, 1]</text>\n<text text-anchor=\"middle\" x=\"2177.5\" y=\"-1539.8\" font-family=\"Helvetica,sans-Serif\" font-size=\"14.00\" fill=\"#000000\">class = 1</text>\n</g>\n<!-- 70&#45;&gt;72 -->\n<g id=\"edge72\" class=\"edge\">\n<title>70&#45;&gt;72</title>\n<path fill=\"none\" stroke=\"#000000\" d=\"M2145.6378,-1650.8796C2149.1238,-1642.4136 2152.829,-1633.4153 2156.4331,-1624.6626\"/>\n<polygon fill=\"#000000\" stroke=\"#000000\" points=\"2159.7178,-1625.8775 2160.289,-1615.2981 2153.2451,-1623.2122 2159.7178,-1625.8775\"/>\n</g>\n<!-- 73 -->\n<g id=\"node74\" class=\"node\">\n<title>73</title>\n<polygon fill=\"none\" stroke=\"#000000\" points=\"2160,-1488.5 2061,-1488.5 2061,-1420.5 2160,-1420.5 2160,-1488.5\"/>\n<text text-anchor=\"middle\" x=\"2110.5\" y=\"-1473.3\" font-family=\"Helvetica,sans-Serif\" font-size=\"14.00\" fill=\"#000000\">gini = 0.0</text>\n<text text-anchor=\"middle\" x=\"2110.5\" y=\"-1458.3\" font-family=\"Helvetica,sans-Serif\" font-size=\"14.00\" fill=\"#000000\">samples = 1</text>\n<text text-anchor=\"middle\" x=\"2110.5\" y=\"-1443.3\" font-family=\"Helvetica,sans-Serif\" font-size=\"14.00\" fill=\"#000000\">value = [0, 1]</text>\n<text text-anchor=\"middle\" x=\"2110.5\" y=\"-1428.3\" font-family=\"Helvetica,sans-Serif\" font-size=\"14.00\" fill=\"#000000\">class = 0</text>\n</g>\n<!-- 72&#45;&gt;73 -->\n<g id=\"edge73\" class=\"edge\">\n<title>72&#45;&gt;73</title>\n<path fill=\"none\" stroke=\"#000000\" d=\"M2154.0667,-1531.8796C2147.8137,-1520.7735 2141.0448,-1508.7513 2134.749,-1497.5691\"/>\n<polygon fill=\"#000000\" stroke=\"#000000\" points=\"2137.7761,-1495.8116 2129.8202,-1488.8149 2131.6765,-1499.2459 2137.7761,-1495.8116\"/>\n</g>\n<!-- 74 -->\n<g id=\"node75\" class=\"node\">\n<title>74</title>\n<polygon fill=\"none\" stroke=\"#000000\" points=\"2277,-1488.5 2178,-1488.5 2178,-1420.5 2277,-1420.5 2277,-1488.5\"/>\n<text text-anchor=\"middle\" x=\"2227.5\" y=\"-1473.3\" font-family=\"Helvetica,sans-Serif\" font-size=\"14.00\" fill=\"#000000\">gini = 0.0</text>\n<text text-anchor=\"middle\" x=\"2227.5\" y=\"-1458.3\" font-family=\"Helvetica,sans-Serif\" font-size=\"14.00\" fill=\"#000000\">samples = 1</text>\n<text text-anchor=\"middle\" x=\"2227.5\" y=\"-1443.3\" font-family=\"Helvetica,sans-Serif\" font-size=\"14.00\" fill=\"#000000\">value = [1, 0]</text>\n<text text-anchor=\"middle\" x=\"2227.5\" y=\"-1428.3\" font-family=\"Helvetica,sans-Serif\" font-size=\"14.00\" fill=\"#000000\">class = 1</text>\n</g>\n<!-- 72&#45;&gt;74 -->\n<g id=\"edge74\" class=\"edge\">\n<title>72&#45;&gt;74</title>\n<path fill=\"none\" stroke=\"#000000\" d=\"M2194.9876,-1531.8796C2199.5616,-1520.9935 2204.5054,-1509.227 2209.1242,-1498.2344\"/>\n<polygon fill=\"#000000\" stroke=\"#000000\" points=\"2212.435,-1499.39 2213.082,-1488.8149 2205.9815,-1496.6784 2212.435,-1499.39\"/>\n</g>\n<!-- 77 -->\n<g id=\"node78\" class=\"node\">\n<title>77</title>\n<polygon fill=\"none\" stroke=\"#000000\" points=\"2686.5,-1853 2562.5,-1853 2562.5,-1770 2686.5,-1770 2686.5,-1853\"/>\n<text text-anchor=\"middle\" x=\"2624.5\" y=\"-1837.8\" font-family=\"Helvetica,sans-Serif\" font-size=\"14.00\" fill=\"#000000\">a4 &lt;= 0.743</text>\n<text text-anchor=\"middle\" x=\"2624.5\" y=\"-1822.8\" font-family=\"Helvetica,sans-Serif\" font-size=\"14.00\" fill=\"#000000\">gini = 0.342</text>\n<text text-anchor=\"middle\" x=\"2624.5\" y=\"-1807.8\" font-family=\"Helvetica,sans-Serif\" font-size=\"14.00\" fill=\"#000000\">samples = 329</text>\n<text text-anchor=\"middle\" x=\"2624.5\" y=\"-1792.8\" font-family=\"Helvetica,sans-Serif\" font-size=\"14.00\" fill=\"#000000\">value = [72, 257]</text>\n<text text-anchor=\"middle\" x=\"2624.5\" y=\"-1777.8\" font-family=\"Helvetica,sans-Serif\" font-size=\"14.00\" fill=\"#000000\">class = 0</text>\n</g>\n<!-- 76&#45;&gt;77 -->\n<g id=\"edge77\" class=\"edge\">\n<title>76&#45;&gt;77</title>\n<path fill=\"none\" stroke=\"#000000\" d=\"M2624.5,-1888.8796C2624.5,-1880.6838 2624.5,-1871.9891 2624.5,-1863.5013\"/>\n<polygon fill=\"#000000\" stroke=\"#000000\" points=\"2628.0001,-1863.298 2624.5,-1853.2981 2621.0001,-1863.2981 2628.0001,-1863.298\"/>\n</g>\n<!-- 182 -->\n<g id=\"node183\" class=\"node\">\n<title>182</title>\n<polygon fill=\"none\" stroke=\"#000000\" points=\"3201,-1853 3094,-1853 3094,-1770 3201,-1770 3201,-1853\"/>\n<text text-anchor=\"middle\" x=\"3147.5\" y=\"-1837.8\" font-family=\"Helvetica,sans-Serif\" font-size=\"14.00\" fill=\"#000000\">a5 &lt;= 1.714</text>\n<text text-anchor=\"middle\" x=\"3147.5\" y=\"-1822.8\" font-family=\"Helvetica,sans-Serif\" font-size=\"14.00\" fill=\"#000000\">gini = 0.138</text>\n<text text-anchor=\"middle\" x=\"3147.5\" y=\"-1807.8\" font-family=\"Helvetica,sans-Serif\" font-size=\"14.00\" fill=\"#000000\">samples = 67</text>\n<text text-anchor=\"middle\" x=\"3147.5\" y=\"-1792.8\" font-family=\"Helvetica,sans-Serif\" font-size=\"14.00\" fill=\"#000000\">value = [62, 5]</text>\n<text text-anchor=\"middle\" x=\"3147.5\" y=\"-1777.8\" font-family=\"Helvetica,sans-Serif\" font-size=\"14.00\" fill=\"#000000\">class = 1</text>\n</g>\n<!-- 76&#45;&gt;182 -->\n<g id=\"edge182\" class=\"edge\">\n<title>76&#45;&gt;182</title>\n<path fill=\"none\" stroke=\"#000000\" d=\"M2690.7383,-1915.4286C2791.9855,-1892.3914 2983.964,-1848.7099 3083.7197,-1826.0122\"/>\n<polygon fill=\"#000000\" stroke=\"#000000\" points=\"3084.6896,-1829.381 3093.6638,-1823.7495 3083.1365,-1822.5555 3084.6896,-1829.381\"/>\n</g>\n<!-- 78 -->\n<g id=\"node79\" class=\"node\">\n<title>78</title>\n<polygon fill=\"none\" stroke=\"#000000\" points=\"2619.5,-1734 2495.5,-1734 2495.5,-1651 2619.5,-1651 2619.5,-1734\"/>\n<text text-anchor=\"middle\" x=\"2557.5\" y=\"-1718.8\" font-family=\"Helvetica,sans-Serif\" font-size=\"14.00\" fill=\"#000000\">a4 &lt;= &#45;0.741</text>\n<text text-anchor=\"middle\" x=\"2557.5\" y=\"-1703.8\" font-family=\"Helvetica,sans-Serif\" font-size=\"14.00\" fill=\"#000000\">gini = 0.269</text>\n<text text-anchor=\"middle\" x=\"2557.5\" y=\"-1688.8\" font-family=\"Helvetica,sans-Serif\" font-size=\"14.00\" fill=\"#000000\">samples = 306</text>\n<text text-anchor=\"middle\" x=\"2557.5\" y=\"-1673.8\" font-family=\"Helvetica,sans-Serif\" font-size=\"14.00\" fill=\"#000000\">value = [49, 257]</text>\n<text text-anchor=\"middle\" x=\"2557.5\" y=\"-1658.8\" font-family=\"Helvetica,sans-Serif\" font-size=\"14.00\" fill=\"#000000\">class = 0</text>\n</g>\n<!-- 77&#45;&gt;78 -->\n<g id=\"edge78\" class=\"edge\">\n<title>77&#45;&gt;78</title>\n<path fill=\"none\" stroke=\"#000000\" d=\"M2601.0667,-1769.8796C2596.1987,-1761.2335 2591.0181,-1752.0322 2585.9914,-1743.1042\"/>\n<polygon fill=\"#000000\" stroke=\"#000000\" points=\"2588.9893,-1741.2947 2581.0334,-1734.2981 2582.8897,-1744.729 2588.9893,-1741.2947\"/>\n</g>\n<!-- 181 -->\n<g id=\"node182\" class=\"node\">\n<title>181</title>\n<polygon fill=\"none\" stroke=\"#000000\" points=\"2745,-1726.5 2638,-1726.5 2638,-1658.5 2745,-1658.5 2745,-1726.5\"/>\n<text text-anchor=\"middle\" x=\"2691.5\" y=\"-1711.3\" font-family=\"Helvetica,sans-Serif\" font-size=\"14.00\" fill=\"#000000\">gini = 0.0</text>\n<text text-anchor=\"middle\" x=\"2691.5\" y=\"-1696.3\" font-family=\"Helvetica,sans-Serif\" font-size=\"14.00\" fill=\"#000000\">samples = 23</text>\n<text text-anchor=\"middle\" x=\"2691.5\" y=\"-1681.3\" font-family=\"Helvetica,sans-Serif\" font-size=\"14.00\" fill=\"#000000\">value = [23, 0]</text>\n<text text-anchor=\"middle\" x=\"2691.5\" y=\"-1666.3\" font-family=\"Helvetica,sans-Serif\" font-size=\"14.00\" fill=\"#000000\">class = 1</text>\n</g>\n<!-- 77&#45;&gt;181 -->\n<g id=\"edge181\" class=\"edge\">\n<title>77&#45;&gt;181</title>\n<path fill=\"none\" stroke=\"#000000\" d=\"M2647.9333,-1769.8796C2654.1863,-1758.7735 2660.9552,-1746.7513 2667.251,-1735.5691\"/>\n<polygon fill=\"#000000\" stroke=\"#000000\" points=\"2670.3235,-1737.2459 2672.1798,-1726.8149 2664.2239,-1733.8116 2670.3235,-1737.2459\"/>\n</g>\n<!-- 79 -->\n<g id=\"node80\" class=\"node\">\n<title>79</title>\n<polygon fill=\"none\" stroke=\"#000000\" points=\"2523,-1615 2416,-1615 2416,-1532 2523,-1532 2523,-1615\"/>\n<text text-anchor=\"middle\" x=\"2469.5\" y=\"-1599.8\" font-family=\"Helvetica,sans-Serif\" font-size=\"14.00\" fill=\"#000000\">a3 &lt;= 1.292</text>\n<text text-anchor=\"middle\" x=\"2469.5\" y=\"-1584.8\" font-family=\"Helvetica,sans-Serif\" font-size=\"14.00\" fill=\"#000000\">gini = 0.117</text>\n<text text-anchor=\"middle\" x=\"2469.5\" y=\"-1569.8\" font-family=\"Helvetica,sans-Serif\" font-size=\"14.00\" fill=\"#000000\">samples = 16</text>\n<text text-anchor=\"middle\" x=\"2469.5\" y=\"-1554.8\" font-family=\"Helvetica,sans-Serif\" font-size=\"14.00\" fill=\"#000000\">value = [15, 1]</text>\n<text text-anchor=\"middle\" x=\"2469.5\" y=\"-1539.8\" font-family=\"Helvetica,sans-Serif\" font-size=\"14.00\" fill=\"#000000\">class = 1</text>\n</g>\n<!-- 78&#45;&gt;79 -->\n<g id=\"edge79\" class=\"edge\">\n<title>78&#45;&gt;79</title>\n<path fill=\"none\" stroke=\"#000000\" d=\"M2526.7219,-1650.8796C2520.1949,-1642.0534 2513.2401,-1632.6485 2506.5092,-1623.5466\"/>\n<polygon fill=\"#000000\" stroke=\"#000000\" points=\"2509.1695,-1621.2574 2500.4095,-1615.2981 2503.5412,-1625.4195 2509.1695,-1621.2574\"/>\n</g>\n<!-- 84 -->\n<g id=\"node85\" class=\"node\">\n<title>84</title>\n<polygon fill=\"none\" stroke=\"#000000\" points=\"2708.5,-1615 2584.5,-1615 2584.5,-1532 2708.5,-1532 2708.5,-1615\"/>\n<text text-anchor=\"middle\" x=\"2646.5\" y=\"-1599.8\" font-family=\"Helvetica,sans-Serif\" font-size=\"14.00\" fill=\"#000000\">a6 &lt;= &#45;0.513</text>\n<text text-anchor=\"middle\" x=\"2646.5\" y=\"-1584.8\" font-family=\"Helvetica,sans-Serif\" font-size=\"14.00\" fill=\"#000000\">gini = 0.207</text>\n<text text-anchor=\"middle\" x=\"2646.5\" y=\"-1569.8\" font-family=\"Helvetica,sans-Serif\" font-size=\"14.00\" fill=\"#000000\">samples = 290</text>\n<text text-anchor=\"middle\" x=\"2646.5\" y=\"-1554.8\" font-family=\"Helvetica,sans-Serif\" font-size=\"14.00\" fill=\"#000000\">value = [34, 256]</text>\n<text text-anchor=\"middle\" x=\"2646.5\" y=\"-1539.8\" font-family=\"Helvetica,sans-Serif\" font-size=\"14.00\" fill=\"#000000\">class = 0</text>\n</g>\n<!-- 78&#45;&gt;84 -->\n<g id=\"edge84\" class=\"edge\">\n<title>78&#45;&gt;84</title>\n<path fill=\"none\" stroke=\"#000000\" d=\"M2588.6279,-1650.8796C2595.229,-1642.0534 2602.2629,-1632.6485 2609.0702,-1623.5466\"/>\n<polygon fill=\"#000000\" stroke=\"#000000\" points=\"2612.0528,-1625.4024 2615.2393,-1615.2981 2606.4472,-1621.2099 2612.0528,-1625.4024\"/>\n</g>\n<!-- 80 -->\n<g id=\"node81\" class=\"node\">\n<title>80</title>\n<polygon fill=\"none\" stroke=\"#000000\" points=\"2402,-1488.5 2295,-1488.5 2295,-1420.5 2402,-1420.5 2402,-1488.5\"/>\n<text text-anchor=\"middle\" x=\"2348.5\" y=\"-1473.3\" font-family=\"Helvetica,sans-Serif\" font-size=\"14.00\" fill=\"#000000\">gini = 0.0</text>\n<text text-anchor=\"middle\" x=\"2348.5\" y=\"-1458.3\" font-family=\"Helvetica,sans-Serif\" font-size=\"14.00\" fill=\"#000000\">samples = 13</text>\n<text text-anchor=\"middle\" x=\"2348.5\" y=\"-1443.3\" font-family=\"Helvetica,sans-Serif\" font-size=\"14.00\" fill=\"#000000\">value = [13, 0]</text>\n<text text-anchor=\"middle\" x=\"2348.5\" y=\"-1428.3\" font-family=\"Helvetica,sans-Serif\" font-size=\"14.00\" fill=\"#000000\">class = 1</text>\n</g>\n<!-- 79&#45;&gt;80 -->\n<g id=\"edge80\" class=\"edge\">\n<title>79&#45;&gt;80</title>\n<path fill=\"none\" stroke=\"#000000\" d=\"M2427.1801,-1531.8796C2415.3283,-1520.2237 2402.4505,-1507.5587 2390.6109,-1495.9148\"/>\n<polygon fill=\"#000000\" stroke=\"#000000\" points=\"2392.9756,-1493.3314 2383.3917,-1488.8149 2388.0673,-1498.3223 2392.9756,-1493.3314\"/>\n</g>\n<!-- 81 -->\n<g id=\"node82\" class=\"node\">\n<title>81</title>\n<polygon fill=\"none\" stroke=\"#000000\" points=\"2519,-1496 2420,-1496 2420,-1413 2519,-1413 2519,-1496\"/>\n<text text-anchor=\"middle\" x=\"2469.5\" y=\"-1480.8\" font-family=\"Helvetica,sans-Serif\" font-size=\"14.00\" fill=\"#000000\">a6 &lt;= 0.619</text>\n<text text-anchor=\"middle\" x=\"2469.5\" y=\"-1465.8\" font-family=\"Helvetica,sans-Serif\" font-size=\"14.00\" fill=\"#000000\">gini = 0.444</text>\n<text text-anchor=\"middle\" x=\"2469.5\" y=\"-1450.8\" font-family=\"Helvetica,sans-Serif\" font-size=\"14.00\" fill=\"#000000\">samples = 3</text>\n<text text-anchor=\"middle\" x=\"2469.5\" y=\"-1435.8\" font-family=\"Helvetica,sans-Serif\" font-size=\"14.00\" fill=\"#000000\">value = [2, 1]</text>\n<text text-anchor=\"middle\" x=\"2469.5\" y=\"-1420.8\" font-family=\"Helvetica,sans-Serif\" font-size=\"14.00\" fill=\"#000000\">class = 1</text>\n</g>\n<!-- 79&#45;&gt;81 -->\n<g id=\"edge81\" class=\"edge\">\n<title>79&#45;&gt;81</title>\n<path fill=\"none\" stroke=\"#000000\" d=\"M2469.5,-1531.8796C2469.5,-1523.6838 2469.5,-1514.9891 2469.5,-1506.5013\"/>\n<polygon fill=\"#000000\" stroke=\"#000000\" points=\"2473.0001,-1506.298 2469.5,-1496.2981 2466.0001,-1506.2981 2473.0001,-1506.298\"/>\n</g>\n<!-- 82 -->\n<g id=\"node83\" class=\"node\">\n<title>82</title>\n<polygon fill=\"none\" stroke=\"#000000\" points=\"2380,-1369.5 2281,-1369.5 2281,-1301.5 2380,-1301.5 2380,-1369.5\"/>\n<text text-anchor=\"middle\" x=\"2330.5\" y=\"-1354.3\" font-family=\"Helvetica,sans-Serif\" font-size=\"14.00\" fill=\"#000000\">gini = 0.0</text>\n<text text-anchor=\"middle\" x=\"2330.5\" y=\"-1339.3\" font-family=\"Helvetica,sans-Serif\" font-size=\"14.00\" fill=\"#000000\">samples = 2</text>\n<text text-anchor=\"middle\" x=\"2330.5\" y=\"-1324.3\" font-family=\"Helvetica,sans-Serif\" font-size=\"14.00\" fill=\"#000000\">value = [2, 0]</text>\n<text text-anchor=\"middle\" x=\"2330.5\" y=\"-1309.3\" font-family=\"Helvetica,sans-Serif\" font-size=\"14.00\" fill=\"#000000\">class = 1</text>\n</g>\n<!-- 81&#45;&gt;82 -->\n<g id=\"edge82\" class=\"edge\">\n<title>81&#45;&gt;82</title>\n<path fill=\"none\" stroke=\"#000000\" d=\"M2420.8845,-1412.8796C2407.1413,-1401.1138 2392.1969,-1388.3197 2378.4907,-1376.5855\"/>\n<polygon fill=\"#000000\" stroke=\"#000000\" points=\"2380.4548,-1373.6596 2370.5822,-1369.8149 2375.9024,-1378.9771 2380.4548,-1373.6596\"/>\n</g>\n<!-- 83 -->\n<g id=\"node84\" class=\"node\">\n<title>83</title>\n<polygon fill=\"none\" stroke=\"#000000\" points=\"2497,-1369.5 2398,-1369.5 2398,-1301.5 2497,-1301.5 2497,-1369.5\"/>\n<text text-anchor=\"middle\" x=\"2447.5\" y=\"-1354.3\" font-family=\"Helvetica,sans-Serif\" font-size=\"14.00\" fill=\"#000000\">gini = 0.0</text>\n<text text-anchor=\"middle\" x=\"2447.5\" y=\"-1339.3\" font-family=\"Helvetica,sans-Serif\" font-size=\"14.00\" fill=\"#000000\">samples = 1</text>\n<text text-anchor=\"middle\" x=\"2447.5\" y=\"-1324.3\" font-family=\"Helvetica,sans-Serif\" font-size=\"14.00\" fill=\"#000000\">value = [0, 1]</text>\n<text text-anchor=\"middle\" x=\"2447.5\" y=\"-1309.3\" font-family=\"Helvetica,sans-Serif\" font-size=\"14.00\" fill=\"#000000\">class = 0</text>\n</g>\n<!-- 81&#45;&gt;83 -->\n<g id=\"edge83\" class=\"edge\">\n<title>81&#45;&gt;83</title>\n<path fill=\"none\" stroke=\"#000000\" d=\"M2461.8055,-1412.8796C2459.8336,-1402.2134 2457.7054,-1390.7021 2455.7087,-1379.9015\"/>\n<polygon fill=\"#000000\" stroke=\"#000000\" points=\"2459.1036,-1379.012 2453.8439,-1369.8149 2452.2203,-1380.2846 2459.1036,-1379.012\"/>\n</g>\n<!-- 85 -->\n<g id=\"node86\" class=\"node\">\n<title>85</title>\n<polygon fill=\"none\" stroke=\"#000000\" points=\"2696,-1496 2597,-1496 2597,-1413 2696,-1413 2696,-1496\"/>\n<text text-anchor=\"middle\" x=\"2646.5\" y=\"-1480.8\" font-family=\"Helvetica,sans-Serif\" font-size=\"14.00\" fill=\"#000000\">a1 &lt;= &#45;1.364</text>\n<text text-anchor=\"middle\" x=\"2646.5\" y=\"-1465.8\" font-family=\"Helvetica,sans-Serif\" font-size=\"14.00\" fill=\"#000000\">gini = 0.278</text>\n<text text-anchor=\"middle\" x=\"2646.5\" y=\"-1450.8\" font-family=\"Helvetica,sans-Serif\" font-size=\"14.00\" fill=\"#000000\">samples = 6</text>\n<text text-anchor=\"middle\" x=\"2646.5\" y=\"-1435.8\" font-family=\"Helvetica,sans-Serif\" font-size=\"14.00\" fill=\"#000000\">value = [5, 1]</text>\n<text text-anchor=\"middle\" x=\"2646.5\" y=\"-1420.8\" font-family=\"Helvetica,sans-Serif\" font-size=\"14.00\" fill=\"#000000\">class = 1</text>\n</g>\n<!-- 84&#45;&gt;85 -->\n<g id=\"edge85\" class=\"edge\">\n<title>84&#45;&gt;85</title>\n<path fill=\"none\" stroke=\"#000000\" d=\"M2646.5,-1531.8796C2646.5,-1523.6838 2646.5,-1514.9891 2646.5,-1506.5013\"/>\n<polygon fill=\"#000000\" stroke=\"#000000\" points=\"2650.0001,-1506.298 2646.5,-1496.2981 2643.0001,-1506.2981 2650.0001,-1506.298\"/>\n</g>\n<!-- 88 -->\n<g id=\"node89\" class=\"node\">\n<title>88</title>\n<polygon fill=\"none\" stroke=\"#000000\" points=\"2860.5,-1496 2736.5,-1496 2736.5,-1413 2860.5,-1413 2860.5,-1496\"/>\n<text text-anchor=\"middle\" x=\"2798.5\" y=\"-1480.8\" font-family=\"Helvetica,sans-Serif\" font-size=\"14.00\" fill=\"#000000\">a1 &lt;= &#45;0.555</text>\n<text text-anchor=\"middle\" x=\"2798.5\" y=\"-1465.8\" font-family=\"Helvetica,sans-Serif\" font-size=\"14.00\" fill=\"#000000\">gini = 0.183</text>\n<text text-anchor=\"middle\" x=\"2798.5\" y=\"-1450.8\" font-family=\"Helvetica,sans-Serif\" font-size=\"14.00\" fill=\"#000000\">samples = 284</text>\n<text text-anchor=\"middle\" x=\"2798.5\" y=\"-1435.8\" font-family=\"Helvetica,sans-Serif\" font-size=\"14.00\" fill=\"#000000\">value = [29, 255]</text>\n<text text-anchor=\"middle\" x=\"2798.5\" y=\"-1420.8\" font-family=\"Helvetica,sans-Serif\" font-size=\"14.00\" fill=\"#000000\">class = 0</text>\n</g>\n<!-- 84&#45;&gt;88 -->\n<g id=\"edge88\" class=\"edge\">\n<title>84&#45;&gt;88</title>\n<path fill=\"none\" stroke=\"#000000\" d=\"M2699.6622,-1531.8796C2711.8115,-1522.368 2724.8192,-1512.1843 2737.276,-1502.432\"/>\n<polygon fill=\"#000000\" stroke=\"#000000\" points=\"2739.6514,-1505.0173 2745.3678,-1496.0969 2735.3362,-1499.5055 2739.6514,-1505.0173\"/>\n</g>\n<!-- 86 -->\n<g id=\"node87\" class=\"node\">\n<title>86</title>\n<polygon fill=\"none\" stroke=\"#000000\" points=\"2614,-1369.5 2515,-1369.5 2515,-1301.5 2614,-1301.5 2614,-1369.5\"/>\n<text text-anchor=\"middle\" x=\"2564.5\" y=\"-1354.3\" font-family=\"Helvetica,sans-Serif\" font-size=\"14.00\" fill=\"#000000\">gini = 0.0</text>\n<text text-anchor=\"middle\" x=\"2564.5\" y=\"-1339.3\" font-family=\"Helvetica,sans-Serif\" font-size=\"14.00\" fill=\"#000000\">samples = 1</text>\n<text text-anchor=\"middle\" x=\"2564.5\" y=\"-1324.3\" font-family=\"Helvetica,sans-Serif\" font-size=\"14.00\" fill=\"#000000\">value = [0, 1]</text>\n<text text-anchor=\"middle\" x=\"2564.5\" y=\"-1309.3\" font-family=\"Helvetica,sans-Serif\" font-size=\"14.00\" fill=\"#000000\">class = 0</text>\n</g>\n<!-- 85&#45;&gt;86 -->\n<g id=\"edge86\" class=\"edge\">\n<title>85&#45;&gt;86</title>\n<path fill=\"none\" stroke=\"#000000\" d=\"M2617.8204,-1412.8796C2610.0917,-1401.6636 2601.7191,-1389.5131 2593.9492,-1378.2372\"/>\n<polygon fill=\"#000000\" stroke=\"#000000\" points=\"2596.7018,-1376.0634 2588.1456,-1369.8149 2590.9377,-1380.0353 2596.7018,-1376.0634\"/>\n</g>\n<!-- 87 -->\n<g id=\"node88\" class=\"node\">\n<title>87</title>\n<polygon fill=\"none\" stroke=\"#000000\" points=\"2731,-1369.5 2632,-1369.5 2632,-1301.5 2731,-1301.5 2731,-1369.5\"/>\n<text text-anchor=\"middle\" x=\"2681.5\" y=\"-1354.3\" font-family=\"Helvetica,sans-Serif\" font-size=\"14.00\" fill=\"#000000\">gini = 0.0</text>\n<text text-anchor=\"middle\" x=\"2681.5\" y=\"-1339.3\" font-family=\"Helvetica,sans-Serif\" font-size=\"14.00\" fill=\"#000000\">samples = 5</text>\n<text text-anchor=\"middle\" x=\"2681.5\" y=\"-1324.3\" font-family=\"Helvetica,sans-Serif\" font-size=\"14.00\" fill=\"#000000\">value = [5, 0]</text>\n<text text-anchor=\"middle\" x=\"2681.5\" y=\"-1309.3\" font-family=\"Helvetica,sans-Serif\" font-size=\"14.00\" fill=\"#000000\">class = 1</text>\n</g>\n<!-- 85&#45;&gt;87 -->\n<g id=\"edge87\" class=\"edge\">\n<title>85&#45;&gt;87</title>\n<path fill=\"none\" stroke=\"#000000\" d=\"M2658.7413,-1412.8796C2661.9108,-1402.1034 2665.3339,-1390.4647 2668.5389,-1379.5677\"/>\n<polygon fill=\"#000000\" stroke=\"#000000\" points=\"2671.9434,-1380.3962 2671.4074,-1369.8149 2665.2279,-1378.421 2671.9434,-1380.3962\"/>\n</g>\n<!-- 89 -->\n<g id=\"node90\" class=\"node\">\n<title>89</title>\n<polygon fill=\"none\" stroke=\"#000000\" points=\"2848,-1369.5 2749,-1369.5 2749,-1301.5 2848,-1301.5 2848,-1369.5\"/>\n<text text-anchor=\"middle\" x=\"2798.5\" y=\"-1354.3\" font-family=\"Helvetica,sans-Serif\" font-size=\"14.00\" fill=\"#000000\">gini = 0.0</text>\n<text text-anchor=\"middle\" x=\"2798.5\" y=\"-1339.3\" font-family=\"Helvetica,sans-Serif\" font-size=\"14.00\" fill=\"#000000\">samples = 3</text>\n<text text-anchor=\"middle\" x=\"2798.5\" y=\"-1324.3\" font-family=\"Helvetica,sans-Serif\" font-size=\"14.00\" fill=\"#000000\">value = [3, 0]</text>\n<text text-anchor=\"middle\" x=\"2798.5\" y=\"-1309.3\" font-family=\"Helvetica,sans-Serif\" font-size=\"14.00\" fill=\"#000000\">class = 1</text>\n</g>\n<!-- 88&#45;&gt;89 -->\n<g id=\"edge89\" class=\"edge\">\n<title>88&#45;&gt;89</title>\n<path fill=\"none\" stroke=\"#000000\" d=\"M2798.5,-1412.8796C2798.5,-1402.2134 2798.5,-1390.7021 2798.5,-1379.9015\"/>\n<polygon fill=\"#000000\" stroke=\"#000000\" points=\"2802.0001,-1379.8149 2798.5,-1369.8149 2795.0001,-1379.815 2802.0001,-1379.8149\"/>\n</g>\n<!-- 90 -->\n<g id=\"node91\" class=\"node\">\n<title>90</title>\n<polygon fill=\"none\" stroke=\"#000000\" points=\"2990.5,-1377 2866.5,-1377 2866.5,-1294 2990.5,-1294 2990.5,-1377\"/>\n<text text-anchor=\"middle\" x=\"2928.5\" y=\"-1361.8\" font-family=\"Helvetica,sans-Serif\" font-size=\"14.00\" fill=\"#000000\">a6 &lt;= &#45;0.23</text>\n<text text-anchor=\"middle\" x=\"2928.5\" y=\"-1346.8\" font-family=\"Helvetica,sans-Serif\" font-size=\"14.00\" fill=\"#000000\">gini = 0.168</text>\n<text text-anchor=\"middle\" x=\"2928.5\" y=\"-1331.8\" font-family=\"Helvetica,sans-Serif\" font-size=\"14.00\" fill=\"#000000\">samples = 281</text>\n<text text-anchor=\"middle\" x=\"2928.5\" y=\"-1316.8\" font-family=\"Helvetica,sans-Serif\" font-size=\"14.00\" fill=\"#000000\">value = [26, 255]</text>\n<text text-anchor=\"middle\" x=\"2928.5\" y=\"-1301.8\" font-family=\"Helvetica,sans-Serif\" font-size=\"14.00\" fill=\"#000000\">class = 0</text>\n</g>\n<!-- 88&#45;&gt;90 -->\n<g id=\"edge90\" class=\"edge\">\n<title>88&#45;&gt;90</title>\n<path fill=\"none\" stroke=\"#000000\" d=\"M2843.9677,-1412.8796C2854.1017,-1403.6031 2864.934,-1393.6874 2875.3465,-1384.1559\"/>\n<polygon fill=\"#000000\" stroke=\"#000000\" points=\"2877.8252,-1386.6319 2882.8382,-1377.2981 2873.0987,-1381.4685 2877.8252,-1386.6319\"/>\n</g>\n<!-- 91 -->\n<g id=\"node92\" class=\"node\">\n<title>91</title>\n<polygon fill=\"none\" stroke=\"#000000\" points=\"2672,-1258 2565,-1258 2565,-1175 2672,-1175 2672,-1258\"/>\n<text text-anchor=\"middle\" x=\"2618.5\" y=\"-1242.8\" font-family=\"Helvetica,sans-Serif\" font-size=\"14.00\" fill=\"#000000\">a4 &lt;= 0.557</text>\n<text text-anchor=\"middle\" x=\"2618.5\" y=\"-1227.8\" font-family=\"Helvetica,sans-Serif\" font-size=\"14.00\" fill=\"#000000\">gini = 0.038</text>\n<text text-anchor=\"middle\" x=\"2618.5\" y=\"-1212.8\" font-family=\"Helvetica,sans-Serif\" font-size=\"14.00\" fill=\"#000000\">samples = 51</text>\n<text text-anchor=\"middle\" x=\"2618.5\" y=\"-1197.8\" font-family=\"Helvetica,sans-Serif\" font-size=\"14.00\" fill=\"#000000\">value = [1, 50]</text>\n<text text-anchor=\"middle\" x=\"2618.5\" y=\"-1182.8\" font-family=\"Helvetica,sans-Serif\" font-size=\"14.00\" fill=\"#000000\">class = 0</text>\n</g>\n<!-- 90&#45;&gt;91 -->\n<g id=\"edge91\" class=\"edge\">\n<title>90&#45;&gt;91</title>\n<path fill=\"none\" stroke=\"#000000\" d=\"M2866.4748,-1298.6933C2863.1334,-1297.0432 2859.7952,-1295.4669 2856.5,-1294 2799.1187,-1268.4549 2730.6617,-1247.0498 2681.9288,-1233.2532\"/>\n<polygon fill=\"#000000\" stroke=\"#000000\" points=\"2682.7211,-1229.8405 2672.1476,-1230.5112 2680.8316,-1236.5806 2682.7211,-1229.8405\"/>\n</g>\n<!-- 96 -->\n<g id=\"node97\" class=\"node\">\n<title>96</title>\n<polygon fill=\"none\" stroke=\"#000000\" points=\"2990.5,-1258 2866.5,-1258 2866.5,-1175 2990.5,-1175 2990.5,-1258\"/>\n<text text-anchor=\"middle\" x=\"2928.5\" y=\"-1242.8\" font-family=\"Helvetica,sans-Serif\" font-size=\"14.00\" fill=\"#000000\">a4 &lt;= &#45;0.092</text>\n<text text-anchor=\"middle\" x=\"2928.5\" y=\"-1227.8\" font-family=\"Helvetica,sans-Serif\" font-size=\"14.00\" fill=\"#000000\">gini = 0.194</text>\n<text text-anchor=\"middle\" x=\"2928.5\" y=\"-1212.8\" font-family=\"Helvetica,sans-Serif\" font-size=\"14.00\" fill=\"#000000\">samples = 230</text>\n<text text-anchor=\"middle\" x=\"2928.5\" y=\"-1197.8\" font-family=\"Helvetica,sans-Serif\" font-size=\"14.00\" fill=\"#000000\">value = [25, 205]</text>\n<text text-anchor=\"middle\" x=\"2928.5\" y=\"-1182.8\" font-family=\"Helvetica,sans-Serif\" font-size=\"14.00\" fill=\"#000000\">class = 0</text>\n</g>\n<!-- 90&#45;&gt;96 -->\n<g id=\"edge96\" class=\"edge\">\n<title>90&#45;&gt;96</title>\n<path fill=\"none\" stroke=\"#000000\" d=\"M2928.5,-1293.8796C2928.5,-1285.6838 2928.5,-1276.9891 2928.5,-1268.5013\"/>\n<polygon fill=\"#000000\" stroke=\"#000000\" points=\"2932.0001,-1268.298 2928.5,-1258.2981 2925.0001,-1268.2981 2932.0001,-1268.298\"/>\n</g>\n<!-- 92 -->\n<g id=\"node93\" class=\"node\">\n<title>92</title>\n<polygon fill=\"none\" stroke=\"#000000\" points=\"2551,-1131.5 2444,-1131.5 2444,-1063.5 2551,-1063.5 2551,-1131.5\"/>\n<text text-anchor=\"middle\" x=\"2497.5\" y=\"-1116.3\" font-family=\"Helvetica,sans-Serif\" font-size=\"14.00\" fill=\"#000000\">gini = 0.0</text>\n<text text-anchor=\"middle\" x=\"2497.5\" y=\"-1101.3\" font-family=\"Helvetica,sans-Serif\" font-size=\"14.00\" fill=\"#000000\">samples = 44</text>\n<text text-anchor=\"middle\" x=\"2497.5\" y=\"-1086.3\" font-family=\"Helvetica,sans-Serif\" font-size=\"14.00\" fill=\"#000000\">value = [0, 44]</text>\n<text text-anchor=\"middle\" x=\"2497.5\" y=\"-1071.3\" font-family=\"Helvetica,sans-Serif\" font-size=\"14.00\" fill=\"#000000\">class = 0</text>\n</g>\n<!-- 91&#45;&gt;92 -->\n<g id=\"edge92\" class=\"edge\">\n<title>91&#45;&gt;92</title>\n<path fill=\"none\" stroke=\"#000000\" d=\"M2576.1801,-1174.8796C2564.3283,-1163.2237 2551.4505,-1150.5587 2539.6109,-1138.9148\"/>\n<polygon fill=\"#000000\" stroke=\"#000000\" points=\"2541.9756,-1136.3314 2532.3917,-1131.8149 2537.0673,-1141.3223 2541.9756,-1136.3314\"/>\n</g>\n<!-- 93 -->\n<g id=\"node94\" class=\"node\">\n<title>93</title>\n<polygon fill=\"none\" stroke=\"#000000\" points=\"2668,-1139 2569,-1139 2569,-1056 2668,-1056 2668,-1139\"/>\n<text text-anchor=\"middle\" x=\"2618.5\" y=\"-1123.8\" font-family=\"Helvetica,sans-Serif\" font-size=\"14.00\" fill=\"#000000\">a1 &lt;= &#45;0.031</text>\n<text text-anchor=\"middle\" x=\"2618.5\" y=\"-1108.8\" font-family=\"Helvetica,sans-Serif\" font-size=\"14.00\" fill=\"#000000\">gini = 0.245</text>\n<text text-anchor=\"middle\" x=\"2618.5\" y=\"-1093.8\" font-family=\"Helvetica,sans-Serif\" font-size=\"14.00\" fill=\"#000000\">samples = 7</text>\n<text text-anchor=\"middle\" x=\"2618.5\" y=\"-1078.8\" font-family=\"Helvetica,sans-Serif\" font-size=\"14.00\" fill=\"#000000\">value = [1, 6]</text>\n<text text-anchor=\"middle\" x=\"2618.5\" y=\"-1063.8\" font-family=\"Helvetica,sans-Serif\" font-size=\"14.00\" fill=\"#000000\">class = 0</text>\n</g>\n<!-- 91&#45;&gt;93 -->\n<g id=\"edge93\" class=\"edge\">\n<title>91&#45;&gt;93</title>\n<path fill=\"none\" stroke=\"#000000\" d=\"M2618.5,-1174.8796C2618.5,-1166.6838 2618.5,-1157.9891 2618.5,-1149.5013\"/>\n<polygon fill=\"#000000\" stroke=\"#000000\" points=\"2622.0001,-1149.298 2618.5,-1139.2981 2615.0001,-1149.2981 2622.0001,-1149.298\"/>\n</g>\n<!-- 94 -->\n<g id=\"node95\" class=\"node\">\n<title>94</title>\n<polygon fill=\"none\" stroke=\"#000000\" points=\"2551,-1012.5 2452,-1012.5 2452,-944.5 2551,-944.5 2551,-1012.5\"/>\n<text text-anchor=\"middle\" x=\"2501.5\" y=\"-997.3\" font-family=\"Helvetica,sans-Serif\" font-size=\"14.00\" fill=\"#000000\">gini = 0.0</text>\n<text text-anchor=\"middle\" x=\"2501.5\" y=\"-982.3\" font-family=\"Helvetica,sans-Serif\" font-size=\"14.00\" fill=\"#000000\">samples = 1</text>\n<text text-anchor=\"middle\" x=\"2501.5\" y=\"-967.3\" font-family=\"Helvetica,sans-Serif\" font-size=\"14.00\" fill=\"#000000\">value = [1, 0]</text>\n<text text-anchor=\"middle\" x=\"2501.5\" y=\"-952.3\" font-family=\"Helvetica,sans-Serif\" font-size=\"14.00\" fill=\"#000000\">class = 1</text>\n</g>\n<!-- 93&#45;&gt;94 -->\n<g id=\"edge94\" class=\"edge\">\n<title>93&#45;&gt;94</title>\n<path fill=\"none\" stroke=\"#000000\" d=\"M2577.5791,-1055.8796C2566.2272,-1044.3337 2553.9018,-1031.7976 2542.543,-1020.2446\"/>\n<polygon fill=\"#000000\" stroke=\"#000000\" points=\"2544.7449,-1017.4919 2535.2382,-1012.8149 2539.7534,-1022.3995 2544.7449,-1017.4919\"/>\n</g>\n<!-- 95 -->\n<g id=\"node96\" class=\"node\">\n<title>95</title>\n<polygon fill=\"none\" stroke=\"#000000\" points=\"2668,-1012.5 2569,-1012.5 2569,-944.5 2668,-944.5 2668,-1012.5\"/>\n<text text-anchor=\"middle\" x=\"2618.5\" y=\"-997.3\" font-family=\"Helvetica,sans-Serif\" font-size=\"14.00\" fill=\"#000000\">gini = 0.0</text>\n<text text-anchor=\"middle\" x=\"2618.5\" y=\"-982.3\" font-family=\"Helvetica,sans-Serif\" font-size=\"14.00\" fill=\"#000000\">samples = 6</text>\n<text text-anchor=\"middle\" x=\"2618.5\" y=\"-967.3\" font-family=\"Helvetica,sans-Serif\" font-size=\"14.00\" fill=\"#000000\">value = [0, 6]</text>\n<text text-anchor=\"middle\" x=\"2618.5\" y=\"-952.3\" font-family=\"Helvetica,sans-Serif\" font-size=\"14.00\" fill=\"#000000\">class = 0</text>\n</g>\n<!-- 93&#45;&gt;95 -->\n<g id=\"edge95\" class=\"edge\">\n<title>93&#45;&gt;95</title>\n<path fill=\"none\" stroke=\"#000000\" d=\"M2618.5,-1055.8796C2618.5,-1045.2134 2618.5,-1033.7021 2618.5,-1022.9015\"/>\n<polygon fill=\"#000000\" stroke=\"#000000\" points=\"2622.0001,-1022.8149 2618.5,-1012.8149 2615.0001,-1022.815 2622.0001,-1022.8149\"/>\n</g>\n<!-- 97 -->\n<g id=\"node98\" class=\"node\">\n<title>97</title>\n<polygon fill=\"none\" stroke=\"#000000\" points=\"2965.5,-1139 2849.5,-1139 2849.5,-1056 2965.5,-1056 2965.5,-1139\"/>\n<text text-anchor=\"middle\" x=\"2907.5\" y=\"-1123.8\" font-family=\"Helvetica,sans-Serif\" font-size=\"14.00\" fill=\"#000000\">a4 &lt;= &#45;0.185</text>\n<text text-anchor=\"middle\" x=\"2907.5\" y=\"-1108.8\" font-family=\"Helvetica,sans-Serif\" font-size=\"14.00\" fill=\"#000000\">gini = 0.247</text>\n<text text-anchor=\"middle\" x=\"2907.5\" y=\"-1093.8\" font-family=\"Helvetica,sans-Serif\" font-size=\"14.00\" fill=\"#000000\">samples = 104</text>\n<text text-anchor=\"middle\" x=\"2907.5\" y=\"-1078.8\" font-family=\"Helvetica,sans-Serif\" font-size=\"14.00\" fill=\"#000000\">value = [15, 89]</text>\n<text text-anchor=\"middle\" x=\"2907.5\" y=\"-1063.8\" font-family=\"Helvetica,sans-Serif\" font-size=\"14.00\" fill=\"#000000\">class = 0</text>\n</g>\n<!-- 96&#45;&gt;97 -->\n<g id=\"edge97\" class=\"edge\">\n<title>96&#45;&gt;97</title>\n<path fill=\"none\" stroke=\"#000000\" d=\"M2921.1552,-1174.8796C2919.693,-1166.5938 2918.1408,-1157.798 2916.6273,-1149.2216\"/>\n<polygon fill=\"#000000\" stroke=\"#000000\" points=\"2920.0608,-1148.5376 2914.8761,-1139.2981 2913.1673,-1149.7542 2920.0608,-1148.5376\"/>\n</g>\n<!-- 140 -->\n<g id=\"node141\" class=\"node\">\n<title>140</title>\n<polygon fill=\"none\" stroke=\"#000000\" points=\"3196.5,-1139 3072.5,-1139 3072.5,-1056 3196.5,-1056 3196.5,-1139\"/>\n<text text-anchor=\"middle\" x=\"3134.5\" y=\"-1123.8\" font-family=\"Helvetica,sans-Serif\" font-size=\"14.00\" fill=\"#000000\">a2 &lt;= &#45;0.177</text>\n<text text-anchor=\"middle\" x=\"3134.5\" y=\"-1108.8\" font-family=\"Helvetica,sans-Serif\" font-size=\"14.00\" fill=\"#000000\">gini = 0.146</text>\n<text text-anchor=\"middle\" x=\"3134.5\" y=\"-1093.8\" font-family=\"Helvetica,sans-Serif\" font-size=\"14.00\" fill=\"#000000\">samples = 126</text>\n<text text-anchor=\"middle\" x=\"3134.5\" y=\"-1078.8\" font-family=\"Helvetica,sans-Serif\" font-size=\"14.00\" fill=\"#000000\">value = [10, 116]</text>\n<text text-anchor=\"middle\" x=\"3134.5\" y=\"-1063.8\" font-family=\"Helvetica,sans-Serif\" font-size=\"14.00\" fill=\"#000000\">class = 0</text>\n</g>\n<!-- 96&#45;&gt;140 -->\n<g id=\"edge140\" class=\"edge\">\n<title>96&#45;&gt;140</title>\n<path fill=\"none\" stroke=\"#000000\" d=\"M2990.5861,-1180.6347C3013.4864,-1167.4059 3039.6086,-1152.3159 3063.2557,-1138.6557\"/>\n<polygon fill=\"#000000\" stroke=\"#000000\" points=\"3065.2772,-1141.53 3072.1855,-1133.4972 3061.7757,-1135.4686 3065.2772,-1141.53\"/>\n</g>\n<!-- 98 -->\n<g id=\"node99\" class=\"node\">\n<title>98</title>\n<polygon fill=\"none\" stroke=\"#000000\" points=\"2802.5,-1020 2686.5,-1020 2686.5,-937 2802.5,-937 2802.5,-1020\"/>\n<text text-anchor=\"middle\" x=\"2744.5\" y=\"-1004.8\" font-family=\"Helvetica,sans-Serif\" font-size=\"14.00\" fill=\"#000000\">a2 &lt;= 0.404</text>\n<text text-anchor=\"middle\" x=\"2744.5\" y=\"-989.8\" font-family=\"Helvetica,sans-Serif\" font-size=\"14.00\" fill=\"#000000\">gini = 0.207</text>\n<text text-anchor=\"middle\" x=\"2744.5\" y=\"-974.8\" font-family=\"Helvetica,sans-Serif\" font-size=\"14.00\" fill=\"#000000\">samples = 94</text>\n<text text-anchor=\"middle\" x=\"2744.5\" y=\"-959.8\" font-family=\"Helvetica,sans-Serif\" font-size=\"14.00\" fill=\"#000000\">value = [11, 83]</text>\n<text text-anchor=\"middle\" x=\"2744.5\" y=\"-944.8\" font-family=\"Helvetica,sans-Serif\" font-size=\"14.00\" fill=\"#000000\">class = 0</text>\n</g>\n<!-- 97&#45;&gt;98 -->\n<g id=\"edge98\" class=\"edge\">\n<title>97&#45;&gt;98</title>\n<path fill=\"none\" stroke=\"#000000\" d=\"M2850.4905,-1055.8796C2837.3379,-1046.2774 2823.2472,-1035.9903 2809.7732,-1026.1534\"/>\n<polygon fill=\"#000000\" stroke=\"#000000\" points=\"2811.6177,-1023.1666 2801.4773,-1020.0969 2807.4902,-1028.8202 2811.6177,-1023.1666\"/>\n</g>\n<!-- 133 -->\n<g id=\"node134\" class=\"node\">\n<title>133</title>\n<polygon fill=\"none\" stroke=\"#000000\" points=\"2959.5,-1020 2855.5,-1020 2855.5,-937 2959.5,-937 2959.5,-1020\"/>\n<text text-anchor=\"middle\" x=\"2907.5\" y=\"-1004.8\" font-family=\"Helvetica,sans-Serif\" font-size=\"14.00\" fill=\"#000000\">a2 &lt;= 0.162</text>\n<text text-anchor=\"middle\" x=\"2907.5\" y=\"-989.8\" font-family=\"Helvetica,sans-Serif\" font-size=\"14.00\" fill=\"#000000\">gini = 0.48</text>\n<text text-anchor=\"middle\" x=\"2907.5\" y=\"-974.8\" font-family=\"Helvetica,sans-Serif\" font-size=\"14.00\" fill=\"#000000\">samples = 10</text>\n<text text-anchor=\"middle\" x=\"2907.5\" y=\"-959.8\" font-family=\"Helvetica,sans-Serif\" font-size=\"14.00\" fill=\"#000000\">value = [4, 6]</text>\n<text text-anchor=\"middle\" x=\"2907.5\" y=\"-944.8\" font-family=\"Helvetica,sans-Serif\" font-size=\"14.00\" fill=\"#000000\">class = 0</text>\n</g>\n<!-- 97&#45;&gt;133 -->\n<g id=\"edge133\" class=\"edge\">\n<title>97&#45;&gt;133</title>\n<path fill=\"none\" stroke=\"#000000\" d=\"M2907.5,-1055.8796C2907.5,-1047.6838 2907.5,-1038.9891 2907.5,-1030.5013\"/>\n<polygon fill=\"#000000\" stroke=\"#000000\" points=\"2911.0001,-1030.298 2907.5,-1020.2981 2904.0001,-1030.2981 2911.0001,-1030.298\"/>\n</g>\n<!-- 99 -->\n<g id=\"node100\" class=\"node\">\n<title>99</title>\n<polygon fill=\"none\" stroke=\"#000000\" points=\"2377,-901 2270,-901 2270,-818 2377,-818 2377,-901\"/>\n<text text-anchor=\"middle\" x=\"2323.5\" y=\"-885.8\" font-family=\"Helvetica,sans-Serif\" font-size=\"14.00\" fill=\"#000000\">a1 &lt;= 0.16</text>\n<text text-anchor=\"middle\" x=\"2323.5\" y=\"-870.8\" font-family=\"Helvetica,sans-Serif\" font-size=\"14.00\" fill=\"#000000\">gini = 0.136</text>\n<text text-anchor=\"middle\" x=\"2323.5\" y=\"-855.8\" font-family=\"Helvetica,sans-Serif\" font-size=\"14.00\" fill=\"#000000\">samples = 68</text>\n<text text-anchor=\"middle\" x=\"2323.5\" y=\"-840.8\" font-family=\"Helvetica,sans-Serif\" font-size=\"14.00\" fill=\"#000000\">value = [5, 63]</text>\n<text text-anchor=\"middle\" x=\"2323.5\" y=\"-825.8\" font-family=\"Helvetica,sans-Serif\" font-size=\"14.00\" fill=\"#000000\">class = 0</text>\n</g>\n<!-- 98&#45;&gt;99 -->\n<g id=\"edge99\" class=\"edge\">\n<title>98&#45;&gt;99</title>\n<path fill=\"none\" stroke=\"#000000\" d=\"M2686.1558,-941.2587C2682.9386,-939.7221 2679.7083,-938.289 2676.5,-937 2579.6668,-898.0948 2459.6568,-877.0297 2387.4582,-867.0454\"/>\n<polygon fill=\"#000000\" stroke=\"#000000\" points=\"2387.5404,-863.5247 2377.1614,-865.652 2386.6016,-870.4615 2387.5404,-863.5247\"/>\n</g>\n<!-- 114 -->\n<g id=\"node115\" class=\"node\">\n<title>114</title>\n<polygon fill=\"none\" stroke=\"#000000\" points=\"2743,-901 2636,-901 2636,-818 2743,-818 2743,-901\"/>\n<text text-anchor=\"middle\" x=\"2689.5\" y=\"-885.8\" font-family=\"Helvetica,sans-Serif\" font-size=\"14.00\" fill=\"#000000\">a6 &lt;= &#45;0.089</text>\n<text text-anchor=\"middle\" x=\"2689.5\" y=\"-870.8\" font-family=\"Helvetica,sans-Serif\" font-size=\"14.00\" fill=\"#000000\">gini = 0.355</text>\n<text text-anchor=\"middle\" x=\"2689.5\" y=\"-855.8\" font-family=\"Helvetica,sans-Serif\" font-size=\"14.00\" fill=\"#000000\">samples = 26</text>\n<text text-anchor=\"middle\" x=\"2689.5\" y=\"-840.8\" font-family=\"Helvetica,sans-Serif\" font-size=\"14.00\" fill=\"#000000\">value = [6, 20]</text>\n<text text-anchor=\"middle\" x=\"2689.5\" y=\"-825.8\" font-family=\"Helvetica,sans-Serif\" font-size=\"14.00\" fill=\"#000000\">class = 0</text>\n</g>\n<!-- 98&#45;&gt;114 -->\n<g id=\"edge114\" class=\"edge\">\n<title>98&#45;&gt;114</title>\n<path fill=\"none\" stroke=\"#000000\" d=\"M2725.2637,-936.8796C2721.3092,-928.3236 2717.1034,-919.2238 2713.0175,-910.3833\"/>\n<polygon fill=\"#000000\" stroke=\"#000000\" points=\"2716.191,-908.907 2708.8184,-901.2981 2709.8368,-911.8439 2716.191,-908.907\"/>\n</g>\n<!-- 100 -->\n<g id=\"node101\" class=\"node\">\n<title>100</title>\n<polygon fill=\"none\" stroke=\"#000000\" points=\"2252,-774.5 2145,-774.5 2145,-706.5 2252,-706.5 2252,-774.5\"/>\n<text text-anchor=\"middle\" x=\"2198.5\" y=\"-759.3\" font-family=\"Helvetica,sans-Serif\" font-size=\"14.00\" fill=\"#000000\">gini = 0.0</text>\n<text text-anchor=\"middle\" x=\"2198.5\" y=\"-744.3\" font-family=\"Helvetica,sans-Serif\" font-size=\"14.00\" fill=\"#000000\">samples = 39</text>\n<text text-anchor=\"middle\" x=\"2198.5\" y=\"-729.3\" font-family=\"Helvetica,sans-Serif\" font-size=\"14.00\" fill=\"#000000\">value = [0, 39]</text>\n<text text-anchor=\"middle\" x=\"2198.5\" y=\"-714.3\" font-family=\"Helvetica,sans-Serif\" font-size=\"14.00\" fill=\"#000000\">class = 0</text>\n</g>\n<!-- 99&#45;&gt;100 -->\n<g id=\"edge100\" class=\"edge\">\n<title>99&#45;&gt;100</title>\n<path fill=\"none\" stroke=\"#000000\" d=\"M2279.7811,-817.8796C2267.5375,-806.2237 2254.2339,-793.5587 2242.0029,-781.9148\"/>\n<polygon fill=\"#000000\" stroke=\"#000000\" points=\"2244.2012,-779.1751 2234.5451,-774.8149 2239.3746,-784.245 2244.2012,-779.1751\"/>\n</g>\n<!-- 101 -->\n<g id=\"node102\" class=\"node\">\n<title>101</title>\n<polygon fill=\"none\" stroke=\"#000000\" points=\"2377,-782 2270,-782 2270,-699 2377,-699 2377,-782\"/>\n<text text-anchor=\"middle\" x=\"2323.5\" y=\"-766.8\" font-family=\"Helvetica,sans-Serif\" font-size=\"14.00\" fill=\"#000000\">a2 &lt;= 0.017</text>\n<text text-anchor=\"middle\" x=\"2323.5\" y=\"-751.8\" font-family=\"Helvetica,sans-Serif\" font-size=\"14.00\" fill=\"#000000\">gini = 0.285</text>\n<text text-anchor=\"middle\" x=\"2323.5\" y=\"-736.8\" font-family=\"Helvetica,sans-Serif\" font-size=\"14.00\" fill=\"#000000\">samples = 29</text>\n<text text-anchor=\"middle\" x=\"2323.5\" y=\"-721.8\" font-family=\"Helvetica,sans-Serif\" font-size=\"14.00\" fill=\"#000000\">value = [5, 24]</text>\n<text text-anchor=\"middle\" x=\"2323.5\" y=\"-706.8\" font-family=\"Helvetica,sans-Serif\" font-size=\"14.00\" fill=\"#000000\">class = 0</text>\n</g>\n<!-- 99&#45;&gt;101 -->\n<g id=\"edge101\" class=\"edge\">\n<title>99&#45;&gt;101</title>\n<path fill=\"none\" stroke=\"#000000\" d=\"M2323.5,-817.8796C2323.5,-809.6838 2323.5,-800.9891 2323.5,-792.5013\"/>\n<polygon fill=\"#000000\" stroke=\"#000000\" points=\"2327.0001,-792.298 2323.5,-782.2981 2320.0001,-792.2981 2327.0001,-792.298\"/>\n</g>\n<!-- 102 -->\n<g id=\"node103\" class=\"node\">\n<title>102</title>\n<polygon fill=\"none\" stroke=\"#000000\" points=\"2252,-663 2145,-663 2145,-580 2252,-580 2252,-663\"/>\n<text text-anchor=\"middle\" x=\"2198.5\" y=\"-647.8\" font-family=\"Helvetica,sans-Serif\" font-size=\"14.00\" fill=\"#000000\">a2 &lt;= &#45;0.177</text>\n<text text-anchor=\"middle\" x=\"2198.5\" y=\"-632.8\" font-family=\"Helvetica,sans-Serif\" font-size=\"14.00\" fill=\"#000000\">gini = 0.401</text>\n<text text-anchor=\"middle\" x=\"2198.5\" y=\"-617.8\" font-family=\"Helvetica,sans-Serif\" font-size=\"14.00\" fill=\"#000000\">samples = 18</text>\n<text text-anchor=\"middle\" x=\"2198.5\" y=\"-602.8\" font-family=\"Helvetica,sans-Serif\" font-size=\"14.00\" fill=\"#000000\">value = [5, 13]</text>\n<text text-anchor=\"middle\" x=\"2198.5\" y=\"-587.8\" font-family=\"Helvetica,sans-Serif\" font-size=\"14.00\" fill=\"#000000\">class = 0</text>\n</g>\n<!-- 101&#45;&gt;102 -->\n<g id=\"edge102\" class=\"edge\">\n<title>101&#45;&gt;102</title>\n<path fill=\"none\" stroke=\"#000000\" d=\"M2279.7811,-698.8796C2270.1314,-689.6931 2259.8234,-679.8798 2249.9009,-670.4336\"/>\n<polygon fill=\"#000000\" stroke=\"#000000\" points=\"2252.0616,-667.6582 2242.4055,-663.2981 2247.235,-672.7282 2252.0616,-667.6582\"/>\n</g>\n<!-- 113 -->\n<g id=\"node114\" class=\"node\">\n<title>113</title>\n<polygon fill=\"none\" stroke=\"#000000\" points=\"2377,-655.5 2270,-655.5 2270,-587.5 2377,-587.5 2377,-655.5\"/>\n<text text-anchor=\"middle\" x=\"2323.5\" y=\"-640.3\" font-family=\"Helvetica,sans-Serif\" font-size=\"14.00\" fill=\"#000000\">gini = 0.0</text>\n<text text-anchor=\"middle\" x=\"2323.5\" y=\"-625.3\" font-family=\"Helvetica,sans-Serif\" font-size=\"14.00\" fill=\"#000000\">samples = 11</text>\n<text text-anchor=\"middle\" x=\"2323.5\" y=\"-610.3\" font-family=\"Helvetica,sans-Serif\" font-size=\"14.00\" fill=\"#000000\">value = [0, 11]</text>\n<text text-anchor=\"middle\" x=\"2323.5\" y=\"-595.3\" font-family=\"Helvetica,sans-Serif\" font-size=\"14.00\" fill=\"#000000\">class = 0</text>\n</g>\n<!-- 101&#45;&gt;113 -->\n<g id=\"edge113\" class=\"edge\">\n<title>101&#45;&gt;113</title>\n<path fill=\"none\" stroke=\"#000000\" d=\"M2323.5,-698.8796C2323.5,-688.2134 2323.5,-676.7021 2323.5,-665.9015\"/>\n<polygon fill=\"#000000\" stroke=\"#000000\" points=\"2327.0001,-665.8149 2323.5,-655.8149 2320.0001,-665.815 2327.0001,-665.8149\"/>\n</g>\n<!-- 103 -->\n<g id=\"node104\" class=\"node\">\n<title>103</title>\n<polygon fill=\"none\" stroke=\"#000000\" points=\"2221,-536.5 2122,-536.5 2122,-468.5 2221,-468.5 2221,-536.5\"/>\n<text text-anchor=\"middle\" x=\"2171.5\" y=\"-521.3\" font-family=\"Helvetica,sans-Serif\" font-size=\"14.00\" fill=\"#000000\">gini = 0.0</text>\n<text text-anchor=\"middle\" x=\"2171.5\" y=\"-506.3\" font-family=\"Helvetica,sans-Serif\" font-size=\"14.00\" fill=\"#000000\">samples = 8</text>\n<text text-anchor=\"middle\" x=\"2171.5\" y=\"-491.3\" font-family=\"Helvetica,sans-Serif\" font-size=\"14.00\" fill=\"#000000\">value = [0, 8]</text>\n<text text-anchor=\"middle\" x=\"2171.5\" y=\"-476.3\" font-family=\"Helvetica,sans-Serif\" font-size=\"14.00\" fill=\"#000000\">class = 0</text>\n</g>\n<!-- 102&#45;&gt;103 -->\n<g id=\"edge103\" class=\"edge\">\n<title>102&#45;&gt;103</title>\n<path fill=\"none\" stroke=\"#000000\" d=\"M2189.0567,-579.8796C2186.6117,-569.1034 2183.971,-557.4647 2181.4986,-546.5677\"/>\n<polygon fill=\"#000000\" stroke=\"#000000\" points=\"2184.9117,-545.7926 2179.2857,-536.8149 2178.0852,-547.3415 2184.9117,-545.7926\"/>\n</g>\n<!-- 104 -->\n<g id=\"node105\" class=\"node\">\n<title>104</title>\n<polygon fill=\"none\" stroke=\"#000000\" points=\"2343.5,-544 2239.5,-544 2239.5,-461 2343.5,-461 2343.5,-544\"/>\n<text text-anchor=\"middle\" x=\"2291.5\" y=\"-528.8\" font-family=\"Helvetica,sans-Serif\" font-size=\"14.00\" fill=\"#000000\">a4 &lt;= &#45;0.556</text>\n<text text-anchor=\"middle\" x=\"2291.5\" y=\"-513.8\" font-family=\"Helvetica,sans-Serif\" font-size=\"14.00\" fill=\"#000000\">gini = 0.5</text>\n<text text-anchor=\"middle\" x=\"2291.5\" y=\"-498.8\" font-family=\"Helvetica,sans-Serif\" font-size=\"14.00\" fill=\"#000000\">samples = 10</text>\n<text text-anchor=\"middle\" x=\"2291.5\" y=\"-483.8\" font-family=\"Helvetica,sans-Serif\" font-size=\"14.00\" fill=\"#000000\">value = [5, 5]</text>\n<text text-anchor=\"middle\" x=\"2291.5\" y=\"-468.8\" font-family=\"Helvetica,sans-Serif\" font-size=\"14.00\" fill=\"#000000\">class = 1</text>\n</g>\n<!-- 102&#45;&gt;104 -->\n<g id=\"edge104\" class=\"edge\">\n<title>102&#45;&gt;104</title>\n<path fill=\"none\" stroke=\"#000000\" d=\"M2231.0269,-579.8796C2237.9951,-570.9633 2245.4247,-561.4565 2252.6056,-552.268\"/>\n<polygon fill=\"#000000\" stroke=\"#000000\" points=\"2255.4343,-554.3326 2258.8343,-544.2981 2249.9188,-550.0221 2255.4343,-554.3326\"/>\n</g>\n<!-- 105 -->\n<g id=\"node106\" class=\"node\">\n<title>105</title>\n<polygon fill=\"none\" stroke=\"#000000\" points=\"2241,-417.5 2142,-417.5 2142,-349.5 2241,-349.5 2241,-417.5\"/>\n<text text-anchor=\"middle\" x=\"2191.5\" y=\"-402.3\" font-family=\"Helvetica,sans-Serif\" font-size=\"14.00\" fill=\"#000000\">gini = 0.0</text>\n<text text-anchor=\"middle\" x=\"2191.5\" y=\"-387.3\" font-family=\"Helvetica,sans-Serif\" font-size=\"14.00\" fill=\"#000000\">samples = 2</text>\n<text text-anchor=\"middle\" x=\"2191.5\" y=\"-372.3\" font-family=\"Helvetica,sans-Serif\" font-size=\"14.00\" fill=\"#000000\">value = [2, 0]</text>\n<text text-anchor=\"middle\" x=\"2191.5\" y=\"-357.3\" font-family=\"Helvetica,sans-Serif\" font-size=\"14.00\" fill=\"#000000\">class = 1</text>\n</g>\n<!-- 104&#45;&gt;105 -->\n<g id=\"edge105\" class=\"edge\">\n<title>104&#45;&gt;105</title>\n<path fill=\"none\" stroke=\"#000000\" d=\"M2256.5249,-460.8796C2246.9148,-449.4436 2236.4885,-437.0363 2226.8571,-425.575\"/>\n<polygon fill=\"#000000\" stroke=\"#000000\" points=\"2229.4491,-423.219 2220.3361,-417.8149 2224.09,-427.7225 2229.4491,-423.219\"/>\n</g>\n<!-- 106 -->\n<g id=\"node107\" class=\"node\">\n<title>106</title>\n<polygon fill=\"none\" stroke=\"#000000\" points=\"2358,-425 2259,-425 2259,-342 2358,-342 2358,-425\"/>\n<text text-anchor=\"middle\" x=\"2308.5\" y=\"-409.8\" font-family=\"Helvetica,sans-Serif\" font-size=\"14.00\" fill=\"#000000\">a5 &lt;= &#45;0.048</text>\n<text text-anchor=\"middle\" x=\"2308.5\" y=\"-394.8\" font-family=\"Helvetica,sans-Serif\" font-size=\"14.00\" fill=\"#000000\">gini = 0.469</text>\n<text text-anchor=\"middle\" x=\"2308.5\" y=\"-379.8\" font-family=\"Helvetica,sans-Serif\" font-size=\"14.00\" fill=\"#000000\">samples = 8</text>\n<text text-anchor=\"middle\" x=\"2308.5\" y=\"-364.8\" font-family=\"Helvetica,sans-Serif\" font-size=\"14.00\" fill=\"#000000\">value = [3, 5]</text>\n<text text-anchor=\"middle\" x=\"2308.5\" y=\"-349.8\" font-family=\"Helvetica,sans-Serif\" font-size=\"14.00\" fill=\"#000000\">class = 0</text>\n</g>\n<!-- 104&#45;&gt;106 -->\n<g id=\"edge106\" class=\"edge\">\n<title>104&#45;&gt;106</title>\n<path fill=\"none\" stroke=\"#000000\" d=\"M2297.4458,-460.8796C2298.6295,-452.5938 2299.886,-443.798 2301.1112,-435.2216\"/>\n<polygon fill=\"#000000\" stroke=\"#000000\" points=\"2304.5794,-435.6926 2302.5288,-425.2981 2297.6497,-434.7026 2304.5794,-435.6926\"/>\n</g>\n<!-- 107 -->\n<g id=\"node108\" class=\"node\">\n<title>107</title>\n<polygon fill=\"none\" stroke=\"#000000\" points=\"2250,-306 2151,-306 2151,-223 2250,-223 2250,-306\"/>\n<text text-anchor=\"middle\" x=\"2200.5\" y=\"-290.8\" font-family=\"Helvetica,sans-Serif\" font-size=\"14.00\" fill=\"#000000\">a6 &lt;= 0.902</text>\n<text text-anchor=\"middle\" x=\"2200.5\" y=\"-275.8\" font-family=\"Helvetica,sans-Serif\" font-size=\"14.00\" fill=\"#000000\">gini = 0.375</text>\n<text text-anchor=\"middle\" x=\"2200.5\" y=\"-260.8\" font-family=\"Helvetica,sans-Serif\" font-size=\"14.00\" fill=\"#000000\">samples = 4</text>\n<text text-anchor=\"middle\" x=\"2200.5\" y=\"-245.8\" font-family=\"Helvetica,sans-Serif\" font-size=\"14.00\" fill=\"#000000\">value = [3, 1]</text>\n<text text-anchor=\"middle\" x=\"2200.5\" y=\"-230.8\" font-family=\"Helvetica,sans-Serif\" font-size=\"14.00\" fill=\"#000000\">class = 1</text>\n</g>\n<!-- 106&#45;&gt;107 -->\n<g id=\"edge107\" class=\"edge\">\n<title>106&#45;&gt;107</title>\n<path fill=\"none\" stroke=\"#000000\" d=\"M2270.7268,-341.8796C2262.4713,-332.7832 2253.658,-323.0722 2245.1626,-313.7116\"/>\n<polygon fill=\"#000000\" stroke=\"#000000\" points=\"2247.7467,-311.3509 2238.4344,-306.2981 2242.5632,-316.0553 2247.7467,-311.3509\"/>\n</g>\n<!-- 112 -->\n<g id=\"node113\" class=\"node\">\n<title>112</title>\n<polygon fill=\"none\" stroke=\"#000000\" points=\"2367,-298.5 2268,-298.5 2268,-230.5 2367,-230.5 2367,-298.5\"/>\n<text text-anchor=\"middle\" x=\"2317.5\" y=\"-283.3\" font-family=\"Helvetica,sans-Serif\" font-size=\"14.00\" fill=\"#000000\">gini = 0.0</text>\n<text text-anchor=\"middle\" x=\"2317.5\" y=\"-268.3\" font-family=\"Helvetica,sans-Serif\" font-size=\"14.00\" fill=\"#000000\">samples = 4</text>\n<text text-anchor=\"middle\" x=\"2317.5\" y=\"-253.3\" font-family=\"Helvetica,sans-Serif\" font-size=\"14.00\" fill=\"#000000\">value = [0, 4]</text>\n<text text-anchor=\"middle\" x=\"2317.5\" y=\"-238.3\" font-family=\"Helvetica,sans-Serif\" font-size=\"14.00\" fill=\"#000000\">class = 0</text>\n</g>\n<!-- 106&#45;&gt;112 -->\n<g id=\"edge112\" class=\"edge\">\n<title>106&#45;&gt;112</title>\n<path fill=\"none\" stroke=\"#000000\" d=\"M2311.6478,-341.8796C2312.4545,-331.2134 2313.3251,-319.7021 2314.1419,-308.9015\"/>\n<polygon fill=\"#000000\" stroke=\"#000000\" points=\"2317.6405,-309.0504 2314.9048,-298.8149 2310.6605,-308.5225 2317.6405,-309.0504\"/>\n</g>\n<!-- 108 -->\n<g id=\"node109\" class=\"node\">\n<title>108</title>\n<polygon fill=\"none\" stroke=\"#000000\" points=\"2195,-179.5 2096,-179.5 2096,-111.5 2195,-111.5 2195,-179.5\"/>\n<text text-anchor=\"middle\" x=\"2145.5\" y=\"-164.3\" font-family=\"Helvetica,sans-Serif\" font-size=\"14.00\" fill=\"#000000\">gini = 0.0</text>\n<text text-anchor=\"middle\" x=\"2145.5\" y=\"-149.3\" font-family=\"Helvetica,sans-Serif\" font-size=\"14.00\" fill=\"#000000\">samples = 2</text>\n<text text-anchor=\"middle\" x=\"2145.5\" y=\"-134.3\" font-family=\"Helvetica,sans-Serif\" font-size=\"14.00\" fill=\"#000000\">value = [2, 0]</text>\n<text text-anchor=\"middle\" x=\"2145.5\" y=\"-119.3\" font-family=\"Helvetica,sans-Serif\" font-size=\"14.00\" fill=\"#000000\">class = 1</text>\n</g>\n<!-- 107&#45;&gt;108 -->\n<g id=\"edge108\" class=\"edge\">\n<title>107&#45;&gt;108</title>\n<path fill=\"none\" stroke=\"#000000\" d=\"M2181.2637,-222.8796C2176.1814,-211.8835 2170.6841,-199.9893 2165.5595,-188.9015\"/>\n<polygon fill=\"#000000\" stroke=\"#000000\" points=\"2168.7324,-187.4239 2161.3598,-179.8149 2162.3782,-190.3607 2168.7324,-187.4239\"/>\n</g>\n<!-- 109 -->\n<g id=\"node110\" class=\"node\">\n<title>109</title>\n<polygon fill=\"none\" stroke=\"#000000\" points=\"2312,-187 2213,-187 2213,-104 2312,-104 2312,-187\"/>\n<text text-anchor=\"middle\" x=\"2262.5\" y=\"-171.8\" font-family=\"Helvetica,sans-Serif\" font-size=\"14.00\" fill=\"#000000\">a4 &lt;= &#45;0.277</text>\n<text text-anchor=\"middle\" x=\"2262.5\" y=\"-156.8\" font-family=\"Helvetica,sans-Serif\" font-size=\"14.00\" fill=\"#000000\">gini = 0.5</text>\n<text text-anchor=\"middle\" x=\"2262.5\" y=\"-141.8\" font-family=\"Helvetica,sans-Serif\" font-size=\"14.00\" fill=\"#000000\">samples = 2</text>\n<text text-anchor=\"middle\" x=\"2262.5\" y=\"-126.8\" font-family=\"Helvetica,sans-Serif\" font-size=\"14.00\" fill=\"#000000\">value = [1, 1]</text>\n<text text-anchor=\"middle\" x=\"2262.5\" y=\"-111.8\" font-family=\"Helvetica,sans-Serif\" font-size=\"14.00\" fill=\"#000000\">class = 1</text>\n</g>\n<!-- 107&#45;&gt;109 -->\n<g id=\"edge109\" class=\"edge\">\n<title>107&#45;&gt;109</title>\n<path fill=\"none\" stroke=\"#000000\" d=\"M2222.1846,-222.8796C2226.6423,-214.3236 2231.3834,-205.2238 2235.9894,-196.3833\"/>\n<polygon fill=\"#000000\" stroke=\"#000000\" points=\"2239.2062,-197.7838 2240.7229,-187.2981 2232.9983,-194.5494 2239.2062,-197.7838\"/>\n</g>\n<!-- 110 -->\n<g id=\"node111\" class=\"node\">\n<title>110</title>\n<polygon fill=\"none\" stroke=\"#000000\" points=\"2265,-68 2166,-68 2166,0 2265,0 2265,-68\"/>\n<text text-anchor=\"middle\" x=\"2215.5\" y=\"-52.8\" font-family=\"Helvetica,sans-Serif\" font-size=\"14.00\" fill=\"#000000\">gini = 0.0</text>\n<text text-anchor=\"middle\" x=\"2215.5\" y=\"-37.8\" font-family=\"Helvetica,sans-Serif\" font-size=\"14.00\" fill=\"#000000\">samples = 1</text>\n<text text-anchor=\"middle\" x=\"2215.5\" y=\"-22.8\" font-family=\"Helvetica,sans-Serif\" font-size=\"14.00\" fill=\"#000000\">value = [1, 0]</text>\n<text text-anchor=\"middle\" x=\"2215.5\" y=\"-7.8\" font-family=\"Helvetica,sans-Serif\" font-size=\"14.00\" fill=\"#000000\">class = 1</text>\n</g>\n<!-- 109&#45;&gt;110 -->\n<g id=\"edge110\" class=\"edge\">\n<title>109&#45;&gt;110</title>\n<path fill=\"none\" stroke=\"#000000\" d=\"M2244.9989,-103.9815C2241.3573,-95.3423 2237.5097,-86.2144 2233.8388,-77.5059\"/>\n<polygon fill=\"#000000\" stroke=\"#000000\" points=\"2237.0525,-76.119 2229.943,-68.2637 2230.6021,-78.838 2237.0525,-76.119\"/>\n</g>\n<!-- 111 -->\n<g id=\"node112\" class=\"node\">\n<title>111</title>\n<polygon fill=\"none\" stroke=\"#000000\" points=\"2382,-68 2283,-68 2283,0 2382,0 2382,-68\"/>\n<text text-anchor=\"middle\" x=\"2332.5\" y=\"-52.8\" font-family=\"Helvetica,sans-Serif\" font-size=\"14.00\" fill=\"#000000\">gini = 0.0</text>\n<text text-anchor=\"middle\" x=\"2332.5\" y=\"-37.8\" font-family=\"Helvetica,sans-Serif\" font-size=\"14.00\" fill=\"#000000\">samples = 1</text>\n<text text-anchor=\"middle\" x=\"2332.5\" y=\"-22.8\" font-family=\"Helvetica,sans-Serif\" font-size=\"14.00\" fill=\"#000000\">value = [0, 1]</text>\n<text text-anchor=\"middle\" x=\"2332.5\" y=\"-7.8\" font-family=\"Helvetica,sans-Serif\" font-size=\"14.00\" fill=\"#000000\">class = 0</text>\n</g>\n<!-- 109&#45;&gt;111 -->\n<g id=\"edge111\" class=\"edge\">\n<title>109&#45;&gt;111</title>\n<path fill=\"none\" stroke=\"#000000\" d=\"M2288.5654,-103.9815C2294.1045,-95.1585 2299.9636,-85.8258 2305.5355,-76.9506\"/>\n<polygon fill=\"#000000\" stroke=\"#000000\" points=\"2308.6363,-78.594 2310.9892,-68.2637 2302.7078,-74.872 2308.6363,-78.594\"/>\n</g>\n<!-- 115 -->\n<g id=\"node116\" class=\"node\">\n<title>115</title>\n<polygon fill=\"none\" stroke=\"#000000\" points=\"2611,-782 2512,-782 2512,-699 2611,-699 2611,-782\"/>\n<text text-anchor=\"middle\" x=\"2561.5\" y=\"-766.8\" font-family=\"Helvetica,sans-Serif\" font-size=\"14.00\" fill=\"#000000\">a4 &lt;= &#45;0.463</text>\n<text text-anchor=\"middle\" x=\"2561.5\" y=\"-751.8\" font-family=\"Helvetica,sans-Serif\" font-size=\"14.00\" fill=\"#000000\">gini = 0.444</text>\n<text text-anchor=\"middle\" x=\"2561.5\" y=\"-736.8\" font-family=\"Helvetica,sans-Serif\" font-size=\"14.00\" fill=\"#000000\">samples = 3</text>\n<text text-anchor=\"middle\" x=\"2561.5\" y=\"-721.8\" font-family=\"Helvetica,sans-Serif\" font-size=\"14.00\" fill=\"#000000\">value = [2, 1]</text>\n<text text-anchor=\"middle\" x=\"2561.5\" y=\"-706.8\" font-family=\"Helvetica,sans-Serif\" font-size=\"14.00\" fill=\"#000000\">class = 1</text>\n</g>\n<!-- 114&#45;&gt;115 -->\n<g id=\"edge115\" class=\"edge\">\n<title>114&#45;&gt;115</title>\n<path fill=\"none\" stroke=\"#000000\" d=\"M2644.7318,-817.8796C2634.7537,-808.6031 2624.0881,-798.6874 2613.8358,-789.1559\"/>\n<polygon fill=\"#000000\" stroke=\"#000000\" points=\"2616.1663,-786.5436 2606.4593,-782.2981 2611.4,-791.6704 2616.1663,-786.5436\"/>\n</g>\n<!-- 118 -->\n<g id=\"node119\" class=\"node\">\n<title>118</title>\n<polygon fill=\"none\" stroke=\"#000000\" points=\"2743,-782 2636,-782 2636,-699 2743,-699 2743,-782\"/>\n<text text-anchor=\"middle\" x=\"2689.5\" y=\"-766.8\" font-family=\"Helvetica,sans-Serif\" font-size=\"14.00\" fill=\"#000000\">a1 &lt;= 0.065</text>\n<text text-anchor=\"middle\" x=\"2689.5\" y=\"-751.8\" font-family=\"Helvetica,sans-Serif\" font-size=\"14.00\" fill=\"#000000\">gini = 0.287</text>\n<text text-anchor=\"middle\" x=\"2689.5\" y=\"-736.8\" font-family=\"Helvetica,sans-Serif\" font-size=\"14.00\" fill=\"#000000\">samples = 23</text>\n<text text-anchor=\"middle\" x=\"2689.5\" y=\"-721.8\" font-family=\"Helvetica,sans-Serif\" font-size=\"14.00\" fill=\"#000000\">value = [4, 19]</text>\n<text text-anchor=\"middle\" x=\"2689.5\" y=\"-706.8\" font-family=\"Helvetica,sans-Serif\" font-size=\"14.00\" fill=\"#000000\">class = 0</text>\n</g>\n<!-- 114&#45;&gt;118 -->\n<g id=\"edge118\" class=\"edge\">\n<title>114&#45;&gt;118</title>\n<path fill=\"none\" stroke=\"#000000\" d=\"M2689.5,-817.8796C2689.5,-809.6838 2689.5,-800.9891 2689.5,-792.5013\"/>\n<polygon fill=\"#000000\" stroke=\"#000000\" points=\"2693.0001,-792.298 2689.5,-782.2981 2686.0001,-792.2981 2693.0001,-792.298\"/>\n</g>\n<!-- 116 -->\n<g id=\"node117\" class=\"node\">\n<title>116</title>\n<polygon fill=\"none\" stroke=\"#000000\" points=\"2494,-655.5 2395,-655.5 2395,-587.5 2494,-587.5 2494,-655.5\"/>\n<text text-anchor=\"middle\" x=\"2444.5\" y=\"-640.3\" font-family=\"Helvetica,sans-Serif\" font-size=\"14.00\" fill=\"#000000\">gini = 0.0</text>\n<text text-anchor=\"middle\" x=\"2444.5\" y=\"-625.3\" font-family=\"Helvetica,sans-Serif\" font-size=\"14.00\" fill=\"#000000\">samples = 1</text>\n<text text-anchor=\"middle\" x=\"2444.5\" y=\"-610.3\" font-family=\"Helvetica,sans-Serif\" font-size=\"14.00\" fill=\"#000000\">value = [0, 1]</text>\n<text text-anchor=\"middle\" x=\"2444.5\" y=\"-595.3\" font-family=\"Helvetica,sans-Serif\" font-size=\"14.00\" fill=\"#000000\">class = 0</text>\n</g>\n<!-- 115&#45;&gt;116 -->\n<g id=\"edge116\" class=\"edge\">\n<title>115&#45;&gt;116</title>\n<path fill=\"none\" stroke=\"#000000\" d=\"M2520.5791,-698.8796C2509.2272,-687.3337 2496.9018,-674.7976 2485.543,-663.2446\"/>\n<polygon fill=\"#000000\" stroke=\"#000000\" points=\"2487.7449,-660.4919 2478.2382,-655.8149 2482.7534,-665.3995 2487.7449,-660.4919\"/>\n</g>\n<!-- 117 -->\n<g id=\"node118\" class=\"node\">\n<title>117</title>\n<polygon fill=\"none\" stroke=\"#000000\" points=\"2611,-655.5 2512,-655.5 2512,-587.5 2611,-587.5 2611,-655.5\"/>\n<text text-anchor=\"middle\" x=\"2561.5\" y=\"-640.3\" font-family=\"Helvetica,sans-Serif\" font-size=\"14.00\" fill=\"#000000\">gini = 0.0</text>\n<text text-anchor=\"middle\" x=\"2561.5\" y=\"-625.3\" font-family=\"Helvetica,sans-Serif\" font-size=\"14.00\" fill=\"#000000\">samples = 2</text>\n<text text-anchor=\"middle\" x=\"2561.5\" y=\"-610.3\" font-family=\"Helvetica,sans-Serif\" font-size=\"14.00\" fill=\"#000000\">value = [2, 0]</text>\n<text text-anchor=\"middle\" x=\"2561.5\" y=\"-595.3\" font-family=\"Helvetica,sans-Serif\" font-size=\"14.00\" fill=\"#000000\">class = 1</text>\n</g>\n<!-- 115&#45;&gt;117 -->\n<g id=\"edge117\" class=\"edge\">\n<title>115&#45;&gt;117</title>\n<path fill=\"none\" stroke=\"#000000\" d=\"M2561.5,-698.8796C2561.5,-688.2134 2561.5,-676.7021 2561.5,-665.9015\"/>\n<polygon fill=\"#000000\" stroke=\"#000000\" points=\"2565.0001,-665.8149 2561.5,-655.8149 2558.0001,-665.815 2565.0001,-665.8149\"/>\n</g>\n<!-- 119 -->\n<g id=\"node120\" class=\"node\">\n<title>119</title>\n<polygon fill=\"none\" stroke=\"#000000\" points=\"2736,-663 2629,-663 2629,-580 2736,-580 2736,-663\"/>\n<text text-anchor=\"middle\" x=\"2682.5\" y=\"-647.8\" font-family=\"Helvetica,sans-Serif\" font-size=\"14.00\" fill=\"#000000\">a6 &lt;= 1.043</text>\n<text text-anchor=\"middle\" x=\"2682.5\" y=\"-632.8\" font-family=\"Helvetica,sans-Serif\" font-size=\"14.00\" fill=\"#000000\">gini = 0.375</text>\n<text text-anchor=\"middle\" x=\"2682.5\" y=\"-617.8\" font-family=\"Helvetica,sans-Serif\" font-size=\"14.00\" fill=\"#000000\">samples = 16</text>\n<text text-anchor=\"middle\" x=\"2682.5\" y=\"-602.8\" font-family=\"Helvetica,sans-Serif\" font-size=\"14.00\" fill=\"#000000\">value = [4, 12]</text>\n<text text-anchor=\"middle\" x=\"2682.5\" y=\"-587.8\" font-family=\"Helvetica,sans-Serif\" font-size=\"14.00\" fill=\"#000000\">class = 0</text>\n</g>\n<!-- 118&#45;&gt;119 -->\n<g id=\"edge119\" class=\"edge\">\n<title>118&#45;&gt;119</title>\n<path fill=\"none\" stroke=\"#000000\" d=\"M2687.0517,-698.8796C2686.5696,-690.6838 2686.0582,-681.9891 2685.5589,-673.5013\"/>\n<polygon fill=\"#000000\" stroke=\"#000000\" points=\"2689.04,-673.0753 2684.9587,-663.2981 2682.0521,-673.4864 2689.04,-673.0753\"/>\n</g>\n<!-- 132 -->\n<g id=\"node133\" class=\"node\">\n<title>132</title>\n<polygon fill=\"none\" stroke=\"#000000\" points=\"2853,-655.5 2754,-655.5 2754,-587.5 2853,-587.5 2853,-655.5\"/>\n<text text-anchor=\"middle\" x=\"2803.5\" y=\"-640.3\" font-family=\"Helvetica,sans-Serif\" font-size=\"14.00\" fill=\"#000000\">gini = 0.0</text>\n<text text-anchor=\"middle\" x=\"2803.5\" y=\"-625.3\" font-family=\"Helvetica,sans-Serif\" font-size=\"14.00\" fill=\"#000000\">samples = 7</text>\n<text text-anchor=\"middle\" x=\"2803.5\" y=\"-610.3\" font-family=\"Helvetica,sans-Serif\" font-size=\"14.00\" fill=\"#000000\">value = [0, 7]</text>\n<text text-anchor=\"middle\" x=\"2803.5\" y=\"-595.3\" font-family=\"Helvetica,sans-Serif\" font-size=\"14.00\" fill=\"#000000\">class = 0</text>\n</g>\n<!-- 118&#45;&gt;132 -->\n<g id=\"edge132\" class=\"edge\">\n<title>118&#45;&gt;132</title>\n<path fill=\"none\" stroke=\"#000000\" d=\"M2729.3717,-698.8796C2740.4324,-687.3337 2752.4418,-674.7976 2763.5094,-663.2446\"/>\n<polygon fill=\"#000000\" stroke=\"#000000\" points=\"2766.2365,-665.4573 2770.6269,-655.8149 2761.1817,-660.6149 2766.2365,-665.4573\"/>\n</g>\n<!-- 120 -->\n<g id=\"node121\" class=\"node\">\n<title>120</title>\n<polygon fill=\"none\" stroke=\"#000000\" points=\"2690.5,-544 2586.5,-544 2586.5,-461 2690.5,-461 2690.5,-544\"/>\n<text text-anchor=\"middle\" x=\"2638.5\" y=\"-528.8\" font-family=\"Helvetica,sans-Serif\" font-size=\"14.00\" fill=\"#000000\">a6 &lt;= 0.902</text>\n<text text-anchor=\"middle\" x=\"2638.5\" y=\"-513.8\" font-family=\"Helvetica,sans-Serif\" font-size=\"14.00\" fill=\"#000000\">gini = 0.444</text>\n<text text-anchor=\"middle\" x=\"2638.5\" y=\"-498.8\" font-family=\"Helvetica,sans-Serif\" font-size=\"14.00\" fill=\"#000000\">samples = 12</text>\n<text text-anchor=\"middle\" x=\"2638.5\" y=\"-483.8\" font-family=\"Helvetica,sans-Serif\" font-size=\"14.00\" fill=\"#000000\">value = [4, 8]</text>\n<text text-anchor=\"middle\" x=\"2638.5\" y=\"-468.8\" font-family=\"Helvetica,sans-Serif\" font-size=\"14.00\" fill=\"#000000\">class = 0</text>\n</g>\n<!-- 119&#45;&gt;120 -->\n<g id=\"edge120\" class=\"edge\">\n<title>119&#45;&gt;120</title>\n<path fill=\"none\" stroke=\"#000000\" d=\"M2667.1109,-579.8796C2664.014,-571.5037 2660.7243,-562.6067 2657.5206,-553.942\"/>\n<polygon fill=\"#000000\" stroke=\"#000000\" points=\"2660.7056,-552.4636 2653.9547,-544.2981 2654.14,-554.8913 2660.7056,-552.4636\"/>\n</g>\n<!-- 131 -->\n<g id=\"node132\" class=\"node\">\n<title>131</title>\n<polygon fill=\"none\" stroke=\"#000000\" points=\"2808,-536.5 2709,-536.5 2709,-468.5 2808,-468.5 2808,-536.5\"/>\n<text text-anchor=\"middle\" x=\"2758.5\" y=\"-521.3\" font-family=\"Helvetica,sans-Serif\" font-size=\"14.00\" fill=\"#000000\">gini = 0.0</text>\n<text text-anchor=\"middle\" x=\"2758.5\" y=\"-506.3\" font-family=\"Helvetica,sans-Serif\" font-size=\"14.00\" fill=\"#000000\">samples = 4</text>\n<text text-anchor=\"middle\" x=\"2758.5\" y=\"-491.3\" font-family=\"Helvetica,sans-Serif\" font-size=\"14.00\" fill=\"#000000\">value = [0, 4]</text>\n<text text-anchor=\"middle\" x=\"2758.5\" y=\"-476.3\" font-family=\"Helvetica,sans-Serif\" font-size=\"14.00\" fill=\"#000000\">class = 0</text>\n</g>\n<!-- 119&#45;&gt;131 -->\n<g id=\"edge131\" class=\"edge\">\n<title>119&#45;&gt;131</title>\n<path fill=\"none\" stroke=\"#000000\" d=\"M2709.0811,-579.8796C2716.174,-568.7735 2723.8521,-556.7513 2730.9937,-545.5691\"/>\n<polygon fill=\"#000000\" stroke=\"#000000\" points=\"2734.1518,-547.1267 2736.5846,-536.8149 2728.2523,-543.3589 2734.1518,-547.1267\"/>\n</g>\n<!-- 121 -->\n<g id=\"node122\" class=\"node\">\n<title>121</title>\n<polygon fill=\"none\" stroke=\"#000000\" points=\"2668.5,-425 2564.5,-425 2564.5,-342 2668.5,-342 2668.5,-425\"/>\n<text text-anchor=\"middle\" x=\"2616.5\" y=\"-409.8\" font-family=\"Helvetica,sans-Serif\" font-size=\"14.00\" fill=\"#000000\">a1 &lt;= &#45;0.031</text>\n<text text-anchor=\"middle\" x=\"2616.5\" y=\"-394.8\" font-family=\"Helvetica,sans-Serif\" font-size=\"14.00\" fill=\"#000000\">gini = 0.397</text>\n<text text-anchor=\"middle\" x=\"2616.5\" y=\"-379.8\" font-family=\"Helvetica,sans-Serif\" font-size=\"14.00\" fill=\"#000000\">samples = 11</text>\n<text text-anchor=\"middle\" x=\"2616.5\" y=\"-364.8\" font-family=\"Helvetica,sans-Serif\" font-size=\"14.00\" fill=\"#000000\">value = [3, 8]</text>\n<text text-anchor=\"middle\" x=\"2616.5\" y=\"-349.8\" font-family=\"Helvetica,sans-Serif\" font-size=\"14.00\" fill=\"#000000\">class = 0</text>\n</g>\n<!-- 120&#45;&gt;121 -->\n<g id=\"edge121\" class=\"edge\">\n<title>120&#45;&gt;121</title>\n<path fill=\"none\" stroke=\"#000000\" d=\"M2630.8055,-460.8796C2629.2736,-452.5938 2627.6475,-443.798 2626.062,-435.2216\"/>\n<polygon fill=\"#000000\" stroke=\"#000000\" points=\"2629.4871,-434.4951 2624.2274,-425.2981 2622.6037,-435.7677 2629.4871,-434.4951\"/>\n</g>\n<!-- 130 -->\n<g id=\"node131\" class=\"node\">\n<title>130</title>\n<polygon fill=\"none\" stroke=\"#000000\" points=\"2786,-417.5 2687,-417.5 2687,-349.5 2786,-349.5 2786,-417.5\"/>\n<text text-anchor=\"middle\" x=\"2736.5\" y=\"-402.3\" font-family=\"Helvetica,sans-Serif\" font-size=\"14.00\" fill=\"#000000\">gini = 0.0</text>\n<text text-anchor=\"middle\" x=\"2736.5\" y=\"-387.3\" font-family=\"Helvetica,sans-Serif\" font-size=\"14.00\" fill=\"#000000\">samples = 1</text>\n<text text-anchor=\"middle\" x=\"2736.5\" y=\"-372.3\" font-family=\"Helvetica,sans-Serif\" font-size=\"14.00\" fill=\"#000000\">value = [1, 0]</text>\n<text text-anchor=\"middle\" x=\"2736.5\" y=\"-357.3\" font-family=\"Helvetica,sans-Serif\" font-size=\"14.00\" fill=\"#000000\">class = 1</text>\n</g>\n<!-- 120&#45;&gt;130 -->\n<g id=\"edge130\" class=\"edge\">\n<title>120&#45;&gt;130</title>\n<path fill=\"none\" stroke=\"#000000\" d=\"M2672.7756,-460.8796C2682.1935,-449.4436 2692.4113,-437.0363 2701.85,-425.575\"/>\n<polygon fill=\"#000000\" stroke=\"#000000\" points=\"2704.5853,-427.7592 2708.2406,-417.8149 2699.1818,-423.3093 2704.5853,-427.7592\"/>\n</g>\n<!-- 122 -->\n<g id=\"node123\" class=\"node\">\n<title>122</title>\n<polygon fill=\"none\" stroke=\"#000000\" points=\"2631,-306 2532,-306 2532,-223 2631,-223 2631,-306\"/>\n<text text-anchor=\"middle\" x=\"2581.5\" y=\"-290.8\" font-family=\"Helvetica,sans-Serif\" font-size=\"14.00\" fill=\"#000000\">a2 &lt;= 0.501</text>\n<text text-anchor=\"middle\" x=\"2581.5\" y=\"-275.8\" font-family=\"Helvetica,sans-Serif\" font-size=\"14.00\" fill=\"#000000\">gini = 0.219</text>\n<text text-anchor=\"middle\" x=\"2581.5\" y=\"-260.8\" font-family=\"Helvetica,sans-Serif\" font-size=\"14.00\" fill=\"#000000\">samples = 8</text>\n<text text-anchor=\"middle\" x=\"2581.5\" y=\"-245.8\" font-family=\"Helvetica,sans-Serif\" font-size=\"14.00\" fill=\"#000000\">value = [1, 7]</text>\n<text text-anchor=\"middle\" x=\"2581.5\" y=\"-230.8\" font-family=\"Helvetica,sans-Serif\" font-size=\"14.00\" fill=\"#000000\">class = 0</text>\n</g>\n<!-- 121&#45;&gt;122 -->\n<g id=\"edge122\" class=\"edge\">\n<title>121&#45;&gt;122</title>\n<path fill=\"none\" stroke=\"#000000\" d=\"M2604.2587,-341.8796C2601.7952,-333.5037 2599.1784,-324.6067 2596.63,-315.942\"/>\n<polygon fill=\"#000000\" stroke=\"#000000\" points=\"2599.9731,-314.9041 2593.7936,-306.2981 2593.2575,-316.8793 2599.9731,-314.9041\"/>\n</g>\n<!-- 127 -->\n<g id=\"node128\" class=\"node\">\n<title>127</title>\n<polygon fill=\"none\" stroke=\"#000000\" points=\"2748,-306 2649,-306 2649,-223 2748,-223 2748,-306\"/>\n<text text-anchor=\"middle\" x=\"2698.5\" y=\"-290.8\" font-family=\"Helvetica,sans-Serif\" font-size=\"14.00\" fill=\"#000000\">a6 &lt;= 0.336</text>\n<text text-anchor=\"middle\" x=\"2698.5\" y=\"-275.8\" font-family=\"Helvetica,sans-Serif\" font-size=\"14.00\" fill=\"#000000\">gini = 0.444</text>\n<text text-anchor=\"middle\" x=\"2698.5\" y=\"-260.8\" font-family=\"Helvetica,sans-Serif\" font-size=\"14.00\" fill=\"#000000\">samples = 3</text>\n<text text-anchor=\"middle\" x=\"2698.5\" y=\"-245.8\" font-family=\"Helvetica,sans-Serif\" font-size=\"14.00\" fill=\"#000000\">value = [2, 1]</text>\n<text text-anchor=\"middle\" x=\"2698.5\" y=\"-230.8\" font-family=\"Helvetica,sans-Serif\" font-size=\"14.00\" fill=\"#000000\">class = 1</text>\n</g>\n<!-- 121&#45;&gt;127 -->\n<g id=\"edge127\" class=\"edge\">\n<title>121&#45;&gt;127</title>\n<path fill=\"none\" stroke=\"#000000\" d=\"M2645.1796,-341.8796C2651.2615,-333.0534 2657.7422,-323.6485 2664.0141,-314.5466\"/>\n<polygon fill=\"#000000\" stroke=\"#000000\" points=\"2666.9059,-316.5184 2669.698,-306.2981 2661.1418,-312.5465 2666.9059,-316.5184\"/>\n</g>\n<!-- 123 -->\n<g id=\"node124\" class=\"node\">\n<title>123</title>\n<polygon fill=\"none\" stroke=\"#000000\" points=\"2514,-187 2415,-187 2415,-104 2514,-104 2514,-187\"/>\n<text text-anchor=\"middle\" x=\"2464.5\" y=\"-171.8\" font-family=\"Helvetica,sans-Serif\" font-size=\"14.00\" fill=\"#000000\">a3 &lt;= 0.309</text>\n<text text-anchor=\"middle\" x=\"2464.5\" y=\"-156.8\" font-family=\"Helvetica,sans-Serif\" font-size=\"14.00\" fill=\"#000000\">gini = 0.5</text>\n<text text-anchor=\"middle\" x=\"2464.5\" y=\"-141.8\" font-family=\"Helvetica,sans-Serif\" font-size=\"14.00\" fill=\"#000000\">samples = 2</text>\n<text text-anchor=\"middle\" x=\"2464.5\" y=\"-126.8\" font-family=\"Helvetica,sans-Serif\" font-size=\"14.00\" fill=\"#000000\">value = [1, 1]</text>\n<text text-anchor=\"middle\" x=\"2464.5\" y=\"-111.8\" font-family=\"Helvetica,sans-Serif\" font-size=\"14.00\" fill=\"#000000\">class = 1</text>\n</g>\n<!-- 122&#45;&gt;123 -->\n<g id=\"edge123\" class=\"edge\">\n<title>122&#45;&gt;123</title>\n<path fill=\"none\" stroke=\"#000000\" d=\"M2540.5791,-222.8796C2531.547,-213.6931 2521.8987,-203.8798 2512.6112,-194.4336\"/>\n<polygon fill=\"#000000\" stroke=\"#000000\" points=\"2515.1023,-191.975 2505.5956,-187.2981 2510.1107,-196.8827 2515.1023,-191.975\"/>\n</g>\n<!-- 126 -->\n<g id=\"node127\" class=\"node\">\n<title>126</title>\n<polygon fill=\"none\" stroke=\"#000000\" points=\"2631,-179.5 2532,-179.5 2532,-111.5 2631,-111.5 2631,-179.5\"/>\n<text text-anchor=\"middle\" x=\"2581.5\" y=\"-164.3\" font-family=\"Helvetica,sans-Serif\" font-size=\"14.00\" fill=\"#000000\">gini = 0.0</text>\n<text text-anchor=\"middle\" x=\"2581.5\" y=\"-149.3\" font-family=\"Helvetica,sans-Serif\" font-size=\"14.00\" fill=\"#000000\">samples = 6</text>\n<text text-anchor=\"middle\" x=\"2581.5\" y=\"-134.3\" font-family=\"Helvetica,sans-Serif\" font-size=\"14.00\" fill=\"#000000\">value = [0, 6]</text>\n<text text-anchor=\"middle\" x=\"2581.5\" y=\"-119.3\" font-family=\"Helvetica,sans-Serif\" font-size=\"14.00\" fill=\"#000000\">class = 0</text>\n</g>\n<!-- 122&#45;&gt;126 -->\n<g id=\"edge126\" class=\"edge\">\n<title>122&#45;&gt;126</title>\n<path fill=\"none\" stroke=\"#000000\" d=\"M2581.5,-222.8796C2581.5,-212.2134 2581.5,-200.7021 2581.5,-189.9015\"/>\n<polygon fill=\"#000000\" stroke=\"#000000\" points=\"2585.0001,-189.8149 2581.5,-179.8149 2578.0001,-189.815 2585.0001,-189.8149\"/>\n</g>\n<!-- 124 -->\n<g id=\"node125\" class=\"node\">\n<title>124</title>\n<polygon fill=\"none\" stroke=\"#000000\" points=\"2505,-68 2406,-68 2406,0 2505,0 2505,-68\"/>\n<text text-anchor=\"middle\" x=\"2455.5\" y=\"-52.8\" font-family=\"Helvetica,sans-Serif\" font-size=\"14.00\" fill=\"#000000\">gini = 0.0</text>\n<text text-anchor=\"middle\" x=\"2455.5\" y=\"-37.8\" font-family=\"Helvetica,sans-Serif\" font-size=\"14.00\" fill=\"#000000\">samples = 1</text>\n<text text-anchor=\"middle\" x=\"2455.5\" y=\"-22.8\" font-family=\"Helvetica,sans-Serif\" font-size=\"14.00\" fill=\"#000000\">value = [0, 1]</text>\n<text text-anchor=\"middle\" x=\"2455.5\" y=\"-7.8\" font-family=\"Helvetica,sans-Serif\" font-size=\"14.00\" fill=\"#000000\">class = 0</text>\n</g>\n<!-- 123&#45;&gt;124 -->\n<g id=\"edge124\" class=\"edge\">\n<title>123&#45;&gt;124</title>\n<path fill=\"none\" stroke=\"#000000\" d=\"M2461.1487,-103.9815C2460.4737,-95.618 2459.7616,-86.7965 2459.0791,-78.3409\"/>\n<polygon fill=\"#000000\" stroke=\"#000000\" points=\"2462.559,-77.9496 2458.2657,-68.2637 2455.5817,-78.5129 2462.559,-77.9496\"/>\n</g>\n<!-- 125 -->\n<g id=\"node126\" class=\"node\">\n<title>125</title>\n<polygon fill=\"none\" stroke=\"#000000\" points=\"2622,-68 2523,-68 2523,0 2622,0 2622,-68\"/>\n<text text-anchor=\"middle\" x=\"2572.5\" y=\"-52.8\" font-family=\"Helvetica,sans-Serif\" font-size=\"14.00\" fill=\"#000000\">gini = 0.0</text>\n<text text-anchor=\"middle\" x=\"2572.5\" y=\"-37.8\" font-family=\"Helvetica,sans-Serif\" font-size=\"14.00\" fill=\"#000000\">samples = 1</text>\n<text text-anchor=\"middle\" x=\"2572.5\" y=\"-22.8\" font-family=\"Helvetica,sans-Serif\" font-size=\"14.00\" fill=\"#000000\">value = [1, 0]</text>\n<text text-anchor=\"middle\" x=\"2572.5\" y=\"-7.8\" font-family=\"Helvetica,sans-Serif\" font-size=\"14.00\" fill=\"#000000\">class = 1</text>\n</g>\n<!-- 123&#45;&gt;125 -->\n<g id=\"edge125\" class=\"edge\">\n<title>123&#45;&gt;125</title>\n<path fill=\"none\" stroke=\"#000000\" d=\"M2504.7152,-103.9815C2513.7064,-94.6989 2523.244,-84.8522 2532.2371,-75.5677\"/>\n<polygon fill=\"#000000\" stroke=\"#000000\" points=\"2534.8684,-77.8817 2539.3119,-68.2637 2529.8404,-73.0115 2534.8684,-77.8817\"/>\n</g>\n<!-- 128 -->\n<g id=\"node129\" class=\"node\">\n<title>128</title>\n<polygon fill=\"none\" stroke=\"#000000\" points=\"2748,-179.5 2649,-179.5 2649,-111.5 2748,-111.5 2748,-179.5\"/>\n<text text-anchor=\"middle\" x=\"2698.5\" y=\"-164.3\" font-family=\"Helvetica,sans-Serif\" font-size=\"14.00\" fill=\"#000000\">gini = 0.0</text>\n<text text-anchor=\"middle\" x=\"2698.5\" y=\"-149.3\" font-family=\"Helvetica,sans-Serif\" font-size=\"14.00\" fill=\"#000000\">samples = 2</text>\n<text text-anchor=\"middle\" x=\"2698.5\" y=\"-134.3\" font-family=\"Helvetica,sans-Serif\" font-size=\"14.00\" fill=\"#000000\">value = [2, 0]</text>\n<text text-anchor=\"middle\" x=\"2698.5\" y=\"-119.3\" font-family=\"Helvetica,sans-Serif\" font-size=\"14.00\" fill=\"#000000\">class = 1</text>\n</g>\n<!-- 127&#45;&gt;128 -->\n<g id=\"edge128\" class=\"edge\">\n<title>127&#45;&gt;128</title>\n<path fill=\"none\" stroke=\"#000000\" d=\"M2698.5,-222.8796C2698.5,-212.2134 2698.5,-200.7021 2698.5,-189.9015\"/>\n<polygon fill=\"#000000\" stroke=\"#000000\" points=\"2702.0001,-189.8149 2698.5,-179.8149 2695.0001,-189.815 2702.0001,-189.8149\"/>\n</g>\n<!-- 129 -->\n<g id=\"node130\" class=\"node\">\n<title>129</title>\n<polygon fill=\"none\" stroke=\"#000000\" points=\"2865,-179.5 2766,-179.5 2766,-111.5 2865,-111.5 2865,-179.5\"/>\n<text text-anchor=\"middle\" x=\"2815.5\" y=\"-164.3\" font-family=\"Helvetica,sans-Serif\" font-size=\"14.00\" fill=\"#000000\">gini = 0.0</text>\n<text text-anchor=\"middle\" x=\"2815.5\" y=\"-149.3\" font-family=\"Helvetica,sans-Serif\" font-size=\"14.00\" fill=\"#000000\">samples = 1</text>\n<text text-anchor=\"middle\" x=\"2815.5\" y=\"-134.3\" font-family=\"Helvetica,sans-Serif\" font-size=\"14.00\" fill=\"#000000\">value = [0, 1]</text>\n<text text-anchor=\"middle\" x=\"2815.5\" y=\"-119.3\" font-family=\"Helvetica,sans-Serif\" font-size=\"14.00\" fill=\"#000000\">class = 0</text>\n</g>\n<!-- 127&#45;&gt;129 -->\n<g id=\"edge129\" class=\"edge\">\n<title>127&#45;&gt;129</title>\n<path fill=\"none\" stroke=\"#000000\" d=\"M2739.4209,-222.8796C2750.7728,-211.3337 2763.0982,-198.7976 2774.457,-187.2446\"/>\n<polygon fill=\"#000000\" stroke=\"#000000\" points=\"2777.2466,-189.3995 2781.7618,-179.8149 2772.2551,-184.4919 2777.2466,-189.3995\"/>\n</g>\n<!-- 134 -->\n<g id=\"node135\" class=\"node\">\n<title>134</title>\n<polygon fill=\"none\" stroke=\"#000000\" points=\"2874,-893.5 2775,-893.5 2775,-825.5 2874,-825.5 2874,-893.5\"/>\n<text text-anchor=\"middle\" x=\"2824.5\" y=\"-878.3\" font-family=\"Helvetica,sans-Serif\" font-size=\"14.00\" fill=\"#000000\">gini = 0.0</text>\n<text text-anchor=\"middle\" x=\"2824.5\" y=\"-863.3\" font-family=\"Helvetica,sans-Serif\" font-size=\"14.00\" fill=\"#000000\">samples = 4</text>\n<text text-anchor=\"middle\" x=\"2824.5\" y=\"-848.3\" font-family=\"Helvetica,sans-Serif\" font-size=\"14.00\" fill=\"#000000\">value = [0, 4]</text>\n<text text-anchor=\"middle\" x=\"2824.5\" y=\"-833.3\" font-family=\"Helvetica,sans-Serif\" font-size=\"14.00\" fill=\"#000000\">class = 0</text>\n</g>\n<!-- 133&#45;&gt;134 -->\n<g id=\"edge134\" class=\"edge\">\n<title>133&#45;&gt;134</title>\n<path fill=\"none\" stroke=\"#000000\" d=\"M2878.4706,-936.8796C2870.6477,-925.6636 2862.173,-913.5131 2854.3083,-902.2372\"/>\n<polygon fill=\"#000000\" stroke=\"#000000\" points=\"2857.0254,-900.0147 2848.4339,-893.8149 2851.284,-904.0192 2857.0254,-900.0147\"/>\n</g>\n<!-- 135 -->\n<g id=\"node136\" class=\"node\">\n<title>135</title>\n<polygon fill=\"none\" stroke=\"#000000\" points=\"2991,-901 2892,-901 2892,-818 2991,-818 2991,-901\"/>\n<text text-anchor=\"middle\" x=\"2941.5\" y=\"-885.8\" font-family=\"Helvetica,sans-Serif\" font-size=\"14.00\" fill=\"#000000\">a6 &lt;= 0.336</text>\n<text text-anchor=\"middle\" x=\"2941.5\" y=\"-870.8\" font-family=\"Helvetica,sans-Serif\" font-size=\"14.00\" fill=\"#000000\">gini = 0.444</text>\n<text text-anchor=\"middle\" x=\"2941.5\" y=\"-855.8\" font-family=\"Helvetica,sans-Serif\" font-size=\"14.00\" fill=\"#000000\">samples = 6</text>\n<text text-anchor=\"middle\" x=\"2941.5\" y=\"-840.8\" font-family=\"Helvetica,sans-Serif\" font-size=\"14.00\" fill=\"#000000\">value = [4, 2]</text>\n<text text-anchor=\"middle\" x=\"2941.5\" y=\"-825.8\" font-family=\"Helvetica,sans-Serif\" font-size=\"14.00\" fill=\"#000000\">class = 1</text>\n</g>\n<!-- 133&#45;&gt;135 -->\n<g id=\"edge135\" class=\"edge\">\n<title>133&#45;&gt;135</title>\n<path fill=\"none\" stroke=\"#000000\" d=\"M2919.3916,-936.8796C2921.7847,-928.5037 2924.3267,-919.6067 2926.8023,-910.942\"/>\n<polygon fill=\"#000000\" stroke=\"#000000\" points=\"2930.1757,-911.8749 2929.5577,-901.2981 2923.4451,-909.9518 2930.1757,-911.8749\"/>\n</g>\n<!-- 136 -->\n<g id=\"node137\" class=\"node\">\n<title>136</title>\n<polygon fill=\"none\" stroke=\"#000000\" points=\"2970,-782 2871,-782 2871,-699 2970,-699 2970,-782\"/>\n<text text-anchor=\"middle\" x=\"2920.5\" y=\"-766.8\" font-family=\"Helvetica,sans-Serif\" font-size=\"14.00\" fill=\"#000000\">a5 &lt;= &#45;0.048</text>\n<text text-anchor=\"middle\" x=\"2920.5\" y=\"-751.8\" font-family=\"Helvetica,sans-Serif\" font-size=\"14.00\" fill=\"#000000\">gini = 0.444</text>\n<text text-anchor=\"middle\" x=\"2920.5\" y=\"-736.8\" font-family=\"Helvetica,sans-Serif\" font-size=\"14.00\" fill=\"#000000\">samples = 3</text>\n<text text-anchor=\"middle\" x=\"2920.5\" y=\"-721.8\" font-family=\"Helvetica,sans-Serif\" font-size=\"14.00\" fill=\"#000000\">value = [1, 2]</text>\n<text text-anchor=\"middle\" x=\"2920.5\" y=\"-706.8\" font-family=\"Helvetica,sans-Serif\" font-size=\"14.00\" fill=\"#000000\">class = 0</text>\n</g>\n<!-- 135&#45;&gt;136 -->\n<g id=\"edge136\" class=\"edge\">\n<title>135&#45;&gt;136</title>\n<path fill=\"none\" stroke=\"#000000\" d=\"M2934.1552,-817.8796C2932.693,-809.5938 2931.1408,-800.798 2929.6273,-792.2216\"/>\n<polygon fill=\"#000000\" stroke=\"#000000\" points=\"2933.0608,-791.5376 2927.8761,-782.2981 2926.1673,-792.7542 2933.0608,-791.5376\"/>\n</g>\n<!-- 139 -->\n<g id=\"node140\" class=\"node\">\n<title>139</title>\n<polygon fill=\"none\" stroke=\"#000000\" points=\"3087,-774.5 2988,-774.5 2988,-706.5 3087,-706.5 3087,-774.5\"/>\n<text text-anchor=\"middle\" x=\"3037.5\" y=\"-759.3\" font-family=\"Helvetica,sans-Serif\" font-size=\"14.00\" fill=\"#000000\">gini = 0.0</text>\n<text text-anchor=\"middle\" x=\"3037.5\" y=\"-744.3\" font-family=\"Helvetica,sans-Serif\" font-size=\"14.00\" fill=\"#000000\">samples = 3</text>\n<text text-anchor=\"middle\" x=\"3037.5\" y=\"-729.3\" font-family=\"Helvetica,sans-Serif\" font-size=\"14.00\" fill=\"#000000\">value = [3, 0]</text>\n<text text-anchor=\"middle\" x=\"3037.5\" y=\"-714.3\" font-family=\"Helvetica,sans-Serif\" font-size=\"14.00\" fill=\"#000000\">class = 1</text>\n</g>\n<!-- 135&#45;&gt;139 -->\n<g id=\"edge139\" class=\"edge\">\n<title>135&#45;&gt;139</title>\n<path fill=\"none\" stroke=\"#000000\" d=\"M2975.0761,-817.8796C2984.2131,-806.5536 2994.1187,-794.2748 3003.2902,-782.9058\"/>\n<polygon fill=\"#000000\" stroke=\"#000000\" points=\"3006.2626,-784.7957 3009.8174,-774.8149 3000.8144,-780.4005 3006.2626,-784.7957\"/>\n</g>\n<!-- 137 -->\n<g id=\"node138\" class=\"node\">\n<title>137</title>\n<polygon fill=\"none\" stroke=\"#000000\" points=\"2970,-655.5 2871,-655.5 2871,-587.5 2970,-587.5 2970,-655.5\"/>\n<text text-anchor=\"middle\" x=\"2920.5\" y=\"-640.3\" font-family=\"Helvetica,sans-Serif\" font-size=\"14.00\" fill=\"#000000\">gini = 0.0</text>\n<text text-anchor=\"middle\" x=\"2920.5\" y=\"-625.3\" font-family=\"Helvetica,sans-Serif\" font-size=\"14.00\" fill=\"#000000\">samples = 1</text>\n<text text-anchor=\"middle\" x=\"2920.5\" y=\"-610.3\" font-family=\"Helvetica,sans-Serif\" font-size=\"14.00\" fill=\"#000000\">value = [1, 0]</text>\n<text text-anchor=\"middle\" x=\"2920.5\" y=\"-595.3\" font-family=\"Helvetica,sans-Serif\" font-size=\"14.00\" fill=\"#000000\">class = 1</text>\n</g>\n<!-- 136&#45;&gt;137 -->\n<g id=\"edge137\" class=\"edge\">\n<title>136&#45;&gt;137</title>\n<path fill=\"none\" stroke=\"#000000\" d=\"M2920.5,-698.8796C2920.5,-688.2134 2920.5,-676.7021 2920.5,-665.9015\"/>\n<polygon fill=\"#000000\" stroke=\"#000000\" points=\"2924.0001,-665.8149 2920.5,-655.8149 2917.0001,-665.815 2924.0001,-665.8149\"/>\n</g>\n<!-- 138 -->\n<g id=\"node139\" class=\"node\">\n<title>138</title>\n<polygon fill=\"none\" stroke=\"#000000\" points=\"3087,-655.5 2988,-655.5 2988,-587.5 3087,-587.5 3087,-655.5\"/>\n<text text-anchor=\"middle\" x=\"3037.5\" y=\"-640.3\" font-family=\"Helvetica,sans-Serif\" font-size=\"14.00\" fill=\"#000000\">gini = 0.0</text>\n<text text-anchor=\"middle\" x=\"3037.5\" y=\"-625.3\" font-family=\"Helvetica,sans-Serif\" font-size=\"14.00\" fill=\"#000000\">samples = 2</text>\n<text text-anchor=\"middle\" x=\"3037.5\" y=\"-610.3\" font-family=\"Helvetica,sans-Serif\" font-size=\"14.00\" fill=\"#000000\">value = [0, 2]</text>\n<text text-anchor=\"middle\" x=\"3037.5\" y=\"-595.3\" font-family=\"Helvetica,sans-Serif\" font-size=\"14.00\" fill=\"#000000\">class = 0</text>\n</g>\n<!-- 136&#45;&gt;138 -->\n<g id=\"edge138\" class=\"edge\">\n<title>136&#45;&gt;138</title>\n<path fill=\"none\" stroke=\"#000000\" d=\"M2961.4209,-698.8796C2972.7728,-687.3337 2985.0982,-674.7976 2996.457,-663.2446\"/>\n<polygon fill=\"#000000\" stroke=\"#000000\" points=\"2999.2466,-665.3995 3003.7618,-655.8149 2994.2551,-660.4919 2999.2466,-665.3995\"/>\n</g>\n<!-- 141 -->\n<g id=\"node142\" class=\"node\">\n<title>141</title>\n<polygon fill=\"none\" stroke=\"#000000\" points=\"3208,-1020 3101,-1020 3101,-937 3208,-937 3208,-1020\"/>\n<text text-anchor=\"middle\" x=\"3154.5\" y=\"-1004.8\" font-family=\"Helvetica,sans-Serif\" font-size=\"14.00\" fill=\"#000000\">a1 &lt;= 0.541</text>\n<text text-anchor=\"middle\" x=\"3154.5\" y=\"-989.8\" font-family=\"Helvetica,sans-Serif\" font-size=\"14.00\" fill=\"#000000\">gini = 0.332</text>\n<text text-anchor=\"middle\" x=\"3154.5\" y=\"-974.8\" font-family=\"Helvetica,sans-Serif\" font-size=\"14.00\" fill=\"#000000\">samples = 19</text>\n<text text-anchor=\"middle\" x=\"3154.5\" y=\"-959.8\" font-family=\"Helvetica,sans-Serif\" font-size=\"14.00\" fill=\"#000000\">value = [4, 15]</text>\n<text text-anchor=\"middle\" x=\"3154.5\" y=\"-944.8\" font-family=\"Helvetica,sans-Serif\" font-size=\"14.00\" fill=\"#000000\">class = 0</text>\n</g>\n<!-- 140&#45;&gt;141 -->\n<g id=\"edge141\" class=\"edge\">\n<title>140&#45;&gt;141</title>\n<path fill=\"none\" stroke=\"#000000\" d=\"M3141.495,-1055.8796C3142.8876,-1047.5938 3144.3659,-1038.798 3145.8073,-1030.2216\"/>\n<polygon fill=\"#000000\" stroke=\"#000000\" points=\"3149.2692,-1030.7399 3147.4751,-1020.2981 3142.366,-1029.5796 3149.2692,-1030.7399\"/>\n</g>\n<!-- 154 -->\n<g id=\"node155\" class=\"node\">\n<title>154</title>\n<polygon fill=\"none\" stroke=\"#000000\" points=\"3623.5,-1020 3507.5,-1020 3507.5,-937 3623.5,-937 3623.5,-1020\"/>\n<text text-anchor=\"middle\" x=\"3565.5\" y=\"-1004.8\" font-family=\"Helvetica,sans-Serif\" font-size=\"14.00\" fill=\"#000000\">a1 &lt;= &#45;0.031</text>\n<text text-anchor=\"middle\" x=\"3565.5\" y=\"-989.8\" font-family=\"Helvetica,sans-Serif\" font-size=\"14.00\" fill=\"#000000\">gini = 0.106</text>\n<text text-anchor=\"middle\" x=\"3565.5\" y=\"-974.8\" font-family=\"Helvetica,sans-Serif\" font-size=\"14.00\" fill=\"#000000\">samples = 107</text>\n<text text-anchor=\"middle\" x=\"3565.5\" y=\"-959.8\" font-family=\"Helvetica,sans-Serif\" font-size=\"14.00\" fill=\"#000000\">value = [6, 101]</text>\n<text text-anchor=\"middle\" x=\"3565.5\" y=\"-944.8\" font-family=\"Helvetica,sans-Serif\" font-size=\"14.00\" fill=\"#000000\">class = 0</text>\n</g>\n<!-- 140&#45;&gt;154 -->\n<g id=\"edge154\" class=\"edge\">\n<title>140&#45;&gt;154</title>\n<path fill=\"none\" stroke=\"#000000\" d=\"M3196.6781,-1059.7175C3199.623,-1058.3856 3202.5721,-1057.1373 3205.5,-1056 3303.2548,-1018.0288 3423.5414,-996.899 3497.3492,-986.618\"/>\n<polygon fill=\"#000000\" stroke=\"#000000\" points=\"3498.0138,-990.0598 3507.4482,-985.2387 3497.0665,-983.1242 3498.0138,-990.0598\"/>\n</g>\n<!-- 142 -->\n<g id=\"node143\" class=\"node\">\n<title>142</title>\n<polygon fill=\"none\" stroke=\"#000000\" points=\"3208,-901 3101,-901 3101,-818 3208,-818 3208,-901\"/>\n<text text-anchor=\"middle\" x=\"3154.5\" y=\"-885.8\" font-family=\"Helvetica,sans-Serif\" font-size=\"14.00\" fill=\"#000000\">a1 &lt;= 0.065</text>\n<text text-anchor=\"middle\" x=\"3154.5\" y=\"-870.8\" font-family=\"Helvetica,sans-Serif\" font-size=\"14.00\" fill=\"#000000\">gini = 0.278</text>\n<text text-anchor=\"middle\" x=\"3154.5\" y=\"-855.8\" font-family=\"Helvetica,sans-Serif\" font-size=\"14.00\" fill=\"#000000\">samples = 18</text>\n<text text-anchor=\"middle\" x=\"3154.5\" y=\"-840.8\" font-family=\"Helvetica,sans-Serif\" font-size=\"14.00\" fill=\"#000000\">value = [3, 15]</text>\n<text text-anchor=\"middle\" x=\"3154.5\" y=\"-825.8\" font-family=\"Helvetica,sans-Serif\" font-size=\"14.00\" fill=\"#000000\">class = 0</text>\n</g>\n<!-- 141&#45;&gt;142 -->\n<g id=\"edge142\" class=\"edge\">\n<title>141&#45;&gt;142</title>\n<path fill=\"none\" stroke=\"#000000\" d=\"M3154.5,-936.8796C3154.5,-928.6838 3154.5,-919.9891 3154.5,-911.5013\"/>\n<polygon fill=\"#000000\" stroke=\"#000000\" points=\"3158.0001,-911.298 3154.5,-901.2981 3151.0001,-911.2981 3158.0001,-911.298\"/>\n</g>\n<!-- 153 -->\n<g id=\"node154\" class=\"node\">\n<title>153</title>\n<polygon fill=\"none\" stroke=\"#000000\" points=\"3325,-893.5 3226,-893.5 3226,-825.5 3325,-825.5 3325,-893.5\"/>\n<text text-anchor=\"middle\" x=\"3275.5\" y=\"-878.3\" font-family=\"Helvetica,sans-Serif\" font-size=\"14.00\" fill=\"#000000\">gini = 0.0</text>\n<text text-anchor=\"middle\" x=\"3275.5\" y=\"-863.3\" font-family=\"Helvetica,sans-Serif\" font-size=\"14.00\" fill=\"#000000\">samples = 1</text>\n<text text-anchor=\"middle\" x=\"3275.5\" y=\"-848.3\" font-family=\"Helvetica,sans-Serif\" font-size=\"14.00\" fill=\"#000000\">value = [1, 0]</text>\n<text text-anchor=\"middle\" x=\"3275.5\" y=\"-833.3\" font-family=\"Helvetica,sans-Serif\" font-size=\"14.00\" fill=\"#000000\">class = 1</text>\n</g>\n<!-- 141&#45;&gt;153 -->\n<g id=\"edge153\" class=\"edge\">\n<title>141&#45;&gt;153</title>\n<path fill=\"none\" stroke=\"#000000\" d=\"M3196.8199,-936.8796C3208.6717,-925.2237 3221.5495,-912.5587 3233.3891,-900.9148\"/>\n<polygon fill=\"#000000\" stroke=\"#000000\" points=\"3235.9327,-903.3223 3240.6083,-893.8149 3231.0244,-898.3314 3235.9327,-903.3223\"/>\n</g>\n<!-- 143 -->\n<g id=\"node144\" class=\"node\">\n<title>143</title>\n<polygon fill=\"none\" stroke=\"#000000\" points=\"3204,-782 3105,-782 3105,-699 3204,-699 3204,-782\"/>\n<text text-anchor=\"middle\" x=\"3154.5\" y=\"-766.8\" font-family=\"Helvetica,sans-Serif\" font-size=\"14.00\" fill=\"#000000\">a4 &lt;= 0.65</text>\n<text text-anchor=\"middle\" x=\"3154.5\" y=\"-751.8\" font-family=\"Helvetica,sans-Serif\" font-size=\"14.00\" fill=\"#000000\">gini = 0.469</text>\n<text text-anchor=\"middle\" x=\"3154.5\" y=\"-736.8\" font-family=\"Helvetica,sans-Serif\" font-size=\"14.00\" fill=\"#000000\">samples = 8</text>\n<text text-anchor=\"middle\" x=\"3154.5\" y=\"-721.8\" font-family=\"Helvetica,sans-Serif\" font-size=\"14.00\" fill=\"#000000\">value = [3, 5]</text>\n<text text-anchor=\"middle\" x=\"3154.5\" y=\"-706.8\" font-family=\"Helvetica,sans-Serif\" font-size=\"14.00\" fill=\"#000000\">class = 0</text>\n</g>\n<!-- 142&#45;&gt;143 -->\n<g id=\"edge143\" class=\"edge\">\n<title>142&#45;&gt;143</title>\n<path fill=\"none\" stroke=\"#000000\" d=\"M3154.5,-817.8796C3154.5,-809.6838 3154.5,-800.9891 3154.5,-792.5013\"/>\n<polygon fill=\"#000000\" stroke=\"#000000\" points=\"3158.0001,-792.298 3154.5,-782.2981 3151.0001,-792.2981 3158.0001,-792.298\"/>\n</g>\n<!-- 152 -->\n<g id=\"node153\" class=\"node\">\n<title>152</title>\n<polygon fill=\"none\" stroke=\"#000000\" points=\"3329,-774.5 3222,-774.5 3222,-706.5 3329,-706.5 3329,-774.5\"/>\n<text text-anchor=\"middle\" x=\"3275.5\" y=\"-759.3\" font-family=\"Helvetica,sans-Serif\" font-size=\"14.00\" fill=\"#000000\">gini = 0.0</text>\n<text text-anchor=\"middle\" x=\"3275.5\" y=\"-744.3\" font-family=\"Helvetica,sans-Serif\" font-size=\"14.00\" fill=\"#000000\">samples = 10</text>\n<text text-anchor=\"middle\" x=\"3275.5\" y=\"-729.3\" font-family=\"Helvetica,sans-Serif\" font-size=\"14.00\" fill=\"#000000\">value = [0, 10]</text>\n<text text-anchor=\"middle\" x=\"3275.5\" y=\"-714.3\" font-family=\"Helvetica,sans-Serif\" font-size=\"14.00\" fill=\"#000000\">class = 0</text>\n</g>\n<!-- 142&#45;&gt;152 -->\n<g id=\"edge152\" class=\"edge\">\n<title>142&#45;&gt;152</title>\n<path fill=\"none\" stroke=\"#000000\" d=\"M3196.8199,-817.8796C3208.6717,-806.2237 3221.5495,-793.5587 3233.3891,-781.9148\"/>\n<polygon fill=\"#000000\" stroke=\"#000000\" points=\"3235.9327,-784.3223 3240.6083,-774.8149 3231.0244,-779.3314 3235.9327,-784.3223\"/>\n</g>\n<!-- 144 -->\n<g id=\"node145\" class=\"node\">\n<title>144</title>\n<polygon fill=\"none\" stroke=\"#000000\" points=\"3204,-663 3105,-663 3105,-580 3204,-580 3204,-663\"/>\n<text text-anchor=\"middle\" x=\"3154.5\" y=\"-647.8\" font-family=\"Helvetica,sans-Serif\" font-size=\"14.00\" fill=\"#000000\">a6 &lt;= 1.185</text>\n<text text-anchor=\"middle\" x=\"3154.5\" y=\"-632.8\" font-family=\"Helvetica,sans-Serif\" font-size=\"14.00\" fill=\"#000000\">gini = 0.408</text>\n<text text-anchor=\"middle\" x=\"3154.5\" y=\"-617.8\" font-family=\"Helvetica,sans-Serif\" font-size=\"14.00\" fill=\"#000000\">samples = 7</text>\n<text text-anchor=\"middle\" x=\"3154.5\" y=\"-602.8\" font-family=\"Helvetica,sans-Serif\" font-size=\"14.00\" fill=\"#000000\">value = [2, 5]</text>\n<text text-anchor=\"middle\" x=\"3154.5\" y=\"-587.8\" font-family=\"Helvetica,sans-Serif\" font-size=\"14.00\" fill=\"#000000\">class = 0</text>\n</g>\n<!-- 143&#45;&gt;144 -->\n<g id=\"edge144\" class=\"edge\">\n<title>143&#45;&gt;144</title>\n<path fill=\"none\" stroke=\"#000000\" d=\"M3154.5,-698.8796C3154.5,-690.6838 3154.5,-681.9891 3154.5,-673.5013\"/>\n<polygon fill=\"#000000\" stroke=\"#000000\" points=\"3158.0001,-673.298 3154.5,-663.2981 3151.0001,-673.2981 3158.0001,-673.298\"/>\n</g>\n<!-- 151 -->\n<g id=\"node152\" class=\"node\">\n<title>151</title>\n<polygon fill=\"none\" stroke=\"#000000\" points=\"3321,-655.5 3222,-655.5 3222,-587.5 3321,-587.5 3321,-655.5\"/>\n<text text-anchor=\"middle\" x=\"3271.5\" y=\"-640.3\" font-family=\"Helvetica,sans-Serif\" font-size=\"14.00\" fill=\"#000000\">gini = 0.0</text>\n<text text-anchor=\"middle\" x=\"3271.5\" y=\"-625.3\" font-family=\"Helvetica,sans-Serif\" font-size=\"14.00\" fill=\"#000000\">samples = 1</text>\n<text text-anchor=\"middle\" x=\"3271.5\" y=\"-610.3\" font-family=\"Helvetica,sans-Serif\" font-size=\"14.00\" fill=\"#000000\">value = [1, 0]</text>\n<text text-anchor=\"middle\" x=\"3271.5\" y=\"-595.3\" font-family=\"Helvetica,sans-Serif\" font-size=\"14.00\" fill=\"#000000\">class = 1</text>\n</g>\n<!-- 143&#45;&gt;151 -->\n<g id=\"edge151\" class=\"edge\">\n<title>143&#45;&gt;151</title>\n<path fill=\"none\" stroke=\"#000000\" d=\"M3195.4209,-698.8796C3206.7728,-687.3337 3219.0982,-674.7976 3230.457,-663.2446\"/>\n<polygon fill=\"#000000\" stroke=\"#000000\" points=\"3233.2466,-665.3995 3237.7618,-655.8149 3228.2551,-660.4919 3233.2466,-665.3995\"/>\n</g>\n<!-- 145 -->\n<g id=\"node146\" class=\"node\">\n<title>145</title>\n<polygon fill=\"none\" stroke=\"#000000\" points=\"3145,-544 3046,-544 3046,-461 3145,-461 3145,-544\"/>\n<text text-anchor=\"middle\" x=\"3095.5\" y=\"-528.8\" font-family=\"Helvetica,sans-Serif\" font-size=\"14.00\" fill=\"#000000\">a4 &lt;= 0.279</text>\n<text text-anchor=\"middle\" x=\"3095.5\" y=\"-513.8\" font-family=\"Helvetica,sans-Serif\" font-size=\"14.00\" fill=\"#000000\">gini = 0.278</text>\n<text text-anchor=\"middle\" x=\"3095.5\" y=\"-498.8\" font-family=\"Helvetica,sans-Serif\" font-size=\"14.00\" fill=\"#000000\">samples = 6</text>\n<text text-anchor=\"middle\" x=\"3095.5\" y=\"-483.8\" font-family=\"Helvetica,sans-Serif\" font-size=\"14.00\" fill=\"#000000\">value = [1, 5]</text>\n<text text-anchor=\"middle\" x=\"3095.5\" y=\"-468.8\" font-family=\"Helvetica,sans-Serif\" font-size=\"14.00\" fill=\"#000000\">class = 0</text>\n</g>\n<!-- 144&#45;&gt;145 -->\n<g id=\"edge145\" class=\"edge\">\n<title>144&#45;&gt;145</title>\n<path fill=\"none\" stroke=\"#000000\" d=\"M3133.8647,-579.8796C3129.6226,-571.3236 3125.111,-562.2238 3120.7279,-553.3833\"/>\n<polygon fill=\"#000000\" stroke=\"#000000\" points=\"3123.8012,-551.7026 3116.2234,-544.2981 3117.5297,-554.8121 3123.8012,-551.7026\"/>\n</g>\n<!-- 150 -->\n<g id=\"node151\" class=\"node\">\n<title>150</title>\n<polygon fill=\"none\" stroke=\"#000000\" points=\"3262,-536.5 3163,-536.5 3163,-468.5 3262,-468.5 3262,-536.5\"/>\n<text text-anchor=\"middle\" x=\"3212.5\" y=\"-521.3\" font-family=\"Helvetica,sans-Serif\" font-size=\"14.00\" fill=\"#000000\">gini = 0.0</text>\n<text text-anchor=\"middle\" x=\"3212.5\" y=\"-506.3\" font-family=\"Helvetica,sans-Serif\" font-size=\"14.00\" fill=\"#000000\">samples = 1</text>\n<text text-anchor=\"middle\" x=\"3212.5\" y=\"-491.3\" font-family=\"Helvetica,sans-Serif\" font-size=\"14.00\" fill=\"#000000\">value = [1, 0]</text>\n<text text-anchor=\"middle\" x=\"3212.5\" y=\"-476.3\" font-family=\"Helvetica,sans-Serif\" font-size=\"14.00\" fill=\"#000000\">class = 1</text>\n</g>\n<!-- 144&#45;&gt;150 -->\n<g id=\"edge150\" class=\"edge\">\n<title>144&#45;&gt;150</title>\n<path fill=\"none\" stroke=\"#000000\" d=\"M3174.7856,-579.8796C3180.145,-568.8835 3185.9422,-556.9893 3191.3463,-545.9015\"/>\n<polygon fill=\"#000000\" stroke=\"#000000\" points=\"3194.54,-547.3375 3195.7751,-536.8149 3188.2476,-544.2706 3194.54,-547.3375\"/>\n</g>\n<!-- 146 -->\n<g id=\"node147\" class=\"node\">\n<title>146</title>\n<polygon fill=\"none\" stroke=\"#000000\" points=\"3087,-425 2988,-425 2988,-342 3087,-342 3087,-425\"/>\n<text text-anchor=\"middle\" x=\"3037.5\" y=\"-409.8\" font-family=\"Helvetica,sans-Serif\" font-size=\"14.00\" fill=\"#000000\">a5 &lt;= 0.282</text>\n<text text-anchor=\"middle\" x=\"3037.5\" y=\"-394.8\" font-family=\"Helvetica,sans-Serif\" font-size=\"14.00\" fill=\"#000000\">gini = 0.5</text>\n<text text-anchor=\"middle\" x=\"3037.5\" y=\"-379.8\" font-family=\"Helvetica,sans-Serif\" font-size=\"14.00\" fill=\"#000000\">samples = 2</text>\n<text text-anchor=\"middle\" x=\"3037.5\" y=\"-364.8\" font-family=\"Helvetica,sans-Serif\" font-size=\"14.00\" fill=\"#000000\">value = [1, 1]</text>\n<text text-anchor=\"middle\" x=\"3037.5\" y=\"-349.8\" font-family=\"Helvetica,sans-Serif\" font-size=\"14.00\" fill=\"#000000\">class = 1</text>\n</g>\n<!-- 145&#45;&gt;146 -->\n<g id=\"edge146\" class=\"edge\">\n<title>145&#45;&gt;146</title>\n<path fill=\"none\" stroke=\"#000000\" d=\"M3075.2144,-460.8796C3071.0443,-452.3236 3066.6091,-443.2238 3062.3003,-434.3833\"/>\n<polygon fill=\"#000000\" stroke=\"#000000\" points=\"3065.3997,-432.7538 3057.8722,-425.2981 3059.1073,-435.8207 3065.3997,-432.7538\"/>\n</g>\n<!-- 149 -->\n<g id=\"node150\" class=\"node\">\n<title>149</title>\n<polygon fill=\"none\" stroke=\"#000000\" points=\"3204,-417.5 3105,-417.5 3105,-349.5 3204,-349.5 3204,-417.5\"/>\n<text text-anchor=\"middle\" x=\"3154.5\" y=\"-402.3\" font-family=\"Helvetica,sans-Serif\" font-size=\"14.00\" fill=\"#000000\">gini = 0.0</text>\n<text text-anchor=\"middle\" x=\"3154.5\" y=\"-387.3\" font-family=\"Helvetica,sans-Serif\" font-size=\"14.00\" fill=\"#000000\">samples = 4</text>\n<text text-anchor=\"middle\" x=\"3154.5\" y=\"-372.3\" font-family=\"Helvetica,sans-Serif\" font-size=\"14.00\" fill=\"#000000\">value = [0, 4]</text>\n<text text-anchor=\"middle\" x=\"3154.5\" y=\"-357.3\" font-family=\"Helvetica,sans-Serif\" font-size=\"14.00\" fill=\"#000000\">class = 0</text>\n</g>\n<!-- 145&#45;&gt;149 -->\n<g id=\"edge149\" class=\"edge\">\n<title>145&#45;&gt;149</title>\n<path fill=\"none\" stroke=\"#000000\" d=\"M3116.1353,-460.8796C3121.5872,-449.8835 3127.4843,-437.9893 3132.9816,-426.9015\"/>\n<polygon fill=\"#000000\" stroke=\"#000000\" points=\"3136.1804,-428.3289 3137.4867,-417.8149 3129.9089,-425.2195 3136.1804,-428.3289\"/>\n</g>\n<!-- 147 -->\n<g id=\"node148\" class=\"node\">\n<title>147</title>\n<polygon fill=\"none\" stroke=\"#000000\" points=\"3029,-298.5 2930,-298.5 2930,-230.5 3029,-230.5 3029,-298.5\"/>\n<text text-anchor=\"middle\" x=\"2979.5\" y=\"-283.3\" font-family=\"Helvetica,sans-Serif\" font-size=\"14.00\" fill=\"#000000\">gini = 0.0</text>\n<text text-anchor=\"middle\" x=\"2979.5\" y=\"-268.3\" font-family=\"Helvetica,sans-Serif\" font-size=\"14.00\" fill=\"#000000\">samples = 1</text>\n<text text-anchor=\"middle\" x=\"2979.5\" y=\"-253.3\" font-family=\"Helvetica,sans-Serif\" font-size=\"14.00\" fill=\"#000000\">value = [0, 1]</text>\n<text text-anchor=\"middle\" x=\"2979.5\" y=\"-238.3\" font-family=\"Helvetica,sans-Serif\" font-size=\"14.00\" fill=\"#000000\">class = 0</text>\n</g>\n<!-- 146&#45;&gt;147 -->\n<g id=\"edge147\" class=\"edge\">\n<title>146&#45;&gt;147</title>\n<path fill=\"none\" stroke=\"#000000\" d=\"M3017.2144,-341.8796C3011.855,-330.8835 3006.0578,-318.9893 3000.6537,-307.9015\"/>\n<polygon fill=\"#000000\" stroke=\"#000000\" points=\"3003.7524,-306.2706 2996.2249,-298.8149 2997.46,-309.3375 3003.7524,-306.2706\"/>\n</g>\n<!-- 148 -->\n<g id=\"node149\" class=\"node\">\n<title>148</title>\n<polygon fill=\"none\" stroke=\"#000000\" points=\"3146,-298.5 3047,-298.5 3047,-230.5 3146,-230.5 3146,-298.5\"/>\n<text text-anchor=\"middle\" x=\"3096.5\" y=\"-283.3\" font-family=\"Helvetica,sans-Serif\" font-size=\"14.00\" fill=\"#000000\">gini = 0.0</text>\n<text text-anchor=\"middle\" x=\"3096.5\" y=\"-268.3\" font-family=\"Helvetica,sans-Serif\" font-size=\"14.00\" fill=\"#000000\">samples = 1</text>\n<text text-anchor=\"middle\" x=\"3096.5\" y=\"-253.3\" font-family=\"Helvetica,sans-Serif\" font-size=\"14.00\" fill=\"#000000\">value = [1, 0]</text>\n<text text-anchor=\"middle\" x=\"3096.5\" y=\"-238.3\" font-family=\"Helvetica,sans-Serif\" font-size=\"14.00\" fill=\"#000000\">class = 1</text>\n</g>\n<!-- 146&#45;&gt;148 -->\n<g id=\"edge148\" class=\"edge\">\n<title>146&#45;&gt;148</title>\n<path fill=\"none\" stroke=\"#000000\" d=\"M3058.1353,-341.8796C3063.5872,-330.8835 3069.4843,-318.9893 3074.9816,-307.9015\"/>\n<polygon fill=\"#000000\" stroke=\"#000000\" points=\"3078.1804,-309.3289 3079.4867,-298.8149 3071.9089,-306.2195 3078.1804,-309.3289\"/>\n</g>\n<!-- 155 -->\n<g id=\"node156\" class=\"node\">\n<title>155</title>\n<polygon fill=\"none\" stroke=\"#000000\" points=\"3619,-901 3512,-901 3512,-818 3619,-818 3619,-901\"/>\n<text text-anchor=\"middle\" x=\"3565.5\" y=\"-885.8\" font-family=\"Helvetica,sans-Serif\" font-size=\"14.00\" fill=\"#000000\">a3 &lt;= 0.113</text>\n<text text-anchor=\"middle\" x=\"3565.5\" y=\"-870.8\" font-family=\"Helvetica,sans-Serif\" font-size=\"14.00\" fill=\"#000000\">gini = 0.21</text>\n<text text-anchor=\"middle\" x=\"3565.5\" y=\"-855.8\" font-family=\"Helvetica,sans-Serif\" font-size=\"14.00\" fill=\"#000000\">samples = 42</text>\n<text text-anchor=\"middle\" x=\"3565.5\" y=\"-840.8\" font-family=\"Helvetica,sans-Serif\" font-size=\"14.00\" fill=\"#000000\">value = [5, 37]</text>\n<text text-anchor=\"middle\" x=\"3565.5\" y=\"-825.8\" font-family=\"Helvetica,sans-Serif\" font-size=\"14.00\" fill=\"#000000\">class = 0</text>\n</g>\n<!-- 154&#45;&gt;155 -->\n<g id=\"edge155\" class=\"edge\">\n<title>154&#45;&gt;155</title>\n<path fill=\"none\" stroke=\"#000000\" d=\"M3565.5,-936.8796C3565.5,-928.6838 3565.5,-919.9891 3565.5,-911.5013\"/>\n<polygon fill=\"#000000\" stroke=\"#000000\" points=\"3569.0001,-911.298 3565.5,-901.2981 3562.0001,-911.2981 3569.0001,-911.298\"/>\n</g>\n<!-- 174 -->\n<g id=\"node175\" class=\"node\">\n<title>174</title>\n<polygon fill=\"none\" stroke=\"#000000\" points=\"3926,-901 3819,-901 3819,-818 3926,-818 3926,-901\"/>\n<text text-anchor=\"middle\" x=\"3872.5\" y=\"-885.8\" font-family=\"Helvetica,sans-Serif\" font-size=\"14.00\" fill=\"#000000\">a4 &lt;= 0.001</text>\n<text text-anchor=\"middle\" x=\"3872.5\" y=\"-870.8\" font-family=\"Helvetica,sans-Serif\" font-size=\"14.00\" fill=\"#000000\">gini = 0.03</text>\n<text text-anchor=\"middle\" x=\"3872.5\" y=\"-855.8\" font-family=\"Helvetica,sans-Serif\" font-size=\"14.00\" fill=\"#000000\">samples = 65</text>\n<text text-anchor=\"middle\" x=\"3872.5\" y=\"-840.8\" font-family=\"Helvetica,sans-Serif\" font-size=\"14.00\" fill=\"#000000\">value = [1, 64]</text>\n<text text-anchor=\"middle\" x=\"3872.5\" y=\"-825.8\" font-family=\"Helvetica,sans-Serif\" font-size=\"14.00\" fill=\"#000000\">class = 0</text>\n</g>\n<!-- 154&#45;&gt;174 -->\n<g id=\"edge174\" class=\"edge\">\n<title>154&#45;&gt;174</title>\n<path fill=\"none\" stroke=\"#000000\" d=\"M3623.6053,-955.9771C3676.6551,-935.4138 3754.8901,-905.0882 3809.44,-883.9435\"/>\n<polygon fill=\"#000000\" stroke=\"#000000\" points=\"3810.9399,-887.1159 3818.999,-880.2382 3808.4099,-880.589 3810.9399,-887.1159\"/>\n</g>\n<!-- 156 -->\n<g id=\"node157\" class=\"node\">\n<title>156</title>\n<polygon fill=\"none\" stroke=\"#000000\" points=\"3555,-782 3456,-782 3456,-699 3555,-699 3555,-782\"/>\n<text text-anchor=\"middle\" x=\"3505.5\" y=\"-766.8\" font-family=\"Helvetica,sans-Serif\" font-size=\"14.00\" fill=\"#000000\">a6 &lt;= 0.477</text>\n<text text-anchor=\"middle\" x=\"3505.5\" y=\"-751.8\" font-family=\"Helvetica,sans-Serif\" font-size=\"14.00\" fill=\"#000000\">gini = 0.444</text>\n<text text-anchor=\"middle\" x=\"3505.5\" y=\"-736.8\" font-family=\"Helvetica,sans-Serif\" font-size=\"14.00\" fill=\"#000000\">samples = 6</text>\n<text text-anchor=\"middle\" x=\"3505.5\" y=\"-721.8\" font-family=\"Helvetica,sans-Serif\" font-size=\"14.00\" fill=\"#000000\">value = [2, 4]</text>\n<text text-anchor=\"middle\" x=\"3505.5\" y=\"-706.8\" font-family=\"Helvetica,sans-Serif\" font-size=\"14.00\" fill=\"#000000\">class = 0</text>\n</g>\n<!-- 155&#45;&gt;156 -->\n<g id=\"edge156\" class=\"edge\">\n<title>155&#45;&gt;156</title>\n<path fill=\"none\" stroke=\"#000000\" d=\"M3544.5149,-817.8796C3540.201,-809.3236 3535.6128,-800.2238 3531.1554,-791.3833\"/>\n<polygon fill=\"#000000\" stroke=\"#000000\" points=\"3534.2021,-789.6515 3526.5747,-782.2981 3527.9516,-792.8031 3534.2021,-789.6515\"/>\n</g>\n<!-- 159 -->\n<g id=\"node160\" class=\"node\">\n<title>159</title>\n<polygon fill=\"none\" stroke=\"#000000\" points=\"3680,-782 3573,-782 3573,-699 3680,-699 3680,-782\"/>\n<text text-anchor=\"middle\" x=\"3626.5\" y=\"-766.8\" font-family=\"Helvetica,sans-Serif\" font-size=\"14.00\" fill=\"#000000\">a4 &lt;= 0.372</text>\n<text text-anchor=\"middle\" x=\"3626.5\" y=\"-751.8\" font-family=\"Helvetica,sans-Serif\" font-size=\"14.00\" fill=\"#000000\">gini = 0.153</text>\n<text text-anchor=\"middle\" x=\"3626.5\" y=\"-736.8\" font-family=\"Helvetica,sans-Serif\" font-size=\"14.00\" fill=\"#000000\">samples = 36</text>\n<text text-anchor=\"middle\" x=\"3626.5\" y=\"-721.8\" font-family=\"Helvetica,sans-Serif\" font-size=\"14.00\" fill=\"#000000\">value = [3, 33]</text>\n<text text-anchor=\"middle\" x=\"3626.5\" y=\"-706.8\" font-family=\"Helvetica,sans-Serif\" font-size=\"14.00\" fill=\"#000000\">class = 0</text>\n</g>\n<!-- 155&#45;&gt;159 -->\n<g id=\"edge159\" class=\"edge\">\n<title>155&#45;&gt;159</title>\n<path fill=\"none\" stroke=\"#000000\" d=\"M3586.8348,-817.8796C3591.2207,-809.3236 3595.8853,-800.2238 3600.417,-791.3833\"/>\n<polygon fill=\"#000000\" stroke=\"#000000\" points=\"3603.627,-792.7936 3605.0741,-782.2981 3597.3978,-789.6004 3603.627,-792.7936\"/>\n</g>\n<!-- 157 -->\n<g id=\"node158\" class=\"node\">\n<title>157</title>\n<polygon fill=\"none\" stroke=\"#000000\" points=\"3438,-655.5 3339,-655.5 3339,-587.5 3438,-587.5 3438,-655.5\"/>\n<text text-anchor=\"middle\" x=\"3388.5\" y=\"-640.3\" font-family=\"Helvetica,sans-Serif\" font-size=\"14.00\" fill=\"#000000\">gini = 0.0</text>\n<text text-anchor=\"middle\" x=\"3388.5\" y=\"-625.3\" font-family=\"Helvetica,sans-Serif\" font-size=\"14.00\" fill=\"#000000\">samples = 2</text>\n<text text-anchor=\"middle\" x=\"3388.5\" y=\"-610.3\" font-family=\"Helvetica,sans-Serif\" font-size=\"14.00\" fill=\"#000000\">value = [2, 0]</text>\n<text text-anchor=\"middle\" x=\"3388.5\" y=\"-595.3\" font-family=\"Helvetica,sans-Serif\" font-size=\"14.00\" fill=\"#000000\">class = 1</text>\n</g>\n<!-- 156&#45;&gt;157 -->\n<g id=\"edge157\" class=\"edge\">\n<title>156&#45;&gt;157</title>\n<path fill=\"none\" stroke=\"#000000\" d=\"M3464.5791,-698.8796C3453.2272,-687.3337 3440.9018,-674.7976 3429.543,-663.2446\"/>\n<polygon fill=\"#000000\" stroke=\"#000000\" points=\"3431.7449,-660.4919 3422.2382,-655.8149 3426.7534,-665.3995 3431.7449,-660.4919\"/>\n</g>\n<!-- 158 -->\n<g id=\"node159\" class=\"node\">\n<title>158</title>\n<polygon fill=\"none\" stroke=\"#000000\" points=\"3555,-655.5 3456,-655.5 3456,-587.5 3555,-587.5 3555,-655.5\"/>\n<text text-anchor=\"middle\" x=\"3505.5\" y=\"-640.3\" font-family=\"Helvetica,sans-Serif\" font-size=\"14.00\" fill=\"#000000\">gini = 0.0</text>\n<text text-anchor=\"middle\" x=\"3505.5\" y=\"-625.3\" font-family=\"Helvetica,sans-Serif\" font-size=\"14.00\" fill=\"#000000\">samples = 4</text>\n<text text-anchor=\"middle\" x=\"3505.5\" y=\"-610.3\" font-family=\"Helvetica,sans-Serif\" font-size=\"14.00\" fill=\"#000000\">value = [0, 4]</text>\n<text text-anchor=\"middle\" x=\"3505.5\" y=\"-595.3\" font-family=\"Helvetica,sans-Serif\" font-size=\"14.00\" fill=\"#000000\">class = 0</text>\n</g>\n<!-- 156&#45;&gt;158 -->\n<g id=\"edge158\" class=\"edge\">\n<title>156&#45;&gt;158</title>\n<path fill=\"none\" stroke=\"#000000\" d=\"M3505.5,-698.8796C3505.5,-688.2134 3505.5,-676.7021 3505.5,-665.9015\"/>\n<polygon fill=\"#000000\" stroke=\"#000000\" points=\"3509.0001,-665.8149 3505.5,-655.8149 3502.0001,-665.815 3509.0001,-665.8149\"/>\n</g>\n<!-- 160 -->\n<g id=\"node161\" class=\"node\">\n<title>160</title>\n<polygon fill=\"none\" stroke=\"#000000\" points=\"3680,-655.5 3573,-655.5 3573,-587.5 3680,-587.5 3680,-655.5\"/>\n<text text-anchor=\"middle\" x=\"3626.5\" y=\"-640.3\" font-family=\"Helvetica,sans-Serif\" font-size=\"14.00\" fill=\"#000000\">gini = 0.0</text>\n<text text-anchor=\"middle\" x=\"3626.5\" y=\"-625.3\" font-family=\"Helvetica,sans-Serif\" font-size=\"14.00\" fill=\"#000000\">samples = 17</text>\n<text text-anchor=\"middle\" x=\"3626.5\" y=\"-610.3\" font-family=\"Helvetica,sans-Serif\" font-size=\"14.00\" fill=\"#000000\">value = [0, 17]</text>\n<text text-anchor=\"middle\" x=\"3626.5\" y=\"-595.3\" font-family=\"Helvetica,sans-Serif\" font-size=\"14.00\" fill=\"#000000\">class = 0</text>\n</g>\n<!-- 159&#45;&gt;160 -->\n<g id=\"edge160\" class=\"edge\">\n<title>159&#45;&gt;160</title>\n<path fill=\"none\" stroke=\"#000000\" d=\"M3626.5,-698.8796C3626.5,-688.2134 3626.5,-676.7021 3626.5,-665.9015\"/>\n<polygon fill=\"#000000\" stroke=\"#000000\" points=\"3630.0001,-665.8149 3626.5,-655.8149 3623.0001,-665.815 3630.0001,-665.8149\"/>\n</g>\n<!-- 161 -->\n<g id=\"node162\" class=\"node\">\n<title>161</title>\n<polygon fill=\"none\" stroke=\"#000000\" points=\"3805,-663 3698,-663 3698,-580 3805,-580 3805,-663\"/>\n<text text-anchor=\"middle\" x=\"3751.5\" y=\"-647.8\" font-family=\"Helvetica,sans-Serif\" font-size=\"14.00\" fill=\"#000000\">a4 &lt;= 0.557</text>\n<text text-anchor=\"middle\" x=\"3751.5\" y=\"-632.8\" font-family=\"Helvetica,sans-Serif\" font-size=\"14.00\" fill=\"#000000\">gini = 0.266</text>\n<text text-anchor=\"middle\" x=\"3751.5\" y=\"-617.8\" font-family=\"Helvetica,sans-Serif\" font-size=\"14.00\" fill=\"#000000\">samples = 19</text>\n<text text-anchor=\"middle\" x=\"3751.5\" y=\"-602.8\" font-family=\"Helvetica,sans-Serif\" font-size=\"14.00\" fill=\"#000000\">value = [3, 16]</text>\n<text text-anchor=\"middle\" x=\"3751.5\" y=\"-587.8\" font-family=\"Helvetica,sans-Serif\" font-size=\"14.00\" fill=\"#000000\">class = 0</text>\n</g>\n<!-- 159&#45;&gt;161 -->\n<g id=\"edge161\" class=\"edge\">\n<title>159&#45;&gt;161</title>\n<path fill=\"none\" stroke=\"#000000\" d=\"M3670.2189,-698.8796C3679.8686,-689.6931 3690.1766,-679.8798 3700.0991,-670.4336\"/>\n<polygon fill=\"#000000\" stroke=\"#000000\" points=\"3702.765,-672.7282 3707.5945,-663.2981 3697.9384,-667.6582 3702.765,-672.7282\"/>\n</g>\n<!-- 162 -->\n<g id=\"node163\" class=\"node\">\n<title>162</title>\n<polygon fill=\"none\" stroke=\"#000000\" points=\"3685.5,-544 3581.5,-544 3581.5,-461 3685.5,-461 3685.5,-544\"/>\n<text text-anchor=\"middle\" x=\"3633.5\" y=\"-528.8\" font-family=\"Helvetica,sans-Serif\" font-size=\"14.00\" fill=\"#000000\">a2 &lt;= 0.017</text>\n<text text-anchor=\"middle\" x=\"3633.5\" y=\"-513.8\" font-family=\"Helvetica,sans-Serif\" font-size=\"14.00\" fill=\"#000000\">gini = 0.375</text>\n<text text-anchor=\"middle\" x=\"3633.5\" y=\"-498.8\" font-family=\"Helvetica,sans-Serif\" font-size=\"14.00\" fill=\"#000000\">samples = 12</text>\n<text text-anchor=\"middle\" x=\"3633.5\" y=\"-483.8\" font-family=\"Helvetica,sans-Serif\" font-size=\"14.00\" fill=\"#000000\">value = [3, 9]</text>\n<text text-anchor=\"middle\" x=\"3633.5\" y=\"-468.8\" font-family=\"Helvetica,sans-Serif\" font-size=\"14.00\" fill=\"#000000\">class = 0</text>\n</g>\n<!-- 161&#45;&gt;162 -->\n<g id=\"edge162\" class=\"edge\">\n<title>161&#45;&gt;162</title>\n<path fill=\"none\" stroke=\"#000000\" d=\"M3710.2293,-579.8796C3701.1201,-570.6931 3691.3892,-560.8798 3682.0224,-551.4336\"/>\n<polygon fill=\"#000000\" stroke=\"#000000\" points=\"3684.4733,-548.9345 3674.9468,-544.2981 3679.5027,-553.8634 3684.4733,-548.9345\"/>\n</g>\n<!-- 173 -->\n<g id=\"node174\" class=\"node\">\n<title>173</title>\n<polygon fill=\"none\" stroke=\"#000000\" points=\"3803,-536.5 3704,-536.5 3704,-468.5 3803,-468.5 3803,-536.5\"/>\n<text text-anchor=\"middle\" x=\"3753.5\" y=\"-521.3\" font-family=\"Helvetica,sans-Serif\" font-size=\"14.00\" fill=\"#000000\">gini = 0.0</text>\n<text text-anchor=\"middle\" x=\"3753.5\" y=\"-506.3\" font-family=\"Helvetica,sans-Serif\" font-size=\"14.00\" fill=\"#000000\">samples = 7</text>\n<text text-anchor=\"middle\" x=\"3753.5\" y=\"-491.3\" font-family=\"Helvetica,sans-Serif\" font-size=\"14.00\" fill=\"#000000\">value = [0, 7]</text>\n<text text-anchor=\"middle\" x=\"3753.5\" y=\"-476.3\" font-family=\"Helvetica,sans-Serif\" font-size=\"14.00\" fill=\"#000000\">class = 0</text>\n</g>\n<!-- 161&#45;&gt;173 -->\n<g id=\"edge173\" class=\"edge\">\n<title>161&#45;&gt;173</title>\n<path fill=\"none\" stroke=\"#000000\" d=\"M3752.1995,-579.8796C3752.3788,-569.2134 3752.5722,-557.7021 3752.7538,-546.9015\"/>\n<polygon fill=\"#000000\" stroke=\"#000000\" points=\"3756.2546,-546.8724 3752.9233,-536.8149 3749.2556,-546.7547 3756.2546,-546.8724\"/>\n</g>\n<!-- 163 -->\n<g id=\"node164\" class=\"node\">\n<title>163</title>\n<polygon fill=\"none\" stroke=\"#000000\" points=\"3624,-425 3525,-425 3525,-342 3624,-342 3624,-425\"/>\n<text text-anchor=\"middle\" x=\"3574.5\" y=\"-409.8\" font-family=\"Helvetica,sans-Serif\" font-size=\"14.00\" fill=\"#000000\">a5 &lt;= 0.392</text>\n<text text-anchor=\"middle\" x=\"3574.5\" y=\"-394.8\" font-family=\"Helvetica,sans-Serif\" font-size=\"14.00\" fill=\"#000000\">gini = 0.219</text>\n<text text-anchor=\"middle\" x=\"3574.5\" y=\"-379.8\" font-family=\"Helvetica,sans-Serif\" font-size=\"14.00\" fill=\"#000000\">samples = 8</text>\n<text text-anchor=\"middle\" x=\"3574.5\" y=\"-364.8\" font-family=\"Helvetica,sans-Serif\" font-size=\"14.00\" fill=\"#000000\">value = [1, 7]</text>\n<text text-anchor=\"middle\" x=\"3574.5\" y=\"-349.8\" font-family=\"Helvetica,sans-Serif\" font-size=\"14.00\" fill=\"#000000\">class = 0</text>\n</g>\n<!-- 162&#45;&gt;163 -->\n<g id=\"edge163\" class=\"edge\">\n<title>162&#45;&gt;163</title>\n<path fill=\"none\" stroke=\"#000000\" d=\"M3612.8647,-460.8796C3608.6226,-452.3236 3604.111,-443.2238 3599.7279,-434.3833\"/>\n<polygon fill=\"#000000\" stroke=\"#000000\" points=\"3602.8012,-432.7026 3595.2234,-425.2981 3596.5297,-435.8121 3602.8012,-432.7026\"/>\n</g>\n<!-- 168 -->\n<g id=\"node169\" class=\"node\">\n<title>168</title>\n<polygon fill=\"none\" stroke=\"#000000\" points=\"3741,-425 3642,-425 3642,-342 3741,-342 3741,-425\"/>\n<text text-anchor=\"middle\" x=\"3691.5\" y=\"-409.8\" font-family=\"Helvetica,sans-Serif\" font-size=\"14.00\" fill=\"#000000\">a6 &lt;= &#45;0.089</text>\n<text text-anchor=\"middle\" x=\"3691.5\" y=\"-394.8\" font-family=\"Helvetica,sans-Serif\" font-size=\"14.00\" fill=\"#000000\">gini = 0.5</text>\n<text text-anchor=\"middle\" x=\"3691.5\" y=\"-379.8\" font-family=\"Helvetica,sans-Serif\" font-size=\"14.00\" fill=\"#000000\">samples = 4</text>\n<text text-anchor=\"middle\" x=\"3691.5\" y=\"-364.8\" font-family=\"Helvetica,sans-Serif\" font-size=\"14.00\" fill=\"#000000\">value = [2, 2]</text>\n<text text-anchor=\"middle\" x=\"3691.5\" y=\"-349.8\" font-family=\"Helvetica,sans-Serif\" font-size=\"14.00\" fill=\"#000000\">class = 1</text>\n</g>\n<!-- 162&#45;&gt;168 -->\n<g id=\"edge168\" class=\"edge\">\n<title>162&#45;&gt;168</title>\n<path fill=\"none\" stroke=\"#000000\" d=\"M3653.7856,-460.8796C3657.9557,-452.3236 3662.3909,-443.2238 3666.6997,-434.3833\"/>\n<polygon fill=\"#000000\" stroke=\"#000000\" points=\"3669.8927,-435.8207 3671.1278,-425.2981 3663.6003,-432.7538 3669.8927,-435.8207\"/>\n</g>\n<!-- 164 -->\n<g id=\"node165\" class=\"node\">\n<title>164</title>\n<polygon fill=\"none\" stroke=\"#000000\" points=\"3507,-298.5 3408,-298.5 3408,-230.5 3507,-230.5 3507,-298.5\"/>\n<text text-anchor=\"middle\" x=\"3457.5\" y=\"-283.3\" font-family=\"Helvetica,sans-Serif\" font-size=\"14.00\" fill=\"#000000\">gini = 0.0</text>\n<text text-anchor=\"middle\" x=\"3457.5\" y=\"-268.3\" font-family=\"Helvetica,sans-Serif\" font-size=\"14.00\" fill=\"#000000\">samples = 5</text>\n<text text-anchor=\"middle\" x=\"3457.5\" y=\"-253.3\" font-family=\"Helvetica,sans-Serif\" font-size=\"14.00\" fill=\"#000000\">value = [0, 5]</text>\n<text text-anchor=\"middle\" x=\"3457.5\" y=\"-238.3\" font-family=\"Helvetica,sans-Serif\" font-size=\"14.00\" fill=\"#000000\">class = 0</text>\n</g>\n<!-- 163&#45;&gt;164 -->\n<g id=\"edge164\" class=\"edge\">\n<title>163&#45;&gt;164</title>\n<path fill=\"none\" stroke=\"#000000\" d=\"M3533.5791,-341.8796C3522.2272,-330.3337 3509.9018,-317.7976 3498.543,-306.2446\"/>\n<polygon fill=\"#000000\" stroke=\"#000000\" points=\"3500.7449,-303.4919 3491.2382,-298.8149 3495.7534,-308.3995 3500.7449,-303.4919\"/>\n</g>\n<!-- 165 -->\n<g id=\"node166\" class=\"node\">\n<title>165</title>\n<polygon fill=\"none\" stroke=\"#000000\" points=\"3624,-306 3525,-306 3525,-223 3624,-223 3624,-306\"/>\n<text text-anchor=\"middle\" x=\"3574.5\" y=\"-290.8\" font-family=\"Helvetica,sans-Serif\" font-size=\"14.00\" fill=\"#000000\">a1 &lt;= &#45;0.221</text>\n<text text-anchor=\"middle\" x=\"3574.5\" y=\"-275.8\" font-family=\"Helvetica,sans-Serif\" font-size=\"14.00\" fill=\"#000000\">gini = 0.444</text>\n<text text-anchor=\"middle\" x=\"3574.5\" y=\"-260.8\" font-family=\"Helvetica,sans-Serif\" font-size=\"14.00\" fill=\"#000000\">samples = 3</text>\n<text text-anchor=\"middle\" x=\"3574.5\" y=\"-245.8\" font-family=\"Helvetica,sans-Serif\" font-size=\"14.00\" fill=\"#000000\">value = [1, 2]</text>\n<text text-anchor=\"middle\" x=\"3574.5\" y=\"-230.8\" font-family=\"Helvetica,sans-Serif\" font-size=\"14.00\" fill=\"#000000\">class = 0</text>\n</g>\n<!-- 163&#45;&gt;165 -->\n<g id=\"edge165\" class=\"edge\">\n<title>163&#45;&gt;165</title>\n<path fill=\"none\" stroke=\"#000000\" d=\"M3574.5,-341.8796C3574.5,-333.6838 3574.5,-324.9891 3574.5,-316.5013\"/>\n<polygon fill=\"#000000\" stroke=\"#000000\" points=\"3578.0001,-316.298 3574.5,-306.2981 3571.0001,-316.2981 3578.0001,-316.298\"/>\n</g>\n<!-- 166 -->\n<g id=\"node167\" class=\"node\">\n<title>166</title>\n<polygon fill=\"none\" stroke=\"#000000\" points=\"3565,-179.5 3466,-179.5 3466,-111.5 3565,-111.5 3565,-179.5\"/>\n<text text-anchor=\"middle\" x=\"3515.5\" y=\"-164.3\" font-family=\"Helvetica,sans-Serif\" font-size=\"14.00\" fill=\"#000000\">gini = 0.0</text>\n<text text-anchor=\"middle\" x=\"3515.5\" y=\"-149.3\" font-family=\"Helvetica,sans-Serif\" font-size=\"14.00\" fill=\"#000000\">samples = 2</text>\n<text text-anchor=\"middle\" x=\"3515.5\" y=\"-134.3\" font-family=\"Helvetica,sans-Serif\" font-size=\"14.00\" fill=\"#000000\">value = [0, 2]</text>\n<text text-anchor=\"middle\" x=\"3515.5\" y=\"-119.3\" font-family=\"Helvetica,sans-Serif\" font-size=\"14.00\" fill=\"#000000\">class = 0</text>\n</g>\n<!-- 165&#45;&gt;166 -->\n<g id=\"edge166\" class=\"edge\">\n<title>165&#45;&gt;166</title>\n<path fill=\"none\" stroke=\"#000000\" d=\"M3553.8647,-222.8796C3548.4128,-211.8835 3542.5157,-199.9893 3537.0184,-188.9015\"/>\n<polygon fill=\"#000000\" stroke=\"#000000\" points=\"3540.0911,-187.2195 3532.5133,-179.8149 3533.8196,-190.3289 3540.0911,-187.2195\"/>\n</g>\n<!-- 167 -->\n<g id=\"node168\" class=\"node\">\n<title>167</title>\n<polygon fill=\"none\" stroke=\"#000000\" points=\"3682,-179.5 3583,-179.5 3583,-111.5 3682,-111.5 3682,-179.5\"/>\n<text text-anchor=\"middle\" x=\"3632.5\" y=\"-164.3\" font-family=\"Helvetica,sans-Serif\" font-size=\"14.00\" fill=\"#000000\">gini = 0.0</text>\n<text text-anchor=\"middle\" x=\"3632.5\" y=\"-149.3\" font-family=\"Helvetica,sans-Serif\" font-size=\"14.00\" fill=\"#000000\">samples = 1</text>\n<text text-anchor=\"middle\" x=\"3632.5\" y=\"-134.3\" font-family=\"Helvetica,sans-Serif\" font-size=\"14.00\" fill=\"#000000\">value = [1, 0]</text>\n<text text-anchor=\"middle\" x=\"3632.5\" y=\"-119.3\" font-family=\"Helvetica,sans-Serif\" font-size=\"14.00\" fill=\"#000000\">class = 1</text>\n</g>\n<!-- 165&#45;&gt;167 -->\n<g id=\"edge167\" class=\"edge\">\n<title>165&#45;&gt;167</title>\n<path fill=\"none\" stroke=\"#000000\" d=\"M3594.7856,-222.8796C3600.145,-211.8835 3605.9422,-199.9893 3611.3463,-188.9015\"/>\n<polygon fill=\"#000000\" stroke=\"#000000\" points=\"3614.54,-190.3375 3615.7751,-179.8149 3608.2476,-187.2706 3614.54,-190.3375\"/>\n</g>\n<!-- 169 -->\n<g id=\"node170\" class=\"node\">\n<title>169</title>\n<polygon fill=\"none\" stroke=\"#000000\" points=\"3741,-298.5 3642,-298.5 3642,-230.5 3741,-230.5 3741,-298.5\"/>\n<text text-anchor=\"middle\" x=\"3691.5\" y=\"-283.3\" font-family=\"Helvetica,sans-Serif\" font-size=\"14.00\" fill=\"#000000\">gini = 0.0</text>\n<text text-anchor=\"middle\" x=\"3691.5\" y=\"-268.3\" font-family=\"Helvetica,sans-Serif\" font-size=\"14.00\" fill=\"#000000\">samples = 1</text>\n<text text-anchor=\"middle\" x=\"3691.5\" y=\"-253.3\" font-family=\"Helvetica,sans-Serif\" font-size=\"14.00\" fill=\"#000000\">value = [0, 1]</text>\n<text text-anchor=\"middle\" x=\"3691.5\" y=\"-238.3\" font-family=\"Helvetica,sans-Serif\" font-size=\"14.00\" fill=\"#000000\">class = 0</text>\n</g>\n<!-- 168&#45;&gt;169 -->\n<g id=\"edge169\" class=\"edge\">\n<title>168&#45;&gt;169</title>\n<path fill=\"none\" stroke=\"#000000\" d=\"M3691.5,-341.8796C3691.5,-331.2134 3691.5,-319.7021 3691.5,-308.9015\"/>\n<polygon fill=\"#000000\" stroke=\"#000000\" points=\"3695.0001,-308.8149 3691.5,-298.8149 3688.0001,-308.815 3695.0001,-308.8149\"/>\n</g>\n<!-- 170 -->\n<g id=\"node171\" class=\"node\">\n<title>170</title>\n<polygon fill=\"none\" stroke=\"#000000\" points=\"3858,-306 3759,-306 3759,-223 3858,-223 3858,-306\"/>\n<text text-anchor=\"middle\" x=\"3808.5\" y=\"-290.8\" font-family=\"Helvetica,sans-Serif\" font-size=\"14.00\" fill=\"#000000\">a4 &lt;= 0.465</text>\n<text text-anchor=\"middle\" x=\"3808.5\" y=\"-275.8\" font-family=\"Helvetica,sans-Serif\" font-size=\"14.00\" fill=\"#000000\">gini = 0.444</text>\n<text text-anchor=\"middle\" x=\"3808.5\" y=\"-260.8\" font-family=\"Helvetica,sans-Serif\" font-size=\"14.00\" fill=\"#000000\">samples = 3</text>\n<text text-anchor=\"middle\" x=\"3808.5\" y=\"-245.8\" font-family=\"Helvetica,sans-Serif\" font-size=\"14.00\" fill=\"#000000\">value = [2, 1]</text>\n<text text-anchor=\"middle\" x=\"3808.5\" y=\"-230.8\" font-family=\"Helvetica,sans-Serif\" font-size=\"14.00\" fill=\"#000000\">class = 1</text>\n</g>\n<!-- 168&#45;&gt;170 -->\n<g id=\"edge170\" class=\"edge\">\n<title>168&#45;&gt;170</title>\n<path fill=\"none\" stroke=\"#000000\" d=\"M3732.4209,-341.8796C3741.453,-332.6931 3751.1013,-322.8798 3760.3888,-313.4336\"/>\n<polygon fill=\"#000000\" stroke=\"#000000\" points=\"3762.8893,-315.8827 3767.4044,-306.2981 3757.8977,-310.975 3762.8893,-315.8827\"/>\n</g>\n<!-- 171 -->\n<g id=\"node172\" class=\"node\">\n<title>171</title>\n<polygon fill=\"none\" stroke=\"#000000\" points=\"3799,-179.5 3700,-179.5 3700,-111.5 3799,-111.5 3799,-179.5\"/>\n<text text-anchor=\"middle\" x=\"3749.5\" y=\"-164.3\" font-family=\"Helvetica,sans-Serif\" font-size=\"14.00\" fill=\"#000000\">gini = 0.0</text>\n<text text-anchor=\"middle\" x=\"3749.5\" y=\"-149.3\" font-family=\"Helvetica,sans-Serif\" font-size=\"14.00\" fill=\"#000000\">samples = 2</text>\n<text text-anchor=\"middle\" x=\"3749.5\" y=\"-134.3\" font-family=\"Helvetica,sans-Serif\" font-size=\"14.00\" fill=\"#000000\">value = [2, 0]</text>\n<text text-anchor=\"middle\" x=\"3749.5\" y=\"-119.3\" font-family=\"Helvetica,sans-Serif\" font-size=\"14.00\" fill=\"#000000\">class = 1</text>\n</g>\n<!-- 170&#45;&gt;171 -->\n<g id=\"edge171\" class=\"edge\">\n<title>170&#45;&gt;171</title>\n<path fill=\"none\" stroke=\"#000000\" d=\"M3787.8647,-222.8796C3782.4128,-211.8835 3776.5157,-199.9893 3771.0184,-188.9015\"/>\n<polygon fill=\"#000000\" stroke=\"#000000\" points=\"3774.0911,-187.2195 3766.5133,-179.8149 3767.8196,-190.3289 3774.0911,-187.2195\"/>\n</g>\n<!-- 172 -->\n<g id=\"node173\" class=\"node\">\n<title>172</title>\n<polygon fill=\"none\" stroke=\"#000000\" points=\"3916,-179.5 3817,-179.5 3817,-111.5 3916,-111.5 3916,-179.5\"/>\n<text text-anchor=\"middle\" x=\"3866.5\" y=\"-164.3\" font-family=\"Helvetica,sans-Serif\" font-size=\"14.00\" fill=\"#000000\">gini = 0.0</text>\n<text text-anchor=\"middle\" x=\"3866.5\" y=\"-149.3\" font-family=\"Helvetica,sans-Serif\" font-size=\"14.00\" fill=\"#000000\">samples = 1</text>\n<text text-anchor=\"middle\" x=\"3866.5\" y=\"-134.3\" font-family=\"Helvetica,sans-Serif\" font-size=\"14.00\" fill=\"#000000\">value = [0, 1]</text>\n<text text-anchor=\"middle\" x=\"3866.5\" y=\"-119.3\" font-family=\"Helvetica,sans-Serif\" font-size=\"14.00\" fill=\"#000000\">class = 0</text>\n</g>\n<!-- 170&#45;&gt;172 -->\n<g id=\"edge172\" class=\"edge\">\n<title>170&#45;&gt;172</title>\n<path fill=\"none\" stroke=\"#000000\" d=\"M3828.7856,-222.8796C3834.145,-211.8835 3839.9422,-199.9893 3845.3463,-188.9015\"/>\n<polygon fill=\"#000000\" stroke=\"#000000\" points=\"3848.54,-190.3375 3849.7751,-179.8149 3842.2476,-187.2706 3848.54,-190.3375\"/>\n</g>\n<!-- 175 -->\n<g id=\"node176\" class=\"node\">\n<title>175</title>\n<polygon fill=\"none\" stroke=\"#000000\" points=\"3926,-782 3819,-782 3819,-699 3926,-699 3926,-782\"/>\n<text text-anchor=\"middle\" x=\"3872.5\" y=\"-766.8\" font-family=\"Helvetica,sans-Serif\" font-size=\"14.00\" fill=\"#000000\">a2 &lt;= 0.307</text>\n<text text-anchor=\"middle\" x=\"3872.5\" y=\"-751.8\" font-family=\"Helvetica,sans-Serif\" font-size=\"14.00\" fill=\"#000000\">gini = 0.153</text>\n<text text-anchor=\"middle\" x=\"3872.5\" y=\"-736.8\" font-family=\"Helvetica,sans-Serif\" font-size=\"14.00\" fill=\"#000000\">samples = 12</text>\n<text text-anchor=\"middle\" x=\"3872.5\" y=\"-721.8\" font-family=\"Helvetica,sans-Serif\" font-size=\"14.00\" fill=\"#000000\">value = [1, 11]</text>\n<text text-anchor=\"middle\" x=\"3872.5\" y=\"-706.8\" font-family=\"Helvetica,sans-Serif\" font-size=\"14.00\" fill=\"#000000\">class = 0</text>\n</g>\n<!-- 174&#45;&gt;175 -->\n<g id=\"edge175\" class=\"edge\">\n<title>174&#45;&gt;175</title>\n<path fill=\"none\" stroke=\"#000000\" d=\"M3872.5,-817.8796C3872.5,-809.6838 3872.5,-800.9891 3872.5,-792.5013\"/>\n<polygon fill=\"#000000\" stroke=\"#000000\" points=\"3876.0001,-792.298 3872.5,-782.2981 3869.0001,-792.2981 3876.0001,-792.298\"/>\n</g>\n<!-- 180 -->\n<g id=\"node181\" class=\"node\">\n<title>180</title>\n<polygon fill=\"none\" stroke=\"#000000\" points=\"4051,-774.5 3944,-774.5 3944,-706.5 4051,-706.5 4051,-774.5\"/>\n<text text-anchor=\"middle\" x=\"3997.5\" y=\"-759.3\" font-family=\"Helvetica,sans-Serif\" font-size=\"14.00\" fill=\"#000000\">gini = 0.0</text>\n<text text-anchor=\"middle\" x=\"3997.5\" y=\"-744.3\" font-family=\"Helvetica,sans-Serif\" font-size=\"14.00\" fill=\"#000000\">samples = 53</text>\n<text text-anchor=\"middle\" x=\"3997.5\" y=\"-729.3\" font-family=\"Helvetica,sans-Serif\" font-size=\"14.00\" fill=\"#000000\">value = [0, 53]</text>\n<text text-anchor=\"middle\" x=\"3997.5\" y=\"-714.3\" font-family=\"Helvetica,sans-Serif\" font-size=\"14.00\" fill=\"#000000\">class = 0</text>\n</g>\n<!-- 174&#45;&gt;180 -->\n<g id=\"edge180\" class=\"edge\">\n<title>174&#45;&gt;180</title>\n<path fill=\"none\" stroke=\"#000000\" d=\"M3916.2189,-817.8796C3928.4625,-806.2237 3941.7661,-793.5587 3953.9971,-781.9148\"/>\n<polygon fill=\"#000000\" stroke=\"#000000\" points=\"3956.6254,-784.245 3961.4549,-774.8149 3951.7988,-779.1751 3956.6254,-784.245\"/>\n</g>\n<!-- 176 -->\n<g id=\"node177\" class=\"node\">\n<title>176</title>\n<polygon fill=\"none\" stroke=\"#000000\" points=\"3922,-655.5 3823,-655.5 3823,-587.5 3922,-587.5 3922,-655.5\"/>\n<text text-anchor=\"middle\" x=\"3872.5\" y=\"-640.3\" font-family=\"Helvetica,sans-Serif\" font-size=\"14.00\" fill=\"#000000\">gini = 0.0</text>\n<text text-anchor=\"middle\" x=\"3872.5\" y=\"-625.3\" font-family=\"Helvetica,sans-Serif\" font-size=\"14.00\" fill=\"#000000\">samples = 9</text>\n<text text-anchor=\"middle\" x=\"3872.5\" y=\"-610.3\" font-family=\"Helvetica,sans-Serif\" font-size=\"14.00\" fill=\"#000000\">value = [0, 9]</text>\n<text text-anchor=\"middle\" x=\"3872.5\" y=\"-595.3\" font-family=\"Helvetica,sans-Serif\" font-size=\"14.00\" fill=\"#000000\">class = 0</text>\n</g>\n<!-- 175&#45;&gt;176 -->\n<g id=\"edge176\" class=\"edge\">\n<title>175&#45;&gt;176</title>\n<path fill=\"none\" stroke=\"#000000\" d=\"M3872.5,-698.8796C3872.5,-688.2134 3872.5,-676.7021 3872.5,-665.9015\"/>\n<polygon fill=\"#000000\" stroke=\"#000000\" points=\"3876.0001,-665.8149 3872.5,-655.8149 3869.0001,-665.815 3876.0001,-665.8149\"/>\n</g>\n<!-- 177 -->\n<g id=\"node178\" class=\"node\">\n<title>177</title>\n<polygon fill=\"none\" stroke=\"#000000\" points=\"4039,-663 3940,-663 3940,-580 4039,-580 4039,-663\"/>\n<text text-anchor=\"middle\" x=\"3989.5\" y=\"-647.8\" font-family=\"Helvetica,sans-Serif\" font-size=\"14.00\" fill=\"#000000\">a6 &lt;= 0.619</text>\n<text text-anchor=\"middle\" x=\"3989.5\" y=\"-632.8\" font-family=\"Helvetica,sans-Serif\" font-size=\"14.00\" fill=\"#000000\">gini = 0.444</text>\n<text text-anchor=\"middle\" x=\"3989.5\" y=\"-617.8\" font-family=\"Helvetica,sans-Serif\" font-size=\"14.00\" fill=\"#000000\">samples = 3</text>\n<text text-anchor=\"middle\" x=\"3989.5\" y=\"-602.8\" font-family=\"Helvetica,sans-Serif\" font-size=\"14.00\" fill=\"#000000\">value = [1, 2]</text>\n<text text-anchor=\"middle\" x=\"3989.5\" y=\"-587.8\" font-family=\"Helvetica,sans-Serif\" font-size=\"14.00\" fill=\"#000000\">class = 0</text>\n</g>\n<!-- 175&#45;&gt;177 -->\n<g id=\"edge177\" class=\"edge\">\n<title>175&#45;&gt;177</title>\n<path fill=\"none\" stroke=\"#000000\" d=\"M3913.4209,-698.8796C3922.453,-689.6931 3932.1013,-679.8798 3941.3888,-670.4336\"/>\n<polygon fill=\"#000000\" stroke=\"#000000\" points=\"3943.8893,-672.8827 3948.4044,-663.2981 3938.8977,-667.975 3943.8893,-672.8827\"/>\n</g>\n<!-- 178 -->\n<g id=\"node179\" class=\"node\">\n<title>178</title>\n<polygon fill=\"none\" stroke=\"#000000\" points=\"3980,-536.5 3881,-536.5 3881,-468.5 3980,-468.5 3980,-536.5\"/>\n<text text-anchor=\"middle\" x=\"3930.5\" y=\"-521.3\" font-family=\"Helvetica,sans-Serif\" font-size=\"14.00\" fill=\"#000000\">gini = 0.0</text>\n<text text-anchor=\"middle\" x=\"3930.5\" y=\"-506.3\" font-family=\"Helvetica,sans-Serif\" font-size=\"14.00\" fill=\"#000000\">samples = 1</text>\n<text text-anchor=\"middle\" x=\"3930.5\" y=\"-491.3\" font-family=\"Helvetica,sans-Serif\" font-size=\"14.00\" fill=\"#000000\">value = [1, 0]</text>\n<text text-anchor=\"middle\" x=\"3930.5\" y=\"-476.3\" font-family=\"Helvetica,sans-Serif\" font-size=\"14.00\" fill=\"#000000\">class = 1</text>\n</g>\n<!-- 177&#45;&gt;178 -->\n<g id=\"edge178\" class=\"edge\">\n<title>177&#45;&gt;178</title>\n<path fill=\"none\" stroke=\"#000000\" d=\"M3968.8647,-579.8796C3963.4128,-568.8835 3957.5157,-556.9893 3952.0184,-545.9015\"/>\n<polygon fill=\"#000000\" stroke=\"#000000\" points=\"3955.0911,-544.2195 3947.5133,-536.8149 3948.8196,-547.3289 3955.0911,-544.2195\"/>\n</g>\n<!-- 179 -->\n<g id=\"node180\" class=\"node\">\n<title>179</title>\n<polygon fill=\"none\" stroke=\"#000000\" points=\"4097,-536.5 3998,-536.5 3998,-468.5 4097,-468.5 4097,-536.5\"/>\n<text text-anchor=\"middle\" x=\"4047.5\" y=\"-521.3\" font-family=\"Helvetica,sans-Serif\" font-size=\"14.00\" fill=\"#000000\">gini = 0.0</text>\n<text text-anchor=\"middle\" x=\"4047.5\" y=\"-506.3\" font-family=\"Helvetica,sans-Serif\" font-size=\"14.00\" fill=\"#000000\">samples = 2</text>\n<text text-anchor=\"middle\" x=\"4047.5\" y=\"-491.3\" font-family=\"Helvetica,sans-Serif\" font-size=\"14.00\" fill=\"#000000\">value = [0, 2]</text>\n<text text-anchor=\"middle\" x=\"4047.5\" y=\"-476.3\" font-family=\"Helvetica,sans-Serif\" font-size=\"14.00\" fill=\"#000000\">class = 0</text>\n</g>\n<!-- 177&#45;&gt;179 -->\n<g id=\"edge179\" class=\"edge\">\n<title>177&#45;&gt;179</title>\n<path fill=\"none\" stroke=\"#000000\" d=\"M4009.7856,-579.8796C4015.145,-568.8835 4020.9422,-556.9893 4026.3463,-545.9015\"/>\n<polygon fill=\"#000000\" stroke=\"#000000\" points=\"4029.54,-547.3375 4030.7751,-536.8149 4023.2476,-544.2706 4029.54,-547.3375\"/>\n</g>\n<!-- 183 -->\n<g id=\"node184\" class=\"node\">\n<title>183</title>\n<polygon fill=\"none\" stroke=\"#000000\" points=\"3201,-1734 3094,-1734 3094,-1651 3201,-1651 3201,-1734\"/>\n<text text-anchor=\"middle\" x=\"3147.5\" y=\"-1718.8\" font-family=\"Helvetica,sans-Serif\" font-size=\"14.00\" fill=\"#000000\">a4 &lt;= 1.856</text>\n<text text-anchor=\"middle\" x=\"3147.5\" y=\"-1703.8\" font-family=\"Helvetica,sans-Serif\" font-size=\"14.00\" fill=\"#000000\">gini = 0.116</text>\n<text text-anchor=\"middle\" x=\"3147.5\" y=\"-1688.8\" font-family=\"Helvetica,sans-Serif\" font-size=\"14.00\" fill=\"#000000\">samples = 65</text>\n<text text-anchor=\"middle\" x=\"3147.5\" y=\"-1673.8\" font-family=\"Helvetica,sans-Serif\" font-size=\"14.00\" fill=\"#000000\">value = [61, 4]</text>\n<text text-anchor=\"middle\" x=\"3147.5\" y=\"-1658.8\" font-family=\"Helvetica,sans-Serif\" font-size=\"14.00\" fill=\"#000000\">class = 1</text>\n</g>\n<!-- 182&#45;&gt;183 -->\n<g id=\"edge183\" class=\"edge\">\n<title>182&#45;&gt;183</title>\n<path fill=\"none\" stroke=\"#000000\" d=\"M3147.5,-1769.8796C3147.5,-1761.6838 3147.5,-1752.9891 3147.5,-1744.5013\"/>\n<polygon fill=\"#000000\" stroke=\"#000000\" points=\"3151.0001,-1744.298 3147.5,-1734.2981 3144.0001,-1744.2981 3151.0001,-1744.298\"/>\n</g>\n<!-- 196 -->\n<g id=\"node197\" class=\"node\">\n<title>196</title>\n<polygon fill=\"none\" stroke=\"#000000\" points=\"3377,-1734 3278,-1734 3278,-1651 3377,-1651 3377,-1734\"/>\n<text text-anchor=\"middle\" x=\"3327.5\" y=\"-1718.8\" font-family=\"Helvetica,sans-Serif\" font-size=\"14.00\" fill=\"#000000\">a4 &lt;= &#45;0.231</text>\n<text text-anchor=\"middle\" x=\"3327.5\" y=\"-1703.8\" font-family=\"Helvetica,sans-Serif\" font-size=\"14.00\" fill=\"#000000\">gini = 0.5</text>\n<text text-anchor=\"middle\" x=\"3327.5\" y=\"-1688.8\" font-family=\"Helvetica,sans-Serif\" font-size=\"14.00\" fill=\"#000000\">samples = 2</text>\n<text text-anchor=\"middle\" x=\"3327.5\" y=\"-1673.8\" font-family=\"Helvetica,sans-Serif\" font-size=\"14.00\" fill=\"#000000\">value = [1, 1]</text>\n<text text-anchor=\"middle\" x=\"3327.5\" y=\"-1658.8\" font-family=\"Helvetica,sans-Serif\" font-size=\"14.00\" fill=\"#000000\">class = 1</text>\n</g>\n<!-- 182&#45;&gt;196 -->\n<g id=\"edge196\" class=\"edge\">\n<title>182&#45;&gt;196</title>\n<path fill=\"none\" stroke=\"#000000\" d=\"M3201.0186,-1776.1183C3222.518,-1761.9048 3247.3607,-1745.481 3269.3075,-1730.9717\"/>\n<polygon fill=\"#000000\" stroke=\"#000000\" points=\"3271.468,-1733.7391 3277.8797,-1725.3046 3267.6076,-1727.8998 3271.468,-1733.7391\"/>\n</g>\n<!-- 184 -->\n<g id=\"node185\" class=\"node\">\n<title>184</title>\n<polygon fill=\"none\" stroke=\"#000000\" points=\"3143,-1615 3036,-1615 3036,-1532 3143,-1532 3143,-1615\"/>\n<text text-anchor=\"middle\" x=\"3089.5\" y=\"-1599.8\" font-family=\"Helvetica,sans-Serif\" font-size=\"14.00\" fill=\"#000000\">a1 &lt;= 1.065</text>\n<text text-anchor=\"middle\" x=\"3089.5\" y=\"-1584.8\" font-family=\"Helvetica,sans-Serif\" font-size=\"14.00\" fill=\"#000000\">gini = 0.068</text>\n<text text-anchor=\"middle\" x=\"3089.5\" y=\"-1569.8\" font-family=\"Helvetica,sans-Serif\" font-size=\"14.00\" fill=\"#000000\">samples = 57</text>\n<text text-anchor=\"middle\" x=\"3089.5\" y=\"-1554.8\" font-family=\"Helvetica,sans-Serif\" font-size=\"14.00\" fill=\"#000000\">value = [55, 2]</text>\n<text text-anchor=\"middle\" x=\"3089.5\" y=\"-1539.8\" font-family=\"Helvetica,sans-Serif\" font-size=\"14.00\" fill=\"#000000\">class = 1</text>\n</g>\n<!-- 183&#45;&gt;184 -->\n<g id=\"edge184\" class=\"edge\">\n<title>183&#45;&gt;184</title>\n<path fill=\"none\" stroke=\"#000000\" d=\"M3127.2144,-1650.8796C3123.0443,-1642.3236 3118.6091,-1633.2238 3114.3003,-1624.3833\"/>\n<polygon fill=\"#000000\" stroke=\"#000000\" points=\"3117.3997,-1622.7538 3109.8722,-1615.2981 3111.1073,-1625.8207 3117.3997,-1622.7538\"/>\n</g>\n<!-- 193 -->\n<g id=\"node194\" class=\"node\">\n<title>193</title>\n<polygon fill=\"none\" stroke=\"#000000\" points=\"3260,-1615 3161,-1615 3161,-1532 3260,-1532 3260,-1615\"/>\n<text text-anchor=\"middle\" x=\"3210.5\" y=\"-1599.8\" font-family=\"Helvetica,sans-Serif\" font-size=\"14.00\" fill=\"#000000\">a3 &lt;= 0.506</text>\n<text text-anchor=\"middle\" x=\"3210.5\" y=\"-1584.8\" font-family=\"Helvetica,sans-Serif\" font-size=\"14.00\" fill=\"#000000\">gini = 0.375</text>\n<text text-anchor=\"middle\" x=\"3210.5\" y=\"-1569.8\" font-family=\"Helvetica,sans-Serif\" font-size=\"14.00\" fill=\"#000000\">samples = 8</text>\n<text text-anchor=\"middle\" x=\"3210.5\" y=\"-1554.8\" font-family=\"Helvetica,sans-Serif\" font-size=\"14.00\" fill=\"#000000\">value = [6, 2]</text>\n<text text-anchor=\"middle\" x=\"3210.5\" y=\"-1539.8\" font-family=\"Helvetica,sans-Serif\" font-size=\"14.00\" fill=\"#000000\">class = 1</text>\n</g>\n<!-- 183&#45;&gt;193 -->\n<g id=\"edge193\" class=\"edge\">\n<title>183&#45;&gt;193</title>\n<path fill=\"none\" stroke=\"#000000\" d=\"M3169.5343,-1650.8796C3174.064,-1642.3236 3178.8815,-1633.2238 3183.5618,-1624.3833\"/>\n<polygon fill=\"#000000\" stroke=\"#000000\" points=\"3186.7859,-1625.7736 3188.3716,-1615.2981 3180.5994,-1622.4983 3186.7859,-1625.7736\"/>\n</g>\n<!-- 185 -->\n<g id=\"node186\" class=\"node\">\n<title>185</title>\n<polygon fill=\"none\" stroke=\"#000000\" points=\"3018,-1488.5 2911,-1488.5 2911,-1420.5 3018,-1420.5 3018,-1488.5\"/>\n<text text-anchor=\"middle\" x=\"2964.5\" y=\"-1473.3\" font-family=\"Helvetica,sans-Serif\" font-size=\"14.00\" fill=\"#000000\">gini = 0.0</text>\n<text text-anchor=\"middle\" x=\"2964.5\" y=\"-1458.3\" font-family=\"Helvetica,sans-Serif\" font-size=\"14.00\" fill=\"#000000\">samples = 43</text>\n<text text-anchor=\"middle\" x=\"2964.5\" y=\"-1443.3\" font-family=\"Helvetica,sans-Serif\" font-size=\"14.00\" fill=\"#000000\">value = [43, 0]</text>\n<text text-anchor=\"middle\" x=\"2964.5\" y=\"-1428.3\" font-family=\"Helvetica,sans-Serif\" font-size=\"14.00\" fill=\"#000000\">class = 1</text>\n</g>\n<!-- 184&#45;&gt;185 -->\n<g id=\"edge185\" class=\"edge\">\n<title>184&#45;&gt;185</title>\n<path fill=\"none\" stroke=\"#000000\" d=\"M3045.7811,-1531.8796C3033.5375,-1520.2237 3020.2339,-1507.5587 3008.0029,-1495.9148\"/>\n<polygon fill=\"#000000\" stroke=\"#000000\" points=\"3010.2012,-1493.1751 3000.5451,-1488.8149 3005.3746,-1498.245 3010.2012,-1493.1751\"/>\n</g>\n<!-- 186 -->\n<g id=\"node187\" class=\"node\">\n<title>186</title>\n<polygon fill=\"none\" stroke=\"#000000\" points=\"3143,-1496 3036,-1496 3036,-1413 3143,-1413 3143,-1496\"/>\n<text text-anchor=\"middle\" x=\"3089.5\" y=\"-1480.8\" font-family=\"Helvetica,sans-Serif\" font-size=\"14.00\" fill=\"#000000\">a2 &lt;= 1.76</text>\n<text text-anchor=\"middle\" x=\"3089.5\" y=\"-1465.8\" font-family=\"Helvetica,sans-Serif\" font-size=\"14.00\" fill=\"#000000\">gini = 0.245</text>\n<text text-anchor=\"middle\" x=\"3089.5\" y=\"-1450.8\" font-family=\"Helvetica,sans-Serif\" font-size=\"14.00\" fill=\"#000000\">samples = 14</text>\n<text text-anchor=\"middle\" x=\"3089.5\" y=\"-1435.8\" font-family=\"Helvetica,sans-Serif\" font-size=\"14.00\" fill=\"#000000\">value = [12, 2]</text>\n<text text-anchor=\"middle\" x=\"3089.5\" y=\"-1420.8\" font-family=\"Helvetica,sans-Serif\" font-size=\"14.00\" fill=\"#000000\">class = 1</text>\n</g>\n<!-- 184&#45;&gt;186 -->\n<g id=\"edge186\" class=\"edge\">\n<title>184&#45;&gt;186</title>\n<path fill=\"none\" stroke=\"#000000\" d=\"M3089.5,-1531.8796C3089.5,-1523.6838 3089.5,-1514.9891 3089.5,-1506.5013\"/>\n<polygon fill=\"#000000\" stroke=\"#000000\" points=\"3093.0001,-1506.298 3089.5,-1496.2981 3086.0001,-1506.2981 3093.0001,-1506.298\"/>\n</g>\n<!-- 187 -->\n<g id=\"node188\" class=\"node\">\n<title>187</title>\n<polygon fill=\"none\" stroke=\"#000000\" points=\"3143,-1377 3036,-1377 3036,-1294 3143,-1294 3143,-1377\"/>\n<text text-anchor=\"middle\" x=\"3089.5\" y=\"-1361.8\" font-family=\"Helvetica,sans-Serif\" font-size=\"14.00\" fill=\"#000000\">a6 &lt;= 1.256</text>\n<text text-anchor=\"middle\" x=\"3089.5\" y=\"-1346.8\" font-family=\"Helvetica,sans-Serif\" font-size=\"14.00\" fill=\"#000000\">gini = 0.142</text>\n<text text-anchor=\"middle\" x=\"3089.5\" y=\"-1331.8\" font-family=\"Helvetica,sans-Serif\" font-size=\"14.00\" fill=\"#000000\">samples = 13</text>\n<text text-anchor=\"middle\" x=\"3089.5\" y=\"-1316.8\" font-family=\"Helvetica,sans-Serif\" font-size=\"14.00\" fill=\"#000000\">value = [12, 1]</text>\n<text text-anchor=\"middle\" x=\"3089.5\" y=\"-1301.8\" font-family=\"Helvetica,sans-Serif\" font-size=\"14.00\" fill=\"#000000\">class = 1</text>\n</g>\n<!-- 186&#45;&gt;187 -->\n<g id=\"edge187\" class=\"edge\">\n<title>186&#45;&gt;187</title>\n<path fill=\"none\" stroke=\"#000000\" d=\"M3089.5,-1412.8796C3089.5,-1404.6838 3089.5,-1395.9891 3089.5,-1387.5013\"/>\n<polygon fill=\"#000000\" stroke=\"#000000\" points=\"3093.0001,-1387.298 3089.5,-1377.2981 3086.0001,-1387.2981 3093.0001,-1387.298\"/>\n</g>\n<!-- 192 -->\n<g id=\"node193\" class=\"node\">\n<title>192</title>\n<polygon fill=\"none\" stroke=\"#000000\" points=\"3260,-1369.5 3161,-1369.5 3161,-1301.5 3260,-1301.5 3260,-1369.5\"/>\n<text text-anchor=\"middle\" x=\"3210.5\" y=\"-1354.3\" font-family=\"Helvetica,sans-Serif\" font-size=\"14.00\" fill=\"#000000\">gini = 0.0</text>\n<text text-anchor=\"middle\" x=\"3210.5\" y=\"-1339.3\" font-family=\"Helvetica,sans-Serif\" font-size=\"14.00\" fill=\"#000000\">samples = 1</text>\n<text text-anchor=\"middle\" x=\"3210.5\" y=\"-1324.3\" font-family=\"Helvetica,sans-Serif\" font-size=\"14.00\" fill=\"#000000\">value = [0, 1]</text>\n<text text-anchor=\"middle\" x=\"3210.5\" y=\"-1309.3\" font-family=\"Helvetica,sans-Serif\" font-size=\"14.00\" fill=\"#000000\">class = 0</text>\n</g>\n<!-- 186&#45;&gt;192 -->\n<g id=\"edge192\" class=\"edge\">\n<title>186&#45;&gt;192</title>\n<path fill=\"none\" stroke=\"#000000\" d=\"M3131.8199,-1412.8796C3143.6717,-1401.2237 3156.5495,-1388.5587 3168.3891,-1376.9148\"/>\n<polygon fill=\"#000000\" stroke=\"#000000\" points=\"3170.9327,-1379.3223 3175.6083,-1369.8149 3166.0244,-1374.3314 3170.9327,-1379.3223\"/>\n</g>\n<!-- 188 -->\n<g id=\"node189\" class=\"node\">\n<title>188</title>\n<polygon fill=\"none\" stroke=\"#000000\" points=\"3143,-1250.5 3036,-1250.5 3036,-1182.5 3143,-1182.5 3143,-1250.5\"/>\n<text text-anchor=\"middle\" x=\"3089.5\" y=\"-1235.3\" font-family=\"Helvetica,sans-Serif\" font-size=\"14.00\" fill=\"#000000\">gini = 0.0</text>\n<text text-anchor=\"middle\" x=\"3089.5\" y=\"-1220.3\" font-family=\"Helvetica,sans-Serif\" font-size=\"14.00\" fill=\"#000000\">samples = 10</text>\n<text text-anchor=\"middle\" x=\"3089.5\" y=\"-1205.3\" font-family=\"Helvetica,sans-Serif\" font-size=\"14.00\" fill=\"#000000\">value = [10, 0]</text>\n<text text-anchor=\"middle\" x=\"3089.5\" y=\"-1190.3\" font-family=\"Helvetica,sans-Serif\" font-size=\"14.00\" fill=\"#000000\">class = 1</text>\n</g>\n<!-- 187&#45;&gt;188 -->\n<g id=\"edge188\" class=\"edge\">\n<title>187&#45;&gt;188</title>\n<path fill=\"none\" stroke=\"#000000\" d=\"M3089.5,-1293.8796C3089.5,-1283.2134 3089.5,-1271.7021 3089.5,-1260.9015\"/>\n<polygon fill=\"#000000\" stroke=\"#000000\" points=\"3093.0001,-1260.8149 3089.5,-1250.8149 3086.0001,-1260.815 3093.0001,-1260.8149\"/>\n</g>\n<!-- 189 -->\n<g id=\"node190\" class=\"node\">\n<title>189</title>\n<polygon fill=\"none\" stroke=\"#000000\" points=\"3314,-1258 3215,-1258 3215,-1175 3314,-1175 3314,-1258\"/>\n<text text-anchor=\"middle\" x=\"3264.5\" y=\"-1242.8\" font-family=\"Helvetica,sans-Serif\" font-size=\"14.00\" fill=\"#000000\">a4 &lt;= &#45;0.88</text>\n<text text-anchor=\"middle\" x=\"3264.5\" y=\"-1227.8\" font-family=\"Helvetica,sans-Serif\" font-size=\"14.00\" fill=\"#000000\">gini = 0.444</text>\n<text text-anchor=\"middle\" x=\"3264.5\" y=\"-1212.8\" font-family=\"Helvetica,sans-Serif\" font-size=\"14.00\" fill=\"#000000\">samples = 3</text>\n<text text-anchor=\"middle\" x=\"3264.5\" y=\"-1197.8\" font-family=\"Helvetica,sans-Serif\" font-size=\"14.00\" fill=\"#000000\">value = [2, 1]</text>\n<text text-anchor=\"middle\" x=\"3264.5\" y=\"-1182.8\" font-family=\"Helvetica,sans-Serif\" font-size=\"14.00\" fill=\"#000000\">class = 1</text>\n</g>\n<!-- 187&#45;&gt;189 -->\n<g id=\"edge189\" class=\"edge\">\n<title>187&#45;&gt;189</title>\n<path fill=\"none\" stroke=\"#000000\" d=\"M3143.4337,-1298.8251C3163.3812,-1285.2608 3186.072,-1269.831 3206.3756,-1256.0246\"/>\n<polygon fill=\"#000000\" stroke=\"#000000\" points=\"3208.6148,-1258.7345 3214.916,-1250.2171 3204.6786,-1252.946 3208.6148,-1258.7345\"/>\n</g>\n<!-- 190 -->\n<g id=\"node191\" class=\"node\">\n<title>190</title>\n<polygon fill=\"none\" stroke=\"#000000\" points=\"3314,-1131.5 3215,-1131.5 3215,-1063.5 3314,-1063.5 3314,-1131.5\"/>\n<text text-anchor=\"middle\" x=\"3264.5\" y=\"-1116.3\" font-family=\"Helvetica,sans-Serif\" font-size=\"14.00\" fill=\"#000000\">gini = 0.0</text>\n<text text-anchor=\"middle\" x=\"3264.5\" y=\"-1101.3\" font-family=\"Helvetica,sans-Serif\" font-size=\"14.00\" fill=\"#000000\">samples = 1</text>\n<text text-anchor=\"middle\" x=\"3264.5\" y=\"-1086.3\" font-family=\"Helvetica,sans-Serif\" font-size=\"14.00\" fill=\"#000000\">value = [0, 1]</text>\n<text text-anchor=\"middle\" x=\"3264.5\" y=\"-1071.3\" font-family=\"Helvetica,sans-Serif\" font-size=\"14.00\" fill=\"#000000\">class = 0</text>\n</g>\n<!-- 189&#45;&gt;190 -->\n<g id=\"edge190\" class=\"edge\">\n<title>189&#45;&gt;190</title>\n<path fill=\"none\" stroke=\"#000000\" d=\"M3264.5,-1174.8796C3264.5,-1164.2134 3264.5,-1152.7021 3264.5,-1141.9015\"/>\n<polygon fill=\"#000000\" stroke=\"#000000\" points=\"3268.0001,-1141.8149 3264.5,-1131.8149 3261.0001,-1141.815 3268.0001,-1141.8149\"/>\n</g>\n<!-- 191 -->\n<g id=\"node192\" class=\"node\">\n<title>191</title>\n<polygon fill=\"none\" stroke=\"#000000\" points=\"3431,-1131.5 3332,-1131.5 3332,-1063.5 3431,-1063.5 3431,-1131.5\"/>\n<text text-anchor=\"middle\" x=\"3381.5\" y=\"-1116.3\" font-family=\"Helvetica,sans-Serif\" font-size=\"14.00\" fill=\"#000000\">gini = 0.0</text>\n<text text-anchor=\"middle\" x=\"3381.5\" y=\"-1101.3\" font-family=\"Helvetica,sans-Serif\" font-size=\"14.00\" fill=\"#000000\">samples = 2</text>\n<text text-anchor=\"middle\" x=\"3381.5\" y=\"-1086.3\" font-family=\"Helvetica,sans-Serif\" font-size=\"14.00\" fill=\"#000000\">value = [2, 0]</text>\n<text text-anchor=\"middle\" x=\"3381.5\" y=\"-1071.3\" font-family=\"Helvetica,sans-Serif\" font-size=\"14.00\" fill=\"#000000\">class = 1</text>\n</g>\n<!-- 189&#45;&gt;191 -->\n<g id=\"edge191\" class=\"edge\">\n<title>189&#45;&gt;191</title>\n<path fill=\"none\" stroke=\"#000000\" d=\"M3305.4209,-1174.8796C3316.7728,-1163.3337 3329.0982,-1150.7976 3340.457,-1139.2446\"/>\n<polygon fill=\"#000000\" stroke=\"#000000\" points=\"3343.2466,-1141.3995 3347.7618,-1131.8149 3338.2551,-1136.4919 3343.2466,-1141.3995\"/>\n</g>\n<!-- 194 -->\n<g id=\"node195\" class=\"node\">\n<title>194</title>\n<polygon fill=\"none\" stroke=\"#000000\" points=\"3260,-1488.5 3161,-1488.5 3161,-1420.5 3260,-1420.5 3260,-1488.5\"/>\n<text text-anchor=\"middle\" x=\"3210.5\" y=\"-1473.3\" font-family=\"Helvetica,sans-Serif\" font-size=\"14.00\" fill=\"#000000\">gini = 0.0</text>\n<text text-anchor=\"middle\" x=\"3210.5\" y=\"-1458.3\" font-family=\"Helvetica,sans-Serif\" font-size=\"14.00\" fill=\"#000000\">samples = 2</text>\n<text text-anchor=\"middle\" x=\"3210.5\" y=\"-1443.3\" font-family=\"Helvetica,sans-Serif\" font-size=\"14.00\" fill=\"#000000\">value = [0, 2]</text>\n<text text-anchor=\"middle\" x=\"3210.5\" y=\"-1428.3\" font-family=\"Helvetica,sans-Serif\" font-size=\"14.00\" fill=\"#000000\">class = 0</text>\n</g>\n<!-- 193&#45;&gt;194 -->\n<g id=\"edge194\" class=\"edge\">\n<title>193&#45;&gt;194</title>\n<path fill=\"none\" stroke=\"#000000\" d=\"M3210.5,-1531.8796C3210.5,-1521.2134 3210.5,-1509.7021 3210.5,-1498.9015\"/>\n<polygon fill=\"#000000\" stroke=\"#000000\" points=\"3214.0001,-1498.8149 3210.5,-1488.8149 3207.0001,-1498.815 3214.0001,-1498.8149\"/>\n</g>\n<!-- 195 -->\n<g id=\"node196\" class=\"node\">\n<title>195</title>\n<polygon fill=\"none\" stroke=\"#000000\" points=\"3377,-1488.5 3278,-1488.5 3278,-1420.5 3377,-1420.5 3377,-1488.5\"/>\n<text text-anchor=\"middle\" x=\"3327.5\" y=\"-1473.3\" font-family=\"Helvetica,sans-Serif\" font-size=\"14.00\" fill=\"#000000\">gini = 0.0</text>\n<text text-anchor=\"middle\" x=\"3327.5\" y=\"-1458.3\" font-family=\"Helvetica,sans-Serif\" font-size=\"14.00\" fill=\"#000000\">samples = 6</text>\n<text text-anchor=\"middle\" x=\"3327.5\" y=\"-1443.3\" font-family=\"Helvetica,sans-Serif\" font-size=\"14.00\" fill=\"#000000\">value = [6, 0]</text>\n<text text-anchor=\"middle\" x=\"3327.5\" y=\"-1428.3\" font-family=\"Helvetica,sans-Serif\" font-size=\"14.00\" fill=\"#000000\">class = 1</text>\n</g>\n<!-- 193&#45;&gt;195 -->\n<g id=\"edge195\" class=\"edge\">\n<title>193&#45;&gt;195</title>\n<path fill=\"none\" stroke=\"#000000\" d=\"M3251.4209,-1531.8796C3262.7728,-1520.3337 3275.0982,-1507.7976 3286.457,-1496.2446\"/>\n<polygon fill=\"#000000\" stroke=\"#000000\" points=\"3289.2466,-1498.3995 3293.7618,-1488.8149 3284.2551,-1493.4919 3289.2466,-1498.3995\"/>\n</g>\n<!-- 197 -->\n<g id=\"node198\" class=\"node\">\n<title>197</title>\n<polygon fill=\"none\" stroke=\"#000000\" points=\"3377,-1607.5 3278,-1607.5 3278,-1539.5 3377,-1539.5 3377,-1607.5\"/>\n<text text-anchor=\"middle\" x=\"3327.5\" y=\"-1592.3\" font-family=\"Helvetica,sans-Serif\" font-size=\"14.00\" fill=\"#000000\">gini = 0.0</text>\n<text text-anchor=\"middle\" x=\"3327.5\" y=\"-1577.3\" font-family=\"Helvetica,sans-Serif\" font-size=\"14.00\" fill=\"#000000\">samples = 1</text>\n<text text-anchor=\"middle\" x=\"3327.5\" y=\"-1562.3\" font-family=\"Helvetica,sans-Serif\" font-size=\"14.00\" fill=\"#000000\">value = [0, 1]</text>\n<text text-anchor=\"middle\" x=\"3327.5\" y=\"-1547.3\" font-family=\"Helvetica,sans-Serif\" font-size=\"14.00\" fill=\"#000000\">class = 0</text>\n</g>\n<!-- 196&#45;&gt;197 -->\n<g id=\"edge197\" class=\"edge\">\n<title>196&#45;&gt;197</title>\n<path fill=\"none\" stroke=\"#000000\" d=\"M3327.5,-1650.8796C3327.5,-1640.2134 3327.5,-1628.7021 3327.5,-1617.9015\"/>\n<polygon fill=\"#000000\" stroke=\"#000000\" points=\"3331.0001,-1617.8149 3327.5,-1607.8149 3324.0001,-1617.815 3331.0001,-1617.8149\"/>\n</g>\n<!-- 198 -->\n<g id=\"node199\" class=\"node\">\n<title>198</title>\n<polygon fill=\"none\" stroke=\"#000000\" points=\"3494,-1607.5 3395,-1607.5 3395,-1539.5 3494,-1539.5 3494,-1607.5\"/>\n<text text-anchor=\"middle\" x=\"3444.5\" y=\"-1592.3\" font-family=\"Helvetica,sans-Serif\" font-size=\"14.00\" fill=\"#000000\">gini = 0.0</text>\n<text text-anchor=\"middle\" x=\"3444.5\" y=\"-1577.3\" font-family=\"Helvetica,sans-Serif\" font-size=\"14.00\" fill=\"#000000\">samples = 1</text>\n<text text-anchor=\"middle\" x=\"3444.5\" y=\"-1562.3\" font-family=\"Helvetica,sans-Serif\" font-size=\"14.00\" fill=\"#000000\">value = [1, 0]</text>\n<text text-anchor=\"middle\" x=\"3444.5\" y=\"-1547.3\" font-family=\"Helvetica,sans-Serif\" font-size=\"14.00\" fill=\"#000000\">class = 1</text>\n</g>\n<!-- 196&#45;&gt;198 -->\n<g id=\"edge198\" class=\"edge\">\n<title>196&#45;&gt;198</title>\n<path fill=\"none\" stroke=\"#000000\" d=\"M3368.4209,-1650.8796C3379.7728,-1639.3337 3392.0982,-1626.7976 3403.457,-1615.2446\"/>\n<polygon fill=\"#000000\" stroke=\"#000000\" points=\"3406.2466,-1617.3995 3410.7618,-1607.8149 3401.2551,-1612.4919 3406.2466,-1617.3995\"/>\n</g>\n</g>\n</svg>\n"
          },
          "metadata": {},
          "execution_count": 10
        }
      ]
    },
    {
      "cell_type": "markdown",
      "source": [
        "#### 3.1.3 평가"
      ],
      "metadata": {
        "id": "g9LZxj_XS7cX"
      }
    },
    {
      "cell_type": "code",
      "source": [
        "# 학습용 데이터 셋의 정확도\n",
        "print(\"train 세트 정확도: {:.3f}\".format(tree.score(X_train, y_train)))\n",
        "\n",
        "# 테스트용 데이터 셋의 정확도\n",
        "print(\"test 세트 정확도: {:.3f}\".format(tree.score(X_test, y_test)))"
      ],
      "metadata": {
        "colab": {
          "base_uri": "https://localhost:8080/"
        },
        "id": "wywqeZtETUBd",
        "outputId": "941215ae-d03d-4923-da9b-47249fe3ca64"
      },
      "execution_count": 11,
      "outputs": [
        {
          "output_type": "stream",
          "name": "stdout",
          "text": [
            "train 세트 정확도: 1.000\n",
            "test 세트 정확도: 0.863\n"
          ]
        }
      ]
    },
    {
      "cell_type": "markdown",
      "source": [
        "기본 매개변수를 사용하여 학습시킨 모델의 테스트 정확도는 약 86.3%입니다."
      ],
      "metadata": {
        "id": "zCR8AuW_TV9F"
      }
    },
    {
      "cell_type": "markdown",
      "source": [
        "#### 3.1.4 예측\n",
        "-----"
      ],
      "metadata": {
        "id": "Cd3pkulFTaXe"
      }
    },
    {
      "cell_type": "code",
      "source": [
        "# X_test를 입력으로하여 결과값 예측\n",
        "y_pred = tree.predict(X_test)\n",
        "print('예측값:' , y_pred)\n",
        "print('실제값:' , y_test.values)"
      ],
      "metadata": {
        "colab": {
          "base_uri": "https://localhost:8080/"
        },
        "id": "RXLGzoF3TeOh",
        "outputId": "05cebd92-119d-4cf9-b6eb-c102c7e0889d"
      },
      "execution_count": 12,
      "outputs": [
        {
          "output_type": "stream",
          "name": "stdout",
          "text": [
            "예측값: [1 0 0 0 1 1 1 1 1 1 0 1 1 0 1 0 0 0 0 0 1 0 0 1 0 0 1 0 0 1 0 0 1 1 0 0 0\n",
            " 0 1 1 1 0 0 1 1 1 1 0 0 1 0 0 1 1 0 0 0 1 0 0 1 1 0 1 1 1 1 0 0 0 0 0 0 1\n",
            " 0 1 1 0 0 1 1 0 1 0 1 1 1 0 0 1 0 1 1 0 0 0 1 1 1 0 0 1 1 0 0 0 0 1 1 0 1\n",
            " 0 0 0 1 0 0 0 0 0 0 1 1 0 1 0 1 1 0 0 0 0 1 0 0 0 0 1 1 1 0 0 0 0 0 0 0 1\n",
            " 1 1 0 0 1 1 1 1 0 0 0 0 1 0 0 0 1 0 0 1 1 1 0 0 1 0 0 0 1 0 1 1 0 1 1 0 0\n",
            " 1 0 1 0 0 0 0 0 1 0 0 1 1 0 1 0 0 1 1 0 1 0 0 1 0 0 0 0 1 1 0 1 1 1 1 0 0\n",
            " 1 1 1 1 1 0 0 1 0 0 0 0 1 0 0 0 0 1 1 1 1 1 0 0 1 0 0 0 0 0 1 0 0 0 0 1 0\n",
            " 1 0 1 1 0 0 0 0 0 1 0 1 1 0 0 1 0 0 1 1 0 0 0 0 0 1 0 0 1 1 0 1 0 1 0 0 0\n",
            " 0 1 0 0]\n",
            "실제값: [1 0 0 0 1 1 1 1 1 1 1 1 1 0 0 0 0 0 1 0 1 0 0 1 0 1 1 0 0 1 0 1 1 1 0 1 0\n",
            " 0 1 1 1 0 0 1 0 0 1 0 0 1 1 0 1 0 0 0 0 1 1 0 1 0 0 1 1 1 1 0 0 0 0 0 0 0\n",
            " 0 0 0 0 0 1 1 0 1 0 0 1 1 0 0 1 0 1 1 0 0 0 1 1 1 0 0 1 0 0 0 0 0 0 1 0 1\n",
            " 0 0 0 1 0 0 0 0 0 0 1 1 0 1 0 1 1 0 0 0 0 1 0 0 0 0 1 0 0 0 0 0 0 0 0 0 1\n",
            " 1 1 1 0 1 1 1 1 0 0 1 0 1 0 0 0 0 0 0 1 0 1 0 0 1 0 0 0 1 0 1 1 0 1 0 0 0\n",
            " 1 0 0 0 0 0 0 0 0 1 0 1 1 0 1 0 0 1 1 0 1 0 0 1 0 0 0 0 1 0 0 0 0 1 1 0 0\n",
            " 1 1 1 1 1 0 0 1 0 0 0 0 1 0 1 0 1 1 1 1 1 1 0 1 1 0 0 0 0 1 1 1 0 1 0 1 0\n",
            " 0 0 1 1 0 0 0 0 1 1 0 1 1 0 0 1 0 0 1 1 0 1 0 0 0 1 0 0 1 1 0 1 1 1 0 0 0\n",
            " 0 1 0 0]\n"
          ]
        }
      ]
    },
    {
      "cell_type": "markdown",
      "source": [
        "예측값과 실제값의 차이가 존재하는 항목이 보입니다. 차이가 나는 항목에 대해 산점도를 그려 확인해보겠습니다."
      ],
      "metadata": {
        "id": "uCM_dHQPTfp3"
      }
    },
    {
      "cell_type": "code",
      "source": [
        "plt.figure(figsize=(20,8))\n",
        "plt.scatter(np.arange(len(y_pred)), y_pred - y_test)"
      ],
      "metadata": {
        "colab": {
          "base_uri": "https://localhost:8080/",
          "height": 485
        },
        "id": "g_Us4UtNTjCl",
        "outputId": "ca5837c2-a779-421f-e9b9-b646caded125"
      },
      "execution_count": 13,
      "outputs": [
        {
          "output_type": "execute_result",
          "data": {
            "text/plain": [
              "<matplotlib.collections.PathCollection at 0x7f3399eedf90>"
            ]
          },
          "metadata": {},
          "execution_count": 13
        },
        {
          "output_type": "display_data",
          "data": {
            "text/plain": [
              "<Figure size 1440x576 with 1 Axes>"
            ],
            "image/png": "[encoded data removed]"
          },
          "metadata": {
            "needs_background": "light"
          }
        }
      ]
    },
    {
      "cell_type": "markdown",
      "source": [
        "실제값과 예측값의 차이가 0으로 대부분의 값이 0에 분포합니다. 실제값이 1인데 0으로 예측한 항목은 아래 부분에, 실제값이 0인데 1로 예측한 항목은 그래프 윗부분에 표시되었습니다."
      ],
      "metadata": {
        "id": "nkUBrthCTmzl"
      }
    },
    {
      "cell_type": "code",
      "source": [
        "from sklearn.metrics import confusion_matrix\n",
        "from sklearn.metrics import ConfusionMatrixDisplay\n",
        "\n",
        "# 혼동행렬 생성\n",
        "cm = confusion_matrix(y_test, y_pred)\n",
        "\n",
        "# 혼동행렬 시각화\n",
        "cm_display = ConfusionMatrixDisplay(cm).plot()"
      ],
      "metadata": {
        "colab": {
          "base_uri": "https://localhost:8080/",
          "height": 279
        },
        "id": "vHA1J3cYTpAL",
        "outputId": "bb1eeb0e-6a8e-4ce2-9d27-69085fd6815f"
      },
      "execution_count": 14,
      "outputs": [
        {
          "output_type": "display_data",
          "data": {
            "text/plain": [
              "<Figure size 432x288 with 2 Axes>"
            ],
            "image/png": "[encoded data removed]"
          },
          "metadata": {
            "needs_background": "light"
          }
        }
      ]
    },
    {
      "cell_type": "markdown",
      "source": [
        "실제값이 0인데 예측을 1로 하는 경우가 22건, 실제값이 1인데 예측을 0으로 하는 경우가 19건이 존재합니다."
      ],
      "metadata": {
        "id": "9vrEmAjLTrkm"
      }
    },
    {
      "cell_type": "markdown",
      "source": [
        "### 3.2 서포트벡터머신(SVM)\n",
        "----------\n"
      ],
      "metadata": {
        "id": "uA2zerOOTzut"
      }
    },
    {
      "cell_type": "markdown",
      "source": [
        "\n",
        "#### 3.2.1 학습\n",
        "-----\n",
        "SVC 클래스의 기본 매개변수를 사용하여 모델을 학습시킵니다."
      ],
      "metadata": {
        "id": "aYogE3qPXtXt"
      }
    },
    {
      "cell_type": "code",
      "source": [
        "# SVC 라이브러리 불러오기\n",
        "from sklearn.svm import SVC\n",
        "# 기본 매개변수를 사용하여 SVC 객체 생성\n",
        "classifier = SVC()\n",
        "# 생성한 SVC 객체를 학습용 데이터를 사용하여 학습\n",
        "classifier.fit(X_train, y_train)"
      ],
      "metadata": {
        "colab": {
          "base_uri": "https://localhost:8080/"
        },
        "id": "E5pteGLzT_QF",
        "outputId": "7a919def-9801-4255-b28a-a4fba9da2c8e"
      },
      "execution_count": 15,
      "outputs": [
        {
          "output_type": "execute_result",
          "data": {
            "text/plain": [
              "SVC()"
            ]
          },
          "metadata": {},
          "execution_count": 15
        }
      ]
    },
    {
      "cell_type": "markdown",
      "source": [
        "#### 3.2.2 평가\n",
        "-----"
      ],
      "metadata": {
        "id": "jpDUoOp2T-4N"
      }
    },
    {
      "cell_type": "code",
      "source": [
        "# 학습용 데이터 셋의 정확도\n",
        "print(\"train 세트 정확도: {:.3f}\".format(classifier.score(X_train, y_train)))\n",
        "\n",
        "# 테스트용 데이터 셋의 정확도\n",
        "print(\"test 세트 정확도: {:.3f}\".format(classifier.score(X_test, y_test)))"
      ],
      "metadata": {
        "colab": {
          "base_uri": "https://localhost:8080/"
        },
        "id": "XbkKwlB2UDcO",
        "outputId": "635e4d6b-3f36-4f02-aaf3-3cb450f0b65b"
      },
      "execution_count": 16,
      "outputs": [
        {
          "output_type": "stream",
          "name": "stdout",
          "text": [
            "train 세트 정확도: 0.904\n",
            "test 세트 정확도: 0.877\n"
          ]
        }
      ]
    },
    {
      "cell_type": "markdown",
      "source": [
        "기본 매개변수를 사용하여 학습시킨 모델의 테스트 정확도는 약 87.7%입니다."
      ],
      "metadata": {
        "id": "Z1SiEBypUFN1"
      }
    },
    {
      "cell_type": "markdown",
      "source": [
        "#### 3.1.3 예측\n",
        "-----"
      ],
      "metadata": {
        "id": "RiAjTV1EUI4r"
      }
    },
    {
      "cell_type": "code",
      "source": [
        "y_pred = classifier.predict(X_test)\n",
        "\n",
        "from sklearn.metrics import confusion_matrix\n",
        "from sklearn.metrics import ConfusionMatrixDisplay\n",
        "\n",
        "# 혼동행렬 생성\n",
        "cm = confusion_matrix(y_test, y_pred)\n",
        "\n",
        "# 혼동행렬 시각화\n",
        "cm_display = ConfusionMatrixDisplay(cm).plot()"
      ],
      "metadata": {
        "colab": {
          "base_uri": "https://localhost:8080/",
          "height": 279
        },
        "id": "WH6fbz9JUKEF",
        "outputId": "51d88f63-8a44-4472-a625-cb52b21ed43d"
      },
      "execution_count": 17,
      "outputs": [
        {
          "output_type": "display_data",
          "data": {
            "text/plain": [
              "<Figure size 432x288 with 2 Axes>"
            ],
            "image/png": "[encoded data removed]"
          },
          "metadata": {
            "needs_background": "light"
          }
        }
      ]
    },
    {
      "cell_type": "markdown",
      "source": [
        "실제값이 0인데 예측을 1로 하는 경우가 19건, 실제값이 1인데 예측을 0으로 하는 경우가 18건 존재합니다."
      ],
      "metadata": {
        "id": "5QczW7olUS85"
      }
    },
    {
      "cell_type": "markdown",
      "source": [
        "## 4. 모델 성능 개선\n",
        "-----\n",
        "\n",
        "모델 생성시 주요 매개변수를 변화시켜보고, 그에 따른 정확도 변화를 확인합니다."
      ],
      "metadata": {
        "id": "Y7uwxUztU4Zq"
      }
    },
    {
      "cell_type": "markdown",
      "source": [
        "### 4.1 DecisionTree 매개변수 변경\n",
        "-----"
      ],
      "metadata": {
        "id": "YnOutCOzWA7F"
      }
    },
    {
      "cell_type": "markdown",
      "source": [
        "#### 4.1.1 max_depth"
      ],
      "metadata": {
        "id": "9-oE2RoEWOGO"
      }
    },
    {
      "cell_type": "code",
      "source": [
        "#  변경할 max_depth \n",
        "max_depth=[1,2,3,4,5,6,7,8,9,10]\n",
        "\n",
        "# 매개변수에 따른 학습데이터 셋, 테스트 데이터셋에 대한 정확도를 저장하기 위한 변수\n",
        "train_scores = []\n",
        "test_scores = []\n",
        "\n",
        "for i in max_depth:\n",
        "    # max_depth 변경하여 모델 생성\n",
        "    tuned_tree = DecisionTreeClassifier(random_state=1, max_depth = i)\n",
        "\n",
        "    # 생성한 tree 객체를 학습용 데이터를 사용하여 학습\n",
        "    tuned_tree.fit(X_train, y_train)\n",
        "\n",
        "    # 학습데이터 셋, 테스트 데이터셋에 대한 정확도를 저장\n",
        "    train_scores.append(tuned_tree.score(X_train, y_train))\n",
        "    test_scores.append(tuned_tree.score(X_test, y_test))\n",
        "    \n",
        "    # 정확도 출력\n",
        "    print(\"max_depth = {}, train 세트 정확도: {:.3f}, test 세트 정확도: {:.3f}\".\\\n",
        "          format(i, train_scores[i-1], test_scores[i-1]))"
      ],
      "metadata": {
        "colab": {
          "base_uri": "https://localhost:8080/"
        },
        "id": "yjZQZBjkWR7V",
        "outputId": "a31f47a8-8db2-428f-9c1f-528d3b662e98"
      },
      "execution_count": 18,
      "outputs": [
        {
          "output_type": "stream",
          "name": "stdout",
          "text": [
            "max_depth = 1, train 세트 정확도: 0.666, test 세트 정확도: 0.673\n",
            "max_depth = 2, train 세트 정확도: 0.771, test 세트 정확도: 0.760\n",
            "max_depth = 3, train 세트 정확도: 0.853, test 세트 정확도: 0.813\n",
            "max_depth = 4, train 세트 정확도: 0.887, test 세트 정확도: 0.833\n",
            "max_depth = 5, train 세트 정확도: 0.910, test 세트 정확도: 0.850\n",
            "max_depth = 6, train 세트 정확도: 0.933, test 세트 정확도: 0.863\n",
            "max_depth = 7, train 세트 정확도: 0.949, test 세트 정확도: 0.867\n",
            "max_depth = 8, train 세트 정확도: 0.954, test 세트 정확도: 0.860\n",
            "max_depth = 9, train 세트 정확도: 0.960, test 세트 정확도: 0.863\n",
            "max_depth = 10, train 세트 정확도: 0.963, test 세트 정확도: 0.860\n"
          ]
        }
      ]
    },
    {
      "cell_type": "code",
      "source": [
        "# 매개변수 변화에 따른 학습데이터와 테스트데이터에 대한 정확도 변화 시각화\n",
        "plt.title('DecisionTreeClassifier Scores by max_depth')\n",
        "plt.plot(max_depth, train_scores, label='Train',linewidth=2, marker='o')\n",
        "plt.plot(max_depth, test_scores, label='Test',linewidth=2, marker='o')\n",
        "plt.legend()"
      ],
      "metadata": {
        "colab": {
          "base_uri": "https://localhost:8080/",
          "height": 299
        },
        "id": "gMx8713wWUan",
        "outputId": "7dde6033-e9a2-48cb-8ab5-97aaccafe8d0"
      },
      "execution_count": 19,
      "outputs": [
        {
          "output_type": "execute_result",
          "data": {
            "text/plain": [
              "<matplotlib.legend.Legend at 0x7f339d0b3090>"
            ]
          },
          "metadata": {},
          "execution_count": 19
        },
        {
          "output_type": "display_data",
          "data": {
            "text/plain": [
              "<Figure size 432x288 with 1 Axes>"
            ],
            "image/png": "[encoded data removed]"
          },
          "metadata": {
            "needs_background": "light"
          }
        }
      ]
    },
    {
      "cell_type": "markdown",
      "source": [
        "`max_depth`의 값을 크게 설정할 수록 학습용 데이터의 성능은 증가하고 테스트용 데이터의 정확도는 증가하다가 어느 시점부터 감소함을 확인할 수 있습니다."
      ],
      "metadata": {
        "id": "MVAj6TurWWa3"
      }
    },
    {
      "cell_type": "markdown",
      "source": [
        "#### 4.1.2 min_samples_split"
      ],
      "metadata": {
        "id": "mRoGgIruWYJt"
      }
    },
    {
      "cell_type": "code",
      "source": [
        "#  변경할 min_samples_split \n",
        "min_samples_split =[2,3,4,5,6,7,8,9,10]\n",
        "\n",
        "# 매개변수에 따른 학습데이터 셋, 테스트 데이터셋에 대한 정확도를 저장하기 위한 변수\n",
        "train_scores = []\n",
        "test_scores = []\n",
        "\n",
        "for i in min_samples_split:\n",
        "    # min_samples_split 변경하여 모델 생성\n",
        "    tuned_tree = DecisionTreeClassifier(random_state=1, min_samples_split = i)\n",
        "\n",
        "    # 생성한 tree 객체를 학습용 데이터를 사용하여 학습\n",
        "    tuned_tree.fit(X_train, y_train)\n",
        "\n",
        "    # 학습데이터 셋, 테스트 데이터셋에 대한 정확도를 저장\n",
        "    train_scores.append(tuned_tree.score(X_train, y_train))\n",
        "    test_scores.append(tuned_tree.score(X_test, y_test))\n",
        "    \n",
        "    # 정확도 출력\n",
        "    print(\"min_samples_split = {}, train 세트 정확도: {:.3f}, test 세트 정확도: {:.3f}\".\\\n",
        "          format(i, train_scores[i-2], test_scores[i-2]))"
      ],
      "metadata": {
        "colab": {
          "base_uri": "https://localhost:8080/"
        },
        "id": "EsiF5Eh4WX2N",
        "outputId": "98a5089e-7711-431a-a626-047c520dc90f"
      },
      "execution_count": 20,
      "outputs": [
        {
          "output_type": "stream",
          "name": "stdout",
          "text": [
            "min_samples_split = 2, train 세트 정확도: 1.000, test 세트 정확도: 0.867\n",
            "min_samples_split = 3, train 세트 정확도: 0.993, test 세트 정확도: 0.843\n",
            "min_samples_split = 4, train 세트 정확도: 0.977, test 세트 정확도: 0.837\n",
            "min_samples_split = 5, train 세트 정확도: 0.973, test 세트 정확도: 0.860\n",
            "min_samples_split = 6, train 세트 정확도: 0.971, test 세트 정확도: 0.857\n",
            "min_samples_split = 7, train 세트 정확도: 0.959, test 세트 정확도: 0.867\n",
            "min_samples_split = 8, train 세트 정확도: 0.951, test 세트 정확도: 0.860\n",
            "min_samples_split = 9, train 세트 정확도: 0.941, test 세트 정확도: 0.843\n",
            "min_samples_split = 10, train 세트 정확도: 0.941, test 세트 정확도: 0.843\n"
          ]
        }
      ]
    },
    {
      "cell_type": "code",
      "source": [
        "# 매개변수 변화에 따른 학습데이터와 테스트데이터에 대한 정확도 변화 시각화\n",
        "plt.title('DecisionTreeClassifier Scores by min_samples_split')\n",
        "plt.plot(min_samples_split, train_scores, label='Train',linewidth=2, marker='o')\n",
        "plt.plot(min_samples_split, test_scores, label='Test',linewidth=2, marker='o')\n",
        "plt.legend()"
      ],
      "metadata": {
        "colab": {
          "base_uri": "https://localhost:8080/",
          "height": 299
        },
        "id": "XhZzbnS7WeWR",
        "outputId": "e0c014fb-8c41-4f13-b5fd-2c89777e1913"
      },
      "execution_count": 21,
      "outputs": [
        {
          "output_type": "execute_result",
          "data": {
            "text/plain": [
              "<matplotlib.legend.Legend at 0x7f3399854a10>"
            ]
          },
          "metadata": {},
          "execution_count": 21
        },
        {
          "output_type": "display_data",
          "data": {
            "text/plain": [
              "<Figure size 432x288 with 1 Axes>"
            ],
            "image/png": "[encoded data removed]"
          },
          "metadata": {
            "needs_background": "light"
          }
        }
      ]
    },
    {
      "cell_type": "markdown",
      "source": [
        "`min_samples_split`의 값을 크게 설정할 수록 학습용 데이터의 성능은 떨어지고 테스트용 데이터의 정확도는 약간 증가함을 확인할 수 있습니다."
      ],
      "metadata": {
        "id": "DK2P2X5OWgYa"
      }
    },
    {
      "cell_type": "markdown",
      "source": [
        "#### 4.1.3 min_samples_leaf"
      ],
      "metadata": {
        "id": "V3whj5i3Wij4"
      }
    },
    {
      "cell_type": "code",
      "source": [
        "#  변경할 min_samples_leaf \n",
        "min_samples_leaf=[1,2,3,4,5,6,7,8,9,10]\n",
        "\n",
        "# 매개변수에 따른 학습데이터 셋, 테스트 데이터셋에 대한 정확도를 저장하기 위한 변수\n",
        "train_scores = []\n",
        "test_scores = []\n",
        "\n",
        "for i in min_samples_leaf:\n",
        "    # min_samples_leaf 변경하여 모델 생성\n",
        "    tuned_tree = DecisionTreeClassifier(random_state=1, min_samples_leaf = i)\n",
        "\n",
        "    # 생성한 tree 객체를 학습용 데이터를 사용하여 학습\n",
        "    tuned_tree.fit(X_train, y_train)\n",
        "\n",
        "    # 학습데이터 셋, 테스트 데이터셋에 대한 정확도를 저장\n",
        "    train_scores.append(tuned_tree.score(X_train, y_train))\n",
        "    test_scores.append(tuned_tree.score(X_test, y_test))\n",
        "    \n",
        "    # 정확도 출력\n",
        "    print(\"min_samples_leaf = {}, train 세트 정확도: {:.3f}, test 세트 정확도: {:.3f}\".\\\n",
        "          format(i, train_scores[i-1], test_scores[i-1]))"
      ],
      "metadata": {
        "colab": {
          "base_uri": "https://localhost:8080/"
        },
        "id": "2tWhCt1KWmyG",
        "outputId": "5fda981e-7f14-4be3-ce19-b78a0c6f49a5"
      },
      "execution_count": 22,
      "outputs": [
        {
          "output_type": "stream",
          "name": "stdout",
          "text": [
            "min_samples_leaf = 1, train 세트 정확도: 1.000, test 세트 정확도: 0.867\n",
            "min_samples_leaf = 2, train 세트 정확도: 0.961, test 세트 정확도: 0.847\n",
            "min_samples_leaf = 3, train 세트 정확도: 0.944, test 세트 정확도: 0.853\n",
            "min_samples_leaf = 4, train 세트 정확도: 0.926, test 세트 정확도: 0.853\n",
            "min_samples_leaf = 5, train 세트 정확도: 0.927, test 세트 정확도: 0.820\n",
            "min_samples_leaf = 6, train 세트 정확도: 0.921, test 세트 정확도: 0.817\n",
            "min_samples_leaf = 7, train 세트 정확도: 0.910, test 세트 정확도: 0.817\n",
            "min_samples_leaf = 8, train 세트 정확도: 0.910, test 세트 정확도: 0.837\n",
            "min_samples_leaf = 9, train 세트 정확도: 0.907, test 세트 정확도: 0.837\n",
            "min_samples_leaf = 10, train 세트 정확도: 0.907, test 세트 정확도: 0.837\n"
          ]
        }
      ]
    },
    {
      "cell_type": "code",
      "source": [
        "# 매개변수 변화에 따른 학습데이터와 테스트데이터에 대한 정확도 변화 시각화\n",
        "plt.title('DecisionTreeClassifier Scores by min_samples_leaf')\n",
        "plt.plot(min_samples_leaf, train_scores, label='Train',linewidth=2, marker='o')\n",
        "plt.plot(min_samples_leaf, test_scores, label='Test',linewidth=2, marker='o')\n",
        "plt.legend()"
      ],
      "metadata": {
        "colab": {
          "base_uri": "https://localhost:8080/",
          "height": 299
        },
        "id": "VOQRPW43Wojs",
        "outputId": "da483bff-9567-4821-9c43-1c71903fcc67"
      },
      "execution_count": 23,
      "outputs": [
        {
          "output_type": "execute_result",
          "data": {
            "text/plain": [
              "<matplotlib.legend.Legend at 0x7f3399770210>"
            ]
          },
          "metadata": {},
          "execution_count": 23
        },
        {
          "output_type": "display_data",
          "data": {
            "text/plain": [
              "<Figure size 432x288 with 1 Axes>"
            ],
            "image/png": "[encoded data removed]"
          },
          "metadata": {
            "needs_background": "light"
          }
        }
      ]
    },
    {
      "cell_type": "markdown",
      "source": [
        "`min_samples_leaf`의 값을 크게 설정할 수록 학습용 데이터의 성능은 떨어지고 테스트용 데이터의 정확도는 약간 증가함을 확인할 수 있습니다."
      ],
      "metadata": {
        "id": "2ftwpsZ2WqUW"
      }
    },
    {
      "cell_type": "markdown",
      "source": [
        "#### 4.1.4 max_features"
      ],
      "metadata": {
        "id": "mvGzuOH2WsPm"
      }
    },
    {
      "cell_type": "code",
      "source": [
        "#  변경할 max_features, 선언된 변수에서 10을 나눠주어 비율로 설정\n",
        "max_features=[1,2,3,4,5,6,7,8,9,10]\n",
        "\n",
        "# 매개변수에 따른 학습데이터 셋, 테스트 데이터셋에 대한 정확도를 저장하기 위한 변수\n",
        "train_scores = []\n",
        "test_scores = []\n",
        "\n",
        "for i in max_features:\n",
        "    # max_features 변경하여 모델 생성\n",
        "    tuned_tree = DecisionTreeClassifier(random_state=1, max_features = i/10)\n",
        "\n",
        "    # 생성한 tree 객체를 학습용 데이터를 사용하여 학습\n",
        "    tuned_tree.fit(X_train, y_train)\n",
        "\n",
        "    # 학습데이터 셋, 테스트 데이터셋에 대한 정확도를 저장\n",
        "    train_scores.append(tuned_tree.score(X_train, y_train))\n",
        "    test_scores.append(tuned_tree.score(X_test, y_test))\n",
        "    \n",
        "    # 정확도 출력\n",
        "    print(\"max_features = {}, train 세트 정확도: {:.3f}, test 세트 정확도: {:.3f}\".\\\n",
        "          format(i/10, train_scores[i-1], test_scores[i-1]))"
      ],
      "metadata": {
        "colab": {
          "base_uri": "https://localhost:8080/"
        },
        "id": "-eF49cvZWvA2",
        "outputId": "3e420cbc-3d86-4941-e985-780656452172"
      },
      "execution_count": 24,
      "outputs": [
        {
          "output_type": "stream",
          "name": "stdout",
          "text": [
            "max_features = 0.1, train 세트 정확도: 1.000, test 세트 정확도: 0.783\n",
            "max_features = 0.2, train 세트 정확도: 1.000, test 세트 정확도: 0.783\n",
            "max_features = 0.3, train 세트 정확도: 1.000, test 세트 정확도: 0.783\n",
            "max_features = 0.4, train 세트 정확도: 1.000, test 세트 정확도: 0.790\n",
            "max_features = 0.5, train 세트 정확도: 1.000, test 세트 정확도: 0.807\n",
            "max_features = 0.6, train 세트 정확도: 1.000, test 세트 정확도: 0.807\n",
            "max_features = 0.7, train 세트 정확도: 1.000, test 세트 정확도: 0.810\n",
            "max_features = 0.8, train 세트 정확도: 1.000, test 세트 정확도: 0.810\n",
            "max_features = 0.9, train 세트 정확도: 1.000, test 세트 정확도: 0.810\n",
            "max_features = 1.0, train 세트 정확도: 1.000, test 세트 정확도: 0.867\n"
          ]
        }
      ]
    },
    {
      "cell_type": "code",
      "source": [
        "# 매개변수 변화에 따른 학습데이터와 테스트데이터에 대한 정확도 변화 시각화\n",
        "plt.title('DecisionTreeClassifier Scores by max_features')\n",
        "plt.plot(max_features, train_scores, label='Train',linewidth=2, marker='o')\n",
        "plt.plot(max_features, test_scores, label='Test',linewidth=2, marker='o')\n",
        "plt.legend()"
      ],
      "metadata": {
        "colab": {
          "base_uri": "https://localhost:8080/",
          "height": 299
        },
        "id": "trD9I91BWxF-",
        "outputId": "29648767-e662-4a3d-99b0-84973da08243"
      },
      "execution_count": 25,
      "outputs": [
        {
          "output_type": "execute_result",
          "data": {
            "text/plain": [
              "<matplotlib.legend.Legend at 0x7f33996f0650>"
            ]
          },
          "metadata": {},
          "execution_count": 25
        },
        {
          "output_type": "display_data",
          "data": {
            "text/plain": [
              "<Figure size 432x288 with 1 Axes>"
            ],
            "image/png": "[encoded data removed]"
          },
          "metadata": {
            "needs_background": "light"
          }
        }
      ]
    },
    {
      "cell_type": "markdown",
      "source": [
        "`max_features`의 비율을 다르게 설정하더라도 모델의 성능 변화가 크게 없음을 확인할 수 있습니다. "
      ],
      "metadata": {
        "id": "yoV00WdPWzfS"
      }
    },
    {
      "cell_type": "markdown",
      "source": [
        "#### 4.1.5 max_leaf_nodes"
      ],
      "metadata": {
        "id": "EuDc3WALW1Md"
      }
    },
    {
      "cell_type": "code",
      "source": [
        "#  변경할 max_leaf_nodes\n",
        "max_leaf_nodes=[2,3,4,5,6,7,8,9,10]\n",
        "\n",
        "# 매개변수에 따른 학습데이터 셋, 테스트 데이터셋에 대한 정확도를 저장하기 위한 변수\n",
        "train_scores = []\n",
        "test_scores = []\n",
        "\n",
        "for i in max_leaf_nodes:\n",
        "    # max_features 변경하여 모델 생성\n",
        "    tuned_tree = DecisionTreeClassifier(random_state=1, max_leaf_nodes = i)\n",
        "\n",
        "    # 생성한 tree 객체를 학습용 데이터를 사용하여 학습\n",
        "    tuned_tree.fit(X_train, y_train)\n",
        "\n",
        "    # 학습데이터 셋, 테스트 데이터셋에 대한 정확도를 저장\n",
        "    train_scores.append(tuned_tree.score(X_train, y_train))\n",
        "    test_scores.append(tuned_tree.score(X_test, y_test))\n",
        "    \n",
        "    # 정확도 출력\n",
        "    print(\"max_leaf_nodes = {}, train 세트 정확도: {:.3f}, test 세트 정확도: {:.3f}\".\\\n",
        "          format(i, train_scores[i-2], test_scores[i-2]))"
      ],
      "metadata": {
        "colab": {
          "base_uri": "https://localhost:8080/"
        },
        "id": "DrPG7Gc6W376",
        "outputId": "19cac9a1-28ec-489a-9404-db52296d9cb4"
      },
      "execution_count": 26,
      "outputs": [
        {
          "output_type": "stream",
          "name": "stdout",
          "text": [
            "max_leaf_nodes = 2, train 세트 정확도: 0.666, test 세트 정확도: 0.673\n",
            "max_leaf_nodes = 3, train 세트 정확도: 0.771, test 세트 정확도: 0.760\n",
            "max_leaf_nodes = 4, train 세트 정확도: 0.853, test 세트 정확도: 0.813\n",
            "max_leaf_nodes = 5, train 세트 정확도: 0.886, test 세트 정확도: 0.833\n",
            "max_leaf_nodes = 6, train 세트 정확도: 0.906, test 세트 정확도: 0.860\n",
            "max_leaf_nodes = 7, train 세트 정확도: 0.911, test 세트 정확도: 0.877\n",
            "max_leaf_nodes = 8, train 세트 정확도: 0.916, test 세트 정확도: 0.883\n",
            "max_leaf_nodes = 9, train 세트 정확도: 0.917, test 세트 정확도: 0.887\n",
            "max_leaf_nodes = 10, train 세트 정확도: 0.917, test 세트 정확도: 0.887\n"
          ]
        }
      ]
    },
    {
      "cell_type": "code",
      "source": [
        "# 매개변수 변화에 따른 학습데이터와 테스트데이터에 대한 정확도 변화 시각화\n",
        "plt.title('DecisionTreeClassifier Scores by max_leaf_nodes')\n",
        "plt.plot(max_leaf_nodes, train_scores, label='Train',linewidth=2, marker='o')\n",
        "plt.plot(max_leaf_nodes, test_scores, label='Test',linewidth=2, marker='o')\n",
        "plt.legend()"
      ],
      "metadata": {
        "colab": {
          "base_uri": "https://localhost:8080/",
          "height": 299
        },
        "id": "UtdYjkrqW5ax",
        "outputId": "4fbb0baf-77b4-4d9f-82cc-29fa15d0b3ba"
      },
      "execution_count": 27,
      "outputs": [
        {
          "output_type": "execute_result",
          "data": {
            "text/plain": [
              "<matplotlib.legend.Legend at 0x7f339966b710>"
            ]
          },
          "metadata": {},
          "execution_count": 27
        },
        {
          "output_type": "display_data",
          "data": {
            "text/plain": [
              "<Figure size 432x288 with 1 Axes>"
            ],
            "image/png": "[encoded data removed]"
          },
          "metadata": {
            "needs_background": "light"
          }
        }
      ]
    },
    {
      "cell_type": "markdown",
      "source": [
        "`max_leaf_nodes`의 값을 크게 설정할 수록 학습용 데이터와 테스트용 데이터의 정확도가 모두 높아지고 있음을 확인할 수 있습니다."
      ],
      "metadata": {
        "id": "g73ek2uHW65x"
      }
    },
    {
      "cell_type": "markdown",
      "source": [
        "### 4.2 SVC 매개변수 변경\n",
        "-----"
      ],
      "metadata": {
        "id": "5aXytbaqVA0G"
      }
    },
    {
      "cell_type": "markdown",
      "source": [
        "#### 4.2.1 C\n",
        "-----"
      ],
      "metadata": {
        "id": "eCeJlFhNVLLn"
      }
    },
    {
      "cell_type": "code",
      "source": [
        "#  변경할 C \n",
        "C=[1.0, 2.0, 3.0, 4.0, 5.0]\n",
        "\n",
        "# 매개변수에 따른 학습데이터 셋, 테스트 데이터셋에 대한 정확도를 저장하기 위한 변수\n",
        "train_scores = []\n",
        "test_scores = []\n",
        "\n",
        "for i in C:\n",
        "    # C를 변경하여 모델 생성\n",
        "    tuned_svc = SVC(C = i)\n",
        "\n",
        "    # 생성한 SVC 객체를 학습용 데이터를 사용하여 학습\n",
        "    tuned_svc.fit(X_train, y_train)\n",
        "\n",
        "    # 학습데이터 셋, 테스트 데이터셋에 대한 정확도를 저장\n",
        "    train_scores.append(tuned_svc.score(X_train, y_train))\n",
        "    test_scores.append(tuned_svc.score(X_test, y_test))\n",
        "    \n",
        "    # 정확도 출력\n",
        "    print(\"C = {}, train 세트 정확도: {:.3f}, test 세트 정확도: {:.3f}\".\\\n",
        "          format(i, train_scores[int(i)-1], test_scores[int(i)-1]))"
      ],
      "metadata": {
        "colab": {
          "base_uri": "https://localhost:8080/"
        },
        "id": "ZMqca_XFPjeK",
        "outputId": "1259620c-28aa-4700-b3ce-2a9872a8aca9"
      },
      "execution_count": 28,
      "outputs": [
        {
          "output_type": "stream",
          "name": "stdout",
          "text": [
            "C = 1.0, train 세트 정확도: 0.904, test 세트 정확도: 0.877\n",
            "C = 2.0, train 세트 정확도: 0.909, test 세트 정확도: 0.880\n",
            "C = 3.0, train 세트 정확도: 0.909, test 세트 정확도: 0.880\n",
            "C = 4.0, train 세트 정확도: 0.911, test 세트 정확도: 0.880\n",
            "C = 5.0, train 세트 정확도: 0.911, test 세트 정확도: 0.877\n"
          ]
        }
      ]
    },
    {
      "cell_type": "code",
      "source": [
        "# 매개변수 변화에 따른 학습데이터와 테스트데이터에 대한 정확도 변화 시각화\n",
        "plt.title('SVC Scores by C')\n",
        "plt.plot(C, train_scores, label='Train',linewidth=2, marker='o')\n",
        "plt.plot(C, test_scores, label='Test',linewidth=2, marker='o')\n",
        "plt.legend()"
      ],
      "metadata": {
        "colab": {
          "base_uri": "https://localhost:8080/",
          "height": 299
        },
        "id": "GZeMn1Q5N0np",
        "outputId": "3f187aaf-c916-4816-ebff-72fda8509c58"
      },
      "execution_count": 29,
      "outputs": [
        {
          "output_type": "execute_result",
          "data": {
            "text/plain": [
              "<matplotlib.legend.Legend at 0x7f33995f2c50>"
            ]
          },
          "metadata": {},
          "execution_count": 29
        },
        {
          "output_type": "display_data",
          "data": {
            "text/plain": [
              "<Figure size 432x288 with 1 Axes>"
            ],
            "image/png": "[encoded data removed]"
          },
          "metadata": {
            "needs_background": "light"
          }
        }
      ]
    },
    {
      "cell_type": "markdown",
      "source": [
        "`C`를 2~4로 설정했을 때 테스트 셋의 정확도가 가장 높은 모델이 만들어졌습니다."
      ],
      "metadata": {
        "id": "sByxkXZKVVyF"
      }
    },
    {
      "cell_type": "markdown",
      "source": [
        "#### 4.2.2 kernel\n",
        "-----"
      ],
      "metadata": {
        "id": "H-AvTaqmViq_"
      }
    },
    {
      "cell_type": "code",
      "source": [
        "#  변경할 kernel\n",
        "kernel=['linear', 'poly', 'rbf', 'sigmoid']\n",
        "\n",
        "# 매개변수에 따른 학습데이터 셋, 테스트 데이터셋에 대한 정확도를 저장하기 위한 변수\n",
        "train_scores = []\n",
        "test_scores = []\n",
        "\n",
        "for i in kernel:\n",
        "    # kernel를 변경하여 모델 생성\n",
        "    tuned_svc = SVC(kernel = i)\n",
        "\n",
        "    # 생성한 SVC 객체를 학습용 데이터를 사용하여 학습\n",
        "    tuned_svc.fit(X_train, y_train)\n",
        "\n",
        "    # 학습데이터 셋, 테스트 데이터셋에 대한 정확도를 저장\n",
        "    train_scores.append(tuned_svc.score(X_train, y_train))\n",
        "    test_scores.append(tuned_svc.score(X_test, y_test))\n",
        "    \n",
        "    # 정확도 출력\n",
        "    print(\"C = {}, train 세트 정확도: {:.3f}, test 세트 정확도: {:.3f}\".\\\n",
        "          format(i, tuned_svc.score(X_train, y_train), tuned_svc.score(X_test, y_test)))"
      ],
      "metadata": {
        "colab": {
          "base_uri": "https://localhost:8080/"
        },
        "id": "-QoEvfq9N0lF",
        "outputId": "e11ac36b-2c8c-4068-9467-4141f5cef21d"
      },
      "execution_count": 30,
      "outputs": [
        {
          "output_type": "stream",
          "name": "stdout",
          "text": [
            "C = linear, train 세트 정확도: 0.696, test 세트 정확도: 0.717\n",
            "C = poly, train 세트 정확도: 0.751, test 세트 정확도: 0.667\n",
            "C = rbf, train 세트 정확도: 0.904, test 세트 정확도: 0.877\n",
            "C = sigmoid, train 세트 정확도: 0.673, test 세트 정확도: 0.677\n"
          ]
        }
      ]
    },
    {
      "cell_type": "code",
      "source": [
        "# 매개변수 변화에 따른 학습데이터와 테스트데이터에 대한 정확도 변화 시각화\n",
        "plt.title('SVC Scores by kernel')\n",
        "index = np.arange(len(kernel))\n",
        "bar_width = 0.35\n",
        "plt.bar(index, train_scores, bar_width, label='Train')\n",
        "plt.bar(index + bar_width, test_scores, bar_width, label='Test')\n",
        "plt.xticks(index+ bar_width/2, kernel)\n",
        "plt.legend()"
      ],
      "metadata": {
        "colab": {
          "base_uri": "https://localhost:8080/",
          "height": 299
        },
        "id": "FjmJfG-DN0bC",
        "outputId": "fdd4b124-b82c-4dd0-c2b3-e7e5ce7ba720"
      },
      "execution_count": 31,
      "outputs": [
        {
          "output_type": "execute_result",
          "data": {
            "text/plain": [
              "<matplotlib.legend.Legend at 0x7f339994fc90>"
            ]
          },
          "metadata": {},
          "execution_count": 31
        },
        {
          "output_type": "display_data",
          "data": {
            "text/plain": [
              "<Figure size 432x288 with 1 Axes>"
            ],
            "image/png": "[encoded data removed]"
          },
          "metadata": {
            "needs_background": "light"
          }
        }
      ]
    },
    {
      "cell_type": "markdown",
      "source": [
        "`kernel`을 rbf로 설정하였을 때 가장 좋은 성능을 보이는 모델이 생성되었습니다."
      ],
      "metadata": {
        "id": "lCbg4nemVsuk"
      }
    },
    {
      "cell_type": "markdown",
      "source": [
        "-----\n",
        "# [실습 02] breast cancer data\n",
        "-----\n",
        " \n",
        "위에서 학습한 내용을 유방암 데이터 셋을 사용하여 복습해봅니다."
      ],
      "metadata": {
        "id": "NUyTqSeAUXYf"
      }
    },
    {
      "cell_type": "code",
      "execution_count": 32,
      "metadata": {
        "colab": {
          "base_uri": "https://localhost:8080/",
          "height": 334
        },
        "id": "OeTQDHAzJ5Pb",
        "outputId": "91731f28-f773-4f4a-f043-a6e0eeb8fe35"
      },
      "outputs": [
        {
          "output_type": "execute_result",
          "data": {
            "text/plain": [
              "   mean radius  mean texture  mean perimeter  mean area  mean smoothness  \\\n",
              "0        17.99         10.38          122.80     1001.0          0.11840   \n",
              "1        20.57         17.77          132.90     1326.0          0.08474   \n",
              "2        19.69         21.25          130.00     1203.0          0.10960   \n",
              "3        11.42         20.38           77.58      386.1          0.14250   \n",
              "4        20.29         14.34          135.10     1297.0          0.10030   \n",
              "\n",
              "   mean compactness  mean concavity  mean concave points  mean symmetry  \\\n",
              "0           0.27760          0.3001              0.14710         0.2419   \n",
              "1           0.07864          0.0869              0.07017         0.1812   \n",
              "2           0.15990          0.1974              0.12790         0.2069   \n",
              "3           0.28390          0.2414              0.10520         0.2597   \n",
              "4           0.13280          0.1980              0.10430         0.1809   \n",
              "\n",
              "   mean fractal dimension  ...  worst texture  worst perimeter  worst area  \\\n",
              "0                 0.07871  ...          17.33           184.60      2019.0   \n",
              "1                 0.05667  ...          23.41           158.80      1956.0   \n",
              "2                 0.05999  ...          25.53           152.50      1709.0   \n",
              "3                 0.09744  ...          26.50            98.87       567.7   \n",
              "4                 0.05883  ...          16.67           152.20      1575.0   \n",
              "\n",
              "   worst smoothness  worst compactness  worst concavity  worst concave points  \\\n",
              "0            0.1622             0.6656           0.7119                0.2654   \n",
              "1            0.1238             0.1866           0.2416                0.1860   \n",
              "2            0.1444             0.4245           0.4504                0.2430   \n",
              "3            0.2098             0.8663           0.6869                0.2575   \n",
              "4            0.1374             0.2050           0.4000                0.1625   \n",
              "\n",
              "   worst symmetry  worst fractal dimension  target  \n",
              "0          0.4601                  0.11890       0  \n",
              "1          0.2750                  0.08902       0  \n",
              "2          0.3613                  0.08758       0  \n",
              "3          0.6638                  0.17300       0  \n",
              "4          0.2364                  0.07678       0  \n",
              "\n",
              "[5 rows x 31 columns]"
            ],
            "text/html": [
              "\n",
              "  <div id=\"df-f47b6d3a-9d1a-493d-8907-4bb5bf842575\">\n",
              "    <div class=\"colab-df-container\">\n",
              "      <div>\n",
              "<style scoped>\n",
              "    .dataframe tbody tr th:only-of-type {\n",
              "        vertical-align: middle;\n",
              "    }\n",
              "\n",
              "    .dataframe tbody tr th {\n",
              "        vertical-align: top;\n",
              "    }\n",
              "\n",
              "    .dataframe thead th {\n",
              "        text-align: right;\n",
              "    }\n",
              "</style>\n",
              "<table border=\"1\" class=\"dataframe\">\n",
              "  <thead>\n",
              "    <tr style=\"text-align: right;\">\n",
              "      <th></th>\n",
              "      <th>mean radius</th>\n",
              "      <th>mean texture</th>\n",
              "      <th>mean perimeter</th>\n",
              "      <th>mean area</th>\n",
              "      <th>mean smoothness</th>\n",
              "      <th>mean compactness</th>\n",
              "      <th>mean concavity</th>\n",
              "      <th>mean concave points</th>\n",
              "      <th>mean symmetry</th>\n",
              "      <th>mean fractal dimension</th>\n",
              "      <th>...</th>\n",
              "      <th>worst texture</th>\n",
              "      <th>worst perimeter</th>\n",
              "      <th>worst area</th>\n",
              "      <th>worst smoothness</th>\n",
              "      <th>worst compactness</th>\n",
              "      <th>worst concavity</th>\n",
              "      <th>worst concave points</th>\n",
              "      <th>worst symmetry</th>\n",
              "      <th>worst fractal dimension</th>\n",
              "      <th>target</th>\n",
              "    </tr>\n",
              "  </thead>\n",
              "  <tbody>\n",
              "    <tr>\n",
              "      <th>0</th>\n",
              "      <td>17.99</td>\n",
              "      <td>10.38</td>\n",
              "      <td>122.80</td>\n",
              "      <td>1001.0</td>\n",
              "      <td>0.11840</td>\n",
              "      <td>0.27760</td>\n",
              "      <td>0.3001</td>\n",
              "      <td>0.14710</td>\n",
              "      <td>0.2419</td>\n",
              "      <td>0.07871</td>\n",
              "      <td>...</td>\n",
              "      <td>17.33</td>\n",
              "      <td>184.60</td>\n",
              "      <td>2019.0</td>\n",
              "      <td>0.1622</td>\n",
              "      <td>0.6656</td>\n",
              "      <td>0.7119</td>\n",
              "      <td>0.2654</td>\n",
              "      <td>0.4601</td>\n",
              "      <td>0.11890</td>\n",
              "      <td>0</td>\n",
              "    </tr>\n",
              "    <tr>\n",
              "      <th>1</th>\n",
              "      <td>20.57</td>\n",
              "      <td>17.77</td>\n",
              "      <td>132.90</td>\n",
              "      <td>1326.0</td>\n",
              "      <td>0.08474</td>\n",
              "      <td>0.07864</td>\n",
              "      <td>0.0869</td>\n",
              "      <td>0.07017</td>\n",
              "      <td>0.1812</td>\n",
              "      <td>0.05667</td>\n",
              "      <td>...</td>\n",
              "      <td>23.41</td>\n",
              "      <td>158.80</td>\n",
              "      <td>1956.0</td>\n",
              "      <td>0.1238</td>\n",
              "      <td>0.1866</td>\n",
              "      <td>0.2416</td>\n",
              "      <td>0.1860</td>\n",
              "      <td>0.2750</td>\n",
              "      <td>0.08902</td>\n",
              "      <td>0</td>\n",
              "    </tr>\n",
              "    <tr>\n",
              "      <th>2</th>\n",
              "      <td>19.69</td>\n",
              "      <td>21.25</td>\n",
              "      <td>130.00</td>\n",
              "      <td>1203.0</td>\n",
              "      <td>0.10960</td>\n",
              "      <td>0.15990</td>\n",
              "      <td>0.1974</td>\n",
              "      <td>0.12790</td>\n",
              "      <td>0.2069</td>\n",
              "      <td>0.05999</td>\n",
              "      <td>...</td>\n",
              "      <td>25.53</td>\n",
              "      <td>152.50</td>\n",
              "      <td>1709.0</td>\n",
              "      <td>0.1444</td>\n",
              "      <td>0.4245</td>\n",
              "      <td>0.4504</td>\n",
              "      <td>0.2430</td>\n",
              "      <td>0.3613</td>\n",
              "      <td>0.08758</td>\n",
              "      <td>0</td>\n",
              "    </tr>\n",
              "    <tr>\n",
              "      <th>3</th>\n",
              "      <td>11.42</td>\n",
              "      <td>20.38</td>\n",
              "      <td>77.58</td>\n",
              "      <td>386.1</td>\n",
              "      <td>0.14250</td>\n",
              "      <td>0.28390</td>\n",
              "      <td>0.2414</td>\n",
              "      <td>0.10520</td>\n",
              "      <td>0.2597</td>\n",
              "      <td>0.09744</td>\n",
              "      <td>...</td>\n",
              "      <td>26.50</td>\n",
              "      <td>98.87</td>\n",
              "      <td>567.7</td>\n",
              "      <td>0.2098</td>\n",
              "      <td>0.8663</td>\n",
              "      <td>0.6869</td>\n",
              "      <td>0.2575</td>\n",
              "      <td>0.6638</td>\n",
              "      <td>0.17300</td>\n",
              "      <td>0</td>\n",
              "    </tr>\n",
              "    <tr>\n",
              "      <th>4</th>\n",
              "      <td>20.29</td>\n",
              "      <td>14.34</td>\n",
              "      <td>135.10</td>\n",
              "      <td>1297.0</td>\n",
              "      <td>0.10030</td>\n",
              "      <td>0.13280</td>\n",
              "      <td>0.1980</td>\n",
              "      <td>0.10430</td>\n",
              "      <td>0.1809</td>\n",
              "      <td>0.05883</td>\n",
              "      <td>...</td>\n",
              "      <td>16.67</td>\n",
              "      <td>152.20</td>\n",
              "      <td>1575.0</td>\n",
              "      <td>0.1374</td>\n",
              "      <td>0.2050</td>\n",
              "      <td>0.4000</td>\n",
              "      <td>0.1625</td>\n",
              "      <td>0.2364</td>\n",
              "      <td>0.07678</td>\n",
              "      <td>0</td>\n",
              "    </tr>\n",
              "  </tbody>\n",
              "</table>\n",
              "<p>5 rows × 31 columns</p>\n",
              "</div>\n",
              "      <button class=\"colab-df-convert\" onclick=\"convertToInteractive('df-f47b6d3a-9d1a-493d-8907-4bb5bf842575')\"\n",
              "              title=\"Convert this dataframe to an interactive table.\"\n",
              "              style=\"display:none;\">\n",
              "        \n",
              "  <svg xmlns=\"http://www.w3.org/2000/svg\" height=\"24px\"viewBox=\"0 0 24 24\"\n",
              "       width=\"24px\">\n",
              "    <path d=\"M0 0h24v24H0V0z\" fill=\"none\"/>\n",
              "    <path d=\"M18.56 5.44l.94 2.06.94-2.06 2.06-.94-2.06-.94-.94-2.06-.94 2.06-2.06.94zm-11 1L8.5 8.5l.94-2.06 2.06-.94-2.06-.94L8.5 2.5l-.94 2.06-2.06.94zm10 10l.94 2.06.94-2.06 2.06-.94-2.06-.94-.94-2.06-.94 2.06-2.06.94z\"/><path d=\"M17.41 7.96l-1.37-1.37c-.4-.4-.92-.59-1.43-.59-.52 0-1.04.2-1.43.59L10.3 9.45l-7.72 7.72c-.78.78-.78 2.05 0 2.83L4 21.41c.39.39.9.59 1.41.59.51 0 1.02-.2 1.41-.59l7.78-7.78 2.81-2.81c.8-.78.8-2.07 0-2.86zM5.41 20L4 18.59l7.72-7.72 1.47 1.35L5.41 20z\"/>\n",
              "  </svg>\n",
              "      </button>\n",
              "      \n",
              "  <style>\n",
              "    .colab-df-container {\n",
              "      display:flex;\n",
              "      flex-wrap:wrap;\n",
              "      gap: 12px;\n",
              "    }\n",
              "\n",
              "    .colab-df-convert {\n",
              "      background-color: #E8F0FE;\n",
              "      border: none;\n",
              "      border-radius: 50%;\n",
              "      cursor: pointer;\n",
              "      display: none;\n",
              "      fill: #1967D2;\n",
              "      height: 32px;\n",
              "      padding: 0 0 0 0;\n",
              "      width: 32px;\n",
              "    }\n",
              "\n",
              "    .colab-df-convert:hover {\n",
              "      background-color: #E2EBFA;\n",
              "      box-shadow: 0px 1px 2px rgba(60, 64, 67, 0.3), 0px 1px 3px 1px rgba(60, 64, 67, 0.15);\n",
              "      fill: #174EA6;\n",
              "    }\n",
              "\n",
              "    [theme=dark] .colab-df-convert {\n",
              "      background-color: #3B4455;\n",
              "      fill: #D2E3FC;\n",
              "    }\n",
              "\n",
              "    [theme=dark] .colab-df-convert:hover {\n",
              "      background-color: #434B5C;\n",
              "      box-shadow: 0px 1px 3px 1px rgba(0, 0, 0, 0.15);\n",
              "      filter: drop-shadow(0px 1px 2px rgba(0, 0, 0, 0.3));\n",
              "      fill: #FFFFFF;\n",
              "    }\n",
              "  </style>\n",
              "\n",
              "      <script>\n",
              "        const buttonEl =\n",
              "          document.querySelector('#df-f47b6d3a-9d1a-493d-8907-4bb5bf842575 button.colab-df-convert');\n",
              "        buttonEl.style.display =\n",
              "          google.colab.kernel.accessAllowed ? 'block' : 'none';\n",
              "\n",
              "        async function convertToInteractive(key) {\n",
              "          const element = document.querySelector('#df-f47b6d3a-9d1a-493d-8907-4bb5bf842575');\n",
              "          const dataTable =\n",
              "            await google.colab.kernel.invokeFunction('convertToInteractive',\n",
              "                                                     [key], {});\n",
              "          if (!dataTable) return;\n",
              "\n",
              "          const docLinkHtml = 'Like what you see? Visit the ' +\n",
              "            '<a target=\"_blank\" href=https://colab.research.google.com/notebooks/data_table.ipynb>data table notebook</a>'\n",
              "            + ' to learn more about interactive tables.';\n",
              "          element.innerHTML = '';\n",
              "          dataTable['output_type'] = 'display_data';\n",
              "          await google.colab.output.renderOutput(dataTable, element);\n",
              "          const docLink = document.createElement('div');\n",
              "          docLink.innerHTML = docLinkHtml;\n",
              "          element.appendChild(docLink);\n",
              "        }\n",
              "      </script>\n",
              "    </div>\n",
              "  </div>\n",
              "  "
            ]
          },
          "metadata": {},
          "execution_count": 32
        }
      ],
      "source": [
        "import pandas as pd \n",
        "from sklearn.model_selection import train_test_split\n",
        "from sklearn.datasets import load_breast_cancer\n",
        "from sklearn.svm import SVC\n",
        "\n",
        "dataset = load_breast_cancer()\n",
        "df = pd.DataFrame(data=dataset.data, columns=dataset.feature_names)\n",
        "df['target'] = dataset.target\n",
        "df.head()"
      ]
    },
    {
      "cell_type": "code",
      "source": [],
      "metadata": {
        "id": "Pjwb0MIJMNHF"
      },
      "execution_count": null,
      "outputs": []
    }
  ]
}